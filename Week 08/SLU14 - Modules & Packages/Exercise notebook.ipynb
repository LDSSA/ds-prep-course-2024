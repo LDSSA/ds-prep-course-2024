{
 "cells": [
  {
   "cell_type": "markdown",
   "metadata": {
    "deletable": false,
    "editable": false,
    "nbgrader": {
     "grade": false,
     "grade_id": "cell-b51292c41ad1034a",
     "locked": true,
     "schema_version": 3,
     "solution": false,
     "task": false
    }
   },
   "source": [
    "# SLU14 - Modules and Packages \n",
    "\n",
    "Now is the time to evaluate your knowledge on Modules & Packages in Python!\\\n",
    "To answer this quiz, please follow along the instructions provided. If you see: \n",
    "```python \n",
    "raise NotImplementedError()\n",
    "```\n",
    "Delete that line before you test your answer. Otherwise, it will raise an error as it believes that you have not solved the problem yet.\n",
    "\n",
    "__Tip:__ Once finished with the notebook, it might be a good idea to restart the Kernel and running all cells by selecting `Kernel >> Restart Kernel and Run All Cells...`. This will ensure that all cells run properly before submitting."
   ]
  },
  {
   "cell_type": "markdown",
   "metadata": {},
   "source": [
    "#### Initialise Autoreload - Notebook specific topic\n",
    "Specifically for Exercise 5, you will be asked to add a module to a package/library. Unfortunately, the way Jupyter notebooks work is not very good for development and testing of modules since its *Kernel* is always running.\n",
    "\n",
    "When importing a module/package, Python will add it to its module dictionary, which you can view with the following code:\n",
    "```python\n",
    "import sys\n",
    "print(sys.modules)\n",
    "```\n",
    "When you run an import statement, Python will check if it has a cached value in this dictionary. Having the same *Kernel* running during the execution of a notebook means that cells will not re-import modules/packages that have already been run because they are cached.\n",
    "\n",
    "By cached what we mean is that changes made to modules that have been imported will not be brought into the current *Kernel*, i.e. you will have an outdated version of the import not matter how many times you re-import it. We will __try__ (this has known quirks and downsides) to combat this by using the `autoreload` jupyter extension (which came pre-built with your jupyter installation). Its job is to force a reload of imported packages, thus hopefully keeping your modules updated."
   ]
  },
  {
   "cell_type": "code",
   "execution_count": null,
   "metadata": {},
   "outputs": [],
   "source": [
    "%load_ext autoreload \n",
    "%autoreload 2"
   ]
  },
  {
   "cell_type": "markdown",
   "metadata": {
    "deletable": false,
    "editable": false,
    "nbgrader": {
     "grade": false,
     "grade_id": "cell-1edd6d8c353adac9",
     "locked": true,
     "schema_version": 3,
     "solution": false,
     "task": false
    }
   },
   "source": [
    "#### Start by importing the following module"
   ]
  },
  {
   "cell_type": "code",
   "execution_count": null,
   "metadata": {
    "deletable": false,
    "editable": false,
    "nbgrader": {
     "grade": false,
     "grade_id": "cell-a854be34a91820a2",
     "locked": true,
     "schema_version": 3,
     "solution": false,
     "task": false
    }
   },
   "outputs": [],
   "source": [
    "#used for evaluation\n",
    "import utils\n",
    "from pathlib import Path"
   ]
  },
  {
   "cell_type": "markdown",
   "metadata": {
    "deletable": false,
    "editable": false,
    "nbgrader": {
     "grade": false,
     "grade_id": "cell-fb58af9bacb658eb",
     "locked": true,
     "schema_version": 3,
     "solution": false,
     "task": false
    }
   },
   "source": [
    "### Exercise 1: What is the difference between a class and a module?"
   ]
  },
  {
   "cell_type": "markdown",
   "metadata": {
    "deletable": false,
    "editable": false,
    "nbgrader": {
     "grade": false,
     "grade_id": "cell-f7898dc12e84fd8d",
     "locked": true,
     "schema_version": 3,
     "solution": false,
     "task": false
    }
   },
   "source": [
    "a) There is no difference.\n",
    "\n",
    "b) A module is a set of files with the `.py` extension and a class is just one of those files.\n",
    "\n",
    "c) A module is a file with the `.py` extension which can contain classes or one class, but can also contains functions and variables.\n",
    "\n",
    "d) A class is a file with the `.ipynb` extension and a module with the `.py` extension."
   ]
  },
  {
   "cell_type": "code",
   "execution_count": null,
   "metadata": {
    "deletable": false,
    "nbgrader": {
     "grade": false,
     "grade_id": "cell-ec299e14ecce1f27",
     "locked": false,
     "schema_version": 3,
     "solution": true,
     "task": false
    }
   },
   "outputs": [],
   "source": [
    "# uncomment the right answer\n",
    "# answer = \"a\"\n",
    "# answer = \"b\"\n",
    "# answer = \"c\"\n",
    "# answer = \"d\"\n",
    "# YOUR CODE HERE\n",
    "raise NotImplementedError()"
   ]
  },
  {
   "cell_type": "code",
   "execution_count": null,
   "metadata": {
    "deletable": false,
    "editable": false,
    "nbgrader": {
     "grade": true,
     "grade_id": "cell-60bb3a2487965c64",
     "locked": true,
     "points": 1,
     "schema_version": 3,
     "solution": false,
     "task": false
    }
   },
   "outputs": [],
   "source": [
    "assert utils.encode_answer(answer) == utils.q1, \"Wrong answer.\""
   ]
  },
  {
   "cell_type": "markdown",
   "metadata": {
    "deletable": false,
    "editable": false,
    "nbgrader": {
     "grade": false,
     "grade_id": "cell-14a836415ec3ba9d",
     "locked": true,
     "schema_version": 3,
     "solution": false,
     "task": false
    }
   },
   "source": [
    "### Exercise 2: How can we run the module as a script?"
   ]
  },
  {
   "cell_type": "markdown",
   "metadata": {
    "deletable": false,
    "editable": false,
    "nbgrader": {
     "grade": false,
     "grade_id": "cell-11fd56f73dcaf87b",
     "locked": true,
     "schema_version": 3,
     "solution": false,
     "task": false
    }
   },
   "source": [
    "a) Just create your module with the desired attributes only: classes, functions and/or variables.\n",
    "\n",
    "b) With no special organization, but with all the code inside `if __init__:` block.\n",
    "\n",
    "c) With no special organization at all, because it automatically already runs as a script.\n",
    "\n",
    "d) We only have to make sure that the entry point (the part of the code where the program starts executing) should be inside  `if __name__=='__main__':` block."
   ]
  },
  {
   "cell_type": "code",
   "execution_count": null,
   "metadata": {
    "deletable": false,
    "nbgrader": {
     "grade": false,
     "grade_id": "cell-2f1a5dfccc2eee9b",
     "locked": false,
     "schema_version": 3,
     "solution": true,
     "task": false
    }
   },
   "outputs": [],
   "source": [
    "# uncomment the right answer\n",
    "# answer = \"a\"\n",
    "# answer = \"b\"\n",
    "# answer = \"c\"\n",
    "# answer = \"d\"\n",
    "# YOUR CODE HERE\n",
    "raise NotImplementedError()"
   ]
  },
  {
   "cell_type": "code",
   "execution_count": null,
   "metadata": {
    "deletable": false,
    "editable": false,
    "nbgrader": {
     "grade": true,
     "grade_id": "cell-18368bb83c4a41b4",
     "locked": true,
     "points": 1,
     "schema_version": 3,
     "solution": false,
     "task": false
    }
   },
   "outputs": [],
   "source": [
    "assert utils.encode_answer(answer) == utils.q2, \"Wrong answer.\""
   ]
  },
  {
   "cell_type": "markdown",
   "metadata": {
    "deletable": false,
    "editable": false,
    "nbgrader": {
     "grade": false,
     "grade_id": "cell-e1b62152b48bd757",
     "locked": true,
     "schema_version": 3,
     "solution": false,
     "task": false
    }
   },
   "source": [
    "### Exercise 3: If you create an empty new module (.py file) and print __name__. What will happen and why? "
   ]
  },
  {
   "cell_type": "markdown",
   "metadata": {
    "deletable": false,
    "editable": false,
    "nbgrader": {
     "grade": false,
     "grade_id": "cell-88ec3c6dcf76abc5",
     "locked": true,
     "schema_version": 3,
     "solution": false,
     "task": false
    }
   },
   "source": [
    "a) It will give an error, because the module cannot be empty.\n",
    "\n",
    "b) It will print ```__main__ ```, because python always sets the variable 'name' to 'main' before running the file.\n",
    "\n",
    "c) It will print ```__name__ ```, because that is exactly what you asked python to do."
   ]
  },
  {
   "cell_type": "code",
   "execution_count": null,
   "metadata": {
    "deletable": false,
    "nbgrader": {
     "grade": false,
     "grade_id": "cell-7a2c49000d940397",
     "locked": false,
     "schema_version": 3,
     "solution": true,
     "task": false
    }
   },
   "outputs": [],
   "source": [
    "# uncomment the right answer\n",
    "# answer = \"a\"\n",
    "# answer = \"b\"\n",
    "# answer = \"c\"\n",
    "# YOUR CODE HERE\n",
    "raise NotImplementedError()"
   ]
  },
  {
   "cell_type": "code",
   "execution_count": null,
   "metadata": {
    "deletable": false,
    "editable": false,
    "nbgrader": {
     "grade": true,
     "grade_id": "cell-cd2427e89b7707cb",
     "locked": true,
     "points": 1,
     "schema_version": 3,
     "solution": false,
     "task": false
    }
   },
   "outputs": [],
   "source": [
    "assert utils.encode_answer(answer) == utils.q3, \"Wrong answer.\""
   ]
  },
  {
   "cell_type": "markdown",
   "metadata": {
    "deletable": false,
    "editable": false,
    "nbgrader": {
     "grade": false,
     "grade_id": "cell-858bdde756a66e73",
     "locked": true,
     "schema_version": 3,
     "solution": false,
     "task": false
    }
   },
   "source": [
    "### Exercise 4: So, now you made your first module and import it in your second module. Why are you happy that you used `if __name__==\"__main__\"` in your first module?"
   ]
  },
  {
   "cell_type": "markdown",
   "metadata": {
    "deletable": false,
    "editable": false,
    "nbgrader": {
     "grade": false,
     "grade_id": "cell-f9e45e8f6e62913c",
     "locked": true,
     "schema_version": 3,
     "solution": false,
     "task": false
    }
   },
   "source": [
    "a) It looks interesting in your first module to use it, but doesn't do anything for your second module.\n",
    "\n",
    "b) It is not possible to import the first module without the `if __name__=='__main__':` statement.\n",
    "\n",
    "c) Python checked, during the import, if the name is \"main\". This is true (as seen in the previous question) and therefor it will only use the attributes within the if-statement and not everything in the first module file.\n",
    "\n",
    "d)Python checked, during the import, if the name is \"main\". This is not true, since the name will be set as the name of the imported module. But because of the statement `if __name__=='__main__':`, python knows to set the name back to \"main\". Now it is clear that the second module is your main file."
   ]
  },
  {
   "cell_type": "code",
   "execution_count": null,
   "metadata": {
    "deletable": false,
    "nbgrader": {
     "grade": false,
     "grade_id": "cell-a4658c8feaa4f078",
     "locked": false,
     "schema_version": 3,
     "solution": true,
     "task": false
    }
   },
   "outputs": [],
   "source": [
    "# uncomment the right answer\n",
    "# answer = \"a\"\n",
    "# answer = \"b\"\n",
    "# answer = \"c\"\n",
    "# answer = \"d\"\n",
    "# YOUR CODE HERE\n",
    "raise NotImplementedError()"
   ]
  },
  {
   "cell_type": "code",
   "execution_count": null,
   "metadata": {
    "deletable": false,
    "editable": false,
    "nbgrader": {
     "grade": true,
     "grade_id": "cell-9a98124ab22debe2",
     "locked": true,
     "points": 1,
     "schema_version": 3,
     "solution": false,
     "task": false
    }
   },
   "outputs": [],
   "source": [
    "assert utils.encode_answer(answer) == utils.q4, \"Wrong answer.\""
   ]
  },
  {
   "cell_type": "markdown",
   "metadata": {
    "deletable": false,
    "editable": false,
    "nbgrader": {
     "grade": false,
     "grade_id": "cell-521cf1e20f8ebbca",
     "locked": true,
     "schema_version": 3,
     "solution": false,
     "task": false
    }
   },
   "source": [
    "### Exercise 5: Inside the directory stores, create a module named bookstore with the following attributes:\n"
   ]
  },
  {
   "cell_type": "markdown",
   "metadata": {
    "deletable": false,
    "editable": false,
    "nbgrader": {
     "grade": false,
     "grade_id": "cell-db18efe5ccd410cd",
     "locked": true,
     "schema_version": 3,
     "solution": false,
     "task": false
    }
   },
   "source": [
    "- A __class__ named `Book` with three attributes, `title`, `author`, and `price`.\n",
    "  - *Attributes*: \n",
    "    - `title` attribute should be a string representing the title of the book\n",
    "    - `author` attribute should be a string representing the author of the book\n",
    "    - `price` attribute should be an integer representing the price of the book\n",
    "  - *Methods*:\n",
    "    - `get_book_info()` method should return a string that contains the book's title, author, and price in the following format:\n",
    "      \n",
    "      `\"Title: [title], Author: [author], Price: [price].\"` --> replacing the \\[...\\] for the actual attribute of the class\n",
    "\n",
    "      example: `\"Title: Don Quixote, Author: Miguel de Cervantes, Price: 8.\"`\n",
    "- A __function__ named `get_total_price` that accepts a list of `Book` objects as an input and returns the total price of all the books in the list.\n",
    "- A __variable__ named `description` with the following string value: `\"This is a module named bookstore.\"`\n",
    "- \n",
    "Now let's see if your module works and follow the steps below to see the total price of your new books. \n",
    "\n",
    "To evaluate your module, create a boolean variable named `done` with the value True.\n",
    "\n",
    "__NOTE:__ As stated in the beginning of the notebook, working with notebooks __while__ developing modules can be a pain. The `autoreload` extension will try to reload your modules in case you need to do some developments to them wile running the notebook. If for some reason this does not work, please try to __restart__ your Kernel by going to `Kernel >> Restart Kernel and Run All Cells...` (or similar option) at the top."
   ]
  },
  {
   "cell_type": "code",
   "execution_count": null,
   "metadata": {
    "deletable": false,
    "nbgrader": {
     "grade": false,
     "grade_id": "cell-aea5631b25c21caa",
     "locked": false,
     "schema_version": 3,
     "solution": true,
     "task": false
    }
   },
   "outputs": [],
   "source": [
    "\n",
    "book_list = [\n",
    "    (\"To Kill a Mockingbird\", \"Harper Lee\", 2),\n",
    "    (\"The Great Gatsby\", \"F. Scott Fitzgerald\", 5),\n",
    "    (\"Pride and Prejudice\", \"Jane Austen\", 7),\n",
    "    (\"The Catcher in the Rye\", \"J.D. Salinger\", 6),\n",
    "    (\"1984\", \"George Orwell\", 15)\n",
    "    ]\n",
    "    \n",
    "\n",
    "# Set done = True\n",
    "\n",
    "# import your module\n",
    "\n",
    "# create the list of Book objects\n",
    " \n",
    "# calculate the total price of the books using the get_total_price function\n",
    "\n",
    "# total_price =\n",
    "\n",
    "# Print the total price\n",
    "\n",
    "# YOUR CODE HERE\n",
    "raise NotImplementedError()"
   ]
  },
  {
   "cell_type": "code",
   "execution_count": null,
   "metadata": {
    "deletable": false,
    "editable": false,
    "nbgrader": {
     "grade": true,
     "grade_id": "cell-421c00edf62020d8",
     "locked": true,
     "points": 5,
     "schema_version": 3,
     "solution": false,
     "task": false
    }
   },
   "outputs": [],
   "source": [
    "if done:\n",
    "    try:\n",
    "        from stores import bookstore\n",
    "        \n",
    "        assert total_price == 35, \"The total price for the test book list should be 35 euro's\"\n",
    "        assert bookstore, \"Did you store a module named bookstore inside stores folder?\"\n",
    "        \n",
    "        book1 = bookstore.Book(\"Hamlet\", \"William Shakespeare\", 10)\n",
    "        assert book1.title == \"Hamlet\", \"Did you set title as an attribute of class Book?\"\n",
    "        assert book1.author == \"William Shakespeare\", \"Did you set auteur as an attribute of class Book?\"\n",
    "        assert book1.get_book_info() == \"Title: Hamlet, Author: William Shakespeare, Price: 10.\", \"Did you set get_book_info correctly as a method of class Book?\"\n",
    "\n",
    "        book2 = bookstore.Book(\"The Great Gatsby\", \"F. Scott Fitzgerald\", 15)\n",
    "        assert bookstore.get_total_price, \"Did you create a function named get_total_price()?\"\n",
    "        assert bookstore.get_total_price([book1, book2]) == 25, \"The total price for the test book list should be 25 euro's\"\n",
    "\n",
    "        assert bookstore.description == \"This is a module named bookstore.\", \"Did you set description well?\"\n",
    "        \n",
    "        print(\"Great job! You are awesome :-).\")\n",
    "        \n",
    "    except ImportError as exc:\n",
    "        raise ImportError(\"In the directory 'stores' is no module called 'bookstore'. Try again or ask for help\")\n",
    "else:\n",
    "    raise NotImplementedError(\"You have to create a boolean variable, called 'done', with the value True\")"
   ]
  },
  {
   "cell_type": "markdown",
   "metadata": {
    "deletable": false,
    "editable": false,
    "nbgrader": {
     "grade": false,
     "grade_id": "cell-0fbe0e5aa1afb398",
     "locked": true,
     "schema_version": 3,
     "solution": false,
     "task": false
    }
   },
   "source": [
    "### Exercise 6: We love a good python course, right?! Import the class Course, from module course, and create a new object from that.\n",
    "\n",
    "The `library` folder is in the current directory. Explore its contents and understand its structure.\n",
    "\n",
    "Import the class `Course`, that belongs to module course. You should do this in a way that imports `Course` directly, meaning that you use the syntax \n",
    "```python \n",
    "course = Course(x,y,z)\n",
    "```\n",
    "\n",
    "Afterwards, create a course variable called `this_course`, with the following attributes:\n",
    "* name: prep-course\n",
    "* author: ldssa\n",
    "* year: 2024\n",
    "  \n",
    "Look at the class' `__init__` method if you have doubts regarding its initialisation."
   ]
  },
  {
   "cell_type": "code",
   "execution_count": null,
   "metadata": {
    "deletable": false,
    "nbgrader": {
     "grade": false,
     "grade_id": "cell-8dafeb32a322444f",
     "locked": false,
     "schema_version": 3,
     "solution": true,
     "task": false
    }
   },
   "outputs": [],
   "source": [
    "# from module1.module2.etc... import Class,etc..\n",
    "#this_course = ...\n",
    "\n",
    "# YOUR CODE HERE\n",
    "raise NotImplementedError()"
   ]
  },
  {
   "cell_type": "code",
   "execution_count": null,
   "metadata": {
    "deletable": false,
    "editable": false,
    "nbgrader": {
     "grade": true,
     "grade_id": "cell-9ac799d1b55a4cba",
     "locked": true,
     "points": 4,
     "schema_version": 3,
     "solution": false,
     "task": false
    }
   },
   "outputs": [],
   "source": [
    "assert Course, \"Course class was not imported with success\"\n",
    "assert isinstance(this_course, Course), \"this_course is not of type Course\"\n",
    "assert this_course.name == \"prep-course\", \"this_course has the wrong name\"\n",
    "assert this_course.author == \"ldssa\", \"this_course has the wrong author\"\n",
    "assert this_course.year == 2024, \"this_course has the wrong year\""
   ]
  },
  {
   "cell_type": "markdown",
   "metadata": {
    "deletable": false,
    "editable": false,
    "nbgrader": {
     "grade": false,
     "grade_id": "cell-cd820603a8eef280",
     "locked": true,
     "schema_version": 3,
     "solution": false,
     "task": false
    }
   },
   "source": [
    "### Exercise 7: What is a package in Python?"
   ]
  },
  {
   "cell_type": "markdown",
   "metadata": {
    "deletable": false,
    "editable": false,
    "nbgrader": {
     "grade": false,
     "grade_id": "cell-c734b87ad3f8c321",
     "locked": true,
     "schema_version": 3,
     "solution": false,
     "task": false
    }
   },
   "source": [
    "a) A single Python file (with a .py extension) is considered a package.\n",
    "\n",
    "b) A set of modules that share the same directory and this directory must include an `__init__.py` file.\n",
    "\n",
    "c) The thing the postman delivers when you order something online.\n",
    "\n",
    "d)  A set of modules that share the same directory and this directory should not include an `__init__.py` file."
   ]
  },
  {
   "cell_type": "code",
   "execution_count": null,
   "metadata": {
    "deletable": false,
    "nbgrader": {
     "grade": false,
     "grade_id": "cell-17731565ade4c8d8",
     "locked": false,
     "schema_version": 3,
     "solution": true,
     "task": false
    }
   },
   "outputs": [],
   "source": [
    "#uncomment the right answer\n",
    "#answer = \"a\"\n",
    "#answer = \"b\"\n",
    "#answer = \"c\"\n",
    "#answer = \"d\"\n",
    "# YOUR CODE HERE\n",
    "raise NotImplementedError()"
   ]
  },
  {
   "cell_type": "code",
   "execution_count": null,
   "metadata": {
    "deletable": false,
    "editable": false,
    "nbgrader": {
     "grade": true,
     "grade_id": "cell-ed761f5a351a7094",
     "locked": true,
     "points": 1,
     "schema_version": 3,
     "solution": false,
     "task": false
    }
   },
   "outputs": [],
   "source": [
    "assert utils.encode_answer(answer) == utils.q8, \"Wrong answer.\""
   ]
  },
  {
   "cell_type": "markdown",
   "metadata": {
    "deletable": false,
    "editable": false,
    "nbgrader": {
     "grade": false,
     "grade_id": "cell-dce01f9d4cd8f191",
     "locked": true,
     "schema_version": 3,
     "solution": false,
     "task": false
    }
   },
   "source": [
    "### Exercise 8: Building a calculator package\n",
    "\n",
    "Build a python package called `calculator` with the following directory structure:\n",
    "\n",
    "```\n",
    "calculator/\n",
    "├── main.py\n",
    "└── operations\n",
    "    ├── \n",
    "    ├── addition.py\n",
    "    └── subtraction.py\n",
    "\n",
    "```\n",
    "\n",
    "`addition.py` should define the following function:\n",
    "\n",
    "```python\n",
    "def add(a, b):\n",
    "    return a + b\n",
    "```\n",
    "\n",
    "`subtraction.py` should define the following function:\n",
    "\n",
    "```python\n",
    "def subtract(a, b):\n",
    "    return a - b\n",
    "```\n",
    "\n",
    "`main.py` should define the following statements:\n",
    "\n",
    "```python\n",
    "\n",
    "print(add(2, 3))\n",
    "print(subtract(5, 1))\n",
    "```\n",
    "\n",
    "You should then be able to run the program in a terminal and get the output:\n",
    "\n",
    "``` python\n",
    "> python calculator/main.py\n",
    "5\n",
    "4\n",
    "\n",
    "```\n",
    "\n",
    "Beware:\n",
    "* the directory diagram above may be missing something... \n",
    "* the main file may be missing something...\n",
    "\n",
    "Were you able to complete this exercise? (if not, ask for help!)"
   ]
  },
  {
   "cell_type": "code",
   "execution_count": null,
   "metadata": {
    "deletable": false,
    "nbgrader": {
     "grade": false,
     "grade_id": "cell-8df2491f6b0042a0",
     "locked": false,
     "schema_version": 3,
     "solution": true,
     "task": false
    }
   },
   "outputs": [],
   "source": [
    "answer = None\n",
    "answer = !python calculator/main.py\n",
    "\n",
    "# delete the \"raise NotImplemented()\" below\n",
    "\n",
    "# YOUR CODE HERE\n",
    "raise NotImplementedError()"
   ]
  },
  {
   "cell_type": "code",
   "execution_count": null,
   "metadata": {
    "deletable": false,
    "editable": false,
    "nbgrader": {
     "grade": true,
     "grade_id": "cell-839cdbbdbfebce43",
     "locked": true,
     "points": 2,
     "schema_version": 3,
     "solution": false,
     "task": false
    }
   },
   "outputs": [],
   "source": [
    "assert utils.encode_answer(answer) == utils.ops, \"Your script did not return the correct response.\""
   ]
  },
  {
   "cell_type": "markdown",
   "metadata": {
    "deletable": false,
    "editable": false,
    "nbgrader": {
     "grade": false,
     "grade_id": "cell-d2ef50ef7bee6919",
     "locked": true,
     "schema_version": 3,
     "solution": false,
     "task": false
    }
   },
   "source": [
    "### Exercise 9: Why are packages important to use for any Python user?"
   ]
  },
  {
   "cell_type": "markdown",
   "metadata": {
    "deletable": false,
    "editable": false,
    "nbgrader": {
     "grade": false,
     "grade_id": "cell-94f5da113e8f89f1",
     "locked": true,
     "schema_version": 3,
     "solution": false,
     "task": false
    }
   },
   "source": [
    "a) Packages in Python were created to make programming more difficult and confusing for beginners.\n",
    "\n",
    "b) It is not really necessary anymore, nor is it important, but it is just the way it has always been done.\n",
    "\n",
    "c) Packages in Python are important because they allow you to hide your code from other developers and prevent them from using it.\n",
    "\n",
    "d) They are used to organize and distribute modules and we love organized. A lot of time you import modules that contains other modules. And this way it is easier to manage and organize your code."
   ]
  },
  {
   "cell_type": "code",
   "execution_count": null,
   "metadata": {
    "deletable": false,
    "nbgrader": {
     "grade": false,
     "grade_id": "cell-471e5327dcc8e7b7",
     "locked": false,
     "schema_version": 3,
     "solution": true,
     "task": false
    }
   },
   "outputs": [],
   "source": [
    "# uncomment the right answer\n",
    "# answer = \"a\"\n",
    "# answer = \"b\"\n",
    "# answer = \"c\"\n",
    "# answer = \"d\"\n",
    "# YOUR CODE HERE\n",
    "raise NotImplementedError()"
   ]
  },
  {
   "cell_type": "code",
   "execution_count": null,
   "metadata": {
    "deletable": false,
    "editable": false,
    "nbgrader": {
     "grade": true,
     "grade_id": "cell-9d78f1dc248bb974",
     "locked": true,
     "points": 1,
     "schema_version": 3,
     "solution": false,
     "task": false
    }
   },
   "outputs": [],
   "source": [
    "assert utils.encode_answer(answer) == utils.q10, \"Wrong answer.\""
   ]
  },
  {
   "cell_type": "markdown",
   "metadata": {
    "deletable": false,
    "editable": false,
    "nbgrader": {
     "grade": false,
     "grade_id": "cell-a4a138712cfb78e3",
     "locked": true,
     "schema_version": 3,
     "solution": false,
     "task": false
    }
   },
   "source": [
    "### Exercise 10:  What is the command used to install packages in a python environment?"
   ]
  },
  {
   "cell_type": "markdown",
   "metadata": {
    "deletable": false,
    "editable": false,
    "nbgrader": {
     "grade": false,
     "grade_id": "cell-45e50b50f874979e",
     "locked": true,
     "schema_version": 3,
     "solution": false,
     "task": false
    }
   },
   "source": [
    "a) cat   \n",
    "b) pip   \n",
    "c) package   \n",
    "d) venv   "
   ]
  },
  {
   "cell_type": "code",
   "execution_count": null,
   "metadata": {
    "deletable": false,
    "nbgrader": {
     "grade": false,
     "grade_id": "cell-6d4d775081c8be95",
     "locked": false,
     "schema_version": 3,
     "solution": true,
     "task": false
    }
   },
   "outputs": [],
   "source": [
    "# uncomment the right answer\n",
    "# answer = \"a\"\n",
    "# answer = \"b\"\n",
    "# answer = \"c\"\n",
    "# answer = \"d\"\n",
    "# YOUR CODE HERE\n",
    "raise NotImplementedError()"
   ]
  },
  {
   "cell_type": "code",
   "execution_count": null,
   "metadata": {
    "deletable": false,
    "editable": false,
    "nbgrader": {
     "grade": true,
     "grade_id": "cell-342a8848d6c5e6fe",
     "locked": true,
     "points": 1,
     "schema_version": 3,
     "solution": false,
     "task": false
    }
   },
   "outputs": [],
   "source": [
    "assert utils.encode_answer(answer) == utils.q11, \"Wrong answer.\""
   ]
  },
  {
   "cell_type": "markdown",
   "metadata": {
    "deletable": false,
    "editable": false,
    "nbgrader": {
     "grade": false,
     "grade_id": "cell-471d61de40bcea25",
     "locked": true,
     "schema_version": 3,
     "solution": false,
     "task": false
    }
   },
   "source": [
    "### Exercise 11: Given the following directory structure, what is the RELATIVE import of the function *hello* (defined in module5.py) considering that you want to import it in module1.py?\n",
    "\n",
    "```\n",
    "project_dir\n",
    "└── package\n",
    "    ├── __init__.py\n",
    "    ├── subpackage1\n",
    "    |   ├── __init__.py\n",
    "    │   ├── module1.py    --> needs to import hello()\n",
    "    │   └── module2.py\n",
    "    └── subpackage2\n",
    "        ├── __init__.py\n",
    "        ├── module3.py\n",
    "        ├── module4.py\n",
    "        └── subsubpackage1\n",
    "            ├── __init__.py\n",
    "            └── module5.py --> defines function hello()\n",
    "```\n",
    "\n",
    "*HINT*: Remember that there are two ways to start a relative import, one that starts looking in the current package, and another that will start at the parent package. If you want to work the problem hands-on, use `python -m package.subpackage1.module1` from within `project_dir`."
   ]
  },
  {
   "cell_type": "markdown",
   "metadata": {
    "deletable": false,
    "editable": false,
    "nbgrader": {
     "grade": false,
     "grade_id": "cell-6ed2584f14c258c1",
     "locked": true,
     "schema_version": 3,
     "solution": false,
     "task": false
    }
   },
   "source": [
    "a) `.subpackage2.subsubpackage1.module5 import hello`\n",
    "\n",
    "b) `..subsubpackage1.module5 import hello`\n",
    "\n",
    "c) `package.subpackage2.subsubpackage1.module5 import hello`\n",
    "\n",
    "d) `..subpackage2.subsubpackage1.module5`"
   ]
  },
  {
   "cell_type": "code",
   "execution_count": null,
   "metadata": {
    "deletable": false,
    "nbgrader": {
     "grade": false,
     "grade_id": "cell-74261e7c00f33fda",
     "locked": false,
     "schema_version": 3,
     "solution": true,
     "task": false
    }
   },
   "outputs": [],
   "source": [
    "# uncomment the right answer\n",
    "# answer = \"a\"\n",
    "# answer = \"b\"\n",
    "# answer = \"c\"\n",
    "# answer = \"d\"\n",
    "# YOUR CODE HERE\n",
    "raise NotImplementedError()"
   ]
  },
  {
   "cell_type": "code",
   "execution_count": null,
   "metadata": {
    "deletable": false,
    "editable": false,
    "nbgrader": {
     "grade": true,
     "grade_id": "cell-6f894fd89ca8edfb",
     "locked": true,
     "points": 1,
     "schema_version": 3,
     "solution": false,
     "task": false
    }
   },
   "outputs": [],
   "source": [
    "assert utils.encode_answer(answer) == utils.q12, \"Wrong answer.\""
   ]
  },
  {
   "cell_type": "markdown",
   "metadata": {
    "deletable": false,
    "editable": false,
    "nbgrader": {
     "grade": false,
     "grade_id": "cell-676a541d339af21a",
     "locked": true,
     "schema_version": 3,
     "solution": false,
     "task": false
    }
   },
   "source": [
    "### Exercise 12: The package NumPy is commonly used in Data Science projects to perform mathematical operations, along with being a common subdependency of many popular packages. It is usually imported with the alias `np`. How can you achieve this?"
   ]
  },
  {
   "cell_type": "markdown",
   "metadata": {
    "deletable": false,
    "editable": false,
    "nbgrader": {
     "grade": false,
     "grade_id": "cell-6f987240e0fe1a4e",
     "locked": true,
     "schema_version": 3,
     "solution": false,
     "task": false
    }
   },
   "source": [
    "a) `from numpy import np`\n",
    "\n",
    "b) `import numpy as np`\n",
    "\n",
    "c) `import np from numpy`\n",
    "\n",
    "d) `as np import numpy`"
   ]
  },
  {
   "cell_type": "code",
   "execution_count": null,
   "metadata": {
    "deletable": false,
    "nbgrader": {
     "grade": false,
     "grade_id": "cell-ee696c0c592ba2de",
     "locked": false,
     "schema_version": 3,
     "solution": true,
     "task": false
    }
   },
   "outputs": [],
   "source": [
    "# uncomment the right answer\n",
    "# answer = \"a\"\n",
    "# answer = \"b\"\n",
    "# answer = \"c\"\n",
    "# answer = \"d\"\n",
    "# YOUR CODE HERE\n",
    "raise NotImplementedError()"
   ]
  },
  {
   "cell_type": "code",
   "execution_count": null,
   "metadata": {
    "deletable": false,
    "editable": false,
    "nbgrader": {
     "grade": true,
     "grade_id": "cell-061154af10aef5ee",
     "locked": true,
     "points": 1,
     "schema_version": 3,
     "solution": false,
     "task": false
    }
   },
   "outputs": [],
   "source": [
    "assert utils.encode_answer(answer) == utils.q13, \"Wrong answer.\""
   ]
  },
  {
   "cell_type": "markdown",
   "metadata": {
    "deletable": false,
    "editable": false,
    "nbgrader": {
     "grade": false,
     "grade_id": "cell-8e4e13a0d08cb906",
     "locked": true,
     "schema_version": 3,
     "solution": false,
     "task": false
    }
   },
   "source": [
    "# Submit your work!\n",
    "\n",
    "To grade your exercise notebook and submit your work to the portal, [follow the instructions in the weekly workflow!](https://github.com/LDSSA/ds-prep-course-2024/blob/main/weekly-workflow.md#link-to-grading)"
   ]
  }
 ],
 "metadata": {
  "kernelspec": {
   "display_name": "Python 3 (ipykernel)",
   "language": "python",
   "name": "python3"
  },
  "language_info": {
   "codemirror_mode": {
    "name": "ipython",
    "version": 3
   },
   "file_extension": ".py",
   "mimetype": "text/x-python",
   "name": "python",
   "nbconvert_exporter": "python",
   "pygments_lexer": "ipython3",
   "version": "3.11.8"
  }
 },
 "nbformat": 4,
 "nbformat_minor": 4
}
