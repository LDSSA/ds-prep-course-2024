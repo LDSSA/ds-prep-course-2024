{
 "cells": [
  {
   "cell_type": "markdown",
   "id": "1418b1c7",
   "metadata": {
    "deletable": false,
    "editable": false,
    "nbgrader": {
     "grade": false,
     "grade_id": "cell-df74a5add3f53d1b",
     "locked": true,
     "schema_version": 3,
     "solution": false,
     "task": false
    }
   },
   "source": [
    "# SLU 17_2 - Exam Prep I\n",
    "\n",
    "## Batch 2 Python Exam \n",
    "\n",
    "This is the Python admission exam from the Lisbon Data Science Starters Academy - Batch 2. The allocated time for this exam was 2 hours. If you plan to take the admission exam this year, it's a good idea to measure the time you need to solve this notebook. You can see how far you get in 2 hours and also how much time you need to complete the notebook. At the same time, it's a good idea to not rush through the exercises and rather concentrate on working thoroughly.\n",
    "\n",
    "At the end, you submit the notebook to the portal as usual. You can submit as many times as you like."
   ]
  },
  {
   "cell_type": "code",
   "execution_count": null,
   "id": "ea75fbcf",
   "metadata": {
    "deletable": false,
    "editable": false,
    "nbgrader": {
     "grade": false,
     "grade_id": "cell-52e4242812257e1e",
     "locked": true,
     "schema_version": 3,
     "solution": false,
     "task": false
    }
   },
   "outputs": [],
   "source": [
    "from operator import itemgetter\n",
    "\n",
    "#used for evaluation\n",
    "import inspect\n",
    "import math\n",
    "import re\n",
    "import json\n",
    "import sys\n",
    "import utils\n",
    "import random\n",
    "import hashlib\n",
    "import numpy as np\n",
    "\n",
    "#generate data\n",
    "data = utils.generate_data()"
   ]
  },
  {
   "cell_type": "markdown",
   "id": "fed41168",
   "metadata": {
    "deletable": false,
    "editable": false,
    "nbgrader": {
     "grade": false,
     "grade_id": "cell-66ee0c43b637f40a",
     "locked": true,
     "schema_version": 3,
     "solution": false,
     "task": false
    }
   },
   "source": [
    "## Question 1\n",
    "\n",
    "If you took a look at the dataset, you may have noticed that some of the numeric values are \"polluted\" with characters.\n",
    "\n",
    "In this task you'll have to write a function, `clean_percentage`, that should do the following:\n",
    "\n",
    "- Receive as argument a list of dictionaries;\n",
    " - Each of the dictionaries keeps the % of female students in higher education per area, for a specific year;\n",
    "- Remove all the characters and spaces from the numeric values;\n",
    "- Return the cleaned data;\n",
    "\n",
    "Hint: mind the naughty (R)'s :)"
   ]
  },
  {
   "cell_type": "code",
   "execution_count": null,
   "id": "f7da8eeb",
   "metadata": {
    "deletable": false,
    "nbgrader": {
     "grade": false,
     "grade_id": "cell-c7177b04bd669cff",
     "locked": false,
     "schema_version": 3,
     "solution": true,
     "task": false
    }
   },
   "outputs": [],
   "source": [
    "def clean_percentage(data):\n",
    "    # YOUR CODE HERE\n",
    "    raise NotImplementedError()"
   ]
  },
  {
   "cell_type": "code",
   "execution_count": null,
   "id": "1af605ee",
   "metadata": {
    "deletable": false,
    "editable": false,
    "nbgrader": {
     "grade": true,
     "grade_id": "cell-18bc7007043d3ec2",
     "locked": true,
     "points": 3,
     "schema_version": 3,
     "solution": false,
     "task": false
    }
   },
   "outputs": [],
   "source": [
    "#regenerate data\n",
    "data = utils.generate_data()\n",
    "\n",
    "data_fixed = clean_percentage(data)\n",
    "assert len(data_fixed) == 10, \"Not correct. Keep trying.\"\n",
    "assert isinstance(data_fixed, list), \"Not correct. Keep trying.\"\n",
    "\n",
    "dict_str = ''\n",
    "for d in data_fixed:\n",
    "    assert isinstance(d, dict), \"Not correct. Keep trying.\"\n",
    "    assert hashlib.sha256(json.dumps(''.join(sorted(d.keys()))).encode()).hexdigest() ==\\\n",
    "        '0f29824901124a341c4017128817e0d21d5d742f4e0dc11b05b8a9a94fdba49d', 'Not correct. Keep trying.'\n",
    "    dict_str += ''.join(sorted([str(v) for v in d.values()]))\n",
    "assert hashlib.sha256(json.dumps(dict_str).encode()).hexdigest() ==\\\n",
    "'0ca74816054f28f6ee0fa1005cde295512023d28d612dcd8e20fa2e0820363eb'\n",
    "\n",
    "print(\"Answer is correct. Good Job.\")"
   ]
  },
  {
   "cell_type": "markdown",
   "id": "c3028841",
   "metadata": {
    "deletable": false,
    "editable": false,
    "nbgrader": {
     "grade": false,
     "grade_id": "cell-b34786a73a2f945a",
     "locked": true,
     "schema_version": 3,
     "solution": false,
     "task": false
    }
   },
   "source": [
    "## Question 2\n",
    "\n",
    "In this task, we want to clean the names of the education areas, so they are all lower case and without white spaces.\n",
    "\n",
    "For instance, Social Sciences, Management and Law should become social_sciences_management_and_law.\n",
    "\n",
    "So you'll have to write two functions.\n",
    "\n",
    "The first function, `clean_header_string`, should do the following:\n",
    "\n",
    "- Receive a string as input;\n",
    "- Remove all the commas from the string;\n",
    "- Replace the white spaces in the string with underscores;\n",
    "- Convert the string to lower case;\n",
    "- Return the transformed string;\n",
    "\n",
    "The second function, `clean_header`, should do the following:\n",
    "\n",
    "- Receive as input, a list of dictionaries, similar to the one in the last question;\n",
    "- Use the first function to transform the education area names;\n",
    "- Return the transformed data;\n"
   ]
  },
  {
   "cell_type": "code",
   "execution_count": null,
   "id": "cf460449",
   "metadata": {
    "deletable": false,
    "nbgrader": {
     "grade": false,
     "grade_id": "cell-a11732fd19b01c68",
     "locked": false,
     "schema_version": 3,
     "solution": true,
     "task": false
    }
   },
   "outputs": [],
   "source": [
    "def clean_header_string(string):\n",
    "    # YOUR CODE HERE\n",
    "    raise NotImplementedError()\n",
    "\n",
    "def clean_header(d):\n",
    "    # YOUR CODE HERE\n",
    "    raise NotImplementedError()"
   ]
  },
  {
   "cell_type": "code",
   "execution_count": null,
   "id": "2c1819c3",
   "metadata": {
    "deletable": false,
    "editable": false,
    "nbgrader": {
     "grade": true,
     "grade_id": "cell-d7215a1617be8293",
     "locked": true,
     "points": 3,
     "schema_version": 3,
     "solution": false,
     "task": false
    }
   },
   "outputs": [],
   "source": [
    "#regenerate data\n",
    "data = utils.generate_data()\n",
    "\n",
    "str_1 = clean_header_string('Social Sciences, Management and Law')\n",
    "assert str_1 == 'social_sciences_management_and_law'\n",
    "str_2 = clean_header_string('Sciences, Maths and Computer Science')\n",
    "assert str_2 == 'sciences_maths_and_computer_science'\n",
    "\n",
    "data_fixed = clean_header(data)\n",
    "assert isinstance(data_fixed, list), \"Not correct. Keep trying.\"\n",
    "assert len(data_fixed) == 10, \"Not correct. Keep trying.\"\n",
    "for d in data_fixed:\n",
    "    assert len(d) == 10, \"Not correct. Keep trying.\"\n",
    "    assert isinstance(d, dict), \"Not correct. Keep trying.\"\n",
    "    hashlib.sha256(json.dumps(sorted(d.keys())).encode()).hexdigest() ==\\\n",
    "    'd11a3bcfd485b155e15bf091672e874455513e3f31a7eab0d810c21f08b8bc9c'\n",
    "    \n",
    "print(\"Answer is correct. Good Job.\")"
   ]
  },
  {
   "cell_type": "markdown",
   "id": "983712c0",
   "metadata": {
    "deletable": false,
    "editable": false,
    "nbgrader": {
     "grade": false,
     "grade_id": "cell-a30d898709fe64cb",
     "locked": true,
     "schema_version": 3,
     "solution": false,
     "task": false
    }
   },
   "source": [
    "## Question 3\n",
    "\n",
    "In this task, we want to convert our data to the correct data types.\n",
    "\n",
    "For this you'll have to write two functions.\n",
    "\n",
    "\n",
    "The first function, `commas`, should do the following:\n",
    "\n",
    "- Receive as input a list of dictionaries, similar to the previous questions;\n",
    "- Replace the commas with dots in the numeric values;\n",
    "- Return the transformed data;\n",
    "\n",
    "\n",
    "The second function `data_types` should do the following:\n",
    "\n",
    "- Receive as input a list of dictionaries (specifically the one returned by the first function);\n",
    "- Convert the year values to integer;\n",
    "- Convert the % of female students values to float;\n",
    "- Return the transformed data;"
   ]
  },
  {
   "cell_type": "code",
   "execution_count": null,
   "id": "46e9d152",
   "metadata": {
    "deletable": false,
    "nbgrader": {
     "grade": false,
     "grade_id": "cell-76ca0448c5209f19",
     "locked": false,
     "schema_version": 3,
     "solution": true,
     "task": false
    }
   },
   "outputs": [],
   "source": [
    "def commas(d):\n",
    "    # YOUR CODE HERE\n",
    "    raise NotImplementedError()\n",
    "\n",
    "\n",
    "def data_types(d):\n",
    "    # YOUR CODE HERE\n",
    "    raise NotImplementedError()"
   ]
  },
  {
   "cell_type": "code",
   "execution_count": null,
   "id": "125a8528",
   "metadata": {
    "deletable": false,
    "editable": false,
    "nbgrader": {
     "grade": true,
     "grade_id": "cell-c0f514108d4869b2",
     "locked": true,
     "points": 3,
     "schema_version": 3,
     "solution": false,
     "task": false
    }
   },
   "outputs": [],
   "source": [
    "#regenerate data\n",
    "data_comma =  utils.generate_data_comma()\n",
    "\n",
    "data_dot = commas(data_comma)\n",
    "assert isinstance(data_dot, list), \"Not correct. Keep trying.\"\n",
    "assert len(data_dot) == 10, \"Not correct. Keep trying.\"\n",
    "\n",
    "dict_str = ''\n",
    "for d in data_dot:\n",
    "    assert len(d) == 10, \"Not correct. Keep trying.\"\n",
    "    assert isinstance(d, dict), \"Not correct. Keep trying.\"\n",
    "    dict_str += ''.join(sorted([str(v) for v in d.values()]))\n",
    "assert hashlib.sha256(json.dumps(dict_str).encode()).hexdigest() ==\\\n",
    "'8a3cb35a5bedd79506ddf81a6c83a74b1e0ae0ea6ae5168ecb3b4db76125badf'\n",
    "\n",
    "data_dot_type = data_types(data_dot)\n",
    "assert isinstance(data_dot_type, list), \"Not correct. Keep trying.\"\n",
    "assert len(data_dot_type) == 10, \"Not correct. Keep trying.\"\n",
    "\n",
    "dict_num = 0\n",
    "for d in data_dot_type:\n",
    "    assert len(d) == 10, \"Not correct. Keep trying.\"\n",
    "    assert isinstance(d, dict), \"Not correct. Keep trying.\"\n",
    "    dict_num += sum(d.values())\n",
    "    for k, v in d.items():\n",
    "        if k == \"year\":\n",
    "            assert isinstance(v, int), \"Not correct. Keep trying.\"\n",
    "        else:\n",
    "            assert isinstance(v, float), \"Not correct. Keep trying.\"\n",
    "np.testing.assert_allclose (dict_num, 23257.2, atol=0.1), 'Not correct. Keep trying.'\n",
    "\n",
    "print(\"Answer is correct. Good Job.\")"
   ]
  },
  {
   "cell_type": "markdown",
   "id": "a5da100e",
   "metadata": {
    "deletable": false,
    "editable": false,
    "nbgrader": {
     "grade": false,
     "grade_id": "cell-0fe3da9f60ca4159",
     "locked": true,
     "schema_version": 3,
     "solution": false,
     "task": false
    }
   },
   "source": [
    "## Question 4\n",
    "\n",
    "In this task, we want to focus on data about a specific education area.\n",
    "\n",
    "So you'll have to write a function, `education_years`  that should do the following:\n",
    "\n",
    "- Receive as input a list of dictionaries (similar to the ones of the previous questions), and an education area (string);\n",
    "- Return a list of tuples where the first value of the tuple is the year and the second value is the % of females in the given education area;\n",
    "\n",
    "In this task you're required to use the following:\n",
    "\n",
    "- `map` function;\n",
    "- `lambda` function;"
   ]
  },
  {
   "cell_type": "code",
   "execution_count": null,
   "id": "8a120bc9",
   "metadata": {
    "deletable": false,
    "nbgrader": {
     "grade": false,
     "grade_id": "cell-0546a2b6445fd75b",
     "locked": false,
     "schema_version": 3,
     "solution": true,
     "task": false
    }
   },
   "outputs": [],
   "source": [
    "def education_years(data, education_area):\n",
    "    # YOUR CODE HERE\n",
    "    raise NotImplementedError()"
   ]
  },
  {
   "cell_type": "code",
   "execution_count": null,
   "id": "2fedeaf1",
   "metadata": {
    "deletable": false,
    "editable": false,
    "nbgrader": {
     "grade": true,
     "grade_id": "cell-0bf157ce02b1b085",
     "locked": true,
     "points": 3,
     "schema_version": 3,
     "solution": false,
     "task": false
    }
   },
   "outputs": [],
   "source": [
    "#regenerate data\n",
    "data_clean = utils.generate_data_clean()\n",
    "\n",
    "education_areas = [key for key in data_clean[0].keys() if key not in [\"year\"]]\n",
    "for area in education_areas:\n",
    "    percent_women_year = education_years(data_clean, area)\n",
    "    assert isinstance(percent_women_year, list), \"Not correct. Keep trying.\"\n",
    "    assert len(percent_women_year) == 12, \"Not correct. Keep trying.\"\n",
    "    for year in percent_women_year:\n",
    "        assert isinstance(year, tuple), \"Not correct. Keep trying.\"\n",
    "        assert len(year) == 2, \"Not correct. Keep trying.\"\n",
    "        assert isinstance(year[0], int), \"Not correct. Keep trying.\"\n",
    "        assert isinstance(year[1], float), \"Not correct. Keep trying.\"\n",
    "\n",
    "test1 = education_years(data_clean, \"total\")\n",
    "assert math.isclose(test1[3][1], 53.5, abs_tol=0.1), \"Not correct. Keep trying.\"\n",
    "assert test1[10][0] == 2016, \"Not correct. Keep trying.\"\n",
    "\n",
    "test2 = education_years(data_clean, \"services\")\n",
    "assert math.isclose(test2[5][1], 41.7, abs_tol=0.1), \"Not correct. Keep trying.\"\n",
    "assert test2[8][0] == 2014, \"Not correct. Keep trying.\"\n",
    "\n",
    "source = inspect.getsource(education_years)\n",
    "assert \"map\" in source, \"Not correct. Keep trying.\"\n",
    "assert \"lambda\" in source, \"Not correct. Keep trying.\"\n",
    "\n",
    "print(\"Answer is correct. Good Job.\")"
   ]
  },
  {
   "cell_type": "markdown",
   "id": "84ec1d17",
   "metadata": {
    "deletable": false,
    "editable": false,
    "nbgrader": {
     "grade": false,
     "grade_id": "cell-f4688b863f0cefa1",
     "locked": true,
     "schema_version": 3,
     "solution": false,
     "task": false
    }
   },
   "source": [
    "## Question 5\n",
    "\n",
    "In this task, for a certain education area, we want to understand what were the years where more females were enrolled in higher education.\n",
    "\n",
    "So you'll have to write a function named `female_enrolled` that should do the following:\n",
    "\n",
    "- Receive as input a list of tuples with year and % of females (like the output of the last task) and a threshold;\n",
    "- Filter **out** all the tuples that correspond to a % of females strictly below the threshold;\n",
    "- Sort the remaining tuples from higher to lower % of females;\n",
    "- Return the resulting list of tuples;\n",
    "\n",
    "In this task you're required to use the following:\n",
    "\n",
    "- `sorted` function\n",
    "\n",
    "Hint: `itemgetter` may be handy"
   ]
  },
  {
   "cell_type": "code",
   "execution_count": null,
   "id": "d76892a7",
   "metadata": {
    "deletable": false,
    "nbgrader": {
     "grade": false,
     "grade_id": "cell-3c339e619872e065",
     "locked": false,
     "schema_version": 3,
     "solution": true,
     "task": false
    }
   },
   "outputs": [],
   "source": [
    "def female_enrolled(data, threshold):\n",
    "    # YOUR CODE HERE\n",
    "    raise NotImplementedError()"
   ]
  },
  {
   "cell_type": "code",
   "execution_count": null,
   "id": "d4a73024",
   "metadata": {
    "deletable": false,
    "editable": false,
    "nbgrader": {
     "grade": true,
     "grade_id": "cell-30f67a7608d49607",
     "locked": true,
     "points": 3,
     "schema_version": 3,
     "solution": false,
     "task": false
    }
   },
   "outputs": [],
   "source": [
    "data_enrolled = utils.generate_data_enrolled()\n",
    "\n",
    "data_filtered = female_enrolled(data_enrolled, 0)\n",
    "assert isinstance(data_filtered, list), \"Not correct. Keep trying.\"\n",
    "assert len(data_filtered) == 5, \"Not correct. Keep trying.\"\n",
    "for year in data_filtered:\n",
    "    assert isinstance(year, tuple), \"Not correct. Keep trying.\"\n",
    "    assert len(year) == 2, \"Not correct. Keep trying.\"\n",
    "    assert isinstance(year[0], int), \"Not correct. Keep trying.\"\n",
    "    assert isinstance(year[1], float), \"Not correct. Keep trying.\"\n",
    "\n",
    "test1 = female_enrolled(data_enrolled, 58.1)\n",
    "assert len(test1) == 3, \"Not correct. Keep trying.\"\n",
    "assert math.isclose(test1[1][1],\n",
    "                    58.7,\n",
    "                    abs_tol=0.1), \"Not correct. Keep trying.\"\n",
    "assert test1[1][0] == 2015, \"Not correct. Keep trying.\"\n",
    "\n",
    "test2 = female_enrolled(data_enrolled, 58.0)\n",
    "assert len(test2) == 4, \"Not correct. Keep trying.\"\n",
    "assert math.isclose(test2[3][1],\n",
    "                    58.0,\n",
    "                    abs_tol=0.1), \"Not correct. Keep trying.\"\n",
    "assert test2[3][0] == 2014, \"Not correct. Keep trying.\"\n",
    "\n",
    "source = inspect.getsource(female_enrolled)\n",
    "assert \"sorted\" in source, \"Not correct. Keep trying.\"\n",
    "\n",
    "print(\"Answer is correct. Good Job.\")"
   ]
  },
  {
   "cell_type": "markdown",
   "id": "0f9f5167",
   "metadata": {
    "deletable": false,
    "editable": false,
    "nbgrader": {
     "grade": false,
     "grade_id": "cell-4e2ed886a93db595",
     "locked": true,
     "schema_version": 3,
     "solution": false,
     "task": false
    }
   },
   "source": [
    "## Question 6\n",
    "\n",
    "In this task we'll create a class to play the lottery!\n",
    "\n",
    "First, get to know the `raffle_key`. The `raffle_key` is a dictionary, associating ticket numbers with prizes. All the numbers that are not in the raffle_key won't get any prize."
   ]
  },
  {
   "cell_type": "code",
   "execution_count": null,
   "id": "f39c268c",
   "metadata": {
    "deletable": false,
    "editable": false,
    "nbgrader": {
     "grade": false,
     "grade_id": "cell-d0b08a13b58b5344",
     "locked": true,
     "schema_version": 3,
     "solution": false,
     "task": false
    }
   },
   "outputs": [],
   "source": [
    "raffle_key = {1:\"10 euros\", 5:\"100 euros\", 9:\"40 euros\"}"
   ]
  },
  {
   "cell_type": "markdown",
   "id": "8e4f93fe",
   "metadata": {
    "deletable": false,
    "editable": false,
    "nbgrader": {
     "grade": false,
     "grade_id": "cell-4c99e5f250875271",
     "locked": true,
     "schema_version": 3,
     "solution": false,
     "task": false
    }
   },
   "source": [
    "### Step 1:\n",
    "\n",
    "- Create a `Lottery` class that takes one constructor parameter called `raffle_key`;\n",
    "- In the `Lottery` class create a method named `get_lucky` that receives the lucky_number as parameter;\n",
    "    and returns the strings \"{X} euros\" or \"Better luck next time!\", depending on the presence of the lucky number in the raffle key;\n",
    "- In our example above, our lucky number 9 corresponds to the response string \"40 euros\";\n",
    "    if in some case the lucky number provided doesn't exist in the raffle key, we should print out \"Better luck next time!\";\n",
    "- If no lucky number is provided whatsoever, make sure that a random one is generated.\n",
    "\n",
    "\n",
    "### Step 2:\n",
    "\n",
    "- Instantiate the `Lottery` class with name `simple_lottery` and with the given raffle key;\n",
    "\n",
    "\n",
    "In this task you're required to use the following:\n",
    "\n",
    "- `try/except` statements;\n"
   ]
  },
  {
   "cell_type": "code",
   "execution_count": null,
   "id": "1ae739e3",
   "metadata": {
    "deletable": false,
    "nbgrader": {
     "grade": false,
     "grade_id": "cell-dc8077515454abe0",
     "locked": false,
     "schema_version": 3,
     "solution": true,
     "task": false
    }
   },
   "outputs": [],
   "source": [
    "class Lottery():\n",
    "# YOUR CODE HERE\n",
    "raise NotImplementedError()"
   ]
  },
  {
   "cell_type": "code",
   "execution_count": null,
   "id": "a525f9b9",
   "metadata": {
    "deletable": false,
    "editable": false,
    "nbgrader": {
     "grade": true,
     "grade_id": "cell-96c7d9be71562f8a",
     "locked": true,
     "points": 5,
     "schema_version": 3,
     "solution": false,
     "task": false
    }
   },
   "outputs": [],
   "source": [
    "assert isinstance(simple_lottery, Lottery), \"Not correct. Keep trying.\"\n",
    "assert hasattr(simple_lottery, \"raffle_key\"), \"Not correct. Keep trying.\"\n",
    "assert simple_lottery.get_lucky(1) == \"10 euros\", \"Not correct. Keep trying.\"\n",
    "assert simple_lottery.get_lucky(5) == \"100 euros\", \"Not correct. Keep trying.\"\n",
    "assert simple_lottery.get_lucky(9) == \"40 euros\", \"Not correct. Keep trying.\"\n",
    "assert simple_lottery.get_lucky(\"1\") == \"Better luck next time!\", \\\n",
    "       \"Not correct. Keep trying.\"\n",
    "assert simple_lottery.get_lucky(-3) == \"Better luck next time!\", \\\n",
    "       \"Not correct. Keep trying.\"\n",
    "assert isinstance(simple_lottery.get_lucky(), str), \"Not correct. Keep trying.\"\n",
    "source = inspect.getsource(simple_lottery.get_lucky)\n",
    "assert \"try\" in source, \"Not correct. Keep trying.\"\n",
    "assert \"except\" in source, \"Not correct. Keep trying.\"\n",
    "\n",
    "print(\"Answer is correct. Good Job.\")"
   ]
  },
  {
   "cell_type": "markdown",
   "id": "1deff58c",
   "metadata": {
    "deletable": false,
    "editable": false,
    "nbgrader": {
     "grade": false,
     "grade_id": "cell-548e6a602825ecb1",
     "locked": true,
     "schema_version": 3,
     "solution": false,
     "task": false
    }
   },
   "source": [
    "### Submit your work!\n",
    "\n",
    "To submit your work, [follow the steps here, in the step \\\"Grading the Exercise Notebook\\\"!](https://github.com/LDSSA/ds-prep-course-2024/blob/main/weekly-workflow.md#link-to-grading)"
   ]
  }
 ],
 "metadata": {
  "kernelspec": {
   "display_name": "Python 3 (ipykernel)",
   "language": "python",
   "name": "python3"
  },
  "language_info": {
   "codemirror_mode": {
    "name": "ipython",
    "version": 3
   },
   "file_extension": ".py",
   "mimetype": "text/x-python",
   "name": "python",
   "nbconvert_exporter": "python",
   "pygments_lexer": "ipython3",
   "version": "3.11.9"
  }
 },
 "nbformat": 4,
 "nbformat_minor": 5
}
