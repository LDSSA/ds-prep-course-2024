{
 "cells": [
  {
   "cell_type": "markdown",
   "id": "fc1a8838",
   "metadata": {
    "nbgrader": {
     "grade": false,
     "grade_id": "cell-aacaa56a53dfb267",
     "locked": true,
     "schema_version": 3,
     "solution": false,
     "task": false
    }
   },
   "source": [
    "# SLU05 - Python flow control - Practice\n"
   ]
  },
  {
   "cell_type": "markdown",
   "id": "4111fcb1-157a-4352-9747-a5782959dccc",
   "metadata": {
    "nbgrader": {
     "grade": false,
     "grade_id": "cell-4bb4d3207d89b530",
     "locked": true,
     "schema_version": 3,
     "solution": false,
     "task": false
    }
   },
   "source": [
    "### Foreword for beginner students coming from the Exercise notebook 0\n",
    "This exercise notebook is step up in that it contains a story. So you'll first have to translate the problem from story into the language of variables, conditions, and loops. It's like when you started learning mathematics in school. First, you learned `4 - 1 - 2 = 1`, then you learned solving problems like `Maria bought four apples, ate one, and gave two to her sister. How many apples has Maria now?`\n",
    "\n",
    "After you read the problem statement, first identify what are the variables that you need and what are their initial and final values. Then think about the steps you will need to execute to get from the initial values to the result and write them down in plain English. Then, think about the tools you'll need. Will you need an `if ` statement to decide between two possible outcomes? What will be the condition? Will you need a `for` loop to repeat something a defined number of times? Will you need a `while` loop to repeat something an indefinite number of times? Will you need one or more loops or conditions? Finally, think about how to test if your code is working correctly. Can you print out the values of your variables along the way to see what happens?\n",
    "\n",
    "Write the code in small chunks and always test if it does what you want."
   ]
  },
  {
   "cell_type": "markdown",
   "id": "b7393b76",
   "metadata": {
    "nbgrader": {
     "grade": false,
     "grade_id": "cell-f797083a53c3e81b",
     "locked": true,
     "schema_version": 3,
     "solution": false,
     "task": false
    }
   },
   "source": [
    "### Welcome to Planet X\n",
    "\n",
    "Your spaceship has only just landed when you learn that on Planet X only beings with a minimum knowledge of flow control in Python are allowed to leave the station. \n",
    "You are guided to a tunnel that will either be the entry to the wondrous world of Planet X where you will be admitted as a spectator of the Games X or ... your end. "
   ]
  },
  {
   "cell_type": "markdown",
   "id": "76f847fe",
   "metadata": {
    "nbgrader": {
     "grade": false,
     "grade_id": "cell-fc830bbbcea98cc4",
     "locked": true,
     "schema_version": 3,
     "solution": false,
     "task": false
    }
   },
   "source": [
    "**Hint:** Should you by any accident or intention create an infinite loop (you were duly warned about those in the Learning Notebooks) try interrupting the Kernel, for example by clicking on Kernel in the menu, then on Interrupt!"
   ]
  },
  {
   "cell_type": "code",
   "execution_count": 1,
   "id": "9909a2cb",
   "metadata": {
    "nbgrader": {
     "grade": false,
     "grade_id": "cell-4dcc8cd29f80c421",
     "locked": true,
     "schema_version": 3,
     "solution": false,
     "task": false
    }
   },
   "outputs": [],
   "source": [
    "# Just for evaluating the results.\n",
    "import math\n",
    "import json\n",
    "import hashlib"
   ]
  },
  {
   "attachments": {},
   "cell_type": "markdown",
   "id": "b708e15c-c742-4fa2-afa1-fb8018cff22d",
   "metadata": {
    "nbgrader": {
     "grade": false,
     "grade_id": "cell-92bc68d7c4a6eea4",
     "locked": true,
     "schema_version": 3,
     "solution": false,
     "task": false
    }
   },
   "source": [
    "### Exercise 1\n",
    "\n",
    "Upon entering the tunnel you see a tile in the floor reading: *Which of the following statements will be True? Step on the correct answer to cross this tile!*\n",
    "\n",
    "A:  3 < 2\n",
    "\n",
    "B:  A==a\n",
    "\n",
    "C:  3!=3\n",
    "\n",
    "D:  23<=23\n",
    "\n",
    "Which is the answer to step on?"
   ]
  },
  {
   "cell_type": "code",
   "execution_count": 2,
   "id": "7e6c2894",
   "metadata": {
    "nbgrader": {
     "grade": false,
     "grade_id": "cell-23a99139ad0a0a5a",
     "locked": false,
     "schema_version": 3,
     "solution": true,
     "task": false
    }
   },
   "outputs": [],
   "source": [
    "# Your answer here:\n",
    "# example:\n",
    "# answer_1 = \"E\"\n",
    "\n",
    "### BEGIN SOLUTION\n",
    "answer_1 = \"D\"\n",
    "### END SOLUTION"
   ]
  },
  {
   "cell_type": "code",
   "execution_count": 3,
   "id": "cbce0a13",
   "metadata": {
    "nbgrader": {
     "grade": true,
     "grade_id": "cell-acb79987f258e801",
     "locked": true,
     "points": 2,
     "schema_version": 3,
     "solution": false,
     "task": false
    }
   },
   "outputs": [
    {
     "name": "stdout",
     "output_type": "stream",
     "text": [
      "Congratulations, you passed the tile!\n"
     ]
    }
   ],
   "source": [
    "assert hashlib.sha256(json.dumps(answer_1.strip()).encode()).hexdigest() == \\\n",
    "'8f097023401b3d58704c1f3abea8ec2eba57c387f09d10125cd66076afd13b1e',\\\n",
    "\"Wrong answer, you fall through the floor tile into an abyss!\"\n",
    "print(\"Congratulations, you passed the tile!\")"
   ]
  },
  {
   "attachments": {},
   "cell_type": "markdown",
   "id": "5688539f-c13c-4e13-910c-a2cc6b284bca",
   "metadata": {
    "nbgrader": {
     "grade": false,
     "grade_id": "cell-6e36b1587b2c762b",
     "locked": true,
     "schema_version": 3,
     "solution": false,
     "task": false
    }
   },
   "source": [
    "### Exercise 2\n",
    "\n",
    "You continue down the corridor. A screen appears in front of you and asks you to translate the following text into python code:\n",
    "- create two variables, a variable called \"a\" should be the integer 1 and a variable called \"b\" should be the integer ninety-nine\n",
    "- create a variable called \"expression1\", a boolean value, with value \"a is larger than b\"\n",
    "- create a variable called \"expression2\", a boolean value, with value \"a is smaller than b\"\n",
    "- create a variable called \"expression3\", a boolean value, with value \"at least one of the expressions expression1 or expression2 is true\"\n",
    "- create a variable called \"expression4\", a boolean value, with value \"both of the expressions expression1 and expression2 are true\"\n"
   ]
  },
  {
   "cell_type": "code",
   "execution_count": 4,
   "id": "c71feb78",
   "metadata": {
    "nbgrader": {
     "grade": false,
     "grade_id": "cell-66f5c4990f9ec1f4",
     "locked": false,
     "schema_version": 3,
     "solution": true,
     "task": false
    }
   },
   "outputs": [],
   "source": [
    "#Your answer here:\n",
    "#a=\n",
    "#b=\n",
    "#expression1=\n",
    "#expression2=\n",
    "#expression3=\n",
    "#expression4=\n",
    "\n",
    "### BEGIN SOLUTION\n",
    "\n",
    "a = 1\n",
    "b = 99\n",
    "expression1 = False\n",
    "expression2 = True\n",
    "expression3 = True\n",
    "expression4 = False\n",
    "\n",
    "### END SOLUTION"
   ]
  },
  {
   "cell_type": "code",
   "execution_count": 5,
   "id": "655e4a28",
   "metadata": {
    "nbgrader": {
     "grade": true,
     "grade_id": "cell-60d3fc8fad22ce3a",
     "locked": true,
     "points": 3,
     "schema_version": 3,
     "solution": false,
     "task": false
    }
   },
   "outputs": [
    {
     "name": "stdout",
     "output_type": "stream",
     "text": [
      "The screen vanishes, you may pass!\n"
     ]
    }
   ],
   "source": [
    "assert isinstance(a,int) and isinstance(b,int), 'The variables a and b should be integers.'\n",
    "assert hashlib.sha256(json.dumps(str(a)).encode()).hexdigest() == \\\n",
    "'391552c099c101b131feaf24c5795a6a15bc8ec82015424e0d2b4274a369a0bf',\\\n",
    "\"The values of variables a or b are wrong. You hear a small noise and everything around you becomes black!\"\n",
    "assert isinstance(expression1,bool) and isinstance(expression2,bool) and isinstance(expression3,bool) \\\n",
    "and isinstance(expression4,bool), 'The expressions should be booleans.'\n",
    "assert  hashlib.sha256(json.dumps(''.join([str(expression1),str(expression2),str(expression3),str(expression4)])).encode()).hexdigest()\\\n",
    "== '94514b1f03f079eed63af701925a27f1526ea8bd1f58032e1f6e1fdfb1783944', \\\n",
    "\"The boolean values of at least one of the expressions is not correct. You hear a small noise and everything around you becomes black!\"\n",
    "print(\"The screen vanishes, you may pass!\")"
   ]
  },
  {
   "attachments": {},
   "cell_type": "markdown",
   "id": "3ae4f545-2d3d-4981-9774-7791bef4ab40",
   "metadata": {
    "nbgrader": {
     "grade": false,
     "grade_id": "cell-ce090388fb09bc40",
     "locked": true,
     "schema_version": 3,
     "solution": false,
     "task": false
    }
   },
   "source": [
    "### Exercise 3\n",
    "\n",
    "Just a few more steps down the corridor a robot rolls in your way and asks:\n",
    "\n",
    "*What text will the following code print?*\n",
    "\n",
    "<img src=\"./media/easy_if.PNG\" />"
   ]
  },
  {
   "cell_type": "code",
   "execution_count": 6,
   "id": "61d60b51",
   "metadata": {
    "nbgrader": {
     "grade": false,
     "grade_id": "cell-937604c83bbcb2a5",
     "locked": false,
     "schema_version": 3,
     "solution": true,
     "task": false
    }
   },
   "outputs": [],
   "source": [
    "# Your answer here:\n",
    "# example:\n",
    "# answer_3 = \"E\"\n",
    "\n",
    "### BEGIN SOLUTION\n",
    "answer_3 = \"B\"\n",
    "### END SOLUTION"
   ]
  },
  {
   "cell_type": "code",
   "execution_count": 7,
   "id": "9306032c",
   "metadata": {
    "nbgrader": {
     "grade": true,
     "grade_id": "cell-12dd76da7188130c",
     "locked": true,
     "points": 3,
     "schema_version": 3,
     "solution": false,
     "task": false
    }
   },
   "outputs": [
    {
     "name": "stdout",
     "output_type": "stream",
     "text": [
      "The robot deactivates and you pass.\n"
     ]
    }
   ],
   "source": [
    "assert hashlib.sha256(json.dumps(answer_3.strip()).encode()).hexdigest() == \\\n",
    "'955cca1ceba45052d85984d3a2565f4ce25b7488602c60a165598bf80b26e472',\\\n",
    "\"The robot starts screaming 'Exterminate! Exterminate!', it seems it does not like your answer.\"\n",
    "print(\"The robot deactivates and you pass.\")"
   ]
  },
  {
   "attachments": {},
   "cell_type": "markdown",
   "id": "17c475cc-b634-4833-bceb-7ab4ce201d72",
   "metadata": {
    "nbgrader": {
     "grade": false,
     "grade_id": "cell-4f51e3e367b4671a",
     "locked": true,
     "schema_version": 3,
     "solution": false,
     "task": false
    }
   },
   "source": [
    "### Exercise 4 \n",
    "\n",
    "You continue down the corridor and around a corner where you find a table with an elderly lady sitting next to it, knitting. She asks you to use a loop to create a list called `var` with every other lowercase character, like this: `['a', 'c', 'e', ...]`\n",
    "\n",
    "When you look at her in desperation, she mumbles the words `ord` and `chr`."
   ]
  },
  {
   "cell_type": "code",
   "execution_count": 8,
   "id": "3a7e0c36",
   "metadata": {
    "nbgrader": {
     "grade": false,
     "grade_id": "cell-6517ffff98b0df00",
     "locked": false,
     "schema_version": 3,
     "solution": true,
     "task": false
    }
   },
   "outputs": [],
   "source": [
    "# Hint: use the functions ord and chr you from learning notebook 1 to transform characters\n",
    "# to code point values that you can use in a loop\n",
    "#var = []\n",
    "\n",
    "### BEGIN SOLUTION\n",
    "\n",
    "var = []\n",
    "for i in range(ord('a'),ord('z'),2):\n",
    "    var.append(chr(i))\n",
    "\n",
    "### END SOLUTION"
   ]
  },
  {
   "cell_type": "code",
   "execution_count": 9,
   "id": "1d565122",
   "metadata": {
    "nbgrader": {
     "grade": true,
     "grade_id": "cell-c5b8e750bbb157be",
     "locked": true,
     "points": 3,
     "schema_version": 3,
     "solution": false,
     "task": false
    }
   },
   "outputs": [
    {
     "name": "stdout",
     "output_type": "stream",
     "text": [
      "['a', 'c', 'e', 'g', 'i', 'k', 'm', 'o', 'q', 's', 'u', 'w', 'y']\n",
      "The lady nods and says 'very well, lets take this up a notch, shall we?'\n"
     ]
    }
   ],
   "source": [
    "assert hashlib.sha256(json.dumps(''.join(var)).encode()).hexdigest() == \\\n",
    "'fae9e4abc7f52bca1225d60989498b722e9af840996c276fa4a90b629c7f45da',\\\n",
    "\"The lady looks at you, disapproval in her eyes. You realize you cannot move nor talk anymore.\"\n",
    "print(var)\n",
    "print(\"The lady nods and says 'very well, lets take this up a notch, shall we?'\")"
   ]
  },
  {
   "attachments": {},
   "cell_type": "markdown",
   "id": "8ba05c63-a24f-4365-bdaa-8e57f69e9bb5",
   "metadata": {
    "nbgrader": {
     "grade": false,
     "grade_id": "cell-2bcabc7eaf260138",
     "locked": true,
     "schema_version": 3,
     "solution": false,
     "task": false
    }
   },
   "source": [
    "### Exercise 5\n",
    "\n",
    "She tilts her head to the side... You did not think passing me was that easy, did you? Use a `while` loop to iterate over the string \"EMIT DRAWER\" and put all its characters in the list `answer_5`, but backwards! Like this: `['R','E',...]`."
   ]
  },
  {
   "cell_type": "code",
   "execution_count": 10,
   "id": "b7d710ed",
   "metadata": {
    "nbgrader": {
     "grade": false,
     "grade_id": "cell-51863afcdfd87984",
     "locked": false,
     "schema_version": 3,
     "solution": true,
     "task": false
    }
   },
   "outputs": [],
   "source": [
    "# Hint: remember that you can access the characters in the string through indexing,\n",
    "# like this: string[0], which gives 'E'\n",
    "\n",
    "string = \"EMIT DRAWER\"\n",
    "#answer_5 = []\n",
    "\n",
    "### BEGIN SOLUTION\n",
    "answer_5 = []\n",
    "n = len(string)\n",
    "while n>0:\n",
    "    answer_5.append(string[n-1])\n",
    "    n-=1\n",
    "\n",
    "### END SOLUTION"
   ]
  },
  {
   "cell_type": "code",
   "execution_count": 11,
   "id": "160e0c59",
   "metadata": {
    "nbgrader": {
     "grade": true,
     "grade_id": "cell-809e87e4da6e7f5a",
     "locked": true,
     "points": 3,
     "schema_version": 3,
     "solution": false,
     "task": false
    }
   },
   "outputs": [
    {
     "name": "stdout",
     "output_type": "stream",
     "text": [
      "['R', 'E', 'W', 'A', 'R', 'D', ' ', 'T', 'I', 'M', 'E']\n",
      "Well done, not much more and you shall be free. While you walk down the corridor you feel the lady's eyes in your back.\n"
     ]
    }
   ],
   "source": [
    "assert hashlib.sha256(json.dumps(''.join(answer_5)).encode()).hexdigest() == \\\n",
    "'af6c9818ad0d7818936c997defea43369cb430d161a6c5c6d13400f3bebf6469', \\\n",
    "\"The lady snips her fingers and you are being attacked by a gigantic alien kitten!\"\n",
    "print(answer_5)\n",
    "print(\"Well done, not much more and you shall be free. While you walk down the corridor you feel the lady's eyes in your back.\")"
   ]
  },
  {
   "attachments": {},
   "cell_type": "markdown",
   "id": "20ec9451-af95-4db8-bf99-6d4e157f52a1",
   "metadata": {
    "nbgrader": {
     "grade": false,
     "grade_id": "cell-cba3ca0157f8aeb9",
     "locked": true,
     "schema_version": 3,
     "solution": false,
     "task": false
    }
   },
   "source": [
    "### Exercise 6\n",
    "\n",
    "You arrive at a wall that appears to be the end of the corridor. On the wall you discover an inscription with yet another task:\n",
    "\n",
    "From the `welcome_string` below extract the characters with the indices given in the list `solution_index`. Assign the extracted characters to the `answer_6` list.\n",
    "\n",
    "- welcome_string = \"You are weirdly most welcome to Planet X!\"\n",
    "- solution_index = [4,8,9,18,25,26,27]"
   ]
  },
  {
   "cell_type": "code",
   "execution_count": 12,
   "id": "c10a601d",
   "metadata": {
    "nbgrader": {
     "grade": false,
     "grade_id": "cell-f6f8f34235beb39d",
     "locked": false,
     "schema_version": 3,
     "solution": true,
     "task": false
    }
   },
   "outputs": [],
   "source": [
    "welcome_string =\"You are weirdly most welcome to Planet X\"\n",
    "solution_index=[4,8,9,18,25,26,27]\n",
    "# answer_6 = []\n",
    "\n",
    "### BEGIN SOLUTION\n",
    "\n",
    "answer_6 = []\n",
    "for i in solution_index:\n",
    "    answer_6.append(welcome_string[i])\n",
    "\n",
    "### END SOLUTION"
   ]
  },
  {
   "cell_type": "code",
   "execution_count": 13,
   "id": "77c507f7",
   "metadata": {
    "nbgrader": {
     "grade": true,
     "grade_id": "cell-0287971b5a29f7a0",
     "locked": true,
     "points": 3,
     "schema_version": 3,
     "solution": false,
     "task": false
    }
   },
   "outputs": [
    {
     "name": "stdout",
     "output_type": "stream",
     "text": [
      "['a', 'w', 'e', 's', 'o', 'm', 'e']\n",
      "The wall vanishes and you blink as your eyes adjust to the sunshine of Planet X\n"
     ]
    }
   ],
   "source": [
    "assert hashlib.sha256(json.dumps(''.join(answer_6)).encode()).hexdigest() == \\\n",
    "'588e7cfa7a6b57825f0093dded728af014211c4a1d2bc784051da5cfc7c5416f',\\\n",
    "\"A net falls on top of you and you are being pulled in a windowless chamber above the corridor\"\n",
    "print(answer_6)\n",
    "print(\"The wall vanishes and you blink as your eyes adjust to the sunshine of Planet X\")"
   ]
  },
  {
   "attachments": {},
   "cell_type": "markdown",
   "id": "7d53901f-b155-496e-ab26-d284a859ac44",
   "metadata": {
    "nbgrader": {
     "grade": false,
     "grade_id": "cell-cec65927445129e6",
     "locked": true,
     "schema_version": 3,
     "solution": false,
     "task": false
    }
   },
   "source": [
    "### Exercise 7\n",
    "\n",
    "Outside you meet an inhabitant of Planet X. They suggest you could win a special spectator seat for the Games X if you manage to solve this exercise! Sounds great!\n",
    "\n",
    "From a range of numbers from 1 to 77 find the ones that are divisible without rest by 2 and 3 and 7 and put them in the `answer_7` list.\n",
    "\n",
    "(You will even get a glass of champagne if you manage to write the solution in one line using list comprehension. Otherwise just coffee. ;))"
   ]
  },
  {
   "cell_type": "code",
   "execution_count": 14,
   "id": "9a64f781",
   "metadata": {
    "nbgrader": {
     "grade": false,
     "grade_id": "cell-b7d231b0a70c2bbf",
     "locked": false,
     "schema_version": 3,
     "solution": true,
     "task": false
    }
   },
   "outputs": [],
   "source": [
    "#answer_7 = []\n",
    "\n",
    "### BEGIN SOLUTION\n",
    "\n",
    "answer_7 = []\n",
    "for i in range(1,78):\n",
    "    if i%2==0 and i%3==0 and i%7==0:\n",
    "        answer_7.append(i)\n",
    "\n",
    "# one line solution\n",
    "#answer_7 = [i for i in range(1,78) if i%2==0 and i%3==0 and i%7==0]\n",
    "\n",
    "### END SOLUTION"
   ]
  },
  {
   "cell_type": "code",
   "execution_count": 15,
   "id": "950aef9c",
   "metadata": {
    "nbgrader": {
     "grade": true,
     "grade_id": "cell-ac56d8db040172ff",
     "locked": true,
     "points": 3,
     "schema_version": 3,
     "solution": false,
     "task": false
    }
   },
   "outputs": [
    {
     "name": "stdout",
     "output_type": "stream",
     "text": [
      "[42]\n",
      "You proudly look to the person to present your correct solution - to find they vanished into thin air.\n"
     ]
    }
   ],
   "source": [
    "assert hashlib.sha256(json.dumps(answer_7).encode()).hexdigest() == \\\n",
    "'b86b1ea11b28136fe5224b9d1e3017b7efb68d4fae0b90c4940e0c0f89b3907a', \\\n",
    "\"No solution no special seat - they say and vanish into the crowd - fair enough\"\n",
    "print(answer_7)\n",
    "print(\"You proudly look to the person to present your correct solution - to find they vanished into thin air.\")"
   ]
  },
  {
   "cell_type": "markdown",
   "id": "51696feb-2eb7-4701-b76a-2e836d412ca3",
   "metadata": {
    "nbgrader": {
     "grade": false,
     "grade_id": "cell-4dcdc2714b1d4eaf",
     "locked": true,
     "schema_version": 3,
     "solution": false,
     "task": false
    }
   },
   "source": [
    "# Submit your work!\n",
    "\n",
    "To grade your exercise notebook and submit your work to the portal, [follow the instructions in the weekly workflow!](https://github.com/LDSSA/ds-prep-course-2024/blob/main/weekly-workflow.md#link-to-grading)"
   ]
  },
  {
   "cell_type": "markdown",
   "id": "a5b9c79d-4efd-4869-8196-44fcfb906f87",
   "metadata": {
    "nbgrader": {
     "grade": false,
     "grade_id": "cell-20d9b547197af463",
     "locked": true,
     "schema_version": 3,
     "solution": false,
     "task": false
    }
   },
   "source": [
    "# Give us feedback!\n",
    "We'd like to know how you found the learning experience with this SLU. You can leave anonymous feedback in this [feedback form](https://docs.google.com/forms/d/e/1FAIpQLSebiso8S1bfTkELeTqEC18fRy1c79QssrwCbuOgsrTgxWA19w/viewform?usp=sf_link) and help us improve the unit next year. Thank you!"
   ]
  }
 ],
 "metadata": {
  "kernelspec": {
   "display_name": "Python 3 (ipykernel)",
   "language": "python",
   "name": "python3"
  },
  "language_info": {
   "codemirror_mode": {
    "name": "ipython",
    "version": 3
   },
   "file_extension": ".py",
   "mimetype": "text/x-python",
   "name": "python",
   "nbconvert_exporter": "python",
   "pygments_lexer": "ipython3",
   "version": "3.11.8"
  }
 },
 "nbformat": 4,
 "nbformat_minor": 5
}
