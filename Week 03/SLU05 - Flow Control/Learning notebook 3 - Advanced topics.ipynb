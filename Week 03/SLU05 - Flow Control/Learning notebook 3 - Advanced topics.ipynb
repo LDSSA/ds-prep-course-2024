{
 "cells": [
  {
   "cell_type": "markdown",
   "metadata": {},
   "source": [
    "# SLU05 - Flow Control: Advanced topics\n",
    "\n",
    "In this notebook, we'll explore a few more tricks you can do with conditions and loops. If you are a complete beginner, you can skip this notebook for now and come back to it later."
   ]
  },
  {
   "attachments": {},
   "cell_type": "markdown",
   "metadata": {},
   "source": [
    "## 1. More operators for creating conditions\n",
    "\n",
    "### 1.1 Membership operators\n",
    "\n",
    "You have already met membership operators in SLU04. With **membership operators**, we can test if a value is present or absent in a list, tuple, dictionary or even a string! \n",
    "\n",
    "Imagine that you have a recipe and you want to test if it contains a certain ingredient. With the comparison operators it would be necessary to compare each ingredient to the one that you want. **Membership operators** simplify this process by answering the question \"Is this ingredient **in** the recipe?\"\n",
    "\n",
    "For lists and tuples, the `in` membership operator tests if the left value is a member of the right sequence. "
   ]
  },
  {
   "cell_type": "code",
   "execution_count": 1,
   "metadata": {},
   "outputs": [
    {
     "name": "stdout",
     "output_type": "stream",
     "text": [
      "True\n",
      "False\n"
     ]
    }
   ],
   "source": [
    "print(1 in [1, 2, 3])\n",
    "\n",
    "print(\"Chocolate\" in (\"Milk\", \"Flour\", \"Eggs\"))"
   ]
  },
  {
   "cell_type": "markdown",
   "metadata": {},
   "source": [
    "You can also confirm if a list is a member of another list. The left list must be integrally a member of the second list. Even if both lists have the same values, if the values are not exactly in the same order, the first list is not considered to be a member of the second list."
   ]
  },
  {
   "cell_type": "code",
   "execution_count": 2,
   "metadata": {},
   "outputs": [
    {
     "name": "stdout",
     "output_type": "stream",
     "text": [
      "False\n",
      "True\n"
     ]
    }
   ],
   "source": [
    "#Even though Eggs and Milk are present in right list, \n",
    "#the in operator is specifically searching for the list [\"Eggs\", \"Milk\"]\n",
    "#which is not a member of the right list.\n",
    "print([\"Eggs\", \"Milk\"] in [[\"Chocolate\", \"Flour\"], [\"Milk\", \"Eggs\"]])\n",
    "\n",
    "#Now the element [\"Milk\", \"Eggs\"]\n",
    "print([\"Milk\", \"Eggs\"] in [[\"Chocolate\", \"Flour\"], [\"Milk\", \"Eggs\"]])"
   ]
  },
  {
   "cell_type": "markdown",
   "metadata": {},
   "source": [
    "For **dictionaries**, the `in` operator tests if the left value is one of the dictionary **keys**."
   ]
  },
  {
   "cell_type": "code",
   "execution_count": 3,
   "metadata": {},
   "outputs": [
    {
     "data": {
      "text/plain": [
       "True"
      ]
     },
     "execution_count": 3,
     "metadata": {},
     "output_type": "execute_result"
    }
   ],
   "source": [
    "\"Milk\" in {\"Chocolate\":2, \"Milk\":2, \"Eggs\":6}"
   ]
  },
  {
   "cell_type": "code",
   "execution_count": 4,
   "metadata": {},
   "outputs": [
    {
     "data": {
      "text/plain": [
       "False"
      ]
     },
     "execution_count": 4,
     "metadata": {},
     "output_type": "execute_result"
    }
   ],
   "source": [
    "\"Flour\" in {\"Chocolate\":2, \"Milk\":2, \"Eggs\":6}"
   ]
  },
  {
   "cell_type": "markdown",
   "metadata": {},
   "source": [
    "The `in` operator does not look in dictionary values:"
   ]
  },
  {
   "cell_type": "code",
   "execution_count": 5,
   "metadata": {},
   "outputs": [
    {
     "data": {
      "text/plain": [
       "False"
      ]
     },
     "execution_count": 5,
     "metadata": {},
     "output_type": "execute_result"
    }
   ],
   "source": [
    "2 in {\"Chocolate\":2, \"Milk\":2, \"Eggs\":6}"
   ]
  },
  {
   "cell_type": "markdown",
   "metadata": {},
   "source": [
    "For **strings**, the `in` operator verifies if a substring exists within another string. It might exist multiple times in the same string. It only matters that it appears at least once."
   ]
  },
  {
   "cell_type": "code",
   "execution_count": 6,
   "metadata": {},
   "outputs": [
    {
     "data": {
      "text/plain": [
       "True"
      ]
     },
     "execution_count": 6,
     "metadata": {},
     "output_type": "execute_result"
    }
   ],
   "source": [
    "\"ana\" in \"Banana\""
   ]
  },
  {
   "cell_type": "markdown",
   "metadata": {},
   "source": [
    "Of course, the substring has to be found exactly as specified because the `in` operator is case-sensitive. (remember \"A\" is diferent from \"a\")"
   ]
  },
  {
   "cell_type": "code",
   "execution_count": 7,
   "metadata": {},
   "outputs": [
    {
     "data": {
      "text/plain": [
       "False"
      ]
     },
     "execution_count": 7,
     "metadata": {},
     "output_type": "execute_result"
    }
   ],
   "source": [
    "\"Ana\" in \"Banana\""
   ]
  },
  {
   "attachments": {},
   "cell_type": "markdown",
   "metadata": {},
   "source": [
    "## 1.2 Identity operators\n",
    "\n",
    "The operator `is` [compares the identity of two objects](https://docs.python.org/3/reference/expressions.html#is). The identity of an object is determined with `id()`. If both IDs are the same then `is` returns `True`. If they are different `is` returns `False`. The opposite happens with `is not`.\n",
    "\n",
    "We can test ist two variables are the same:"
   ]
  },
  {
   "cell_type": "code",
   "execution_count": 8,
   "metadata": {},
   "outputs": [
    {
     "name": "stdout",
     "output_type": "stream",
     "text": [
      "ID of a: 10749640\n",
      "ID of b: 10749640\n",
      "a is b: True\n"
     ]
    }
   ],
   "source": [
    "a = 1\n",
    "b = a\n",
    "print(\"ID of a:\", id(a))\n",
    "print(\"ID of b:\", id(b))\n",
    "\n",
    "print(\"a is b:\",a is b)"
   ]
  },
  {
   "cell_type": "markdown",
   "metadata": {},
   "source": [
    "`a` and `b` are the same in this example because we assigned one to the other.\n",
    "\n",
    "In the example below, we see that a copy of `a` has another identity:"
   ]
  },
  {
   "cell_type": "code",
   "execution_count": 9,
   "metadata": {},
   "outputs": [
    {
     "name": "stdout",
     "output_type": "stream",
     "text": [
      "ID of a_list: 140500798310080\n",
      "ID of b_list: 140500798310080\n",
      "ID of c_list: 140500798312512\n",
      "a_list is b_list: True\n",
      "a_list is c_list: False\n"
     ]
    }
   ],
   "source": [
    "a_list = [1,2,3]\n",
    "b_list = a_list\n",
    "c_list = a_list.copy()\n",
    "print(\"ID of a_list:\", id(a_list))\n",
    "print(\"ID of b_list:\", id(b_list))\n",
    "print(\"ID of c_list:\", id(c_list))\n",
    "\n",
    "print(\"a_list is b_list:\",a_list is b_list)\n",
    "print(\"a_list is c_list:\",a_list is c_list)"
   ]
  },
  {
   "cell_type": "markdown",
   "metadata": {},
   "source": [
    "The `is` operator has an important role when comparing with the `None` value. Always use the `is` operator and [never equality operators](https://www.python.org/dev/peps/pep-0008/#programming-recommendations) when comparing with `None`."
   ]
  },
  {
   "cell_type": "code",
   "execution_count": 10,
   "metadata": {},
   "outputs": [
    {
     "data": {
      "text/plain": [
       "True"
      ]
     },
     "execution_count": 10,
     "metadata": {},
     "output_type": "execute_result"
    }
   ],
   "source": [
    "nothing = None\n",
    "nothing is None"
   ]
  },
  {
   "attachments": {},
   "cell_type": "markdown",
   "metadata": {},
   "source": [
    "## 2. Building lists with List comprehension\n",
    "\n",
    "In one of the examples in the learning notebook 2, we made a new list by creating an empty list and, as the `for` loop iterated, new values were appended. "
   ]
  },
  {
   "cell_type": "code",
   "execution_count": 11,
   "metadata": {},
   "outputs": [
    {
     "data": {
      "text/plain": [
       "[0, 1, 4, 9, 16, 25, 36, 49, 64, 81]"
      ]
     },
     "execution_count": 11,
     "metadata": {},
     "output_type": "execute_result"
    }
   ],
   "source": [
    "new_list = []\n",
    "for i in range(10):\n",
    "    new_list.append(i ** 2)\n",
    "new_list"
   ]
  },
  {
   "cell_type": "markdown",
   "metadata": {},
   "source": [
    "We know programmers are lazy so they designed a simpler way to create lists called [List Comprehension](https://docs.python.org/3.11/tutorial/datastructures.html#list-comprehensions). *List comprehension* allows using the values of a sequence or iterable, process them and store the results as elements of a new list.\n",
    "\n",
    "A *list comprehension* is enclosed in square brackets `[]` and has the following components:\n",
    "- An expression;\n",
    "- a `for` clause with a control variable and an iterable (which includes the `in` keyword);\n",
    "- any number of `for` and `if` clauses (optional)\n",
    "\n",
    "The basic structure of list comprehension can be written as:\n",
    "\n",
    "```python\n",
    "[expression for control_variable in iterable]\n",
    "```\n",
    "\n",
    "Using this notation, the example above can be converted into:"
   ]
  },
  {
   "cell_type": "code",
   "execution_count": 12,
   "metadata": {},
   "outputs": [
    {
     "data": {
      "text/plain": [
       "[0, 1, 4, 9, 16, 25, 36, 49, 64, 81]"
      ]
     },
     "execution_count": 12,
     "metadata": {},
     "output_type": "execute_result"
    }
   ],
   "source": [
    "comprehension_list = [i ** 2 for i in range(10)]\n",
    "comprehension_list"
   ]
  },
  {
   "cell_type": "markdown",
   "metadata": {},
   "source": [
    "Look how many characters we saved by using *list comprehension*! This is not always the case. Some tasks are too complex to fit inside a *list comprehension* and still be understandable by a human being. When creating a list use the method that **is more readable**."
   ]
  },
  {
   "attachments": {},
   "cell_type": "markdown",
   "metadata": {},
   "source": [
    "### 2.1 Multiple `for` loops\n",
    "\n",
    "We can use more than one `for` statement with *list comprehension*.\n",
    "\n",
    "If we want to know the area of a series of rectangles we can do something like:"
   ]
  },
  {
   "cell_type": "code",
   "execution_count": 13,
   "metadata": {},
   "outputs": [
    {
     "data": {
      "text/plain": [
       "[1, 2, 3, 4, 2, 4, 6, 8, 3, 6, 9, 12]"
      ]
     },
     "execution_count": 13,
     "metadata": {},
     "output_type": "execute_result"
    }
   ],
   "source": [
    "#Squares are also rectangles.\n",
    "[height * width for height in range(1,4) for width in range(1,5)]"
   ]
  },
  {
   "cell_type": "markdown",
   "metadata": {},
   "source": [
    "This syntax is equivalent to two nested loops. The first loop is the *outer loop* and the second loop is the *inner loop*."
   ]
  },
  {
   "attachments": {},
   "cell_type": "markdown",
   "metadata": {},
   "source": [
    "### 2.2 `if` statement\n",
    "\n",
    "The `if` statement in *list comprehension* filters the elements that are used in the list. If the condition is `True` then the iteration is processed as usual. But if the condition is `False` that iteration is ignored, similarly to `continue`."
   ]
  },
  {
   "cell_type": "code",
   "execution_count": 14,
   "metadata": {},
   "outputs": [
    {
     "data": {
      "text/plain": [
       "[0, 2, 4, 6, 8, 10, 12, 14]"
      ]
     },
     "execution_count": 14,
     "metadata": {},
     "output_type": "execute_result"
    }
   ],
   "source": [
    "[i for i in range(15) if i % 2 == 0]"
   ]
  },
  {
   "attachments": {},
   "cell_type": "markdown",
   "metadata": {},
   "source": [
    "In the example above, only the elements that are divisible by 2 are iterated and subsequently introduced in the list.\n",
    "\n",
    "If more than one `if` statement is used, **all conditions must be satisfied** for the iteration to be used. This is equivalent to using `and` to combine the conditions together."
   ]
  },
  {
   "cell_type": "code",
   "execution_count": 15,
   "metadata": {},
   "outputs": [
    {
     "data": {
      "text/plain": [
       "[0, 6, 12]"
      ]
     },
     "execution_count": 15,
     "metadata": {},
     "output_type": "execute_result"
    }
   ],
   "source": [
    "[i for i in range(15) if i%2 == 0 if i%3 == 0]"
   ]
  },
  {
   "cell_type": "code",
   "execution_count": 16,
   "metadata": {},
   "outputs": [
    {
     "data": {
      "text/plain": [
       "[0, 6, 12]"
      ]
     },
     "execution_count": 16,
     "metadata": {},
     "output_type": "execute_result"
    }
   ],
   "source": [
    "[i for i in range(15) if i%2 == 0 and i%3 == 0]"
   ]
  },
  {
   "attachments": {},
   "cell_type": "markdown",
   "metadata": {},
   "source": [
    "### 2.3 Nested list comprehensions\n",
    "\n",
    "We can also [nest](https://docs.python.org/3.11/tutorial/datastructures.html#nested-list-comprehensions) several *list comprehensions*  statements together. They work in a way that might be different than you would expect.\n",
    "\n",
    "Let's start with a simple *list comprehension*:"
   ]
  },
  {
   "cell_type": "code",
   "execution_count": 17,
   "metadata": {},
   "outputs": [
    {
     "data": {
      "text/plain": [
       "['0', '1', '2', '3', '4']"
      ]
     },
     "execution_count": 17,
     "metadata": {},
     "output_type": "execute_result"
    }
   ],
   "source": [
    "[str(number) for number in range(5)]"
   ]
  },
  {
   "cell_type": "markdown",
   "metadata": {},
   "source": [
    "We created a list of strings with integer values. If we write an outer *list comprehension*:"
   ]
  },
  {
   "cell_type": "code",
   "execution_count": 18,
   "metadata": {},
   "outputs": [
    {
     "data": {
      "text/plain": [
       "[['0', '1', '2', '3', '4'],\n",
       " ['0', '1', '2', '3', '4'],\n",
       " ['0', '1', '2', '3', '4']]"
      ]
     },
     "execution_count": 18,
     "metadata": {},
     "output_type": "execute_result"
    }
   ],
   "source": [
    "[[str(number) for number in range(5)] for letter in [\"A\", \"B\", \"C\"]]"
   ]
  },
  {
   "cell_type": "markdown",
   "metadata": {},
   "source": [
    "The original list is repeated 3 times because the **outer loop** is executed 3 times.\n",
    "To make it more evident we are including the letters in the string:"
   ]
  },
  {
   "cell_type": "code",
   "execution_count": 19,
   "metadata": {},
   "outputs": [
    {
     "data": {
      "text/plain": [
       "[['A0', 'A1', 'A2', 'A3', 'A4'],\n",
       " ['B0', 'B1', 'B2', 'B3', 'B4'],\n",
       " ['C0', 'C1', 'C2', 'C3', 'C4']]"
      ]
     },
     "execution_count": 19,
     "metadata": {},
     "output_type": "execute_result"
    }
   ],
   "source": [
    "[[letter + str(number) for number in range(5)] for letter in [\"A\", \"B\", \"C\"]]"
   ]
  },
  {
   "cell_type": "markdown",
   "metadata": {},
   "source": [
    "After the inner loop has been completely iterated, the next value of the outer loop is iterated. This repeats until the outer loop has no more elements to iterate.\n",
    "The result is that for each value of `letter`, a list of length 5 is created. The elements of these lists are calculated depending on the condition of the inner loop.\n",
    "\n",
    "This is a way to build [matrices](https://en.wikipedia.org/wiki/Matrix_(mathematics)) that you'll get to know in SLU12 and SLU13.\n",
    "\n",
    "This syntax also corresponds to nested loops, but additionally, we use nested lists, unlike in section 2.1. Compare the above code with:"
   ]
  },
  {
   "cell_type": "code",
   "execution_count": 20,
   "metadata": {},
   "outputs": [
    {
     "data": {
      "text/plain": [
       "['A0',\n",
       " 'B0',\n",
       " 'C0',\n",
       " 'A1',\n",
       " 'B1',\n",
       " 'C1',\n",
       " 'A2',\n",
       " 'B2',\n",
       " 'C2',\n",
       " 'A3',\n",
       " 'B3',\n",
       " 'C3',\n",
       " 'A4',\n",
       " 'B4',\n",
       " 'C4']"
      ]
     },
     "execution_count": 20,
     "metadata": {},
     "output_type": "execute_result"
    }
   ],
   "source": [
    "[letter + str(number) for number in range(5) for letter in [\"A\", \"B\", \"C\"]]"
   ]
  },
  {
   "attachments": {},
   "cell_type": "markdown",
   "metadata": {},
   "source": [
    "### 2.4 Dictionary comprehension\n",
    "\n",
    "After the implementation of *list comprehensions* in Python, [dictionary comprehensions](https://www.python.org/dev/peps/pep-0274/) were introduced. The principle is the same as *list comprehension* but with dictionaries.\n",
    "\n",
    "The basic structure of a *dictionary comprehension* can be written as:\n",
    "\n",
    "```python\n",
    "{expression_key : expression_value for control_variable in iterable}\n",
    "```\n",
    "\n",
    "A *dictionary comprehension* is enclosed in curly brackets `{}` and has the following components:\n",
    "- An expression for the `keys`;\n",
    "- A colon `:`;\n",
    "- An expresion for the `values`;\n",
    "- a `for` clause with a control variable and iterable (which includes the `in` keyword);\n",
    "- any number of `for` and `if` clauses (optional);\n",
    "\n",
    "Below are a few examples:\n",
    "\n",
    "Generating a dictionary with the power of integers:"
   ]
  },
  {
   "cell_type": "code",
   "execution_count": 21,
   "metadata": {},
   "outputs": [
    {
     "data": {
      "text/plain": [
       "{'0': 0,\n",
       " '1': 1,\n",
       " '2': 4,\n",
       " '3': 9,\n",
       " '4': 16,\n",
       " '5': 25,\n",
       " '6': 36,\n",
       " '7': 49,\n",
       " '8': 64,\n",
       " '9': 81}"
      ]
     },
     "execution_count": 21,
     "metadata": {},
     "output_type": "execute_result"
    }
   ],
   "source": [
    "{str(base): base ** 2 for base in range(10)}"
   ]
  },
  {
   "cell_type": "markdown",
   "metadata": {},
   "source": [
    "Extracting the values of a dictionary and filtering out the ones that don't fulfill a condition:"
   ]
  },
  {
   "cell_type": "code",
   "execution_count": 22,
   "metadata": {},
   "outputs": [
    {
     "data": {
      "text/plain": [
       "{'Portugal': 'Portuguese', 'Brazil': 'Portuguese'}"
      ]
     },
     "execution_count": 22,
     "metadata": {},
     "output_type": "execute_result"
    }
   ],
   "source": [
    "language_country_dict = {\"Portugal\": \"Portuguese\", \"France\": \"French\", \"England\": \"English\", \n",
    "                         \"Brazil\": \"Portuguese\"}\n",
    "{country : language for country, language in language_country_dict.items() if language == \"Portuguese\"}"
   ]
  },
  {
   "attachments": {},
   "cell_type": "markdown",
   "metadata": {},
   "source": [
    "### 2.5 Further reading\n",
    "\n",
    "[Programiz on list comprehension](https://www.programiz.com/python-programming/list-comprehension)\n",
    "\n",
    "[GeeksforGeeks list comprehension](https://www.geeksforgeeks.org/comprehensions-in-python/)\n",
    "\n",
    "[Python documentation on list comprehension](https://docs.python.org/3.7/tutorial/datastructures.html#list-comprehensions)"
   ]
  },
  {
   "attachments": {},
   "cell_type": "markdown",
   "metadata": {},
   "source": [
    "## 3. The `else` clause in loops\n",
    "\n",
    "An obscure statement that can be used with loops is the `else` statement. The `else` statement behaves **differently** in a loop than in an`if` statement.\n",
    "The code indented after the `else` statement is executed after the loop **even if the loop's body was not executed.**"
   ]
  },
  {
   "cell_type": "code",
   "execution_count": 23,
   "metadata": {},
   "outputs": [
    {
     "name": "stdout",
     "output_type": "stream",
     "text": [
      "1\n",
      "2\n",
      "3\n",
      "4\n",
      "5\n",
      "After else: 6\n"
     ]
    }
   ],
   "source": [
    "i = 1\n",
    "while i < 6:\n",
    "    print(i)\n",
    "    i += 1\n",
    "else:\n",
    "    print(\"After else:\",i)"
   ]
  },
  {
   "cell_type": "markdown",
   "metadata": {},
   "source": [
    "The `while` loop iterates until the condition is no longer `True`. After that, the `else` statement is executed. Notice that the value of `print(\"After else:\",i)` was incremented by one compared with the last iteration of the `print()` inside the loop.\n",
    "\n",
    "If the condition is initially `False`, the `else` statement is still executed."
   ]
  },
  {
   "cell_type": "code",
   "execution_count": 24,
   "metadata": {},
   "outputs": [
    {
     "name": "stdout",
     "output_type": "stream",
     "text": [
      "Last Iteration: 1\n"
     ]
    }
   ],
   "source": [
    "i = 1\n",
    "while i > 6:\n",
    "    print(i)\n",
    "    i += 1\n",
    "else:\n",
    "    print(\"Last Iteration:\",i)"
   ]
  },
  {
   "cell_type": "markdown",
   "metadata": {},
   "source": [
    "If you use the `break` statement the `else` statement **is not executed**."
   ]
  },
  {
   "cell_type": "code",
   "execution_count": 25,
   "metadata": {},
   "outputs": [
    {
     "name": "stdout",
     "output_type": "stream",
     "text": [
      "1\n",
      "2\n",
      "3\n",
      "4\n",
      "5\n"
     ]
    }
   ],
   "source": [
    "i = 1\n",
    "while True:\n",
    "    print(i)\n",
    "    i += 1\n",
    "    if i == 6:\n",
    "        break\n",
    "    \n",
    "else:\n",
    "    print(\"Last Iteration:\",i)"
   ]
  },
  {
   "cell_type": "markdown",
   "metadata": {},
   "source": [
    "We can also use the `else` statement with `for` loops."
   ]
  },
  {
   "cell_type": "code",
   "execution_count": 26,
   "metadata": {},
   "outputs": [
    {
     "name": "stdout",
     "output_type": "stream",
     "text": [
      "1\n",
      "2\n",
      "3\n",
      "4\n",
      "5\n",
      "Last Iteration: 5\n"
     ]
    }
   ],
   "source": [
    "for i in range(1,6):\n",
    "    print(i)\n",
    "else:\n",
    "    print(\"Last Iteration:\",i)"
   ]
  },
  {
   "cell_type": "markdown",
   "metadata": {},
   "source": [
    "Notice that the value of `print(\"After else:\",i)` is equal to the last iteration of the `print()` inside the loop."
   ]
  },
  {
   "attachments": {},
   "cell_type": "markdown",
   "metadata": {},
   "source": [
    "## 4. The Fibonnaci sequence\n",
    "\n",
    "With everything that we learned in the notebook we can write code to solve most problems under the Sun. We can't explore all capabilities of every statement, otherwise we'll be here until cows bark. That is why you should explore other resources to discover further features and use cases.\n",
    "\n",
    "We'll conclude this SLU with a classical example that uses some of the techniques that we learned so far.\n",
    "\n",
    "The *Fibonacci numbers* form a sequence called the [Fibonacci sequence](https://en.wikipedia.org/wiki/Fibonacci_number). The *Fibonacci sequence* is a sequence of numbers such that each number is the sum of the two previous numbers, starting with 0 and 1: $F_0 = 0, F_1 = 1$ and $F_n = F_{n-1} + F_{n-2}$ for $n>1$.\n",
    "\n",
    "We'll write a *Fibonacci sequence* with `fib_len` number of members."
   ]
  },
  {
   "cell_type": "code",
   "execution_count": 27,
   "metadata": {},
   "outputs": [
    {
     "data": {
      "text/plain": [
       "[0, 1, 1, 2, 3, 5, 8, 13, 21, 34, 55, 89, 144]"
      ]
     },
     "execution_count": 27,
     "metadata": {},
     "output_type": "execute_result"
    }
   ],
   "source": [
    "fib_len = 13\n",
    "fib_sequence = []\n",
    "for position in range(fib_len):\n",
    "    \n",
    "    if position == 0:\n",
    "        fib_sequence.append(0)\n",
    "\n",
    "    elif position == 1:\n",
    "        fib_sequence.append(1)\n",
    "    \n",
    "    else:\n",
    "        fib_sequence.append(fib_sequence[position-1] + fib_sequence[position-2])\n",
    "\n",
    "fib_sequence"
   ]
  },
  {
   "attachments": {},
   "cell_type": "markdown",
   "metadata": {},
   "source": [
    "Initially, `position` has value 0. This means that the `if` statement is executed, and thus the first element is 0.\n",
    "Next, `position` has value 1. The `elif` statement is executed, and the second element is assigned as 1.\n",
    "Now `position` has value 2. Because it is greater than 1 and 0, the `else` statement is executed. The new element, which will have index 2, will have the sum of the two previous elements of index 0 and 1. This will repeat for the subsequent iterations.\n",
    "\n",
    "You can use this method (or other similar) to calculate the next element of a sequence based on the value of previous elements. I wonder if this will come in handy during the exercises... 🤔"
   ]
  }
 ],
 "metadata": {
  "kernelspec": {
   "display_name": "Python 3 (ipykernel)",
   "language": "python",
   "name": "python3"
  },
  "language_info": {
   "codemirror_mode": {
    "name": "ipython",
    "version": 3
   },
   "file_extension": ".py",
   "mimetype": "text/x-python",
   "name": "python",
   "nbconvert_exporter": "python",
   "pygments_lexer": "ipython3",
   "version": "3.11.8"
  }
 },
 "nbformat": 4,
 "nbformat_minor": 4
}
