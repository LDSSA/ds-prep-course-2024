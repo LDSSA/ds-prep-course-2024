{
 "cells": [
  {
   "cell_type": "markdown",
   "id": "6511b07b-d468-4cd2-8ca3-82ad7cc113e6",
   "metadata": {
    "deletable": false,
    "editable": false,
    "nbgrader": {
     "grade": false,
     "grade_id": "cell-3e0e31e9c523bc69",
     "locked": true,
     "schema_version": 3,
     "solution": false,
     "task": false
    }
   },
   "source": [
    "# SLU05 Exercise notebook 0\n",
    "This exercise notebook is for complete beginners to practice the syntax of the loops and conditions. If they start to feel boring, it's a good sign that you have learned the lesson and you are ready to move to exercise notebook 1. ;)"
   ]
  },
  {
   "cell_type": "code",
   "execution_count": null,
   "id": "aee06ba6-8c6b-4870-91e7-187dec45f033",
   "metadata": {
    "deletable": false,
    "editable": false,
    "nbgrader": {
     "grade": false,
     "grade_id": "cell-98db1c60e1b9cce6",
     "locked": true,
     "schema_version": 3,
     "solution": false,
     "task": false
    }
   },
   "outputs": [],
   "source": [
    "# For evaluation purposes, please run this cell\n",
    "import hashlib\n",
    "import random\n",
    "random.seed(a=2)\n",
    "from utils import card_deck"
   ]
  },
  {
   "cell_type": "markdown",
   "id": "015413d1-c108-49ed-ade5-0de29e7a9512",
   "metadata": {
    "deletable": false,
    "editable": false,
    "nbgrader": {
     "grade": false,
     "grade_id": "cell-d435118ee7f15599",
     "locked": true,
     "schema_version": 3,
     "solution": false,
     "task": false
    }
   },
   "source": [
    "## 1. Boolean expressions"
   ]
  },
  {
   "cell_type": "markdown",
   "id": "5d776cd5-bad8-4610-8b5f-f02e6a16ff6f",
   "metadata": {
    "deletable": false,
    "editable": false,
    "nbgrader": {
     "grade": false,
     "grade_id": "cell-e84aee07ae5853ac",
     "locked": true,
     "schema_version": 3,
     "solution": false,
     "task": false
    }
   },
   "source": [
    "### Exercise 1.1 Comparison operators with numbers\n",
    "Fill in comparison operators so that each expression evaluates to `True`. Example:\n",
    "\n",
    "What is the comparison operator that I should fill in here?\n",
    "\n",
    "```python\n",
    "expression_0 = 10 comparison_operator 1\n",
    "```\n",
    "\n",
    "10 is greater than 1, so I will fill in `>`:\n",
    "\n",
    "```python\n",
    "expression_0 = 10 > 1\n",
    "```\n",
    "\n",
    "To check my solution, I will print `expression_0`:\n",
    "\n",
    "```python\n",
    "print(expression_0)\n",
    "```\n",
    "\n",
    "Which gives:\n",
    "\n",
    "```python\n",
    "True\n",
    "```\n",
    "\n",
    "\n"
   ]
  },
  {
   "cell_type": "code",
   "execution_count": null,
   "id": "93c7f2f9-e1ff-47c6-8d63-3bc9221a2c09",
   "metadata": {
    "deletable": false,
    "nbgrader": {
     "grade": false,
     "grade_id": "cell-bb14e18f7e6f7895",
     "locked": false,
     "schema_version": 3,
     "solution": true,
     "task": false
    }
   },
   "outputs": [],
   "source": [
    "# Uncomment each line and fill in the correct comparison operator\n",
    "\n",
    "#expression_1 = 3**2 comparison_operator 2**3\n",
    "#expression_2 = 1+2+3+4 comparison_operator 5+6+7-1-2-3\n",
    "#expression_3 = 17 * (6+7) comparison_operator 13 * (8+9)\n",
    "\n",
    "# YOUR CODE HERE\n",
    "raise NotImplementedError()"
   ]
  },
  {
   "cell_type": "code",
   "execution_count": null,
   "id": "d82edbd5-b38a-4f91-8e8a-23b32a444ab1",
   "metadata": {
    "deletable": false,
    "editable": false,
    "nbgrader": {
     "grade": true,
     "grade_id": "cell-59fa3641918cf2e1",
     "locked": true,
     "points": 1,
     "schema_version": 3,
     "solution": false,
     "task": false
    }
   },
   "outputs": [],
   "source": [
    "assert expression_1, 'check expression_1'\n",
    "assert expression_2, 'check expression_2'\n",
    "assert expression_3, 'check expression_3'\n",
    "\"Well done!\""
   ]
  },
  {
   "cell_type": "markdown",
   "id": "0f0b37ed-5839-463f-9cf5-2ce2932ee32a",
   "metadata": {
    "deletable": false,
    "editable": false,
    "nbgrader": {
     "grade": false,
     "grade_id": "cell-87b65bf531eb60e9",
     "locked": true,
     "schema_version": 3,
     "solution": false,
     "task": false
    }
   },
   "source": [
    "### Exercise 1.2 Comparison operators with strings\n",
    "In the following expressions we are comparing strings. Unfortunately, all the comparisons evaluate to `False`. Change the strings in the expressions according to the instructions to make the expressions `True`. Example:\n",
    "\n",
    "Change **one character** in the strings in the following expression:\n",
    "\n",
    "```python\n",
    "expression_0s = 'ana' == 'Ana'\n",
    "```\n",
    "\n",
    "I see that these strings are not equal because of the first character which is lowercase in one and uppercase in the other. So I change the one of them like this:\n",
    "\n",
    "```python\n",
    "expression_0s = 'Ana' == 'Ana'\n",
    "```\n",
    "\n",
    "Voilá, now the expression evaluates to `True`!"
   ]
  },
  {
   "cell_type": "code",
   "execution_count": null,
   "id": "23dc6e48-384b-41eb-80d7-ef443c85bb5a",
   "metadata": {
    "deletable": false,
    "nbgrader": {
     "grade": false,
     "grade_id": "cell-7a5c491455009d46",
     "locked": false,
     "schema_version": 3,
     "solution": true,
     "task": false
    }
   },
   "outputs": [],
   "source": [
    "# Add one character to one of the strings to make the expression True\n",
    "expression_1s = 'Catch' + 'me!'  == 'Catch me!'\n",
    "\n",
    "# Change one character in the strings to make the expression True.\n",
    "expression_2s = 'what a beautiful day!' > 'what a beautiful day!'\n",
    "\n",
    "# Change one character in the string to make the expression True\n",
    "expression_3s = '100 + 1'  >= str(100 + 1)\n",
    "\n",
    "# YOUR CODE HERE\n",
    "raise NotImplementedError()"
   ]
  },
  {
   "cell_type": "code",
   "execution_count": null,
   "id": "4f7ea1c8-597b-4567-8fec-e5c1258571c6",
   "metadata": {
    "deletable": false,
    "editable": false,
    "nbgrader": {
     "grade": true,
     "grade_id": "cell-f1b59a731d1b06f4",
     "locked": true,
     "points": 1,
     "schema_version": 3,
     "solution": false,
     "task": false
    }
   },
   "outputs": [],
   "source": [
    "assert expression_1s, 'check expression_1s'\n",
    "assert expression_2s, 'check expression_2s'\n",
    "assert expression_3s, 'check expression_3s'\n",
    "'Well done!'"
   ]
  },
  {
   "cell_type": "markdown",
   "id": "23ad60b6-59f3-4151-8a04-90a72180cee2",
   "metadata": {
    "deletable": false,
    "editable": false,
    "nbgrader": {
     "grade": false,
     "grade_id": "cell-d7a7912354ac5c96",
     "locked": true,
     "schema_version": 3,
     "solution": false,
     "task": false
    }
   },
   "source": [
    "### Exercise 1.3 Boolean expressions\n",
    "Consider the following expressions. Without running the code, evaluate their truth value and assign the answer to the corresponding answer variable.\n",
    "\n",
    "```python\n",
    "boolean_1 = 15 != 1 + 5 or 15 < 1 + 5\n",
    "boolean_2 = 'cat' in ['fly', 'cat', 'fish'] and 'kitten' > 'dog'\n",
    "boolean_3 = 'yes' > 'no' and bool(15 % 3)\n",
    "boolean_4 = 2 < 1 or 2 > 1 and 2!=1 and not 2 == 1\n",
    "boolean_5 = not 'w' >= 'W' or 'W' =='w' and 'W' <= 'w' \n",
    "```\n"
   ]
  },
  {
   "cell_type": "code",
   "execution_count": null,
   "id": "ac79ad68-4dbc-4686-8449-1ee324f0c379",
   "metadata": {
    "deletable": false,
    "nbgrader": {
     "grade": false,
     "grade_id": "cell-71016edc78ab585b",
     "locked": false,
     "schema_version": 3,
     "solution": true,
     "task": false
    }
   },
   "outputs": [],
   "source": [
    "#boolean_1 =\n",
    "#boolean_2 =\n",
    "#boolean_3 = \n",
    "#boolean_4 = \n",
    "#boolean_5 = \n",
    "\n",
    "# YOUR CODE HERE\n",
    "raise NotImplementedError()\n"
   ]
  },
  {
   "cell_type": "code",
   "execution_count": null,
   "id": "4c316848-37cd-4d41-bd0d-90fee119ca94",
   "metadata": {
    "deletable": false,
    "editable": false,
    "nbgrader": {
     "grade": true,
     "grade_id": "cell-7f7b5545409bda29",
     "locked": true,
     "points": 1,
     "schema_version": 3,
     "solution": false,
     "task": false
    }
   },
   "outputs": [],
   "source": [
    "assert hashlib.sha1(bytes(str(boolean_1)+str(boolean_2)+str(boolean_3)+str(boolean_4)+str(boolean_5), encoding='utf8')).hexdigest() == \\\n",
    "'f47a14798a4423871234186c100ea1976ddf0b2a', 'One of the answers is not correct.'\n",
    "'Well done!'"
   ]
  },
  {
   "cell_type": "markdown",
   "id": "6235836a-96c7-45a7-8efb-0f1c2edbe6a8",
   "metadata": {
    "deletable": false,
    "editable": false,
    "nbgrader": {
     "grade": false,
     "grade_id": "cell-480ff78e6d6c90aa",
     "locked": true,
     "schema_version": 3,
     "solution": false,
     "task": false
    }
   },
   "source": [
    "### Exercise 1.4 Boolean expressions 2\n",
    "Consider the following expressions containing variables. All of them evaluate to `True`. Knowing the truth value of the expressions, what is the truth value of the variables? Do not run the code, just think. :) Assign the answer to the corresponding answer variable.\n",
    "\n",
    "```python\n",
    "variable_1 and '10' != '9+1'\n",
    "\n",
    "variable_2 or 4 * 5 > 5 * 4\n",
    "\n",
    "1 - 2 * 10 != 21 - 5 * 8 and 'Night' + 'Day' < 'Sun' + 'Stars'  or not variable_3\n",
    "```"
   ]
  },
  {
   "cell_type": "code",
   "execution_count": null,
   "id": "ac89307a-7ccb-44fb-add9-464dbc6b69d8",
   "metadata": {
    "deletable": false,
    "nbgrader": {
     "grade": false,
     "grade_id": "cell-cd973652ed94dcfe",
     "locked": false,
     "schema_version": 3,
     "solution": true,
     "task": false
    }
   },
   "outputs": [],
   "source": [
    "#variable_1 = \n",
    "#variable_2 = \n",
    "#variable_3 = \n",
    "\n",
    "\n",
    "# YOUR CODE HERE\n",
    "raise NotImplementedError()"
   ]
  },
  {
   "cell_type": "code",
   "execution_count": null,
   "id": "8a53f06e-b37d-4d97-b791-f35ff08c3503",
   "metadata": {
    "deletable": false,
    "editable": false,
    "nbgrader": {
     "grade": true,
     "grade_id": "cell-3ba2a592cee6a423",
     "locked": true,
     "points": 1,
     "schema_version": 3,
     "solution": false,
     "task": false
    }
   },
   "outputs": [],
   "source": [
    "assert hashlib.sha1(bytes(str(boolean_1)+str(boolean_2)+str(boolean_3)+str(boolean_4)+str(boolean_5), encoding='utf8')).hexdigest() == \\\n",
    "'f47a14798a4423871234186c100ea1976ddf0b2a', 'One of the answers is not correct.'\n",
    "'Well done!'"
   ]
  },
  {
   "cell_type": "markdown",
   "id": "6685f544-4ff6-47a8-83af-ec23e54bd7fd",
   "metadata": {
    "deletable": false,
    "editable": false,
    "nbgrader": {
     "grade": false,
     "grade_id": "cell-dd729b556a93c552",
     "locked": true,
     "schema_version": 3,
     "solution": false,
     "task": false
    }
   },
   "source": [
    "## 2. If statements"
   ]
  },
  {
   "cell_type": "markdown",
   "id": "7c975233-8a77-42bf-bf3a-1c0f4076e986",
   "metadata": {
    "deletable": false,
    "editable": false,
    "nbgrader": {
     "grade": false,
     "grade_id": "cell-8cd542891981c716",
     "locked": true,
     "schema_version": 3,
     "solution": false,
     "task": false
    }
   },
   "source": [
    "### Exercise 2.1\n",
    "Below is a piece of code with an `if` statement whose condition is missing. Choose the correct option for the condition so that the code prints `blue` if the `my_variable` is larger than 10 and `red` otherwise.\n",
    "\n",
    "```python\n",
    "my_variable = 1000\n",
    "if condition:\n",
    "    print('blue')\n",
    "else:\n",
    "    print('red')\n",
    "```\n",
    "\n",
    "&emsp;A: my_variable > 10   \n",
    "&emsp;B: my_variable <= 10   \n",
    "&emsp;C: my_variable < 10  \n",
    "&emsp;D: my_variable >= 10"
   ]
  },
  {
   "cell_type": "code",
   "execution_count": null,
   "id": "de8c5387-a0d4-4778-ba5c-bba95a121987",
   "metadata": {
    "deletable": false,
    "nbgrader": {
     "grade": false,
     "grade_id": "cell-30f2c187da094a99",
     "locked": false,
     "schema_version": 3,
     "solution": true,
     "task": false
    }
   },
   "outputs": [],
   "source": [
    "# YOUR CODE HERE\n",
    "raise NotImplementedError()\n",
    "\n",
    "#exercise_2_1 ="
   ]
  },
  {
   "cell_type": "code",
   "execution_count": null,
   "id": "616ed07e-7bb5-44d3-917d-2eb1830a71f6",
   "metadata": {
    "deletable": false,
    "editable": false,
    "nbgrader": {
     "grade": true,
     "grade_id": "cell-830a01d0d6639596",
     "locked": true,
     "points": 1,
     "schema_version": 3,
     "solution": false,
     "task": false
    }
   },
   "outputs": [],
   "source": [
    "assert hashlib.sha1(bytes(exercise_2_1, encoding='utf8')).hexdigest() == '6dcd4ce23d88e2ee9568ba546c007c63d9131c1b', \"Not the correct option.\""
   ]
  },
  {
   "cell_type": "markdown",
   "id": "be7374a8-8be4-4878-8bb6-740e2b63f18d",
   "metadata": {
    "deletable": false,
    "editable": false,
    "nbgrader": {
     "grade": false,
     "grade_id": "cell-f1fd00af57ec89c0",
     "locked": true,
     "schema_version": 3,
     "solution": false,
     "task": false
    }
   },
   "source": [
    "### Exercise 2.2\n",
    "Below is a `for` loop that assigns the elements of the list `before` to the list `after` one by one. The `after` list is printed at the end. Run the code if you like to see what it does.\n",
    "\n",
    "Add an `if` statement inside the `for` loop which filters the elements of the `before` list so that only elements divisible by 2 are assigned to the `after` loop.\n",
    "\n",
    "**Do not remove the code that is already in the cell!** Just add the `if` statement where indicated and adjust the indenting if necessary.\n",
    "\n",
    "Just in case the original list goes missing, rerun the cell below to get it again."
   ]
  },
  {
   "cell_type": "code",
   "execution_count": null,
   "id": "182335bb-61ea-4804-80ec-915b1005c0e4",
   "metadata": {
    "deletable": false,
    "editable": false,
    "nbgrader": {
     "grade": false,
     "grade_id": "cell-3c770284da9909f8",
     "locked": true,
     "schema_version": 3,
     "solution": false,
     "task": false
    }
   },
   "outputs": [],
   "source": [
    "# Rerun this cell if you lose the before list\n",
    "before = [31, 16, 32, 18, 151, 55, -5, 3, 1024]"
   ]
  },
  {
   "cell_type": "code",
   "execution_count": null,
   "id": "46582378-edfe-4e21-a04f-343414c3afc4",
   "metadata": {
    "deletable": false,
    "nbgrader": {
     "grade": false,
     "grade_id": "cell-d57af371972d6aae",
     "locked": false,
     "schema_version": 3,
     "solution": true,
     "task": false
    }
   },
   "outputs": [],
   "source": [
    "before = [31, 16, 32, 18, 151, 55, -5, 3, 1024]\n",
    "after = []\n",
    "\n",
    "for number in before:\n",
    "    # add the if statement here\n",
    "    after.append(number)\n",
    "\n",
    "print(after)\n",
    "\n",
    "# YOUR CODE HERE\n",
    "raise NotImplementedError()"
   ]
  },
  {
   "cell_type": "code",
   "execution_count": null,
   "id": "49130e5e-3946-4042-848b-deb851a6c46d",
   "metadata": {
    "deletable": false,
    "editable": false,
    "nbgrader": {
     "grade": true,
     "grade_id": "cell-fe83b9cd46566bc9",
     "locked": true,
     "points": 1,
     "schema_version": 3,
     "solution": false,
     "task": false
    }
   },
   "outputs": [],
   "source": [
    "assert before == [31, 16, 32, 18, 151, 55, -5, 3, 1024], 'Do not change the before list!'\n",
    "assert len(after) == 4, 'The length of the after list is not correct.'\n",
    "assert sum(after) == 1090, 'The elements of the after list are not correct.'\n",
    "print(after)\n",
    "'Well done!'"
   ]
  },
  {
   "cell_type": "markdown",
   "id": "2a82f796-8cdf-4285-ba24-71ae4fde0c8a",
   "metadata": {
    "deletable": false,
    "editable": false,
    "nbgrader": {
     "grade": false,
     "grade_id": "cell-e43d65e43a725243",
     "locked": true,
     "schema_version": 3,
     "solution": false,
     "task": false
    }
   },
   "source": [
    "### Exercise 2.3\n",
    "Below is a for loop that assigns the elements of the list `some_numbers` to the lists `positive` and `other` one by one. Both lists are printed at the end. Run the code if you like to see what it does.\n",
    "\n",
    "Add an `if-else` statement inside the `for` loop which filters the elements of the `some_numbers` list so that positive numbers are assigned to the `positive` list and all other numbers are assigned to the `other` list.\n",
    "\n",
    "**Do not remove the code that is already in the cell!** Just add the `if-else` statement where indicated and adjust the indenting if necessary."
   ]
  },
  {
   "cell_type": "code",
   "execution_count": null,
   "id": "9f7fbaa3-c669-4e32-9b7f-a3cebcfed626",
   "metadata": {
    "deletable": false,
    "editable": false,
    "nbgrader": {
     "grade": false,
     "grade_id": "cell-c244c0d654b590d3",
     "locked": true,
     "schema_version": 3,
     "solution": false,
     "task": false
    }
   },
   "outputs": [],
   "source": [
    "# Rerun this cell if you lose the some_numbers list\n",
    "some_numbers = [-1, 10, 11, 21, -3, -107, 16]"
   ]
  },
  {
   "cell_type": "code",
   "execution_count": null,
   "id": "e21c3f6c-dede-4c7e-b88e-1e02604950d6",
   "metadata": {
    "deletable": false,
    "nbgrader": {
     "grade": false,
     "grade_id": "cell-df57837406e0c11e",
     "locked": false,
     "schema_version": 3,
     "solution": true,
     "task": false
    }
   },
   "outputs": [],
   "source": [
    "some_numbers = [-1, 10, 11, 21, -3, -107, 16]\n",
    "positive = []\n",
    "other = []\n",
    "\n",
    "for number in some_numbers:\n",
    "    # add the if-else statement here\n",
    "    positive.append(number)\n",
    "    other.append(number)\n",
    "\n",
    "print(positive)\n",
    "print(other)\n",
    "\n",
    "# YOUR CODE HERE\n",
    "raise NotImplementedError()"
   ]
  },
  {
   "cell_type": "code",
   "execution_count": null,
   "id": "65de1ae9-98ec-4b98-9636-121bfc0c0d8d",
   "metadata": {
    "deletable": false,
    "editable": false,
    "nbgrader": {
     "grade": true,
     "grade_id": "cell-1efcba26056fadd3",
     "locked": true,
     "points": 1,
     "schema_version": 3,
     "solution": false,
     "task": false
    }
   },
   "outputs": [],
   "source": [
    "assert some_numbers == [-1, 10, 11, 21, -3, -107, 16], 'Do not change the some_numbers list!'\n",
    "assert len(positive) == 4, 'The length of the positive list is not correct.'\n",
    "assert sum(positive) == 58, 'The elements of the positive list are not correct.'\n",
    "assert sum(other) == -111, 'The elements of the other list are not correct.'\n",
    "print(positive)\n",
    "print(other)\n",
    "'Well done!'"
   ]
  },
  {
   "cell_type": "markdown",
   "id": "7adc9726-f331-441e-9edc-9d57827f026e",
   "metadata": {
    "deletable": false,
    "editable": false,
    "nbgrader": {
     "grade": false,
     "grade_id": "cell-dad72069c4910c22",
     "locked": true,
     "schema_version": 3,
     "solution": false,
     "task": false
    }
   },
   "source": [
    "### Exercise 2.4\n",
    "Below is a for loop that assigns the elements of the list `some_more_numbers` to the lists `my_numbers` and `your_numbers` one by one. Both lists are printed at the end. Run the code if you like to see what it does.\n",
    "\n",
    "Add an `if-else` statement inside the `for` loop which filters the elements of the `some_more_numbers` list so that numbers divisible by 3 and larger than 20 are assigned to the `my_numbers` list and all other numbers are assigned to the `your_numbers` list.\n",
    "\n",
    "**Do not remove the code that is already in the cell!** Just add the `if-else` statement where indicated and adjust the indenting if necessary."
   ]
  },
  {
   "cell_type": "code",
   "execution_count": null,
   "id": "1f8515c4-926a-4386-b4da-1a79dfb40fcb",
   "metadata": {
    "deletable": false,
    "editable": false,
    "nbgrader": {
     "grade": false,
     "grade_id": "cell-79d831ed6727822d",
     "locked": true,
     "schema_version": 3,
     "solution": false,
     "task": false
    }
   },
   "outputs": [],
   "source": [
    "# Rerun this cell if you lose the some_more_numbers list\n",
    "some_more_numbers = [-3, 9, 21, 172, 200, -51, 81, -12, 3000, 18, 702]"
   ]
  },
  {
   "cell_type": "code",
   "execution_count": null,
   "id": "5d1c045d-d8f1-4b35-a447-0a0ace2ea3f6",
   "metadata": {
    "deletable": false,
    "nbgrader": {
     "grade": false,
     "grade_id": "cell-14ccc85468cfe710",
     "locked": false,
     "schema_version": 3,
     "solution": true,
     "task": false
    }
   },
   "outputs": [],
   "source": [
    "some_more_numbers = [-3, 9, 21, 172, 200, -51, 81, -12, 3000, 18, 702]\n",
    "my_numbers = []\n",
    "your_numbers = []\n",
    "\n",
    "for number in some_more_numbers:\n",
    "    # add the if-else statement here\n",
    "    my_numbers.append(number)\n",
    "    your_numbers.append(number)\n",
    "\n",
    "print(my_numbers)\n",
    "print(your_numbers)\n",
    "\n",
    "# YOUR CODE HERE\n",
    "raise NotImplementedError()"
   ]
  },
  {
   "cell_type": "code",
   "execution_count": null,
   "id": "be5ca0dd-7427-49ca-a1e6-3b2d765df9a2",
   "metadata": {
    "deletable": false,
    "editable": false,
    "nbgrader": {
     "grade": true,
     "grade_id": "cell-49001e749ed9ddc7",
     "locked": true,
     "points": 1,
     "schema_version": 3,
     "solution": false,
     "task": false
    }
   },
   "outputs": [],
   "source": [
    "assert some_more_numbers == [-3, 9, 21, 172, 200, -51, 81, -12, 3000, 18, 702], 'Do not change the some_numbers list!'\n",
    "assert len(my_numbers) == 4, 'The length of the my_numbers list is not correct.'\n",
    "assert len(your_numbers) == 7, 'The length of the your_numbers list is not correct.'\n",
    "assert sum(my_numbers) == 3804, 'The elements of the my_numbers list are not correct.'\n",
    "assert sum(your_numbers) == 333, 'The elements of the your_numbers list are not correct.'\n",
    "print(my_numbers)\n",
    "print(your_numbers)\n",
    "'Well done!'"
   ]
  },
  {
   "cell_type": "markdown",
   "id": "e76195bf-7f69-4da0-9cbc-37b2ad730ea8",
   "metadata": {
    "deletable": false,
    "editable": false,
    "nbgrader": {
     "grade": false,
     "grade_id": "cell-bf862dcf371983d2",
     "locked": true,
     "schema_version": 3,
     "solution": false,
     "task": false
    }
   },
   "source": [
    "### Exercise 2.5\n",
    "Below is a for loop that assigns the elements of the list `even_more_numbers` to the lists `list_7_22` and `list_other` one by one. Both lists are printed at the end. Run the code if you like to see what it does.\n",
    "\n",
    "Add an `if-else` statement inside the `for` loop which filters the elements of the `even_more_numbers` list so that numbers divisible by 7 or smaller than 22 are assigned to the `list_7_22` list and all other numbers are assigned to the `list_other` list.\n",
    "\n",
    "**Do not remove the code that is already in the cell!** Just add the `if-else` statement where indicated and adjust the indenting if necessary."
   ]
  },
  {
   "cell_type": "code",
   "execution_count": null,
   "id": "1c3ca971-8abf-4cca-b621-5179fb13f86a",
   "metadata": {
    "deletable": false,
    "editable": false,
    "nbgrader": {
     "grade": false,
     "grade_id": "cell-0d4b5f29a9b92dae",
     "locked": true,
     "schema_version": 3,
     "solution": false,
     "task": false
    }
   },
   "outputs": [],
   "source": [
    "# Rerun this cell if you lose the even_more_numbers list\n",
    "even_more_numbers = [22, 14, -3, -81, 55, 84, 123, 75, 1024, 308, 13]"
   ]
  },
  {
   "cell_type": "code",
   "execution_count": null,
   "id": "d591dfb1-58a2-42d1-9a68-2a3b1a96423e",
   "metadata": {
    "deletable": false,
    "nbgrader": {
     "grade": false,
     "grade_id": "cell-18d279a61e25d285",
     "locked": false,
     "schema_version": 3,
     "solution": true,
     "task": false
    }
   },
   "outputs": [],
   "source": [
    "even_more_numbers = [22, 14, -3, -81, 55, 84, 123, 75, 1024, 308, 13]\n",
    "list_7_22 = []\n",
    "list_other = []\n",
    "\n",
    "for number in even_more_numbers:\n",
    "    # add the if-else statement here\n",
    "    list_7_22.append(number)\n",
    "    list_other.append(number)\n",
    "\n",
    "print(list_7_22)\n",
    "print(list_other)\n",
    "\n",
    "# YOUR CODE HERE\n",
    "raise NotImplementedError()"
   ]
  },
  {
   "cell_type": "code",
   "execution_count": null,
   "id": "88d4a8bc-aed8-4d34-99cb-c7f7eee77cc8",
   "metadata": {
    "deletable": false,
    "editable": false,
    "nbgrader": {
     "grade": true,
     "grade_id": "cell-307eb9e5088602d0",
     "locked": true,
     "points": 1,
     "schema_version": 3,
     "solution": false,
     "task": false
    }
   },
   "outputs": [],
   "source": [
    "assert even_more_numbers == [22, 14, -3, -81, 55, 84, 123, 75, 1024, 308, 13], 'Do not change the some_numbers list!'\n",
    "assert len(list_7_22) == 6, 'The length of the list_7_22 list is not correct.'\n",
    "assert len(list_other) == 5, 'The length of the list_other list is not correct.'\n",
    "assert sum(list_7_22) == 335, 'The elements of the list_7_22 list are not correct.'\n",
    "assert sum(list_other) == 1299, 'The elements of the list_other list are not correct.'\n",
    "print(list_7_22)\n",
    "print(list_other)\n",
    "'Well done!'"
   ]
  },
  {
   "cell_type": "markdown",
   "id": "1f16b531-38fe-40ae-b2f8-2bdd12442520",
   "metadata": {
    "deletable": false,
    "editable": false,
    "nbgrader": {
     "grade": false,
     "grade_id": "cell-dedd639cde85739e",
     "locked": true,
     "schema_version": 3,
     "solution": false,
     "task": false
    }
   },
   "source": [
    "## 3. For loops"
   ]
  },
  {
   "cell_type": "markdown",
   "id": "675121e7-2793-48f0-9b13-22751f65e2eb",
   "metadata": {
    "deletable": false,
    "editable": false,
    "nbgrader": {
     "grade": false,
     "grade_id": "cell-82f9a2da5ce89460",
     "locked": true,
     "schema_version": 3,
     "solution": false,
     "task": false
    }
   },
   "source": [
    "### Exercise 3.1\n",
    "Below is an empty list called `numbers_0_99`. Write a `for` loop which will fill the list with integers from 0 to 99. The filled list should look like this `[0, 1, 2, ..., 89, 99]`."
   ]
  },
  {
   "cell_type": "code",
   "execution_count": null,
   "id": "3c22edcc-63ae-4dec-87cd-35872185c580",
   "metadata": {
    "deletable": false,
    "nbgrader": {
     "grade": false,
     "grade_id": "cell-279331d5b7558fc6",
     "locked": false,
     "schema_version": 3,
     "solution": true,
     "task": false
    }
   },
   "outputs": [],
   "source": [
    "numbers_0_99 = []\n",
    "# for ...\n",
    "\n",
    "# YOUR CODE HERE\n",
    "raise NotImplementedError()"
   ]
  },
  {
   "cell_type": "code",
   "execution_count": null,
   "id": "5ff53693-dd26-43c4-8105-4aab52ba00bb",
   "metadata": {
    "deletable": false,
    "editable": false,
    "nbgrader": {
     "grade": true,
     "grade_id": "cell-67793628a54caefd",
     "locked": true,
     "points": 1,
     "schema_version": 3,
     "solution": false,
     "task": false
    }
   },
   "outputs": [],
   "source": [
    "assert len(numbers_0_99) == 100, 'The length of the numbers_0_99 list is not correct.'\n",
    "assert sum(numbers_0_99) == 4950, 'The elements of the numbers_0_99 list are not correct.'\n",
    "assert numbers_0_99[0] == 0, 'The elements of the numbers_0_99 list are not correct.'\n",
    "assert numbers_0_99[52] == 52, 'The elements of the numbers_0_99 list are not correct.'\n",
    "assert numbers_0_99[99] == 99, 'The elements of the numbers_0_99 list are not correct.'\n",
    "'Well done!'"
   ]
  },
  {
   "cell_type": "markdown",
   "id": "b7052ee6-f67c-40fa-b9da-069bdd5b3a02",
   "metadata": {
    "deletable": false,
    "editable": false,
    "nbgrader": {
     "grade": false,
     "grade_id": "cell-d03f04f4f005607c",
     "locked": true,
     "schema_version": 3,
     "solution": false,
     "task": false
    }
   },
   "source": [
    "### Exercise 3.2\n",
    "Below is an empty list called `numbers_12_123`. Write a `for` loop which will fill the list with integers from 12 to 123. The filled list should look like this `[12, 13, 14, ..., 122, 123]`."
   ]
  },
  {
   "cell_type": "code",
   "execution_count": null,
   "id": "ced08de4-b358-41b9-9983-f274cc5c2cb0",
   "metadata": {
    "deletable": false,
    "nbgrader": {
     "grade": false,
     "grade_id": "cell-51e6fc266a201d76",
     "locked": false,
     "schema_version": 3,
     "solution": true,
     "task": false
    }
   },
   "outputs": [],
   "source": [
    "numbers_12_123 = []\n",
    "#for ...\n",
    "\n",
    "# YOUR CODE HERE\n",
    "raise NotImplementedError()"
   ]
  },
  {
   "cell_type": "code",
   "execution_count": null,
   "id": "095efdf7-6f3e-4817-8be7-1329441279fd",
   "metadata": {
    "deletable": false,
    "editable": false,
    "nbgrader": {
     "grade": true,
     "grade_id": "cell-5f545c9ef1951a13",
     "locked": true,
     "points": 1,
     "schema_version": 3,
     "solution": false,
     "task": false
    }
   },
   "outputs": [],
   "source": [
    "assert len(numbers_12_123) == 112, 'The length of the numbers_12_123 list is not correct.'\n",
    "assert sum(numbers_12_123) == 7560, 'The elements of the numbers_12_123 list are not correct.'\n",
    "assert numbers_12_123[0] == 12, 'The elements of the numbers_12_123 list are not correct.'\n",
    "assert numbers_12_123[52] == 64, 'The elements of the numbers_12_123 list are not correct.'\n",
    "assert numbers_12_123[111] == 123, 'The elements of the numbers_12_123 list are not correct.'\n",
    "'Well done!'"
   ]
  },
  {
   "cell_type": "markdown",
   "id": "0cabac5c-6a26-4559-abd6-2473e333b0fb",
   "metadata": {
    "deletable": false,
    "editable": false,
    "nbgrader": {
     "grade": false,
     "grade_id": "cell-a8da01f4514a4199",
     "locked": true,
     "schema_version": 3,
     "solution": false,
     "task": false
    }
   },
   "source": [
    "### Exercise 3.3\n",
    "Below is an empty list called `numbers_by_3`. Write a `for` loop which will fill the list with integers from 4 to 118, but only includes every third number. The filled list should look like this `[4, 7, 10, ..., 115, 118]`."
   ]
  },
  {
   "cell_type": "code",
   "execution_count": null,
   "id": "70404c71-d6c5-4988-99d2-7b6bb89cf030",
   "metadata": {
    "deletable": false,
    "nbgrader": {
     "grade": false,
     "grade_id": "cell-9e995e2964022bb8",
     "locked": false,
     "schema_version": 3,
     "solution": true,
     "task": false
    }
   },
   "outputs": [],
   "source": [
    "numbers_by_3 = []\n",
    "#for ...\n",
    "\n",
    "# YOUR CODE HERE\n",
    "raise NotImplementedError()"
   ]
  },
  {
   "cell_type": "code",
   "execution_count": null,
   "id": "9b6acbf4-e804-44d6-99da-1c4151c61fd2",
   "metadata": {
    "deletable": false,
    "editable": false,
    "nbgrader": {
     "grade": true,
     "grade_id": "cell-0948ff2530ac8ff1",
     "locked": true,
     "points": 1,
     "schema_version": 3,
     "solution": false,
     "task": false
    }
   },
   "outputs": [],
   "source": [
    "assert len(numbers_by_3) == 39, 'The length of the numbers_by_3 list is not correct.'\n",
    "assert sum(numbers_by_3) == 2379, 'The elements of the numbers_by_3 list are not correct.'\n",
    "assert numbers_by_3[0] == 4, 'The elements of the numbers_by_3 list are not correct.'\n",
    "assert numbers_by_3[1] == 7, 'The elements of the numbers_by_3 list are not correct.'\n",
    "assert numbers_by_3[37] == 115, 'The elements of the numbers_by_3 list are not correct.'\n",
    "assert numbers_by_3[38] == 118, 'The elements of the numbers_by_3 list are not correct.'\n",
    "'Well done!'"
   ]
  },
  {
   "cell_type": "markdown",
   "id": "fd40cc0c-118b-4cbc-8a2e-d3be1bb9ec9a",
   "metadata": {
    "deletable": false,
    "editable": false,
    "nbgrader": {
     "grade": false,
     "grade_id": "cell-9e3d66ebd66cc6b4",
     "locked": true,
     "schema_version": 3,
     "solution": false,
     "task": false
    }
   },
   "source": [
    "### Exercise 3.4\n",
    "Below is an empty list called `backwards_by_7`. Write a `for` loop which will fill the list with integers from 1024 to 513, but only includes every seventh number. The filled list should look like this `[1024, 1017, 1010, ..., 520, 513]`."
   ]
  },
  {
   "cell_type": "code",
   "execution_count": null,
   "id": "6d47e12e-e6a6-48af-a020-706dbad86b5c",
   "metadata": {
    "deletable": false,
    "nbgrader": {
     "grade": false,
     "grade_id": "cell-6fbebfe5181acd88",
     "locked": false,
     "schema_version": 3,
     "solution": true,
     "task": false
    }
   },
   "outputs": [],
   "source": [
    "backwards_by_7 = []\n",
    "#for ...\n",
    "\n",
    "# YOUR CODE HERE\n",
    "raise NotImplementedError()"
   ]
  },
  {
   "cell_type": "code",
   "execution_count": null,
   "id": "0844111a-d6ea-4b6d-b201-55aabde106e0",
   "metadata": {
    "deletable": false,
    "editable": false,
    "nbgrader": {
     "grade": true,
     "grade_id": "cell-039aa2c4b8032dd6",
     "locked": true,
     "points": 1,
     "schema_version": 3,
     "solution": false,
     "task": false
    }
   },
   "outputs": [],
   "source": [
    "assert len(backwards_by_7) == 74, 'The length of the backwards_by_7 list is not correct.'\n",
    "assert sum(backwards_by_7) == 56869, 'The elements of the backwards_by_7 list are not correct.'\n",
    "assert backwards_by_7[0] == 1024, 'The elements of the backwards_by_7 list are not correct.'\n",
    "assert backwards_by_7[1] == 1017, 'The elements of the backwards_by_7 list are not correct.'\n",
    "assert backwards_by_7[72] == 520, 'The elements of the backwards_by_7 list are not correct.'\n",
    "assert backwards_by_7[73] == 513, 'The elements of the backwards_by_7 list are not correct.'\n",
    "'Well done!'"
   ]
  },
  {
   "cell_type": "markdown",
   "id": "3312b706-6591-4f02-8506-f95c20d98331",
   "metadata": {
    "deletable": false,
    "editable": false,
    "nbgrader": {
     "grade": false,
     "grade_id": "cell-121add9dcebe21cd",
     "locked": true,
     "schema_version": 3,
     "solution": false,
     "task": false
    }
   },
   "source": [
    "## Exercise 4: While loops\n",
    "You're gonna hate me now, but trust me, I know what's good for you. :) We will repeat the same exercises as in exercise 3, but with `while` loops. Remember to initialize and increment your control variables.\n",
    "\n",
    "<img src=\"./media/danger.png\" width = \"100\"/>\n",
    "\n",
    "<left> High potential for infinite loops!</left>"
   ]
  },
  {
   "cell_type": "markdown",
   "id": "6b9270eb-3f48-4976-94be-44da6c399f44",
   "metadata": {
    "deletable": false,
    "editable": false,
    "nbgrader": {
     "grade": false,
     "grade_id": "cell-2815d3dc14af8665",
     "locked": true,
     "schema_version": 3,
     "solution": false,
     "task": false
    }
   },
   "source": [
    "### Exercise 4.1\n",
    "Below is an empty list called `while_0_99`. Write a `while` loop which will fill the list with integers from 0 to 99. The filled list should look like this `[0, 1, 2, ..., 89, 99]`. "
   ]
  },
  {
   "cell_type": "code",
   "execution_count": null,
   "id": "3c29bb7d-93be-4080-b144-81a1f45b288f",
   "metadata": {
    "deletable": false,
    "nbgrader": {
     "grade": false,
     "grade_id": "cell-a5e33f52f7b7bbdc",
     "locked": false,
     "schema_version": 3,
     "solution": true,
     "task": false
    }
   },
   "outputs": [],
   "source": [
    "while_0_99 = []\n",
    "# while ...\n",
    "\n",
    "# YOUR CODE HERE\n",
    "raise NotImplementedError()"
   ]
  },
  {
   "cell_type": "code",
   "execution_count": null,
   "id": "92113e83-ea0b-4a5f-82c2-cebcd2e50454",
   "metadata": {
    "deletable": false,
    "editable": false,
    "nbgrader": {
     "grade": true,
     "grade_id": "cell-c2ba61f4bfb8be0a",
     "locked": true,
     "points": 1,
     "schema_version": 3,
     "solution": false,
     "task": false
    }
   },
   "outputs": [],
   "source": [
    "assert len(while_0_99) == 100, 'The length of the while_0_99 list is not correct.'\n",
    "assert sum(while_0_99) == 4950, 'The elements of the while_0_99 list are not correct.'\n",
    "assert while_0_99[0] == 0, 'The elements of the while_0_99 list are not correct.'\n",
    "assert while_0_99[52] == 52, 'The elements of the while_0_99 list are not correct.'\n",
    "assert while_0_99[99] == 99, 'The elements of the while_0_99 list are not correct.'\n",
    "'Well done!'"
   ]
  },
  {
   "cell_type": "markdown",
   "id": "790d7a8e-3d47-4e81-a275-b48d9d79f681",
   "metadata": {
    "deletable": false,
    "editable": false,
    "nbgrader": {
     "grade": false,
     "grade_id": "cell-f5ad71f1daf97c0d",
     "locked": true,
     "schema_version": 3,
     "solution": false,
     "task": false
    }
   },
   "source": [
    "### Exercise 4.2\n",
    "Below is an empty list called `while_12_123`. Write a `while` loop which will fill the list with integers from 12 to 123. The filled list should look like this `[12, 13, 14, ..., 122, 123]`."
   ]
  },
  {
   "cell_type": "code",
   "execution_count": null,
   "id": "97da212c-5135-455c-b38a-9d19cddeb8b0",
   "metadata": {
    "deletable": false,
    "nbgrader": {
     "grade": false,
     "grade_id": "cell-cd6c57af87d60a87",
     "locked": false,
     "schema_version": 3,
     "solution": true,
     "task": false
    }
   },
   "outputs": [],
   "source": [
    "while_12_123 = []\n",
    "#while ...\n",
    "\n",
    "# YOUR CODE HERE\n",
    "raise NotImplementedError()"
   ]
  },
  {
   "cell_type": "code",
   "execution_count": null,
   "id": "cf46457e-992e-4923-b704-392ee4ecc667",
   "metadata": {
    "deletable": false,
    "editable": false,
    "nbgrader": {
     "grade": true,
     "grade_id": "cell-3026effaf79903db",
     "locked": true,
     "points": 1,
     "schema_version": 3,
     "solution": false,
     "task": false
    }
   },
   "outputs": [],
   "source": [
    "assert len(while_12_123) == 112, 'The length of the while_12_123 list is not correct.'\n",
    "assert sum(while_12_123) == 7560, 'The elements of the while_12_123 list are not correct.'\n",
    "assert while_12_123[0] == 12, 'The elements of the while_12_123 list are not correct.'\n",
    "assert while_12_123[52] == 64, 'The elements of the while_12_123 list are not correct.'\n",
    "assert while_12_123[111] == 123, 'The elements of the while_12_123 list are not correct.'\n",
    "'Well done!'"
   ]
  },
  {
   "cell_type": "markdown",
   "id": "62aa957d-2302-46cc-9045-de1943f7995b",
   "metadata": {
    "deletable": false,
    "editable": false,
    "nbgrader": {
     "grade": false,
     "grade_id": "cell-2aba9262df9fd9a4",
     "locked": true,
     "schema_version": 3,
     "solution": false,
     "task": false
    }
   },
   "source": [
    "### Exercise 4.3\n",
    "Below is an empty list called `while_by_3`. Write a `while` loop which will fill the list with integers from 4 to 118, but only includes every third number. The filled list should look like this `[4, 7, 10, ..., 115, 118]`."
   ]
  },
  {
   "cell_type": "code",
   "execution_count": null,
   "id": "ed55035a-07aa-43cb-977a-e51eba536f98",
   "metadata": {
    "deletable": false,
    "nbgrader": {
     "grade": false,
     "grade_id": "cell-355d5786597dc995",
     "locked": false,
     "schema_version": 3,
     "solution": true,
     "task": false
    }
   },
   "outputs": [],
   "source": [
    "while_by_3 = []\n",
    "#while ...\n",
    "\n",
    "# YOUR CODE HERE\n",
    "raise NotImplementedError()"
   ]
  },
  {
   "cell_type": "code",
   "execution_count": null,
   "id": "69736698-89a5-46f1-bcad-e321197c1d4c",
   "metadata": {
    "deletable": false,
    "editable": false,
    "nbgrader": {
     "grade": true,
     "grade_id": "cell-74c07725c5a92300",
     "locked": true,
     "points": 1,
     "schema_version": 3,
     "solution": false,
     "task": false
    }
   },
   "outputs": [],
   "source": [
    "assert len(while_by_3) == 39, 'The length of the while_by_3 list is not correct.'\n",
    "assert sum(while_by_3) == 2379, 'The elements of the while_by_3 list are not correct.'\n",
    "assert while_by_3[0] == 4, 'The elements of the while_by_3 list are not correct.'\n",
    "assert while_by_3[1] == 7, 'The elements of the while_by_3 list are not correct.'\n",
    "assert while_by_3[37] == 115, 'The elements of the while_by_3 list are not correct.'\n",
    "assert while_by_3[38] == 118, 'The elements of the while_by_3 list are not correct.'\n",
    "'Well done!'"
   ]
  },
  {
   "cell_type": "markdown",
   "id": "c8b97139-eae6-46ba-b924-2fff5586c92f",
   "metadata": {
    "deletable": false,
    "editable": false,
    "nbgrader": {
     "grade": false,
     "grade_id": "cell-3ada1b2847a809d5",
     "locked": true,
     "schema_version": 3,
     "solution": false,
     "task": false
    }
   },
   "source": [
    "### Exercise 4.4\n",
    "Below is an empty list called `while_backwards_by_7`. Write a `while` loop which will fill the list with integers from 1024 to 513, but only includes every seventh number. The filled list should look like this `[1024, 1017, 1010, ..., 520, 513]`."
   ]
  },
  {
   "cell_type": "code",
   "execution_count": null,
   "id": "eaaee24b-053c-4544-8400-40a9d0847a58",
   "metadata": {
    "deletable": false,
    "nbgrader": {
     "grade": false,
     "grade_id": "cell-3f422105e028174b",
     "locked": false,
     "schema_version": 3,
     "solution": true,
     "task": false
    }
   },
   "outputs": [],
   "source": [
    "while_backwards_by_7 = []\n",
    "#while ...\n",
    "\n",
    "# YOUR CODE HERE\n",
    "raise NotImplementedError()"
   ]
  },
  {
   "cell_type": "code",
   "execution_count": null,
   "id": "a9e77d8f-7522-4b35-9c2a-8481339a159b",
   "metadata": {
    "deletable": false,
    "editable": false,
    "nbgrader": {
     "grade": true,
     "grade_id": "cell-83cc31713646e521",
     "locked": true,
     "points": 1,
     "schema_version": 3,
     "solution": false,
     "task": false
    }
   },
   "outputs": [],
   "source": [
    "assert len(while_backwards_by_7) == 74, 'The length of the while_backwards_by_7 list is not correct.'\n",
    "assert sum(while_backwards_by_7) == 56869, 'The elements of the while_backwards_by_7 list are not correct.'\n",
    "assert while_backwards_by_7[0] == 1024, 'The elements of the while_backwards_by_7 list are not correct.'\n",
    "assert while_backwards_by_7[1] == 1017, 'The elements of the while_backwards_by_7 list are not correct.'\n",
    "assert while_backwards_by_7[72] == 520, 'The elements of the while_backwards_by_7 list are not correct.'\n",
    "assert while_backwards_by_7[73] == 513, 'The elements of the while_backwards_by_7 list are not correct.'\n",
    "'Well done!'"
   ]
  },
  {
   "cell_type": "markdown",
   "id": "0683e7fc-93da-4018-ba3f-edd3d851266c",
   "metadata": {
    "deletable": false,
    "editable": false,
    "nbgrader": {
     "grade": false,
     "grade_id": "cell-8939ce579ee41596",
     "locked": true,
     "schema_version": 3,
     "solution": false,
     "task": false
    }
   },
   "source": [
    "## Exercise 5: More loops\n",
    "You can use `for` or `while` loops in these exercises, whatever works better."
   ]
  },
  {
   "cell_type": "markdown",
   "id": "31ea3427-1e39-4109-b879-4daa1ebeb62a",
   "metadata": {
    "deletable": false,
    "editable": false,
    "nbgrader": {
     "grade": false,
     "grade_id": "cell-de96ce9c1d412b82",
     "locked": true,
     "schema_version": 3,
     "solution": false,
     "task": false
    }
   },
   "source": [
    "### Exercise 5.1 Broken words\n",
    "We have two lists with pieces of words: `start_list` and `end_list`. You want to put the words back together. Add each word part from the `start_list` with each word part from the `end_list` and assign the results to the list `whole_list`.\n",
    "\n",
    "Example: the first word in the `start_list` is 'beauty' and in the `end_list` it's 'ful', so the first word in the whole_list will be 'beauty' + 'ful' which is 'beautiful'.\n",
    "\n",
    "You will need more than one loop here."
   ]
  },
  {
   "cell_type": "code",
   "execution_count": null,
   "id": "7ecd3e53-62ae-48f5-abc9-09fb8484634f",
   "metadata": {
    "deletable": false,
    "nbgrader": {
     "grade": false,
     "grade_id": "cell-b1fe5b37cf75dd7d",
     "locked": false,
     "schema_version": 3,
     "solution": true,
     "task": false
    }
   },
   "outputs": [],
   "source": [
    "start_list = ['beauty', 'cat', 'ice']\n",
    "end_list = ['ful', 'less', 'thon', 'house', 'woman', 'tea']\n",
    "#whole_list = []\n",
    "\n",
    "# YOUR CODE HERE\n",
    "raise NotImplementedError()\n"
   ]
  },
  {
   "cell_type": "code",
   "execution_count": null,
   "id": "53f4b40f-7ae6-4cdd-b468-ccb4e49496b6",
   "metadata": {
    "deletable": false,
    "editable": false,
    "nbgrader": {
     "grade": true,
     "grade_id": "cell-dda0109e4ca4c20f",
     "locked": true,
     "points": 1,
     "schema_version": 3,
     "solution": false,
     "task": false
    }
   },
   "outputs": [],
   "source": [
    "assert len(whole_list) == 18, 'The length of whole_list is not correct.'\n",
    "assert hashlib.sha1(bytes(''.join(sorted(whole_list)), encoding='utf8')).hexdigest() == \\\n",
    "'883793d9abeef55b381707a329b4f0ccbaf1e5ca', 'The elements of whole_list are not correct.'\n",
    "'Well done!'"
   ]
  },
  {
   "cell_type": "markdown",
   "id": "6c72874c-e8b5-4dd5-bb62-b9d165a0a49d",
   "metadata": {
    "deletable": false,
    "editable": false,
    "nbgrader": {
     "grade": false,
     "grade_id": "cell-17ba48c39e4b1978",
     "locked": true,
     "schema_version": 3,
     "solution": false,
     "task": false
    }
   },
   "source": [
    "### Exercise 5.2\n",
    "You have a dictionary of things called `household`. The keys of the dictionary are the things and the values indicate if the thing is new or old. Loop over the things in the dictionary and sort them into two lists, `new_things` and `old_things` according to their state.\n",
    "\n",
    "Example: 'fridge' is 'old', so you append 'fridge' to the `old_things` list."
   ]
  },
  {
   "cell_type": "code",
   "execution_count": null,
   "id": "92407ffa-c640-41af-bbc7-bc1be0f14ca9",
   "metadata": {
    "deletable": false,
    "nbgrader": {
     "grade": false,
     "grade_id": "cell-9a00daaa64a76117",
     "locked": false,
     "schema_version": 3,
     "solution": true,
     "task": false
    }
   },
   "outputs": [],
   "source": [
    "household = {'fridge':'old', 'oven':'new', 'bed':'new', 'table':'old',\n",
    "             'bookcase':'new', 'stove':'old', 'piano':'old'}\n",
    "new_things = []\n",
    "old_things = []\n",
    "\n",
    "# YOUR CODE HERE\n",
    "raise NotImplementedError()\n",
    "\n"
   ]
  },
  {
   "cell_type": "code",
   "execution_count": null,
   "id": "296fd25f-3c3f-48d2-99a7-8e7a911e6038",
   "metadata": {
    "deletable": false,
    "editable": false,
    "nbgrader": {
     "grade": true,
     "grade_id": "cell-a396380e74e0c17b",
     "locked": true,
     "points": 1,
     "schema_version": 3,
     "solution": false,
     "task": false
    }
   },
   "outputs": [],
   "source": [
    "assert len(old_things) == 4, 'The length of the old_things list is not correct.'\n",
    "assert hashlib.sha1(bytes(''.join(sorted(old_things)), encoding='utf8')).hexdigest() == \\\n",
    "'73018c4decff74d0bd40a3d99f94abcba64a7d60', 'The elements of the old_things list are not correct.'\n",
    "assert len(new_things) == 3, 'The length of the new_things list is not correct.'\n",
    "assert hashlib.sha1(bytes(''.join(sorted(new_things)), encoding='utf8')).hexdigest() == \\\n",
    "'7014c84e5f7934a4e50152c695262e7a143ca434', 'The elements of the new_things list are not correct.'\n",
    "'Well done!'"
   ]
  },
  {
   "cell_type": "markdown",
   "id": "415586f0-7082-42be-abfa-85b86768f28d",
   "metadata": {
    "deletable": false,
    "editable": false,
    "nbgrader": {
     "grade": false,
     "grade_id": "cell-af80480c947e0b30",
     "locked": true,
     "schema_version": 3,
     "solution": false,
     "task": false
    }
   },
   "source": [
    "### Exercise 5.3 Game of cards\n",
    "We'll be playing a game of cards. You have a function called `card_deck` that will return a card with a number value between 0 and 14. The game rules are as follows:\n",
    "In every round, you take a card from the deck:\n",
    "\n",
    "```python\n",
    "card = card_deck()`\n",
    "```\n",
    "\n",
    "You add the card to your `hand` list:\n",
    "\n",
    "```python\n",
    "hand.append(card)\n",
    "```\n",
    "\n",
    "If the sum of the values of the cards in the `hand` list exceeds 51, the game ends. Starting from an empty hand, write a loop that simulates this game."
   ]
  },
  {
   "cell_type": "code",
   "execution_count": null,
   "id": "0c6d2440-cc6b-4a59-97eb-82b75552e6a9",
   "metadata": {
    "deletable": false,
    "nbgrader": {
     "grade": false,
     "grade_id": "cell-b4476e7929e1d76a",
     "locked": false,
     "schema_version": 3,
     "solution": true,
     "task": false
    }
   },
   "outputs": [],
   "source": [
    "hand = []\n",
    "#card = card_deck()\n",
    "#while ...\n",
    "\n",
    "# YOUR CODE HERE\n",
    "raise NotImplementedError()\n"
   ]
  },
  {
   "cell_type": "code",
   "execution_count": null,
   "id": "3b353fd5-e715-47ed-9576-5d4a676438b7",
   "metadata": {
    "deletable": false,
    "editable": false,
    "nbgrader": {
     "grade": true,
     "grade_id": "cell-2f1bea06088caf5e",
     "locked": true,
     "points": 1,
     "schema_version": 3,
     "solution": false,
     "task": false
    }
   },
   "outputs": [],
   "source": [
    "assert sum([n>=0 and n<= 14 and isinstance(n,int) for n in hand]) == len(hand),\\\n",
    "'There are cards with invalid values in your hand.'\n",
    "assert sum(hand) > 51, 'The sum of cards in your hand is not larger than 51.'\n",
    "assert sum(hand[:-1]) <= 51, 'The sum of all but last card in your hand is larger than 51'"
   ]
  },
  {
   "cell_type": "markdown",
   "id": "9426293c-7963-46ad-bed4-c03f5c9b0f0a",
   "metadata": {
    "deletable": false,
    "editable": false,
    "nbgrader": {
     "grade": false,
     "grade_id": "cell-77b0ab18bde2fab0",
     "locked": true,
     "schema_version": 3,
     "solution": false,
     "task": false
    }
   },
   "source": [
    "Congratulations, you made it! Now that you can write a for loop with your eyes closed, you can move on to more interesting exercises in the Exercise notebook 1. They are also a bit more difficult, so remember to plan your workflow before writing the code."
   ]
  },
  {
   "cell_type": "markdown",
   "id": "0f2dd51e-c2df-405b-a290-64547b59dd72",
   "metadata": {},
   "source": [
    "# Submit your work!\n",
    "\n",
    "To grade your exercise notebook and submit your work to the portal, [follow the instructions in the weekly workflow!](https://github.com/LDSSA/ds-prep-course-2024/blob/main/weekly-workflow.md#link-to-grading)"
   ]
  }
 ],
 "metadata": {
  "kernelspec": {
   "display_name": "Python 3 (ipykernel)",
   "language": "python",
   "name": "python3"
  },
  "language_info": {
   "codemirror_mode": {
    "name": "ipython",
    "version": 3
   },
   "file_extension": ".py",
   "mimetype": "text/x-python",
   "name": "python",
   "nbconvert_exporter": "python",
   "pygments_lexer": "ipython3",
   "version": "3.11.8"
  }
 },
 "nbformat": 4,
 "nbformat_minor": 5
}
