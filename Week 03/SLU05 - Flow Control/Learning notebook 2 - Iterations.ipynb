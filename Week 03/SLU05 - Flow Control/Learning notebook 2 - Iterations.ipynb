{
 "cells": [
  {
   "cell_type": "markdown",
   "metadata": {},
   "source": [
    "# SLU05 - Flow Control: Iterations\n",
    "\n",
    "In this notebook, we will learn how to make Python repeat some code several times. There are two situations when we want to repeat the code. In the first situation, we know exactly how many repetitions are necessary. This is like going up a staircase to your apartment. You know that you have to climb 5 floors, so you repeat the action of climbing a floor 5 times and you are home. In the second situation, we don't know how many repetitions to make, but we know that we'll stop once a certain condition is fulfilled. This is like climbing a mountain. You don't know how many steps you'll have to take to get to the summit, but you know that you'll have to take another step until you get there. "
   ]
  },
  {
   "attachments": {},
   "cell_type": "markdown",
   "metadata": {},
   "source": [
    "## 1. Repeating code execution with loops\n",
    "\n",
    "Do you know those repetitive tasks that we have to do over and over again? Picking up the trash, washing dishes, filling the gas tank... the list goes on. Doesn't it annoy you? Well, no one is more annoyed than programmers. Programmers are notorious for their cunning and laziness. They want to repeat the same task as few times as possible. And this is a good thing."
   ]
  },
  {
   "cell_type": "markdown",
   "metadata": {},
   "source": [
    "<img src=\"./media/lazy_meme.png\" />"
   ]
  },
  {
   "cell_type": "markdown",
   "metadata": {},
   "source": [
    "Imagine a task as simple as printing 10 times the same sentence. With what you know now, you can write a `print()` statement and copy-paste it 9 times. "
   ]
  },
  {
   "cell_type": "code",
   "execution_count": 1,
   "metadata": {},
   "outputs": [
    {
     "name": "stdout",
     "output_type": "stream",
     "text": [
      "Programmers are lazy people. I shold be lazu as well.\n",
      "Programmers are lazy people. I shold be lazu as well.\n",
      "Programmers are lazy people. I shold be lazu as well.\n",
      "Programmers are lazy people. I shold be lazu as well.\n",
      "Programmers are lazy people. I shold be lazu as well.\n",
      "Programmers are lazy people. I shold be lazu as well.\n",
      "Programmers are lazy people. I shold be lazu as well.\n",
      "Programmers are lazy people. I shold be lazu as well.\n",
      "Programmers are lazy people. I shold be lazu as well.\n",
      "Programmers are lazy people. I shold be lazu as well.\n"
     ]
    }
   ],
   "source": [
    "print(\"Programmers are lazy people. I shold be lazu as well.\")\n",
    "print(\"Programmers are lazy people. I shold be lazu as well.\")\n",
    "print(\"Programmers are lazy people. I shold be lazu as well.\")\n",
    "print(\"Programmers are lazy people. I shold be lazu as well.\")\n",
    "print(\"Programmers are lazy people. I shold be lazu as well.\")\n",
    "print(\"Programmers are lazy people. I shold be lazu as well.\")\n",
    "print(\"Programmers are lazy people. I shold be lazu as well.\")\n",
    "print(\"Programmers are lazy people. I shold be lazu as well.\")\n",
    "print(\"Programmers are lazy people. I shold be lazu as well.\")\n",
    "print(\"Programmers are lazy people. I shold be lazu as well.\")"
   ]
  },
  {
   "cell_type": "markdown",
   "metadata": {},
   "source": [
    "It looks fine and dandy until you notice that there are errors in the text. To fix them you'll have to fix every single string, which is annoying, time-consuming and prone to errors."
   ]
  },
  {
   "cell_type": "markdown",
   "metadata": {},
   "source": [
    "<img src=\"./media/bart-simpson.gif\" />"
   ]
  },
  {
   "cell_type": "markdown",
   "metadata": {},
   "source": [
    "What if there was a way to say to Python: \"Hey Python, execute this code X times, will ya?\". \n",
    "\n",
    "The good news is that there is such a way.\n",
    "What we are discussing next are different ways to repeat the execution of code without having to write the same instructions multiple times over. "
   ]
  },
  {
   "cell_type": "markdown",
   "metadata": {},
   "source": [
    "### 1.1 The `while` loop"
   ]
  },
  {
   "cell_type": "markdown",
   "metadata": {},
   "source": [
    "The first statement that we'll be using to repeat code is the `while` loop. The `while` loop will execute the indented code until the condition is `False`.\n",
    "\n",
    "```python\n",
    "while condition:\n",
    "    code to repeat\n",
    "```"
   ]
  },
  {
   "cell_type": "markdown",
   "metadata": {},
   "source": [
    "The `while` statement is composed of the elements:\n",
    "\n",
    "1. `while` keyword;\n",
    "2. one or more white spaces;\n",
    "3. a condition;\n",
    "4. a colon `:` and a newline;\n",
    "5. indented instruction(s) (aka loop's body) to execute. At least one instruction is necessary."
   ]
  },
  {
   "cell_type": "markdown",
   "metadata": {},
   "source": [
    "We have seen before that the `if` statement tests a condition and executes the code **once** if the condition is `True`. The `while` statement **repeats** the code execution as long as the condition is `True`. \n",
    "\n",
    "After the code inside the *loop's body* is executed, Python checks if the condition remains `True`. If this is the case, it executes the *loop's* body again. This process repeats until the condition is `False`. We call each repetition of the execution a **loop iteration**. We'll see the term *iteration* and *iterates* a lot. Basically, each time the *loop's body* is executed we have another *iteration* of that loop. *Iterating* means repeating the *loop´s body*."
   ]
  },
  {
   "cell_type": "markdown",
   "metadata": {},
   "source": [
    "```python\n",
    "while True:\n",
    "    print(\"This will never stop.\")\n",
    "```"
   ]
  },
  {
   "cell_type": "markdown",
   "metadata": {},
   "source": [
    "Here is a `while` loop that **never stops** because the condition is always `True`. The **loop's body should change the condition's value** at some point, otherwise if the condition is `True` in the beginning, it will always be `True`. This is called an **infinite loop** and should be avoided, but it will most likely happen to you at some point. If that is the case, you'll have to interrupt the kernel of the notebook to stop the execution."
   ]
  },
  {
   "cell_type": "markdown",
   "metadata": {},
   "source": [
    "<img src=\"./media/rotating_earth.gif\" />\n",
    "\n",
    "`while` statements that are always `True` never stop, just as the [Earth](https://en.wikipedia.org/wiki/GIF#/media/File:Rotating_earth_(large).gif) never stops spinning. Beware of creating an infinite loop by accident. "
   ]
  },
  {
   "cell_type": "markdown",
   "metadata": {},
   "source": [
    "I'll give an example of an infinite loop in the cell below. It is commented out, for obvious reasons. ;)"
   ]
  },
  {
   "cell_type": "code",
   "execution_count": null,
   "metadata": {},
   "outputs": [],
   "source": [
    "#a = 10\n",
    "#while a > 1:\n",
    "#    print(a)\n",
    "#    a+=1 "
   ]
  },
  {
   "cell_type": "markdown",
   "metadata": {},
   "source": [
    "The programmer made a mistake in the last line which should have been `a-=1`. It's common to make mistakes of this kind in more complicated code."
   ]
  },
  {
   "cell_type": "markdown",
   "metadata": {},
   "source": [
    "Now onto an example that works as intended. We want to find out how many times a number can be divided by 3 until it is smaller than 3. We don't know how many times we need to divide, so we keep dividing the number by three as long as the result is larger than or equal to 3. When this happens we signal the `while` statement that it should stop repeating the code."
   ]
  },
  {
   "cell_type": "code",
   "execution_count": 2,
   "metadata": {},
   "outputs": [
    {
     "name": "stdout",
     "output_type": "stream",
     "text": [
      "It can be divided 4 times.\n"
     ]
    }
   ],
   "source": [
    "#Number to be divided. You can change it to see the result.\n",
    "dividend = 134\n",
    "#Counter used to store the number of divisions performed.\n",
    "counter = 0\n",
    "\n",
    "while dividend >= 3:\n",
    "    \n",
    "    #If you forgot what /= and += mean go back to SLU02.\n",
    "    dividend /= 3 \n",
    "    \n",
    "    #A division was performed. The counter of the number of divisions goes up by one.\n",
    "    counter += 1\n",
    "    \n",
    "    #Uncomment the following print to see the value of the dividend as it is divided.\n",
    "    #print(dividend)\n",
    "\n",
    "    # Now we go back to the beginning of the loop to test the condition again.\n",
    "    \n",
    "# Now we are out of the loop, which means that the dividend is smaller than 3.\n",
    "print(\"It can be divided {} time{}.\".format(counter, \"s\" * int(counter > 1)))"
   ]
  },
  {
   "cell_type": "markdown",
   "metadata": {},
   "source": [
    "The `while` statement will execute the body until the `dividend` is smaller than 3. At that moment the final number of divisions can be determined by the `counter` variable."
   ]
  },
  {
   "cell_type": "markdown",
   "metadata": {},
   "source": [
    "Of course the `while` condition can be `False` from the beginning. In this case the loop's body is **not executed even once.**"
   ]
  },
  {
   "cell_type": "code",
   "execution_count": 3,
   "metadata": {},
   "outputs": [],
   "source": [
    "condition = False\n",
    "while condition:\n",
    "    print(\"This string is not printed!\")"
   ]
  },
  {
   "cell_type": "markdown",
   "metadata": {},
   "source": [
    "With the knowledge of `while` loops we can rewrite the 10 `print()` statements above into a condensed form."
   ]
  },
  {
   "cell_type": "code",
   "execution_count": 4,
   "metadata": {},
   "outputs": [
    {
     "name": "stdout",
     "output_type": "stream",
     "text": [
      "Programmers are lazy people. I shold be lazu as well.\n",
      "Programmers are lazy people. I shold be lazu as well.\n",
      "Programmers are lazy people. I shold be lazu as well.\n",
      "Programmers are lazy people. I shold be lazu as well.\n",
      "Programmers are lazy people. I shold be lazu as well.\n",
      "Programmers are lazy people. I shold be lazu as well.\n",
      "Programmers are lazy people. I shold be lazu as well.\n",
      "Programmers are lazy people. I shold be lazu as well.\n",
      "Programmers are lazy people. I shold be lazu as well.\n",
      "Programmers are lazy people. I shold be lazu as well.\n"
     ]
    }
   ],
   "source": [
    "counter = 10\n",
    "while counter != 0:\n",
    "    print(\"Programmers are lazy people. I shold be lazu as well.\")\n",
    "    counter -= 1"
   ]
  },
  {
   "cell_type": "markdown",
   "metadata": {},
   "source": [
    "Fixing the errors in the string now only requires to change a single string. Super sweet!"
   ]
  },
  {
   "cell_type": "markdown",
   "metadata": {},
   "source": [
    "<img src=\"./media/shorter.png\" width=\"400\"/>"
   ]
  },
  {
   "cell_type": "markdown",
   "metadata": {},
   "source": [
    "---"
   ]
  },
  {
   "attachments": {},
   "cell_type": "markdown",
   "metadata": {},
   "source": [
    "### 1.2 The `for` loop\n",
    "\n",
    "When you know how many times you want to repeat the execution of the code, as in the last example, you can use a `for` loop.\n",
    "\n",
    "```python\n",
    "for index in iterable:\n",
    "    code\n",
    "\n",
    "```"
   ]
  },
  {
   "cell_type": "markdown",
   "metadata": {},
   "source": [
    "A `for` loop is composed of the elements:\n",
    "\n",
    "1. `for` keyword\n",
    "2. a space\n",
    "3. a control variable\n",
    "4. the `in` keyword\n",
    "5. a space\n",
    "6. an iterable (I'll explain briefly)\n",
    "7. a colon `:`\n",
    "8. indented code (aka loop's body) starting in the next line\n",
    "\n",
    "The control variable (`index` in this case) controls how many times the loop is executed. After every cycle, the value of the control variable is **updated automatically**. You can name it as you like.\n",
    "\n",
    "The iterable can be any container with multiple elements that the **`for` loop can access one by one**. Each time a new element is accessed, its **value is assigned to the control variable automatically and the code is executed again**. It could for instance be a list:"
   ]
  },
  {
   "cell_type": "code",
   "execution_count": 5,
   "metadata": {},
   "outputs": [
    {
     "name": "stdout",
     "output_type": "stream",
     "text": [
      "0\n",
      "1\n",
      "2\n",
      "3\n",
      "4\n",
      "5\n"
     ]
    }
   ],
   "source": [
    "for number in [0, 1, 2, 3, 4, 5]:\n",
    "    print(number)"
   ]
  },
  {
   "cell_type": "markdown",
   "metadata": {},
   "source": [
    "Another frequently used iterable is the [`range` sequence](https://docs.python.org/3.11/library/stdtypes.html#range). It creates a specific sequence that can be iterated by the `for` loop. Let's see an example:"
   ]
  },
  {
   "cell_type": "code",
   "execution_count": 6,
   "metadata": {},
   "outputs": [
    {
     "name": "stdout",
     "output_type": "stream",
     "text": [
      "0\n",
      "1\n",
      "2\n",
      "3\n",
      "4\n",
      "5\n"
     ]
    }
   ],
   "source": [
    "for number in range(6):\n",
    "    print(number)"
   ]
  },
  {
   "cell_type": "markdown",
   "metadata": {},
   "source": [
    "The `range()` statement above creates a sequence of integers from 0 to 5. The `range()` statement has three parameters:\n",
    "\n",
    "- `start` \n",
    "- `end`\n",
    "- `step`\n",
    "\n",
    "These parameters are equivalent to the `start:end:step` of the sequence. The `start` is the first element of the sequence. The next element are created by adding `step` to the previous element. So the second element is `start` + `step` and so on. The sequence stops **before** reaching the `end` (before reaching 6 in this case). This syntax is the **same as in list and tuple indexing** that you learned in SLU04.\n",
    "\n",
    "You can write the `range()` statement in three ways:\n",
    "\n",
    "1. Use only the `end` parameter: `range(end)`. The `start` is defaulted to 0 and the `step` is defaulted to 1.\n",
    "\n",
    "2. Use the `start` and `end` parameters: `range(start,end)`. The `step` is defaulted to 1.\n",
    "\n",
    "3. Use all three parameters: `range(start,end,step)`.\n",
    "\n",
    "Below are a couple of examples using `range` with different values of `start`, `end` and `step`."
   ]
  },
  {
   "cell_type": "code",
   "execution_count": 7,
   "metadata": {},
   "outputs": [
    {
     "name": "stdout",
     "output_type": "stream",
     "text": [
      "2\n",
      "4\n",
      "6\n",
      "8\n"
     ]
    }
   ],
   "source": [
    "for i in range(2,10,2):\n",
    "    print(i)"
   ]
  },
  {
   "cell_type": "markdown",
   "metadata": {},
   "source": [
    "The arguments can have negative values."
   ]
  },
  {
   "cell_type": "code",
   "execution_count": 8,
   "metadata": {},
   "outputs": [
    {
     "name": "stdout",
     "output_type": "stream",
     "text": [
      "-2\n",
      "-3\n",
      "-4\n",
      "-5\n",
      "-6\n"
     ]
    }
   ],
   "source": [
    "for i in range(-2,-7,-1):\n",
    "    print(i)"
   ]
  },
  {
   "cell_type": "markdown",
   "metadata": {},
   "source": [
    "If the `end > start` then `step` must be **positive**. Otherwise nothing is executed.\n",
    "\n",
    "If the `end < start` then `step` must be **negative**. Otherwise nothing is executed."
   ]
  },
  {
   "cell_type": "code",
   "execution_count": 9,
   "metadata": {},
   "outputs": [],
   "source": [
    "for i in range(10,2,1):\n",
    "    print(i)\n",
    "\n",
    "for j in range(2,10,-1):\n",
    "    print(j)"
   ]
  },
  {
   "cell_type": "markdown",
   "metadata": {},
   "source": [
    "You can even use the control variable to index a list or tuple although usually you'd iterate directly over them. Here we use iteration with list indexing to create our shopping list:"
   ]
  },
  {
   "cell_type": "code",
   "execution_count": 10,
   "metadata": {},
   "outputs": [
    {
     "data": {
      "text/plain": [
       "['Milk', 'Flour', 'Carrots']"
      ]
     },
     "execution_count": 10,
     "metadata": {},
     "output_type": "execute_result"
    }
   ],
   "source": [
    "groceries = [\"Eggs\", \"Milk\", \"Flour\", \"Carrots\", \"Napkins\", \"Olive Oil\"]\n",
    "shopping_list = [] # Here we create an empty shopping list (initialize it) - a very important step!\n",
    "\n",
    "for list_index in range(1,4):\n",
    "    shopping_list.append(groceries[list_index])\n",
    "shopping_list"
   ]
  },
  {
   "cell_type": "markdown",
   "metadata": {},
   "source": [
    "Here we do the same, but iterate directly over the groceries list:"
   ]
  },
  {
   "cell_type": "code",
   "execution_count": 11,
   "metadata": {},
   "outputs": [
    {
     "data": {
      "text/plain": [
       "['Milk', 'Flour', 'Carrots']"
      ]
     },
     "execution_count": 11,
     "metadata": {},
     "output_type": "execute_result"
    }
   ],
   "source": [
    "groceries = [\"Eggs\", \"Milk\", \"Flour\", \"Carrots\", \"Napkins\", \"Olive Oil\"]\n",
    "shopping_list = []\n",
    "\n",
    "for item in groceries[1:4]:\n",
    "    shopping_list.append(item)\n",
    "shopping_list"
   ]
  },
  {
   "cell_type": "markdown",
   "metadata": {},
   "source": [
    "Of course, we can also iterate over the whole list and add all the groceries to the shopping list:"
   ]
  },
  {
   "cell_type": "code",
   "execution_count": 12,
   "metadata": {},
   "outputs": [
    {
     "data": {
      "text/plain": [
       "['Eggs', 'Milk', 'Flour', 'Carrots', 'Napkins', 'Olive Oil']"
      ]
     },
     "execution_count": 12,
     "metadata": {},
     "output_type": "execute_result"
    }
   ],
   "source": [
    "groceries = [\"Eggs\", \"Milk\", \"Flour\", \"Carrots\", \"Napkins\", \"Olive Oil\"]\n",
    "shopping_list = []\n",
    "\n",
    "for item in groceries:\n",
    "    shopping_list.append(item)\n",
    "shopping_list"
   ]
  },
  {
   "cell_type": "markdown",
   "metadata": {},
   "source": [
    "With the `for` loop we can rewrite the last `while` statement as:"
   ]
  },
  {
   "cell_type": "code",
   "execution_count": 13,
   "metadata": {},
   "outputs": [
    {
     "name": "stdout",
     "output_type": "stream",
     "text": [
      "Programmers are lazy people. I should be lazy as well.\n",
      "Programmers are lazy people. I should be lazy as well.\n",
      "Programmers are lazy people. I should be lazy as well.\n",
      "Programmers are lazy people. I should be lazy as well.\n",
      "Programmers are lazy people. I should be lazy as well.\n",
      "Programmers are lazy people. I should be lazy as well.\n",
      "Programmers are lazy people. I should be lazy as well.\n",
      "Programmers are lazy people. I should be lazy as well.\n",
      "Programmers are lazy people. I should be lazy as well.\n",
      "Programmers are lazy people. I should be lazy as well.\n"
     ]
    }
   ],
   "source": [
    "for number in range(10):\n",
    "    print(\"Programmers are lazy people. I should be lazy as well.\")"
   ]
  },
  {
   "cell_type": "markdown",
   "metadata": {},
   "source": [
    "We have printed the sentence 10 times with 2 lines of code! It's amazingly lazy!"
   ]
  },
  {
   "cell_type": "markdown",
   "metadata": {},
   "source": [
    "One important note regarding the control variables. They are just like any other variable that we have been using. The major consequence is that they **retain their value after being used in the `for` loop**."
   ]
  },
  {
   "cell_type": "code",
   "execution_count": 30,
   "metadata": {},
   "outputs": [
    {
     "name": "stdout",
     "output_type": "stream",
     "text": [
      "9\n"
     ]
    }
   ],
   "source": [
    "#This variable was created as the control variable of the example above.\n",
    "print(number)"
   ]
  },
  {
   "cell_type": "markdown",
   "metadata": {},
   "source": [
    "You should take this into account when assigning control variables. I would recommend to use the control variable **only** inside the `for` loop unless you have a good reason to do otherwise.\n",
    "\n",
    "Additionally, a control variable name should be short and descriptive. It is going to be used a lot inside the `for` loop so it's a good idea to be able to track the variable in the middle of the loop's body.\n",
    "\n",
    "Even though it is common to use single letter control variable names such as `i`, `j`, `k`, `x`, `y`, `z` in simple code, in complex code it might get hard to distinguish the values that are assigned to one or another control variable. An alternative is to name the control variable according to the kind of values that are going to be assigned to it. For instance, if you iterate over a list of country names, you can name the control variable `country`. If you iterate over a tuple of products, you can name it `product`. You get the picture."
   ]
  },
  {
   "cell_type": "markdown",
   "metadata": {},
   "source": [
    "In the above examples, the `for` loop accessed the values of a `range` or a list and executed the code for each element of them. \n",
    "\n",
    "What if I told you that there are other iterables that we can use? Can you guess what we will be doing next?"
   ]
  },
  {
   "attachments": {},
   "cell_type": "markdown",
   "metadata": {},
   "source": [
    "### 1.3 `for` loops with tuples\n",
    "\n",
    "Tuples  are also [sequences](https://docs.python.org/3/library/stdtypes.html#sequence-types-list-tuple-range) and can be used as iterables in the `for` loop. The syntax is the same as for lists:"
   ]
  },
  {
   "cell_type": "code",
   "execution_count": 15,
   "metadata": {},
   "outputs": [
    {
     "name": "stdout",
     "output_type": "stream",
     "text": [
      "Gillet\n",
      "Troller\n",
      "SIN Cars\n",
      "Dadi\n",
      "Pininfarina\n",
      "Lada\n",
      "Puma\n",
      "Ginetta\n"
     ]
    }
   ],
   "source": [
    "car_brands = (\"Gillet\", \"Troller\", \"SIN Cars\", \"Dadi\", \"Pininfarina\", \"Lada\", \"Puma\", \"Ginetta\")\n",
    "for brand in car_brands:\n",
    "    print(brand)"
   ]
  },
  {
   "cell_type": "markdown",
   "metadata": {},
   "source": [
    "The control variable `brand` is assigned the first element of `car_brands` (`\"Gillet\"`). The loop's body is executed  and `\"Gillet\"` is printed. After reaching the end of the indented code the loop starts a new iteration and assigns the second element of `car_brands` to `brand`. The loop's body is executed again and the cycle continues until the loop has iterated over all elements of `car_brands`."
   ]
  },
  {
   "cell_type": "markdown",
   "metadata": {},
   "source": [
    "### 1.4 `for` loops  with dictionaries"
   ]
  },
  {
   "attachments": {},
   "cell_type": "markdown",
   "metadata": {},
   "source": [
    "Dictionaries are **not** [sequences](https://docs.python.org/3.11/library/stdtypes.html#mapping-types-dict). For this reason we **cannot** iterate over them with a `for` loop directly like this (say dict is a dictionary):\n",
    "\n",
    "```python\n",
    "for d in dict:\n",
    "    print(d)\n",
    "```\n",
    "\n",
    "We can, however, iterate over their keys, values and items. To access these views we are using dictionary methods `.keys()`, `.values()` and `.items()`\n",
    "\n",
    "The `.keys()` method returns an iterable with **all the keys of the dictionary**. Here we define a dictionary and iterate over its keys to print them out:"
   ]
  },
  {
   "cell_type": "code",
   "execution_count": 16,
   "metadata": {},
   "outputs": [
    {
     "name": "stdout",
     "output_type": "stream",
     "text": [
      "Pac-Man\n",
      "Tetris\n",
      "The Legend of Zelda\n",
      "Street Fighter\n",
      "Sonic the Hedgehog\n"
     ]
    }
   ],
   "source": [
    "game_release_year = {\"Pac-Man\":1980,\n",
    "                     \"Tetris\":1984,\n",
    "                     \"The Legend of Zelda\":1986,\n",
    "                     \"Street Fighter\": 1987,\n",
    "                    \"Sonic the Hedgehog\":1991\n",
    "                    }\n",
    "\n",
    "for game in game_release_year.keys():\n",
    "    print(game)"
   ]
  },
  {
   "cell_type": "markdown",
   "metadata": {},
   "source": [
    "The `.values()` method returns an iterable with **all the values of the dictionary**. Here we iterate over the values of the same dictionary and print them out:"
   ]
  },
  {
   "cell_type": "code",
   "execution_count": 17,
   "metadata": {},
   "outputs": [
    {
     "name": "stdout",
     "output_type": "stream",
     "text": [
      "1980\n",
      "1984\n",
      "1986\n",
      "1987\n",
      "1991\n"
     ]
    }
   ],
   "source": [
    "for game in game_release_year.values():\n",
    "    print(game)"
   ]
  },
  {
   "cell_type": "markdown",
   "metadata": {},
   "source": [
    "The `.items()` method returns an iterable with **all the key-value pairs of the dictionary**."
   ]
  },
  {
   "cell_type": "code",
   "execution_count": 18,
   "metadata": {},
   "outputs": [
    {
     "name": "stdout",
     "output_type": "stream",
     "text": [
      "('Pac-Man', 1980)\n",
      "('Tetris', 1984)\n",
      "('The Legend of Zelda', 1986)\n",
      "('Street Fighter', 1987)\n",
      "('Sonic the Hedgehog', 1991)\n"
     ]
    }
   ],
   "source": [
    "for game in game_release_year.items():\n",
    "    print(game)"
   ]
  },
  {
   "cell_type": "markdown",
   "metadata": {},
   "source": [
    "The control variable is assigned a tuple with one `key-value` pair at a time. Another possibility is to split each `key-value` pair and store them in two control variables instead of one. To do this, we define a two element tuple as the control variable where the the first element receives the `keys` and the second element receives the `values`."
   ]
  },
  {
   "cell_type": "code",
   "execution_count": 19,
   "metadata": {},
   "outputs": [
    {
     "name": "stdout",
     "output_type": "stream",
     "text": [
      "The initial release year for Pac-Man was 1980.\n",
      "The initial release year for Tetris was 1984.\n",
      "The initial release year for The Legend of Zelda was 1986.\n",
      "The initial release year for Street Fighter was 1987.\n",
      "The initial release year for Sonic the Hedgehog was 1991.\n"
     ]
    }
   ],
   "source": [
    "for (title, year) in game_release_year.items():\n",
    "    print(f\"The initial release year for {title} was {year}.\")"
   ]
  },
  {
   "cell_type": "markdown",
   "metadata": {},
   "source": [
    "You'll generally see the tuple definition without parenthesis `()` (as you can remember from SLU04, parenthesis are not necessary for two item tuples):"
   ]
  },
  {
   "cell_type": "code",
   "execution_count": 20,
   "metadata": {},
   "outputs": [
    {
     "name": "stdout",
     "output_type": "stream",
     "text": [
      "The initial release year for Pac-Man was 1980.\n",
      "The initial release year for Tetris was 1984.\n",
      "The initial release year for The Legend of Zelda was 1986.\n",
      "The initial release year for Street Fighter was 1987.\n",
      "The initial release year for Sonic the Hedgehog was 1991.\n"
     ]
    }
   ],
   "source": [
    "for title, year in game_release_year.items():\n",
    "    print(f\"The initial release year for {title} was {year}.\")"
   ]
  },
  {
   "cell_type": "markdown",
   "metadata": {},
   "source": [
    "### 1.5 The `enumerate()` function"
   ]
  },
  {
   "cell_type": "markdown",
   "metadata": {},
   "source": [
    "When iterating over an iterable such as a list or a tuple, it might be useful to know in which iteration the code is. Imagine that we want to print only the even elements of `[\"Apricot\", \"Banana\", \"Cantaloupe\", \"Durian\", \"Elderberry\", \"Fig\", \"Grape\"]`. One way to solve this would be to create a `for` loop with `range()` and return the list elements for which the control variable is even."
   ]
  },
  {
   "cell_type": "code",
   "execution_count": 21,
   "metadata": {},
   "outputs": [
    {
     "name": "stdout",
     "output_type": "stream",
     "text": [
      "Fruit number 2 is:  Banana\n",
      "Fruit number 4 is:  Durian\n",
      "Fruit number 6 is:  Fig\n"
     ]
    }
   ],
   "source": [
    "fruits = [\"Apricot\", \"Banana\", \"Cantaloupe\", \"Durian\", \"Elderberry\", \"Fig\", \"Grape\"]\n",
    "\n",
    "# Notice how we define the range using the length of the fruits list\n",
    "for index in range(len(fruits)):\n",
    "    if index % 2 != 0:\n",
    "        print(f\"Fruit number {index+1} is: \", fruits[index])"
   ]
  },
  {
   "attachments": {},
   "cell_type": "markdown",
   "metadata": {},
   "source": [
    "As an alternative you can use the `enumerate()` function to create a second control variable.\n",
    "\n",
    "```python\n",
    "for index, item in enumerate(iterable):\n",
    "    code\n",
    "```\n",
    "\n",
    "At each loop iteration, `enumerate` returns a tuple. The first element (`index`) counts the iterations and the second element (`item`) is the current value of the iterable. In each iteration, the value of `index` is increased by 1 and `item` is updated to the next element of the iterable. \n",
    "\n",
    "The previous example can be rewritten as:"
   ]
  },
  {
   "cell_type": "code",
   "execution_count": 22,
   "metadata": {},
   "outputs": [
    {
     "name": "stdout",
     "output_type": "stream",
     "text": [
      "Fruit number 2 is:  Banana\n",
      "Fruit number 4 is:  Durian\n",
      "Fruit number 6 is:  Fig\n"
     ]
    }
   ],
   "source": [
    "fruits = [\"Apricot\", \"Banana\", \"Cantaloupe\", \"Durian\", \"Elderberry\", \"Fig\", \"Grape\"]\n",
    "\n",
    "for index, fruit in enumerate(fruits):\n",
    "    if index % 2 != 0:\n",
    "        print(f\"Fruit number {index+1} is: \", fruit)"
   ]
  },
  {
   "cell_type": "markdown",
   "metadata": {},
   "source": [
    "`enumerate` is particularly useful when we want to iterate over an iterable and perform operations that depend on the position of each element of the iterable."
   ]
  },
  {
   "attachments": {},
   "cell_type": "markdown",
   "metadata": {},
   "source": [
    "### 1.6 Nested `while` and `for` loops\n",
    "\n",
    "Do you have flashbacks of your teacher making you write the [multiplication tables](https://en.wikipedia.org/wiki/Multiplication_table) over and over again? What if we write them in this section?"
   ]
  },
  {
   "cell_type": "markdown",
   "metadata": {},
   "source": [
    "<img src=\"./media/please_no.gif\" />\n",
    "\n",
    "<left>(First Algebra now Arithmetic. Good thing this is an online course or I would get strangled by now.) </left>"
   ]
  },
  {
   "cell_type": "markdown",
   "metadata": {},
   "source": [
    "Don't worry, we'll let Python do the heavy work. Remember: we are lazy!\n",
    "\n",
    "It would be difficult to create these tables with a single loop because the multiplication tables give the result of multiplying two integers.\n",
    "\n",
    "It is much easier to iterate over the integers on the left side of the multiplication and for each of these values then iterate over the integers on the right side of the muliplications.\n",
    "\n",
    "This is achieved by **nesting** a loop inside another loop: \n",
    "\n",
    "```python\n",
    "for outer_variable in outer_iterable:\n",
    "    #Outer loop's body beginning\n",
    "    for inner_variable in inner_iterable:\n",
    "        #Inner loop's body\n",
    "    #Outer loop's body end\n",
    "        \n",
    "```\n",
    "\n",
    "The first loop is called the *outer loop* and the second (indented) loop is called the *inner loop*. In the first iteration of the *outer loop*, the outer loop's body is executed, **including the *inner loop***. The *inner loop* **iterates over all its values** and then the *outer loop* moves to the second iteration. In the second iteration, the *inner loop* iterates over all of its values and then the *outer loop* moves to the third iteration. This repeats until all values of the *outer loop* have been iterated over.\n",
    "\n",
    "You can think of this similarly to the relation between hours and minutes. For every hour, the minutes go from 0 to 59. After the 59th minute, the hour is increased by one and the minute is reset to 0. You can compare the hours to the iterations of the *outer loop* and the minutes to the iterations of the *inner loop*."
   ]
  },
  {
   "cell_type": "markdown",
   "metadata": {},
   "source": [
    "<img src=\"./media/timer.gif\" />"
   ]
  },
  {
   "cell_type": "markdown",
   "metadata": {},
   "source": [
    "Let's make this clearer by writing the code that will print the multiplication tables."
   ]
  },
  {
   "cell_type": "code",
   "execution_count": 23,
   "metadata": {
    "scrolled": true
   },
   "outputs": [
    {
     "name": "stdout",
     "output_type": "stream",
     "text": [
      "The multiplication table for 1 is:\n",
      "1 * 1 = 1\n",
      "1 * 2 = 2\n",
      "1 * 3 = 3\n",
      "1 * 4 = 4\n",
      "1 * 5 = 5\n",
      "1 * 6 = 6\n",
      "1 * 7 = 7\n",
      "1 * 8 = 8\n",
      "1 * 9 = 9\n",
      "1 * 10 = 10\n",
      "\n",
      "\n",
      "The multiplication table for 2 is:\n",
      "2 * 1 = 2\n",
      "2 * 2 = 4\n",
      "2 * 3 = 6\n",
      "2 * 4 = 8\n",
      "2 * 5 = 10\n",
      "2 * 6 = 12\n",
      "2 * 7 = 14\n",
      "2 * 8 = 16\n",
      "2 * 9 = 18\n",
      "2 * 10 = 20\n",
      "\n",
      "\n",
      "The multiplication table for 3 is:\n",
      "3 * 1 = 3\n",
      "3 * 2 = 6\n",
      "3 * 3 = 9\n",
      "3 * 4 = 12\n",
      "3 * 5 = 15\n",
      "3 * 6 = 18\n",
      "3 * 7 = 21\n",
      "3 * 8 = 24\n",
      "3 * 9 = 27\n",
      "3 * 10 = 30\n",
      "\n",
      "\n",
      "The multiplication table for 4 is:\n",
      "4 * 1 = 4\n",
      "4 * 2 = 8\n",
      "4 * 3 = 12\n",
      "4 * 4 = 16\n",
      "4 * 5 = 20\n",
      "4 * 6 = 24\n",
      "4 * 7 = 28\n",
      "4 * 8 = 32\n",
      "4 * 9 = 36\n",
      "4 * 10 = 40\n",
      "\n",
      "\n",
      "The multiplication table for 5 is:\n",
      "5 * 1 = 5\n",
      "5 * 2 = 10\n",
      "5 * 3 = 15\n",
      "5 * 4 = 20\n",
      "5 * 5 = 25\n",
      "5 * 6 = 30\n",
      "5 * 7 = 35\n",
      "5 * 8 = 40\n",
      "5 * 9 = 45\n",
      "5 * 10 = 50\n",
      "\n",
      "\n",
      "The multiplication table for 6 is:\n",
      "6 * 1 = 6\n",
      "6 * 2 = 12\n",
      "6 * 3 = 18\n",
      "6 * 4 = 24\n",
      "6 * 5 = 30\n",
      "6 * 6 = 36\n",
      "6 * 7 = 42\n",
      "6 * 8 = 48\n",
      "6 * 9 = 54\n",
      "6 * 10 = 60\n",
      "\n",
      "\n",
      "The multiplication table for 7 is:\n",
      "7 * 1 = 7\n",
      "7 * 2 = 14\n",
      "7 * 3 = 21\n",
      "7 * 4 = 28\n",
      "7 * 5 = 35\n",
      "7 * 6 = 42\n",
      "7 * 7 = 49\n",
      "7 * 8 = 56\n",
      "7 * 9 = 63\n",
      "7 * 10 = 70\n",
      "\n",
      "\n",
      "The multiplication table for 8 is:\n",
      "8 * 1 = 8\n",
      "8 * 2 = 16\n",
      "8 * 3 = 24\n",
      "8 * 4 = 32\n",
      "8 * 5 = 40\n",
      "8 * 6 = 48\n",
      "8 * 7 = 56\n",
      "8 * 8 = 64\n",
      "8 * 9 = 72\n",
      "8 * 10 = 80\n",
      "\n",
      "\n",
      "The multiplication table for 9 is:\n",
      "9 * 1 = 9\n",
      "9 * 2 = 18\n",
      "9 * 3 = 27\n",
      "9 * 4 = 36\n",
      "9 * 5 = 45\n",
      "9 * 6 = 54\n",
      "9 * 7 = 63\n",
      "9 * 8 = 72\n",
      "9 * 9 = 81\n",
      "9 * 10 = 90\n",
      "\n",
      "\n",
      "The multiplication table for 10 is:\n",
      "10 * 1 = 10\n",
      "10 * 2 = 20\n",
      "10 * 3 = 30\n",
      "10 * 4 = 40\n",
      "10 * 5 = 50\n",
      "10 * 6 = 60\n",
      "10 * 7 = 70\n",
      "10 * 8 = 80\n",
      "10 * 9 = 90\n",
      "10 * 10 = 100\n",
      "\n",
      "\n"
     ]
    }
   ],
   "source": [
    "for outer in range(1,11):\n",
    "    # title of each table\n",
    "    print(f\"The multiplication table for {outer} is:\")\n",
    "    for inner in range(1,11):\n",
    "        print(f\"{outer} * {inner} = {outer * inner}\")\n",
    "    #Blank line between tables\n",
    "    print(\"\\n\")"
   ]
  },
  {
   "attachments": {},
   "cell_type": "markdown",
   "metadata": {},
   "source": [
    "For each value of `outer` in the *outer loop* all values of `inner` are iterated over. This means that the *outer loop* is executed **once** but the inner loop is executed **as many times as the number of elements of the *outer loop***.\n",
    "\n",
    "We can use *loop nesting* with the other iterables like lists, tuples or dictionary items. We can also use the values of one *control variable* in another `for` loop as long as it's an iterable.\n",
    "\n",
    "Let's take the [steel production by country over the years](https://en.wikipedia.org/wiki/List_of_countries_by_steel_production) between 2015 and 2018: "
   ]
  },
  {
   "cell_type": "code",
   "execution_count": 24,
   "metadata": {},
   "outputs": [],
   "source": [
    "steel_production = {\"Japan\": [105.2, 104.8, 104.7, 104.3],\n",
    "                    \"Germany\":[42.7, 42.1, 43.6, 42.4],\n",
    "                    \"Italy\":[24.5, 24.0, 23.3, 22.0]}"
   ]
  },
  {
   "cell_type": "markdown",
   "metadata": {},
   "source": [
    "If we want to calculate the total production of each country between 2015 and 2018 we can do something like this:"
   ]
  },
  {
   "cell_type": "code",
   "execution_count": 25,
   "metadata": {},
   "outputs": [
    {
     "data": {
      "text/plain": [
       "{'Japan': 419.0, 'Germany': 170.8, 'Italy': 93.8}"
      ]
     },
     "execution_count": 25,
     "metadata": {},
     "output_type": "execute_result"
    }
   ],
   "source": [
    "total_production = {}\n",
    "for country, production_list in steel_production.items():\n",
    "    country_production = 0\n",
    "    for yearly_production in production_list:\n",
    "        country_production += yearly_production\n",
    "        \n",
    "    total_production[country] = country_production\n",
    "    \n",
    "total_production"
   ]
  },
  {
   "cell_type": "markdown",
   "metadata": {},
   "source": [
    "Let's break the code into pieces:\n",
    "\n",
    "1. We create an empty dictionary `total_production` where we are going to store the results.\n",
    "\n",
    "2. We iterate over all the `key-value` pairs of `steel_production` with the `.items()` method. The variable `country` gets the `keys` and `production_list` gets the 3 lists of yearly production (`values`).\n",
    "\n",
    "    1. We use the `country_production` to add the yearly productions for each country. It has to be initialized to 0 in every *outer loop*.\n",
    "    2. The *inner loop* iterates over the 4 elements of the list `production_list` and each time adds the value to the `country_production`.\n",
    "    3. The value of `country_production` is assigned to the `total_production` dictionary with the key `country`.\n",
    "   \n",
    "And we get the total production of steel by country. "
   ]
  },
  {
   "cell_type": "markdown",
   "metadata": {},
   "source": [
    "We can also nest `while` loops and mix `for`and `while` loops depending on what you need. We can create as many \"nesting levels\" as you like.\n",
    "\n",
    "When using *nesting* it is pretty easy to lose track of which *control variable* belongs to each `for` loop. For this reason it is advisable to use descriptive names for the *control variables*."
   ]
  },
  {
   "attachments": {},
   "cell_type": "markdown",
   "metadata": {},
   "source": [
    "## 2. Interrupting loops with the `continue` and `break` statements\n",
    "\n",
    "We have seen that `while` and `for` loops execute the whole loop's body for every iteration. But sometimes it's unnecessary to execute the whole loop. Other times you need to exit the loop prematurely without executing all the iterations. In these cases we need a way to tell Python to stop."
   ]
  },
  {
   "cell_type": "markdown",
   "metadata": {},
   "source": [
    "<img src=\"./media/time_stop.gif\" />"
   ]
  },
  {
   "cell_type": "markdown",
   "metadata": {},
   "source": [
    "---"
   ]
  },
  {
   "cell_type": "markdown",
   "metadata": {},
   "source": [
    "### 2.1 The `continue` statement"
   ]
  },
  {
   "cell_type": "markdown",
   "metadata": {},
   "source": [
    "The `continue` statement **ignores the remaining *loop's body* and *continues* to the next iteration of that loop**. It is as if the rest of the *loop's body* didn't exist for that specific iteration.\n",
    "\n",
    "In the example below, we are iterating over a series of integers. We want to print all integers that are not divisible by 2. If the *control variable* is divisible by 2 the `continue` statement is executed and the `print()` function is ignored. Thus that value does not appear on the output."
   ]
  },
  {
   "cell_type": "code",
   "execution_count": 26,
   "metadata": {},
   "outputs": [
    {
     "name": "stdout",
     "output_type": "stream",
     "text": [
      "1\n",
      "3\n",
      "5\n",
      "7\n",
      "9\n"
     ]
    }
   ],
   "source": [
    "for i in range(10):\n",
    "    if i % 2 == 0:\n",
    "        continue\n",
    "    print(i)"
   ]
  },
  {
   "cell_type": "markdown",
   "metadata": {},
   "source": [
    "If you have `nested` loops, the `continue` statement affects the **innermost** loop that contains the `continue` statement.\n",
    "\n",
    "Let's say we want to divide each number of a list with each number of another list. Additionally, we want to ignore the cases when the denominator is zero and thus avoid the `ZeroDivisionError`."
   ]
  },
  {
   "cell_type": "code",
   "execution_count": 27,
   "metadata": {},
   "outputs": [
    {
     "name": "stdout",
     "output_type": "stream",
     "text": [
      "2 divided by 5 results in 0.4.\n",
      "2 divided by 9 results in 0.2222222222222222.\n",
      "2 divided by 3 results in 0.6666666666666666.\n",
      "2 divided by 2 results in 1.0.\n",
      "2 divided by 7 results in 0.2857142857142857.\n",
      "8 divided by 5 results in 1.6.\n",
      "8 divided by 9 results in 0.8888888888888888.\n",
      "8 divided by 3 results in 2.6666666666666665.\n",
      "8 divided by 2 results in 4.0.\n",
      "8 divided by 7 results in 1.1428571428571428.\n",
      "1 divided by 5 results in 0.2.\n",
      "1 divided by 9 results in 0.1111111111111111.\n",
      "1 divided by 3 results in 0.3333333333333333.\n",
      "1 divided by 2 results in 0.5.\n",
      "1 divided by 7 results in 0.14285714285714285.\n",
      "0 divided by 5 results in 0.0.\n",
      "0 divided by 9 results in 0.0.\n",
      "0 divided by 3 results in 0.0.\n",
      "0 divided by 2 results in 0.0.\n",
      "0 divided by 7 results in 0.0.\n"
     ]
    }
   ],
   "source": [
    "numerators = [2, 8, 1, 0]\n",
    "denominators = [5, 9, 0, 3, 2, 7]\n",
    "\n",
    "for numerator in numerators:\n",
    "    for denominator in denominators:\n",
    "        if denominator == 0:\n",
    "            continue\n",
    "        print(f\"{numerator} divided by {denominator} results in {numerator / denominator}.\")"
   ]
  },
  {
   "attachments": {},
   "cell_type": "markdown",
   "metadata": {},
   "source": [
    "### 2.2 The `break` statement\n",
    "\n",
    "The `break` statement **ends the loop immediately** as if all iterations had already been performed. "
   ]
  },
  {
   "cell_type": "code",
   "execution_count": 28,
   "metadata": {},
   "outputs": [
    {
     "name": "stdout",
     "output_type": "stream",
     "text": [
      "0\n",
      "1\n",
      "2\n",
      "3\n",
      "4\n",
      "5\n"
     ]
    }
   ],
   "source": [
    "for i in range(10):\n",
    "    if i >= 6:\n",
    "        break\n",
    "    print(i)"
   ]
  },
  {
   "cell_type": "markdown",
   "metadata": {},
   "source": [
    "If you have `nested` loops, the `break` statement affects the **innermost** loop that contains the `break` statement."
   ]
  },
  {
   "cell_type": "code",
   "execution_count": 29,
   "metadata": {},
   "outputs": [
    {
     "name": "stdout",
     "output_type": "stream",
     "text": [
      "0 A\n",
      "0 B\n",
      "0 C\n",
      "1 A\n",
      "1 B\n",
      "1 C\n",
      "2 A\n",
      "2 B\n",
      "2 C\n",
      "3 A\n",
      "3 B\n",
      "3 C\n",
      "4 A\n",
      "4 B\n",
      "4 C\n"
     ]
    }
   ],
   "source": [
    "for i in range(5):\n",
    "    for j in [\"A\", \"B\", \"C\", \"D\", \"E\", \"F\"]:\n",
    "        if j == \"D\":\n",
    "            break\n",
    "        print(i,j)"
   ]
  },
  {
   "cell_type": "markdown",
   "metadata": {},
   "source": [
    "As soon as the `break` statement is executed the **inner loop ends** and the new iteration of the **outer loop** is executed. That's why no letter after `\"C\"` is printed."
   ]
  },
  {
   "cell_type": "markdown",
   "metadata": {},
   "source": [
    "## 3. Takeaway\n",
    "\n",
    "**If you are writing the same code multiple times you are probably doing something wrong or at least unadvisable.**"
   ]
  },
  {
   "cell_type": "markdown",
   "metadata": {},
   "source": [
    "<img src=\"./media/sad_puppy_tiny.jpg\" />\n",
    "\n",
    "<left>A puppy gets sad every time you repeat code unnecessarily.</left>\n",
    "\n",
    "**Use the techniques that we learned to avoid code repetitions.**"
   ]
  },
  {
   "attachments": {},
   "cell_type": "markdown",
   "metadata": {},
   "source": [
    "## 4. Further reading\n",
    "\n",
    "[Programiz on loops](https://www.programiz.com/python-programming/for-loop)\n",
    "\n",
    "[GeeksforGeeks on loops](https://www.geeksforgeeks.org/loops-in-python/?ref=lbp)\n",
    "\n",
    "[Python documentation on the continue and break statements and else in loops](https://docs.python.org/3.7/tutorial/controlflow.html#break-and-continue-statements-and-else-clauses-on-loops)"
   ]
  },
  {
   "cell_type": "markdown",
   "metadata": {},
   "source": [
    "## 5. Recap"
   ]
  },
  {
   "cell_type": "markdown",
   "metadata": {},
   "source": [
    "We learned how to use comparison operators to create conditions and how to aggregate these conditions with boolean operators. We can use  conditions to control the execution of code thanks to `if-elif-else` statements.\n",
    "\n",
    "When we want to repeat the same code several times we can use the `while` and `for` loops to avoid writing repetitive code.\n",
    "For more complex tasks you can use nesting and mix and match all these statements together. The code is your oyster."
   ]
  }
 ],
 "metadata": {
  "kernelspec": {
   "display_name": "Python 3 (ipykernel)",
   "language": "python",
   "name": "python3"
  },
  "language_info": {
   "codemirror_mode": {
    "name": "ipython",
    "version": 3
   },
   "file_extension": ".py",
   "mimetype": "text/x-python",
   "name": "python",
   "nbconvert_exporter": "python",
   "pygments_lexer": "ipython3",
   "version": "3.11.8"
  }
 },
 "nbformat": 4,
 "nbformat_minor": 4
}
