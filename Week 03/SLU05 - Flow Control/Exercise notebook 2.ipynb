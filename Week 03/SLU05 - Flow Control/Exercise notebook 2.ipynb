{
 "cells": [
  {
   "cell_type": "markdown",
   "id": "3dbf234b",
   "metadata": {
    "deletable": false,
    "editable": false,
    "nbgrader": {
     "grade": false,
     "grade_id": "cell-1b8bde33aa4550a2",
     "locked": true,
     "schema_version": 3,
     "solution": false,
     "task": false
    }
   },
   "source": [
    "# SLU05 - Exercise notebook 2"
   ]
  },
  {
   "cell_type": "markdown",
   "id": "silver-system",
   "metadata": {
    "deletable": false,
    "editable": false,
    "nbgrader": {
     "grade": false,
     "grade_id": "cell-8929dcd53ba3bdac",
     "locked": true,
     "schema_version": 3,
     "solution": false,
     "task": false
    }
   },
   "source": [
    "Welcome to the world of `Python Flow Control`! \n",
    "\n",
    "Developing a thorough grasp of the concepts and techniques in this topic will provide you with a good programming foundation. We have included many exercises here, some are challenging. Take your time and practice. We are happy to assist, and if you don't have time to complete everything within this week, you can always return to it later.\n",
    "At any time when you are stuck feel free to use the function \"hints\" that is already imported for you in the beginning. Call help(hints) if you would like to know how it works!"
   ]
  },
  {
   "cell_type": "markdown",
   "id": "7435f7a9",
   "metadata": {
    "deletable": false,
    "editable": false,
    "nbgrader": {
     "grade": false,
     "grade_id": "cell-6149125f8a18c3dd",
     "locked": true,
     "schema_version": 3,
     "solution": false,
     "task": false
    }
   },
   "source": [
    "## Start by importing these packages"
   ]
  },
  {
   "cell_type": "code",
   "execution_count": null,
   "id": "56f6adb2",
   "metadata": {
    "deletable": false,
    "editable": false,
    "nbgrader": {
     "grade": false,
     "grade_id": "cell-53c916c043f5c2c5",
     "locked": true,
     "schema_version": 3,
     "solution": false,
     "task": false
    }
   },
   "outputs": [],
   "source": [
    "# Just for evaluating the results.\n",
    "import math\n",
    "import json\n",
    "import hashlib\n",
    "from utils import hints"
   ]
  },
  {
   "cell_type": "code",
   "execution_count": null,
   "id": "18df4956",
   "metadata": {
    "deletable": false,
    "editable": false,
    "nbgrader": {
     "grade": false,
     "grade_id": "cell-1f5baf4ed2c268c7",
     "locked": true,
     "schema_version": 3,
     "solution": false,
     "task": false
    }
   },
   "outputs": [],
   "source": [
    "help (hints)"
   ]
  },
  {
   "cell_type": "markdown",
   "id": "0eabec23",
   "metadata": {
    "deletable": false,
    "editable": false,
    "nbgrader": {
     "grade": false,
     "grade_id": "cell-f2797be7442942c1",
     "locked": true,
     "schema_version": 3,
     "solution": false,
     "task": false
    }
   },
   "source": [
    "## Part 1 - Conditionals & Boolean Algebra\n",
    "\n",
    "Welcome to Planet X! \n",
    "\n",
    "Every 7 years the playmakers get together to create Game X.  Candidates from around the planet prepare to entertain the world. The candidates and their characteristics are shown below:\n",
    "\n",
    "\n",
    "| Candidates | Age | Height (cm) | Weight (kg) | Strength |\n",
    "| - |-: |-: |-: |-: |\n",
    "|Squindle|213|1810|954|6|\n",
    "|Flort|73|1225|769|8|\n",
    "|Hambula|82|999|642|4|\n",
    "|Kistapho|942|1829|842|6|\n",
    "|Vilawi|636|819|531|5|\n",
    "|Anhaular|231|1681|3762|9|\n",
    "|Qintari|60|1732|522|4|\n",
    "|Wendu|7|3|5|2|\n",
    "|Baxla|65|875|464|4|\n",
    "|Uluetto|251|1362|3647|2|\n",
    "|Reomult|740|975|539|9|\n"
   ]
  },
  {
   "cell_type": "markdown",
   "id": "6e497d24",
   "metadata": {
    "deletable": false,
    "editable": false,
    "nbgrader": {
     "grade": false,
     "grade_id": "cell-84b5910c7bc65fe4",
     "locked": true,
     "schema_version": 3,
     "solution": false,
     "task": false
    }
   },
   "source": [
    "### 1.1) Create Candidates Dictionary\n",
    "\n",
    "Create a nested dictionary of the candidates, `candidate_dict`, using the candidate´s name as the top-level key to capturing all the above characteristics. The second level keys should be `\"age\"`, `\"height\"`, `\"weight\"` and `\"strength\"`. \n",
    "\n",
    "For instance, accessing `candidate_dict[\"Squindle\"][\"age\"]` should return `213`.\n",
    "\n",
    "Please double check that the entries are correct as this dictionary will be used for the remaining exercises in this notebook.\n",
    "\n",
    "Hint: below is an example of a nested dictionary. It is a dictionary of dictionaries.\n",
    "    \n",
    "    nested_dict = { 'dict1': {'key_A': 'value_A'},\n",
    "                    'dict2': {'key_B': 'value_B'}}"
   ]
  },
  {
   "cell_type": "code",
   "execution_count": null,
   "id": "dce4aabc",
   "metadata": {
    "deletable": false,
    "nbgrader": {
     "grade": false,
     "grade_id": "cell-458be56634b57ca9",
     "locked": false,
     "schema_version": 3,
     "solution": true,
     "task": false
    }
   },
   "outputs": [],
   "source": [
    "# Create a dictionary with the candidates characteristics above\n",
    "# Assign the dictionary to variable candidate_dict.\n",
    "\n",
    "# candidate_dict = ...\n",
    "\n",
    "# YOUR CODE HERE\n",
    "raise NotImplementedError()\n"
   ]
  },
  {
   "cell_type": "code",
   "execution_count": null,
   "id": "3441d948",
   "metadata": {
    "deletable": false,
    "editable": false,
    "nbgrader": {
     "grade": true,
     "grade_id": "cell-68331a27a8208436",
     "locked": true,
     "points": 2,
     "schema_version": 3,
     "solution": false,
     "task": false
    }
   },
   "outputs": [],
   "source": [
    "assert isinstance(candidate_dict, dict), \"Review the data type of candidate_dict.\"\n",
    "assert len(candidate_dict) == 11, \"The size of the dictionary is incorrect.\"\n",
    "assert set(candidate_dict.keys()) == \\\n",
    "  set(['Squindle', 'Flort', 'Hambula', 'Kistapho', 'Vilawi', 'Anhaular', 'Qintari', 'Wendu', 'Baxla', 'Uluetto', 'Reomult']),\\\n",
    "  \"The dictionary has incorrect candidate names.\"\n",
    "\n",
    "assert sum([len(candidate_dict[k]) for k in candidate_dict.keys()]) == 44, 'Some of the nested candidate dictionaries have incorrect length.'\n",
    "for candidate in candidate_dict.keys():\n",
    "    assert set(candidate_dict[candidate].keys()) == set(['age', 'height', 'strength', 'weight']), \\\n",
    "    f\"The {candidate} dictionary has mismatched candidate characteristics.\"\n",
    "\n",
    "assert len([isinstance(candidate_dict[k][c],int) for k in candidate_dict.keys() for c in ['age', 'height', 'strength', 'weight']]) == 44, \\\n",
    "'The values of age, height, strength, weight should be integers.'\n",
    "\n",
    "candidates = ['Squindle', 'Flort', 'Hambula', 'Kistapho', 'Vilawi', 'Anhaular', 'Qintari', 'Wendu', 'Baxla', 'Uluetto', 'Reomult']\n",
    "hash_list = ['f1a2dd2904a3a3051f734189e008fd59bb151cbb3c88625ed6da12548d2e2d34', '0fa60da40f6431ad2aad3f039f52a5e51af3228c5ef2e5ca9e6648077fd65f7e',\n",
    " '2cbdd1689217081ebb514ad1de632617f0686e73d2d5a9f1f39bf86fe3413fcd', '1616836491c36ac4a55fde630f414fbd512e10daccd2397e74ddae761e37f687',\n",
    " 'bc89e34e334866ac63cbffbe7179805493529cdace179e87ff094bc9784439cd', 'd9b5d379089aec1946b613f5991ca2338772a4fc10833aafa435d68d22ec8dce',\n",
    " '41ea639e8a5ea8261f705b011dc5bb67d2c20f941131efc62174b68e5180d9b4', '879ae9a0a821ab4f1c99b2d97097a6405844ebc5cb72592b6ac17da5995f652c',\n",
    " '7085339eda3f735877f4e19551d6f5c3e112efa9eb09cad6bcb73987aa332cf0', '3e3c8d03af0958c541b986b5d10d659e007924b608f43fa444108318f7e0e0a0',\n",
    " 'd89c91c710824e013815377b23a48b038b7d2231cd3423795479bd2966dededf']\n",
    "hash_dict=dict(zip(candidates,hash_list))\n",
    "for candidate in candidate_dict.keys():\n",
    "    assert hashlib.sha256(\n",
    "        json.dumps(''.join([str(candidate_dict[candidate][k]) for k in ['age', 'height', 'strength', 'weight']])).encode()).hexdigest() ==\\\n",
    "       hash_dict[candidate], f'The values in the {candidate} dictionary are not correct.'\n",
    "print(\"Your solution appears correct!\")"
   ]
  },
  {
   "cell_type": "markdown",
   "id": "317a670c",
   "metadata": {
    "deletable": false,
    "editable": false,
    "nbgrader": {
     "grade": false,
     "grade_id": "cell-96707e3e647062af",
     "locked": true,
     "schema_version": 3,
     "solution": false,
     "task": false
    }
   },
   "source": [
    "### 1.2)  Order of precedence\n",
    "\n",
    "To compete in Game X, one must be able to program in Python! \n",
    "\n",
    "In the pre-screening round, candidates are required to arrange a set of stones (A to G) in the correct sequence in order to unlock a door that holds their entrance ticket to the Game. \n",
    "\n",
    "Candidates are asked to place the stones in a sequence following the order of **operation evaluation** in the following boolean expression in Python. If in doubt, refer to the `table of precedence` to identify the order in which the operations are executed. Each operator is identified with a letter from `A` to `G`.\n",
    "\n",
    "The solution should be a **list** where the first element is the letter of the first operation to be performed, the second element is the second operation to be performed, and so on until the last operation to be performed.\n",
    "\n",
    "The result should resemble something like `[\"A\", \"B\", \"D\", \"G\", ...]`\n",
    "\n",
    "The expression is:"
   ]
  },
  {
   "cell_type": "code",
   "execution_count": null,
   "id": "bcc88e4e",
   "metadata": {
    "deletable": false,
    "editable": false,
    "nbgrader": {
     "grade": false,
     "grade_id": "cell-035d5daf2cd0e020",
     "locked": true,
     "schema_version": 3,
     "solution": false,
     "task": false
    }
   },
   "outputs": [],
   "source": [
    "#You don't need to execute this cell!\n",
    "\n",
    "variable = 3 != 1+1 and (2**3 > 1 or False)\n",
    "#        A   B   C   D    E   F   G"
   ]
  },
  {
   "cell_type": "markdown",
   "id": "65942ce1",
   "metadata": {
    "deletable": false,
    "editable": false,
    "nbgrader": {
     "grade": false,
     "grade_id": "cell-311a7e806a35fabe",
     "locked": true,
     "schema_version": 3,
     "solution": false,
     "task": false
    }
   },
   "source": [
    "The letters that identify the operations are:\n",
    "- A: `=`\n",
    "- B: `!=`\n",
    "- C: `+`\n",
    "- D: `and`\n",
    "- E: `**`\n",
    "- F: `>`\n",
    "- G: `or`"
   ]
  },
  {
   "cell_type": "code",
   "execution_count": null,
   "id": "cd5e38f2",
   "metadata": {
    "deletable": false,
    "nbgrader": {
     "grade": false,
     "grade_id": "cell-2910243951622497",
     "locked": false,
     "schema_version": 3,
     "solution": true,
     "task": false
    }
   },
   "outputs": [],
   "source": [
    "# Create a list named operators_list that contains the identifiers of the operators sorted by the execution order.\n",
    "# Make sure that you type the strings exactly.\n",
    "\n",
    "# operators_list = ...\n",
    "# YOUR CODE HERE\n",
    "raise NotImplementedError()"
   ]
  },
  {
   "cell_type": "code",
   "execution_count": null,
   "id": "adfb8a80",
   "metadata": {
    "deletable": false,
    "editable": false,
    "nbgrader": {
     "grade": true,
     "grade_id": "cell-4a271c9901ebcdd3",
     "locked": true,
     "points": 1,
     "schema_version": 3,
     "solution": false,
     "task": false
    }
   },
   "outputs": [],
   "source": [
    "assert isinstance(operators_list, list), \"Review the data type of operators_list.\"\n",
    "assert len(operators_list) == 7, \"The number of strings is incorrect.\"\n",
    "assert hashlib.sha256(json.dumps(''.join(operators_list).upper()).encode()).hexdigest() == \\\n",
    "'1ffc8471817a2bf2b5d0b24e0b799a943dd5d88be520ed09b052cdbe70e487b3', 'The operator order is not correct.'\n",
    "print(\"Your solution is correct!\")"
   ]
  },
  {
   "cell_type": "markdown",
   "id": "d4098893",
   "metadata": {
    "deletable": false,
    "editable": false,
    "nbgrader": {
     "grade": false,
     "grade_id": "cell-887d95c7670d87b1",
     "locked": true,
     "schema_version": 3,
     "solution": false,
     "task": false
    }
   },
   "source": [
    "### 1.3) if statements¶\n",
    "\n",
    "The candidates' colors are assigned using the following Python code. \n",
    "\n",
    "<img src=\"./media/if_code.png\" />\n",
    "\n",
    "Please use your logic, rather than executing the code, and decide which colors are assigned to the following players:\n",
    "\n",
    "    *\tKistapho\n",
    "    *\tVilawi\n",
    "    *\tBaxla\n",
    "    *\tQintari"
   ]
  },
  {
   "cell_type": "code",
   "execution_count": null,
   "id": "795b7a97",
   "metadata": {
    "deletable": false,
    "nbgrader": {
     "grade": false,
     "grade_id": "cell-86b889f5f10ed961",
     "locked": false,
     "schema_version": 3,
     "solution": true,
     "task": false
    }
   },
   "outputs": [],
   "source": [
    "# Assign the color for each candidate resulting from the code above to these variables:\n",
    "\n",
    "# kistapho_color = ...\n",
    "# vilawi_color = ...\n",
    "# baxla_color = ...\n",
    "# qintari_color = ...\n",
    "\n",
    "# YOUR CODE HERE\n",
    "raise NotImplementedError()"
   ]
  },
  {
   "cell_type": "code",
   "execution_count": null,
   "id": "fd43f367",
   "metadata": {
    "deletable": false,
    "editable": false,
    "nbgrader": {
     "grade": true,
     "grade_id": "cell-a68470c659fe1a28",
     "locked": true,
     "points": 1,
     "schema_version": 3,
     "solution": false,
     "task": false
    }
   },
   "outputs": [],
   "source": [
    "assert isinstance(kistapho_color, str), \"Variable kistapho_color should be a string.\"\n",
    "assert isinstance(vilawi_color, str), \"Variable vilawi_color should be a string.\"\n",
    "assert isinstance(baxla_color, str), \"Variable baxla_color should be a string.\"\n",
    "assert isinstance(qintari_color, str), \"Variable qintari_color should be a string.\"\n",
    "\n",
    "assert hashlib.sha256(json.dumps(kistapho_color).encode()).hexdigest() == '3aae004f448787fcf06c2d53933fff00a45fc5117c21e1070f967e37d43760ef', \"The value of kistapho_color is incorrect.\"\n",
    "assert hashlib.sha256(json.dumps(vilawi_color).encode()).hexdigest() == 'e3c587c5f6c356d0d488392bc278fe2c1732f8029f311508e48df180e5ed8356', \"The value of vilawi_color is incorrect.\"\n",
    "assert hashlib.sha256(json.dumps(baxla_color).encode()).hexdigest() == 'c72b530ab18e2b7c06129203771c7e5ae28618a981c971046e47fb19693a6f23', \"The value of baxla_color is incorrect.\"\n",
    "assert hashlib.sha256(json.dumps(qintari_color).encode()).hexdigest() == '4bc9274d8758b867e8c071a6082c68a2eb1668fc5ad34f631f96bf94f354c1e1', \"The value of qintari_color is incorrect.\"\n",
    "print(\"Your solution is correct!\")"
   ]
  },
  {
   "cell_type": "markdown",
   "id": "5d83e56a",
   "metadata": {
    "deletable": false,
    "editable": false,
    "nbgrader": {
     "grade": false,
     "grade_id": "cell-5f52e2f0c33c6ba2",
     "locked": true,
     "schema_version": 3,
     "solution": false,
     "task": false
    }
   },
   "source": [
    "## Part 2 - While & For Loops\n",
    "\n",
    "In order to qualify for Game X, the candidates must meet the following requirements:\n",
    "- Height >= 800 cm\n",
    "- 5 < BMI < 20\n"
   ]
  },
  {
   "cell_type": "markdown",
   "id": "cfb924f4",
   "metadata": {
    "deletable": false,
    "editable": false,
    "nbgrader": {
     "grade": false,
     "grade_id": "cell-a8efda994dd737c1",
     "locked": true,
     "schema_version": 3,
     "solution": false,
     "task": false
    }
   },
   "source": [
    "### 2.1) Calculate BMI\n",
    "\n",
    "Read candidates' characteristics from `candidate_dict`, and calculate their `BMI` using the following formula. \n",
    "\n",
    "Update the dictionary with their BMI using the key `bmi`. **Pay attention to the unit**, convert if necessary.\n",
    "    \n",
    "$$BMI = \\frac{Weight}{Height^{2}} $$\n",
    "             \n",
    "                                                                where\n",
    "                                                                    Weight is measured in kg\n",
    "                                                                    Height is measured in meters\n"
   ]
  },
  {
   "cell_type": "code",
   "execution_count": null,
   "id": "2669d370",
   "metadata": {
    "deletable": false,
    "nbgrader": {
     "grade": false,
     "grade_id": "cell-e1b6130c39f10570",
     "locked": false,
     "schema_version": 3,
     "solution": true,
     "task": false
    }
   },
   "outputs": [],
   "source": [
    "# Calculate BMI for each candidate and add the results to candidate_dict.\n",
    "\n",
    "# YOUR CODE HERE\n",
    "raise NotImplementedError()"
   ]
  },
  {
   "cell_type": "code",
   "execution_count": null,
   "id": "1fe7a4cc",
   "metadata": {
    "deletable": false,
    "editable": false,
    "nbgrader": {
     "grade": true,
     "grade_id": "cell-be5348ea4d11a7d7",
     "locked": true,
     "points": 2,
     "schema_version": 3,
     "solution": false,
     "task": false
    }
   },
   "outputs": [],
   "source": [
    "assert sum([len(candidate_dict[k]) for k in candidate_dict.keys()]) == 55, 'Some of the nested candidate dictionaries have incorrect length.'\n",
    "for candidate in candidate_dict.keys():\n",
    "    assert set(candidate_dict[candidate].keys()) == set(['age', 'height', 'strength', 'weight', 'bmi']), \\\n",
    "    f\"The {candidate} dictionary has mismatched candidate characteristics.\"\n",
    "\n",
    "assert math.isclose(candidate_dict[\"Squindle\"][\"bmi\"], 2.91, abs_tol=0.01), \"The BMI for Squindle is incorrect.\"\n",
    "assert math.isclose(candidate_dict[\"Flort\"][\"bmi\"], 5.12, abs_tol=0.01), \"The BMI for Flort is incorrect.\"\n",
    "assert math.isclose(candidate_dict[\"Hambula\"][\"bmi\"], 6.43, abs_tol=0.01), \"The BMI for Hambula is incorrect.\"\n",
    "assert math.isclose(candidate_dict[\"Kistapho\"][\"bmi\"], 2.52, abs_tol=0.01), \"The BMI for Kistapho is incorrect.\"\n",
    "assert math.isclose(candidate_dict[\"Vilawi\"][\"bmi\"], 7.92, abs_tol=0.01), \"The BMI for Vilawi is incorrect.\"\n",
    "assert math.isclose(candidate_dict[\"Anhaular\"][\"bmi\"], 13.31, abs_tol=0.01), \"The BMI for Anhaular is incorrect.\"\n",
    "assert math.isclose(candidate_dict[\"Qintari\"][\"bmi\"], 1.74, abs_tol=0.01), \"The BMI for Qintari is incorrect.\"\n",
    "assert math.isclose(candidate_dict[\"Wendu\"][\"bmi\"], 5555.56, abs_tol=0.01), \"The BMI for Wendu is incorrect.\"\n",
    "assert math.isclose(candidate_dict[\"Baxla\"][\"bmi\"], 6.06, abs_tol=0.01), \"The BMI for Baxla is incorrect.\"\n",
    "assert math.isclose(candidate_dict[\"Uluetto\"][\"bmi\"], 19.66, abs_tol=0.01), \"The BMI for Uluetto is incorrect.\"\n",
    "assert math.isclose(candidate_dict[\"Reomult\"][\"bmi\"], 5.67, abs_tol=0.01), \"The BMI for Reomult is incorrect.\"\n",
    "\n",
    "print(\"Your solution is correct!\")"
   ]
  },
  {
   "cell_type": "markdown",
   "id": "81b0e538",
   "metadata": {
    "deletable": false,
    "editable": false,
    "nbgrader": {
     "grade": false,
     "grade_id": "cell-a63d330a6a1e1129",
     "locked": true,
     "schema_version": 3,
     "solution": false,
     "task": false
    }
   },
   "source": [
    "### 2.2) Power Potion to Increase Height\n",
    "\n",
    "Baby `Wendu` really wants to compete in the game. She is very advanced for her age, but her height doesn´t meet the minimum requirement for Game X (i.e. `height >= 800cm`). Luckily there is a power potion that she can inhale that will double her height every minute. \n",
    "\n",
    "Use a loop to calculate the `minimum time` she needs to inhale the power potion to reach the height requirement. Update the `candidates dictionary` with her new `height` and `BMI`. \n",
    "\n",
    "Note - If you want to re-execute the cell after it completes successfully the first time around, you may need to reset the dictionary by re-running the dictionary creation cell in exercise 1.1"
   ]
  },
  {
   "cell_type": "code",
   "execution_count": null,
   "id": "780b988d",
   "metadata": {
    "deletable": false,
    "nbgrader": {
     "grade": false,
     "grade_id": "cell-64700ac1d2373664",
     "locked": false,
     "schema_version": 3,
     "solution": true,
     "task": false
    }
   },
   "outputs": [],
   "source": [
    "# Calculate the minimum time for Wendu to reach the required height for Game X, \n",
    "# and store it in the variable time_taken\n",
    "# update the candidate dictionary for Wendu\n",
    "\n",
    "# time_taken = ...\n",
    "# candidate_dict[\"Wendu\"][\"height\"] = ...\n",
    "# candidate_dict[\"Wendu\"][\"bmi\"] = ...\n",
    "\n",
    "# YOUR CODE HERE\n",
    "raise NotImplementedError()"
   ]
  },
  {
   "cell_type": "code",
   "execution_count": null,
   "id": "e93bb465",
   "metadata": {
    "deletable": false,
    "editable": false,
    "nbgrader": {
     "grade": true,
     "grade_id": "cell-96095f682edc0492",
     "locked": true,
     "points": 2,
     "schema_version": 3,
     "solution": false,
     "task": false
    }
   },
   "outputs": [],
   "source": [
    "assert isinstance(candidate_dict[\"Wendu\"][\"height\"], int), \"Review the data type of Wendu's height.\"\n",
    "assert isinstance(candidate_dict[\"Wendu\"][\"bmi\"], float), \"Review the data type of Wendu's BMI.\"\n",
    "assert isinstance(time_taken, int), \"Review the data type of the time taken.\"\n",
    "\n",
    "assert hashlib.sha256(json.dumps(time_taken).encode()).hexdigest() == '19581e27de7ced00ff1ce50b2047e7a567c76b1cbaebabe5ef03f7c3017bb5b7', \"The value of time taken is incorrect.\"\n",
    "assert hashlib.sha256(json.dumps(candidate_dict[\"Wendu\"][\"height\"]).encode()).hexdigest() == 'b51e45a12fbae3d0ee2bf77f1a4f80cbf642e2b4d1c237d2c0f7053a54f6b388', \"The value of Wendu's height is incorrect.\"\n",
    "assert math.isclose(candidate_dict[\"Wendu\"][\"bmi\"], 0.021, abs_tol=0.001), \"The BMI for Wendu is incorrect.\"\n",
    "print(f'Wendu\\'s new values: height {candidate_dict[\"Wendu\"][\"height\"]}, bmi {candidate_dict[\"Wendu\"][\"bmi\"]}')\n",
    "print(\"Your solution is correct!\")"
   ]
  },
  {
   "cell_type": "markdown",
   "id": "a1c5715c",
   "metadata": {
    "deletable": false,
    "editable": false,
    "nbgrader": {
     "grade": false,
     "grade_id": "cell-d5f1c4eb2e00f76c",
     "locked": true,
     "schema_version": 3,
     "solution": false,
     "task": false
    }
   },
   "source": [
    "### 2.3) Balls of Hopstow to Increase Weight\n",
    "\n",
    "Now baby Wendu needs to gain some weight, as her BMI falls well below the requirement (`5 < BMI < 20`). \n",
    "\n",
    "In Planet X, eating `Balls of Hopstow` increases a person’s weight by 10 kg. How many balls of Hopstow does Wendu need to eat, in order to enter the game? Update the `candidates dictionary` with her new `weight` and her new `BMI`."
   ]
  },
  {
   "cell_type": "code",
   "execution_count": null,
   "id": "d5188ad2",
   "metadata": {
    "deletable": false,
    "editable": false,
    "nbgrader": {
     "grade": false,
     "grade_id": "cell-eb4e2ba8d61dc7fc",
     "locked": true,
     "schema_version": 3,
     "solution": false,
     "task": false
    }
   },
   "outputs": [],
   "source": [
    "# This cell contains the original characteristics of Wendu.\n",
    "# Do not run it after executing your solution,\n",
    "# unless you want to reset to the original values.\n",
    "\n",
    "wendu_weight_original =  candidate_dict[\"Wendu\"][\"weight\"]\n",
    "wendu_bmi_original =  candidate_dict[\"Wendu\"][\"bmi\"]\n"
   ]
  },
  {
   "cell_type": "code",
   "execution_count": null,
   "id": "4704fc95",
   "metadata": {
    "deletable": false,
    "nbgrader": {
     "grade": false,
     "grade_id": "cell-cb72287d39f4d7da",
     "locked": false,
     "schema_version": 3,
     "solution": true,
     "task": false
    }
   },
   "outputs": [],
   "source": [
    "# Calculate the number of balls of Hopstow Wendu needs to consume, and store it in the variable num_balls.\n",
    "# keep track of Wendu's BMI changes by storing each value in bmi_list, starting with her original BMI\n",
    "# update candidate_dict with Wendu's new values\n",
    "\n",
    "# candidate_dict[\"Wendu\"][\"weight\"] = wendu_weight_original\n",
    "# candidate_dict[\"Wendu\"][\"bmi\"] = wendu_bmi_original\n",
    "\n",
    "# bmi_list = [...]\n",
    "# num_balls = ...\n",
    "\n",
    "# YOUR CODE HERE\n",
    "raise NotImplementedError()"
   ]
  },
  {
   "cell_type": "code",
   "execution_count": null,
   "id": "877e0468",
   "metadata": {
    "deletable": false,
    "editable": false,
    "nbgrader": {
     "grade": true,
     "grade_id": "cell-329ed1829c380112",
     "locked": true,
     "points": 2,
     "schema_version": 3,
     "solution": false,
     "task": false
    }
   },
   "outputs": [],
   "source": [
    "assert isinstance(num_balls, int), \"Review the data type of the time taken.\"\n",
    "assert isinstance(candidate_dict[\"Wendu\"][\"weight\"], int), \"Review the data type of Wendu's weight.\"\n",
    "assert isinstance(candidate_dict[\"Wendu\"][\"bmi\"], float), \"Review the data type of Wendu's BMI.\"\n",
    "\n",
    "assert hashlib.sha256(json.dumps(num_balls).encode()).hexdigest() == '85daaf6f7055cd5736287faed9603d712920092c4f8fd0097ec3b650bf27530e', \"The value of num_balls is incorrect.\"\n",
    "assert hashlib.sha256(json.dumps(len(bmi_list)).encode()).hexdigest() == \"3038bfb575bee6a0e61945eff8784835bb2c720634e42734678c083994b7f018\", \"The number of items in bmi_list is incorrect.\"\n",
    "assert hashlib.sha256(json.dumps(candidate_dict[\"Wendu\"][\"weight\"]).encode()).hexdigest() == \"efec9aaf21433bf806e7681de337cac7dbecfbf17b22ad3bcdfe5e46e564f32f\", \"The weight for Wendu is incorrect.\"\n",
    "\n",
    "assert math.isclose(candidate_dict[\"Wendu\"][\"bmi\"], 5.02, abs_tol=0.01), \"The BMI for Wendu is incorrect.\"\n",
    "print(f'Wendu\\'s new values: weight {candidate_dict[\"Wendu\"][\"weight\"]}, bmi {candidate_dict[\"Wendu\"][\"bmi\"]}')\n",
    "print(f'bmi_list {bmi_list}')\n",
    "print(f'number of balls eaten {num_balls}')\n",
    "print(\"Your solution is correct!\")"
   ]
  },
  {
   "cell_type": "markdown",
   "id": "c2c1ddf6",
   "metadata": {
    "deletable": false,
    "editable": false,
    "nbgrader": {
     "grade": false,
     "grade_id": "cell-1ca5e6fc8ab676da",
     "locked": true,
     "schema_version": 3,
     "solution": false,
     "task": false
    }
   },
   "source": [
    "### 2.4) Calculate the Prize Pool\n",
    "\n",
    "The prize pool for Game X consists of `100 coins`, where the value of each coin `increases by 3` incrementally, i.e. the first coin is worth 1 point, the second is worth 4 points, the third is worth 7 points, etc. \n",
    "\n",
    "What is the total value of the prize pool? "
   ]
  },
  {
   "cell_type": "code",
   "execution_count": null,
   "id": "0eef10da",
   "metadata": {
    "deletable": false,
    "nbgrader": {
     "grade": false,
     "grade_id": "cell-3243cc018c19ef15",
     "locked": false,
     "schema_version": 3,
     "solution": true,
     "task": false
    }
   },
   "outputs": [],
   "source": [
    "# store the value in the variable prize_pool\n",
    "\n",
    "# prize_pool = ...\n",
    "\n",
    "# YOUR CODE HERE\n",
    "raise NotImplementedError()"
   ]
  },
  {
   "cell_type": "code",
   "execution_count": null,
   "id": "69e2164e",
   "metadata": {
    "deletable": false,
    "editable": false,
    "nbgrader": {
     "grade": true,
     "grade_id": "cell-40809f394cee6d36",
     "locked": true,
     "points": 2,
     "schema_version": 3,
     "solution": false,
     "task": false
    }
   },
   "outputs": [],
   "source": [
    "assert isinstance(prize_pool, int), \"Review the data type of the prize_pool.\"\n",
    "assert hashlib.sha256(json.dumps(prize_pool).encode()).hexdigest() == '4bd6fb30bbbaba340fb0267845a29e13ac60300746152fb9ce3fc7434586e207', \"The value of prize_pool is incorrect.\"\n",
    "print(f'prize pool {prize_pool}')\n",
    "print(\"Your solution is correct!\")\n"
   ]
  },
  {
   "cell_type": "markdown",
   "id": "31cb22ce",
   "metadata": {
    "deletable": false,
    "editable": false,
    "nbgrader": {
     "grade": false,
     "grade_id": "cell-0bb2d7aec4323fc5",
     "locked": true,
     "schema_version": 3,
     "solution": false,
     "task": false
    }
   },
   "source": [
    "## Part 3 - Using Conditionals and Loops together "
   ]
  },
  {
   "cell_type": "markdown",
   "id": "af12ad70",
   "metadata": {
    "deletable": false,
    "editable": false,
    "nbgrader": {
     "grade": false,
     "grade_id": "cell-159952211aa2aff6",
     "locked": true,
     "schema_version": 3,
     "solution": false,
     "task": false
    }
   },
   "source": [
    "### 3.1) Identify the Players that Qualify\n",
    "\n",
    "Using the `candidates dictionary` above, which of the candidates now satisfy the following criteria and thus qualify for Game X? \n",
    "*    Height >= 800 cm\n",
    "*    5 < BMI < 20\n",
    "\n",
    "Use a loop and store their names in the `player_list`, and then sort them in `alphabetical order`."
   ]
  },
  {
   "cell_type": "code",
   "execution_count": null,
   "id": "252b4219",
   "metadata": {
    "deletable": false,
    "nbgrader": {
     "grade": false,
     "grade_id": "cell-07713da08525370c",
     "locked": false,
     "schema_version": 3,
     "solution": true,
     "task": false
    }
   },
   "outputs": [],
   "source": [
    "# Create a list named player_list to store the names of players that qualify for Game X\n",
    "\n",
    "# player_list = [...]\n",
    "\n",
    "# YOUR CODE HERE\n",
    "raise NotImplementedError()"
   ]
  },
  {
   "cell_type": "code",
   "execution_count": null,
   "id": "4a732bfd",
   "metadata": {
    "deletable": false,
    "editable": false,
    "nbgrader": {
     "grade": true,
     "grade_id": "cell-9477efc58181088a",
     "locked": true,
     "points": 2,
     "schema_version": 3,
     "solution": false,
     "task": false
    }
   },
   "outputs": [],
   "source": [
    "assert isinstance(player_list, list), \"Variable player_list should be a list.\"\n",
    "assert hashlib.sha256(json.dumps(len(player_list)).encode()).hexdigest() == '2c624232cdd221771294dfbb310aca000a0df6ac8b66b696d90ef06fdefb64a3', \"The number of items in player_list is incorrect.\"\n",
    "assert hashlib.sha256(json.dumps(''.join(player_list)).encode()).hexdigest() == 'cfaca8aace4a00f2274aabc8062b1c8b0515e5991d0af06560889d7afbe46778', 'At least one player is incorrect or the list in not sorted well.'\n",
    "print(f'player_list {player_list}')\n",
    "print(\"Your solution is correct!\")"
   ]
  },
  {
   "cell_type": "markdown",
   "id": "5ab033cd",
   "metadata": {
    "deletable": false,
    "editable": false,
    "nbgrader": {
     "grade": false,
     "grade_id": "cell-46111752691e153d",
     "locked": true,
     "schema_version": 3,
     "solution": false,
     "task": false
    }
   },
   "source": [
    "### 3.2) Climb that Wall\n",
    "\n",
    "Now that we have a `list of the players`, the game begins! The first challenge is a climbing competition. The players will be given `5 minutes` to ascend the `Wall to Nowhere`. \n",
    "\n",
    "Unfortunately their climbing rate is proportional to their height. Players shorter than `1200 cm` can climb **$\\frac{1}{2}$ of their height** per minute while the other player climbs at the rate of **$\\frac{1}{3}$ of their height** per minute. \n",
    "\n",
    "As a show of respect for the elders, players older than `500 years` start at `15 meters` above ground.\n",
    "\n",
    "This can be solved using a simple mathematical equation, however, you can also try to implement it as a `for loop` challenge.\n",
    "\n",
    "Store the result of each player in the dictionary `climb_dict_5min`, with the player names being the top level key. ie. `climb_dict_5min[\"Wendu\"]` shows the height achieved, **in centimeters**, by Wendu in the 5 minute period. Please `round down` your answers to the nearest integer values. Hint - check out the `math.floor()` function."
   ]
  },
  {
   "cell_type": "code",
   "execution_count": null,
   "id": "a4777bd2",
   "metadata": {
    "deletable": false,
    "nbgrader": {
     "grade": false,
     "grade_id": "cell-795209a88bb2fb19",
     "locked": false,
     "schema_version": 3,
     "solution": true,
     "task": false
    }
   },
   "outputs": [],
   "source": [
    "# Create a dictionary named climb_dict_5min that uses the player names as the keys\n",
    "# to store the height they reached after 5 minutes\n",
    "\n",
    "# climb_dict_5min = ...\n",
    "\n",
    "# YOUR CODE HERE\n",
    "raise NotImplementedError()"
   ]
  },
  {
   "cell_type": "code",
   "execution_count": null,
   "id": "32570376",
   "metadata": {
    "deletable": false,
    "editable": false,
    "nbgrader": {
     "grade": true,
     "grade_id": "cell-94399f58ba746112",
     "locked": true,
     "points": 2,
     "schema_version": 3,
     "solution": false,
     "task": false
    }
   },
   "outputs": [],
   "source": [
    "assert isinstance(climb_dict_5min, dict), \"Variable climb_dict_5min should be a dictionary.\"\n",
    "assert hashlib.sha256(json.dumps(len(climb_dict_5min)).encode()).hexdigest() == \\\n",
    "'2c624232cdd221771294dfbb310aca000a0df6ac8b66b696d90ef06fdefb64a3', \"The number of items in climb_dict_5min is incorrect.\"\n",
    "assert hashlib.sha256(json.dumps(''.join(sorted([key for key in climb_dict_5min]))).encode()).hexdigest() == \\\n",
    "'cfaca8aace4a00f2274aabc8062b1c8b0515e5991d0af06560889d7afbe46778', 'Some of the player names in the dictionary are not correct.'\n",
    "assert hashlib.sha256(json.dumps(''.join(sorted([key+str(climb_dict_5min[key]) for key in climb_dict_5min]))).encode()).hexdigest() == \\\n",
    "'0a82d5146429bb5dfa5fda137b29a36d0f7f02bbf638bc1777505b7fec532506', 'Some of the height values in the dictionary are not correct.'\n",
    "\n",
    "print(climb_dict_5min)\n",
    "print(\"Your solution is correct!\")"
   ]
  },
  {
   "cell_type": "markdown",
   "id": "6af710a7",
   "metadata": {
    "deletable": false,
    "editable": false,
    "nbgrader": {
     "grade": false,
     "grade_id": "cell-c6224960ad708aab",
     "locked": true,
     "schema_version": 3,
     "solution": false,
     "task": false
    }
   },
   "source": [
    "### 3.3) Identify Top Two Players\n",
    "\n",
    "Consider the results list of the Climb the Wall competition from exercise 3.2 (the `climb_dict_5min` dictionary). What is the order of the players in the results list ordered by the height to which they climbed? Store this answer in the list `climb_result`, with the first element in the list representing the player who climbed the highest, the second element the second highest, and so on.\n",
    "\n",
    "Additionally, store the names of the two players who finished the highest and the second highest as `first_player` and `second_player`, respectively.\n",
    "\n",
    "Hint - you may want to use the function `sorted()` (https://stackoverflow.com/questions/20944483/python-3-sort-a-dict-by-its-values)"
   ]
  },
  {
   "cell_type": "code",
   "execution_count": null,
   "id": "14bb66a2",
   "metadata": {
    "deletable": false,
    "nbgrader": {
     "grade": false,
     "grade_id": "cell-1c27c3f79e813777",
     "locked": false,
     "schema_version": 3,
     "solution": true,
     "task": false
    }
   },
   "outputs": [],
   "source": [
    "# Create a list named climb_result to store the results of the climbing competiton, with the first player \n",
    "# being the first item in the list\n",
    "# Then store the names of the first two players in separate variables\n",
    "\n",
    "# climb_result = [...]\n",
    "#first_player = [...]\n",
    "#second_player = [...]\n",
    "\n",
    "# YOUR CODE HERE\n",
    "raise NotImplementedError()"
   ]
  },
  {
   "cell_type": "code",
   "execution_count": null,
   "id": "052a7626-583b-49c3-b263-f9d7b41b06c1",
   "metadata": {
    "deletable": false,
    "editable": false,
    "nbgrader": {
     "grade": false,
     "grade_id": "cell-ff89bd3bbcc62d6f",
     "locked": true,
     "schema_version": 3,
     "solution": false,
     "task": false
    }
   },
   "outputs": [],
   "source": [
    "hashlib.sha256(json.dumps(''.join(climb_result)).encode()).hexdigest()"
   ]
  },
  {
   "cell_type": "code",
   "execution_count": null,
   "id": "1bbe2fab",
   "metadata": {
    "deletable": false,
    "editable": false,
    "nbgrader": {
     "grade": true,
     "grade_id": "cell-bb53cd4163fb8b7f",
     "locked": true,
     "points": 0,
     "schema_version": 3,
     "solution": false,
     "task": false
    }
   },
   "outputs": [],
   "source": [
    "assert isinstance(climb_result, list), \"climb_result should be a list.\"\n",
    "assert hashlib.sha256(json.dumps(len(climb_result)).encode()).hexdigest() == '2c624232cdd221771294dfbb310aca000a0df6ac8b66b696d90ef06fdefb64a3', \"The number of items in climb_result is incorrect.\"\n",
    "assert hashlib.sha256(json.dumps(''.join(climb_result)).encode()).hexdigest() == 'a012052acac0db65b6af315822cb9dd361375f36bd9b2417e99d52653f6c591f', 'The order of players in climb_result is not correct.'\n",
    "assert hashlib.sha256(json.dumps(first_player).encode()).hexdigest() == '24029ead2901c23cd16269bb4f5d0448c2f3c3d3f7d10b1bbfa5e35533281137', \"The name of first_player is incorrect.\"\n",
    "assert hashlib.sha256(json.dumps(second_player).encode()).hexdigest() == '58bd1fe653cf915a620289aceb40938d3a0c88d3338b77f379d64c50b35bece4', \"The name of second_player is incorrect.\"\n",
    "print(f'First player: {first_player}, second player: {second_player}')\n",
    "print(climb_result)\n",
    "print(\"Your solution is correct!\")"
   ]
  },
  {
   "cell_type": "markdown",
   "id": "1ae34d9e",
   "metadata": {
    "deletable": false,
    "editable": false,
    "nbgrader": {
     "grade": false,
     "grade_id": "cell-fb7b3d7ce032f8f7",
     "locked": true,
     "schema_version": 3,
     "solution": false,
     "task": false
    }
   },
   "source": [
    "### 3.4) Fill that Jar (Relay) - Optional (ungraded)\n",
    "\n",
    "The next challenge in Game X is a team competition. Two teams have been formed, with the following players:\n",
    "\n",
    "    team_1 : ['Reomult', 'Anhaular', 'Wendu', 'Uluetto']\n",
    "    team_2 : ['Vilawi', 'Flort', 'Hambula', 'Baxla']\n",
    "\n",
    "They enter a relay-style challenge where each team needs to fill a tank with `1000 litres of water`. The players will take turns in filling the tank.\n",
    "\n",
    "In each turn, the first player of each team carries water to the tank for one minute, then the second players carry water for one minute, and so on. After each player has had a turn, the first players start again. This process continues until the entire tank has been filled.\n",
    "\n",
    "It so happens that the amount each player manages to carry at each turn (in one minute) is proportional to their `strength * weight`, i.e. \n",
    "     \n",
    "$$ water\\ filled = player\\ strength * player\\ weight * \\frac{1}{50} $$     \n",
    "\n",
    "Use loops and conditionals to determine which team fills their tank first. Determine also who is the `last player in the winning team` and `how many turns` did it take to fill the tank."
   ]
  },
  {
   "cell_type": "code",
   "execution_count": null,
   "id": "e39dcdac",
   "metadata": {
    "deletable": false,
    "nbgrader": {
     "grade": false,
     "grade_id": "cell-6480d4fd20c9ba1f",
     "locked": false,
     "schema_version": 3,
     "solution": true,
     "task": false
    }
   },
   "outputs": [],
   "source": [
    "# Determine which is the winning team, the last player in the winning team who carried water to the tank,\n",
    "# and how many turns did it take\n",
    "# To verify that your program is working correctly, it might be helpful to store the player names in each round\n",
    "# as well as using lists to capture the change of water levels for each team\n",
    "\n",
    "team_1 = ['Reomult', 'Anhaular', 'Wendu', 'Uluetto']\n",
    "team_2 = ['Vilawi', 'Flort', 'Hambula', 'Baxla']\n",
    "    \n",
    "# winning_team = ...  team_1 or team_2\n",
    "# last_player = ...\n",
    "# number_of_turns = ...\n",
    "\n",
    "# YOUR CODE HERE\n",
    "raise NotImplementedError()"
   ]
  },
  {
   "cell_type": "code",
   "execution_count": null,
   "id": "0d568d8e",
   "metadata": {
    "deletable": false,
    "editable": false,
    "nbgrader": {
     "grade": true,
     "grade_id": "cell-83b070269298a5c0",
     "locked": true,
     "points": 0,
     "schema_version": 3,
     "solution": false,
     "task": false
    }
   },
   "outputs": [],
   "source": [
    "assert isinstance(winning_team, str), \"Review the data type of winning_team.\"\n",
    "assert isinstance(last_player, str), \"Review the data type of last_player.\"\n",
    "assert isinstance(number_of_turns, int), \"Review the data type of number_of_fills.\"\n",
    "\n",
    "assert hashlib.sha256(json.dumps(winning_team).encode()).hexdigest() == 'c59616eb4cba06a364fa2c79b4d09b3a556d7d6e02c1c0826e06a8c94daa65fc', \"winning_team is incorrect.\"\n",
    "assert hashlib.sha256(json.dumps(last_player).encode()).hexdigest() == '24029ead2901c23cd16269bb4f5d0448c2f3c3d3f7d10b1bbfa5e35533281137', \"last_player is incorrect.\"\n",
    "assert hashlib.sha256(json.dumps(number_of_turns).encode()).hexdigest() == 'ef2d127de37b942baad06145e54b0c619a1f22327b2ebbcfbec78f5564afe39d', \"The number_of_fills is incorrect.\"\n",
    "print(f'winning team: {winning_team}, last player: {last_player}, number of turns: {number_of_turns}')\n",
    "print(\"Your solution is correct!\")"
   ]
  },
  {
   "cell_type": "markdown",
   "id": "11894b5b",
   "metadata": {
    "deletable": false,
    "editable": false,
    "nbgrader": {
     "grade": false,
     "grade_id": "cell-a32538960ed3f8b8",
     "locked": true,
     "schema_version": 3,
     "solution": false,
     "task": false
    }
   },
   "source": [
    "## Part 4 - List Comprehension"
   ]
  },
  {
   "cell_type": "markdown",
   "id": "b1098db9",
   "metadata": {
    "deletable": false,
    "editable": false,
    "nbgrader": {
     "grade": false,
     "grade_id": "cell-1d738c0521b3d1a0",
     "locked": true,
     "schema_version": 3,
     "solution": false,
     "task": false
    }
   },
   "source": [
    "### 4.1) Identify Digits in Strings\n",
    "\n",
    "The prize gallery in Game X is a labyrinth with `1000 rooms` numbered from `0 to 999`. The playmaker informs the team that the prizes are stored in a `room with room number divisible by 3`.\n",
    "\n",
    "Use List Comprehension to save a list of rooms potentially containing prizes, in the list `possible_prize_rooms`. The list should contain the rooms in ascending order.\n",
    "\n",
    "Hint - if you are new to list comprehension, it may help to write out how you would implement the solution using a traditional for loop first. It could be easier to convert it to the list comprehension after you nailed down the logic."
   ]
  },
  {
   "cell_type": "code",
   "execution_count": null,
   "id": "c91197bf",
   "metadata": {
    "deletable": false,
    "nbgrader": {
     "grade": false,
     "grade_id": "cell-2fbc492c5b843c6d",
     "locked": false,
     "schema_version": 3,
     "solution": true,
     "task": false
    }
   },
   "outputs": [],
   "source": [
    "# Use list comprehension to identify rooms potentially containing prizes\n",
    "\n",
    "# possible_prize_rooms = [...]\n",
    "\n",
    "# YOUR CODE HERE\n",
    "raise NotImplementedError()"
   ]
  },
  {
   "cell_type": "code",
   "execution_count": null,
   "id": "cbe58073",
   "metadata": {
    "deletable": false,
    "editable": false,
    "nbgrader": {
     "grade": true,
     "grade_id": "cell-3db9af8dbeef62e4",
     "locked": true,
     "points": 2,
     "schema_version": 3,
     "solution": false,
     "task": false
    }
   },
   "outputs": [],
   "source": [
    "assert isinstance(possible_prize_rooms, list), \"Variable possible_prize_rooms should be a list.\"\n",
    "assert hashlib.sha256(json.dumps(len(possible_prize_rooms)).encode()).hexdigest() == '058d5d43bf485bf78dda1ed4eaf8b78e3106f3c6364c625ead2cc3aeb1908237', \"The number of items in possible_prize_rooms is incorrect.\"\n",
    "assert hashlib.sha256(json.dumps(sum(possible_prize_rooms)).encode()).hexdigest() == 'a4da607160e448dffd2544a541c229b12825542c08b402b340ba9f102cfc90e2', 'The possible_prize_room list is not correct.'\n",
    "assert hashlib.sha256(json.dumps(''.join([str(i) for i in possible_prize_rooms])).encode()).hexdigest() == '9cd6260f7e975ea0c5796979925e5f709e3df84040bcd31a1fde25ffb04f55cf', 'The order of rooms in the list is not correct.'\n",
    "print(possible_prize_rooms)\n",
    "print(\"Your solution is correct!\")"
   ]
  },
  {
   "cell_type": "markdown",
   "id": "7ce60fed",
   "metadata": {
    "deletable": false,
    "editable": false,
    "nbgrader": {
     "grade": false,
     "grade_id": "cell-0049cd277956f3fa",
     "locked": true,
     "schema_version": 3,
     "solution": false,
     "task": false
    }
   },
   "source": [
    "### 4.2) Challenge Question on List Comprehension - optional (ungraded)\n",
    "\n",
    "Some rooms in the prize gallery contain nasty bugs and explosives, and you would want to avoid them. The playmaker kindly informs the team that these rooms are divisible by at least one digit from 4 to 9. Use nested list comprehension to find the list of buggy rooms and store them in `possible_buggy_rooms`"
   ]
  },
  {
   "cell_type": "code",
   "execution_count": null,
   "id": "51650e6e",
   "metadata": {
    "deletable": false,
    "nbgrader": {
     "grade": false,
     "grade_id": "cell-57383b2e4efaea1d",
     "locked": false,
     "schema_version": 3,
     "solution": true,
     "task": false
    }
   },
   "outputs": [],
   "source": [
    "# Use list comprehension to identify potentially buggy rooms\n",
    "\n",
    "# possible_buggy_rooms = [...]\n",
    "\n",
    "# YOUR CODE HERE\n",
    "raise NotImplementedError()"
   ]
  },
  {
   "cell_type": "code",
   "execution_count": null,
   "id": "1c8a590a",
   "metadata": {
    "deletable": false,
    "editable": false,
    "nbgrader": {
     "grade": true,
     "grade_id": "cell-0313ba2b00efff91",
     "locked": true,
     "points": 0,
     "schema_version": 3,
     "solution": false,
     "task": false
    }
   },
   "outputs": [],
   "source": [
    "assert isinstance(possible_buggy_rooms, list), \"Variable possible_buggy_rooms should be a list.\"\n",
    "assert hashlib.sha256(json.dumps(len(possible_buggy_rooms)).encode()).hexdigest() == '4299da7466df09516d290f7a99c8b7a2fa94766eb94a61c24e1ce8f6ca80af44', \"The number of items in possible_buggy_rooms is incorrect.\"\n",
    "assert hashlib.sha256(json.dumps(sum(possible_buggy_rooms)).encode()).hexdigest() == '9860269eaf60fb02d8743ff7c4b9499de72ecf19f7389aa5014e76a6d05d6ed6', 'Some values in possible_buggy_rooms are incorrect.'\n",
    "print(possible_buggy_rooms)\n",
    "print(\"Your solution is correct!\")"
   ]
  },
  {
   "cell_type": "markdown",
   "id": "d64ee438",
   "metadata": {
    "deletable": false,
    "editable": false,
    "nbgrader": {
     "grade": false,
     "grade_id": "cell-ba72a9f9f3f219f9",
     "locked": true,
     "schema_version": 3,
     "solution": false,
     "task": false
    }
   },
   "source": [
    "### 4.3) Symmetric matrix\n",
    "\n",
    "As a final challenge, the playmaker asks the players to create the following list of lists (matrix) using List Comprehension. \n",
    "\n",
    "$\n",
    "\\begin{bmatrix}\n",
    "\\begin{bmatrix}0 & 1 & 2 & 3 & 4\\end{bmatrix},\\\\\n",
    "\\begin{bmatrix}1 & 2 & 3 & 4 & 5\\end{bmatrix},\\\\\n",
    "\\begin{bmatrix}2 & 3 & 4 & 5 & 6\\end{bmatrix},\\\\\n",
    "\\begin{bmatrix}3 & 4 & 5 & 6 & 7\\end{bmatrix},\\\\\n",
    "\\begin{bmatrix}4 & 5 & 6 & 7 & 8\\end{bmatrix}\\space\\\\\n",
    "\\end{bmatrix}\n",
    "$"
   ]
  },
  {
   "cell_type": "code",
   "execution_count": null,
   "id": "5eea460c",
   "metadata": {
    "deletable": false,
    "nbgrader": {
     "grade": false,
     "grade_id": "cell-36f6524e13880590",
     "locked": false,
     "schema_version": 3,
     "solution": true,
     "task": false
    }
   },
   "outputs": [],
   "source": [
    "# Create the list of lists above using list comprehension.\n",
    "# The result should be a list assigned to matrix_list. \n",
    "\n",
    "# matrix_list = ...\n",
    "\n",
    "# YOUR CODE HERE\n",
    "raise NotImplementedError()"
   ]
  },
  {
   "cell_type": "code",
   "execution_count": null,
   "id": "51cae9cb",
   "metadata": {
    "deletable": false,
    "editable": false,
    "nbgrader": {
     "grade": true,
     "grade_id": "cell-989fbfb752329e10",
     "locked": true,
     "points": 2,
     "schema_version": 3,
     "solution": false,
     "task": false
    }
   },
   "outputs": [],
   "source": [
    "assert isinstance(matrix_list, list), \"Review the data type of matrix_list.\"\n",
    "assert len(matrix_list) == 5, \"The length of matrix_list is incorrect.\"\n",
    "assert sum([len(l)==5 for l in matrix_list])==5, \"The length of some elements of matrix_list is incorrect.\"\n",
    "assert sum([sum(i) for i in matrix_list]) == 100, \"Some values are incorrect.\"\n",
    "print(matrix_list)\n",
    "print(\"Your solution is correct!\")"
   ]
  },
  {
   "cell_type": "markdown",
   "id": "89ca5de5",
   "metadata": {
    "deletable": false,
    "editable": false,
    "nbgrader": {
     "grade": false,
     "grade_id": "cell-0ed1e0fdd17c937f",
     "locked": true,
     "schema_version": 3,
     "solution": false,
     "task": false
    }
   },
   "source": [
    "### Extra fact:\n",
    "\n",
    "There is a [story](http://mathandmultimedia.com/2010/09/15/sum-first-n-positive-integers/) about how [Gauss](https://en.wikipedia.org/wiki/Carl_Friedrich_Gauss#Anecdotes) discovered a formula to calculate the sum of the first `n` positive integers. If there is a formula or a simple calculation that you can perform to avoid extensive code, why not use it instead? "
   ]
  },
  {
   "cell_type": "markdown",
   "id": "4f658c7f",
   "metadata": {
    "deletable": false,
    "editable": false,
    "nbgrader": {
     "grade": false,
     "grade_id": "cell-57b904034e5fa418",
     "locked": true,
     "schema_version": 3,
     "solution": false,
     "task": false
    }
   },
   "source": [
    "# Submit your work!\n",
    "\n",
    "To grade your exercise notebook and submit your work to the portal, [follow the instructions in the weekly workflow!](https://github.com/LDSSA/ds-prep-course-2024/blob/main/weekly-workflow.md#link-to-grading)"
   ]
  }
 ],
 "metadata": {
  "kernelspec": {
   "display_name": "Python 3 (ipykernel)",
   "language": "python",
   "name": "python3"
  },
  "language_info": {
   "codemirror_mode": {
    "name": "ipython",
    "version": 3
   },
   "file_extension": ".py",
   "mimetype": "text/x-python",
   "name": "python",
   "nbconvert_exporter": "python",
   "pygments_lexer": "ipython3",
   "version": "3.10.12"
  }
 },
 "nbformat": 4,
 "nbformat_minor": 5
}
