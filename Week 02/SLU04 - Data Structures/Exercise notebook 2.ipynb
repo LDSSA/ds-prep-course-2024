{
 "cells": [
  {
   "cell_type": "markdown",
   "metadata": {
    "deletable": false,
    "editable": false,
    "nbgrader": {
     "grade": false,
     "grade_id": "cell-1394850f892c0188",
     "locked": true,
     "schema_version": 3,
     "solution": false,
     "task": false
    }
   },
   "source": [
    "# SLU04 - Data Structures - Exercise notebook 2"
   ]
  },
  {
   "cell_type": "markdown",
   "metadata": {
    "deletable": false,
    "editable": false,
    "nbgrader": {
     "grade": false,
     "grade_id": "cell-5a86818cb223223a",
     "locked": true,
     "schema_version": 3,
     "solution": false
    }
   },
   "source": [
    "### Start by importing the following packages"
   ]
  },
  {
   "cell_type": "code",
   "execution_count": null,
   "metadata": {
    "deletable": false,
    "editable": false,
    "nbgrader": {
     "grade": false,
     "grade_id": "cell-23ad005b1393abe1",
     "locked": true,
     "schema_version": 3,
     "solution": false,
     "task": false
    }
   },
   "outputs": [],
   "source": [
    "#used for evaluation\n",
    "from IPython.core.getipython import get_ipython\n",
    "import hashlib\n",
    "import json"
   ]
  },
  {
   "cell_type": "markdown",
   "metadata": {
    "deletable": false,
    "editable": false,
    "nbgrader": {
     "grade": false,
     "grade_id": "cell-a39755a5c47d569e",
     "locked": true,
     "schema_version": 3,
     "solution": false,
     "task": false
    }
   },
   "source": [
    "In this notebook, we will test the following:\n",
    "- General operations with data structures\n",
    "- Mutability and immutability\n",
    "- Zipping and unpacking data structures\n",
    "\n",
    "**IMPORTANT:** Some exercises require you to use variables defined in previous cells, so don't forget to run them before you run the actual exercise code!\n",
    "\n",
    "For example, in Exercise 2.1 you need to run the cell after \"Remember our zipper from the Learning notebook? Run the following cell.\" before executing your solution."
   ]
  },
  {
   "cell_type": "markdown",
   "metadata": {
    "deletable": false,
    "editable": false,
    "nbgrader": {
     "grade": false,
     "grade_id": "cell-4a87de47ad499b87",
     "locked": true,
     "schema_version": 3,
     "solution": false,
     "task": false
    }
   },
   "source": [
    "---"
   ]
  },
  {
   "cell_type": "markdown",
   "metadata": {
    "deletable": false,
    "editable": false,
    "nbgrader": {
     "grade": false,
     "grade_id": "cell-a77c1aeea1e0bae8",
     "locked": true,
     "schema_version": 3,
     "solution": false,
     "task": false
    }
   },
   "source": [
    "## Exercise 1: Data structures and mutability"
   ]
  },
  {
   "cell_type": "markdown",
   "metadata": {
    "deletable": false,
    "editable": false,
    "nbgrader": {
     "grade": false,
     "grade_id": "cell-1ae98f9e0e6d921f",
     "locked": true,
     "schema_version": 3,
     "solution": false,
     "task": false
    }
   },
   "source": [
    "This exercise covers topics regarding the learning notebooks 1 and 2."
   ]
  },
  {
   "cell_type": "markdown",
   "metadata": {
    "deletable": false,
    "editable": false,
    "nbgrader": {
     "grade": false,
     "grade_id": "cell-553f559dced32ebd",
     "locked": true,
     "schema_version": 3,
     "solution": false,
     "task": false
    }
   },
   "source": [
    "### 1.1. Create a tuple of empty lists"
   ]
  },
  {
   "cell_type": "markdown",
   "metadata": {
    "deletable": false,
    "editable": false,
    "nbgrader": {
     "grade": false,
     "grade_id": "cell-328945c1835ecba5",
     "locked": true,
     "schema_version": 3,
     "solution": false,
     "task": false
    }
   },
   "source": [
    "Create a tuple named `my_tuple` which holds 3 empty lists. Solve the exercise regarding the following rules:\n",
    "- Use a single line of code\n",
    "- Don't repeat any character except for white spaces. (e.g. if you use the `m` character once, you can't use it again in this solution)"
   ]
  },
  {
   "cell_type": "code",
   "execution_count": null,
   "metadata": {
    "deletable": false,
    "nbgrader": {
     "grade": false,
     "grade_id": "cell-7a019784784bde0a",
     "locked": false,
     "schema_version": 3,
     "solution": true,
     "task": false
    }
   },
   "outputs": [],
   "source": [
    "#my_tuple = ...\n",
    "# YOUR CODE HERE\n",
    "raise NotImplementedError()"
   ]
  },
  {
   "cell_type": "code",
   "execution_count": null,
   "metadata": {
    "deletable": false,
    "editable": false,
    "nbgrader": {
     "grade": true,
     "grade_id": "cell-3286ebcfe53cb78a",
     "locked": true,
     "points": 3,
     "schema_version": 3,
     "solution": false,
     "task": false
    }
   },
   "outputs": [],
   "source": [
    "def filter_comments(code_lines):\n",
    "    filtered_lines = []\n",
    "    for line in code_lines:\n",
    "        line = line.strip()\n",
    "        if line and not line.startswith('#'):\n",
    "            filtered_lines.append(line)\n",
    "    return filtered_lines\n",
    "\n",
    "source_code = get_ipython().user_ns[\"In\"][-2]\n",
    "source_code_lines = source_code.strip().splitlines()\n",
    "solution_lines = filter_comments(source_code_lines)\n",
    "number_of_lines = len(solution_lines)\n",
    "solution_code = solution_lines[0]\n",
    "\n",
    "assert number_of_lines == 1, \"Write your solution in a single code line.\"\n",
    "assert len(set(solution_code.replace(\" \", \"\"))) == \\\n",
    "       len(solution_code.replace(\" \", \"\")), \"You can't repeat characters!\"\n",
    "assert isinstance(my_tuple, tuple), \"Are you sure my_tuple is a tuple?\"\n",
    "assert len(my_tuple) == 3, \"The length is not quite right.\"\n",
    "assert all(isinstance(i, list) for i in my_tuple), \"Are the tuple's items lists?\"\n",
    "assert all(len(i) == 0 for i in my_tuple), \"Are the lists empty?\"\n",
    "\n",
    "print(\"Well done! 🙌\")"
   ]
  },
  {
   "cell_type": "markdown",
   "metadata": {
    "deletable": false,
    "editable": false,
    "nbgrader": {
     "grade": false,
     "grade_id": "cell-431350e62236bbc1",
     "locked": true,
     "schema_version": 3,
     "solution": false,
     "task": false
    }
   },
   "source": [
    "### 1.2. Considering the previous exercise, answer the following questions:"
   ]
  },
  {
   "cell_type": "markdown",
   "metadata": {
    "deletable": false,
    "editable": false,
    "nbgrader": {
     "grade": false,
     "grade_id": "cell-0e2fbd07ac3e76f0",
     "locked": true,
     "schema_version": 3,
     "solution": false,
     "task": false
    }
   },
   "source": [
    "1.2.1. Can you assign a `list` holding 3 tuples to the variable `my_tuple`?\n",
    "\n",
    "> 💡 **Tip:** If you feel tempted to answer `e)`, go back to 'Learning notebook 2' and read the first paragraph under 5.2 ten consecutive times for self-punishment!\n",
    "\n",
    "a) No, because a tuple (which is immutable) has already been assigned to that variable.  \n",
    "b) No, because `\"tuple\"` in the variable's name (`my_tuple`) would collide with the type `list` of the assigned list.  \n",
    "c) No, because a `list` (which is mutable) can't contain immutable types (like tuples).  \n",
    "d) Yes, because it would just create a new variable with the same name `my_tuple`, and assign it a list holding 3 tuples.  \n",
    "e) Yes, because variables are mutable.  \n",
    "f) Yes, because lists are mutable."
   ]
  },
  {
   "cell_type": "code",
   "execution_count": null,
   "metadata": {
    "deletable": false,
    "nbgrader": {
     "grade": false,
     "grade_id": "cell-82b80f38223c4dbd",
     "locked": false,
     "schema_version": 3,
     "solution": true,
     "task": false
    }
   },
   "outputs": [],
   "source": [
    "# Uncomment the right answer\n",
    "#answer = \"a\"\n",
    "#answer = \"b\"\n",
    "#answer = \"c\"\n",
    "#answer = \"d\"\n",
    "#answer = \"e\"\n",
    "#answer = \"f\"\n",
    "# YOUR CODE HERE\n",
    "raise NotImplementedError()"
   ]
  },
  {
   "cell_type": "code",
   "execution_count": null,
   "metadata": {
    "deletable": false,
    "editable": false,
    "nbgrader": {
     "grade": true,
     "grade_id": "cell-a75826cfdf84d0c1",
     "locked": true,
     "points": 3,
     "schema_version": 3,
     "solution": false,
     "task": false
    }
   },
   "outputs": [],
   "source": [
    "assert hashlib.sha256(json.dumps(answer).encode()).hexdigest() == '3fa5834dc920d385ca9b099c9fe55dcca163a6b256a261f8f147291b0e7cf633', \"Wrong answer.\"\n",
    "\n",
    "print(\"Well done! 🙌\")"
   ]
  },
  {
   "cell_type": "markdown",
   "metadata": {
    "deletable": false,
    "editable": false,
    "nbgrader": {
     "grade": false,
     "grade_id": "cell-71f88c8a7e40a0c0",
     "locked": true,
     "schema_version": 3,
     "solution": false,
     "task": false
    }
   },
   "source": [
    "1.2.2. Can you turn the empty lists inside `my_tuple` into empty dictionaries?\n",
    "\n",
    "a) No, because tuples are immutable  \n",
    "b) No, because they're both empty  \n",
    "c) Yes, because they're both empty  \n",
    "d) Yes, because lists are mutable   \n",
    "e) Yes, because dictionaries are mutable"
   ]
  },
  {
   "cell_type": "code",
   "execution_count": null,
   "metadata": {
    "deletable": false,
    "nbgrader": {
     "grade": false,
     "grade_id": "cell-cdee69643e449b12",
     "locked": false,
     "schema_version": 3,
     "solution": true,
     "task": false
    }
   },
   "outputs": [],
   "source": [
    "# Uncomment the right answer\n",
    "#answer = \"a\"\n",
    "#answer = \"b\"\n",
    "#answer = \"c\"\n",
    "#answer = \"d\"\n",
    "#answer = \"e\"\n",
    "# YOUR CODE HERE\n",
    "raise NotImplementedError()"
   ]
  },
  {
   "cell_type": "code",
   "execution_count": null,
   "metadata": {
    "deletable": false,
    "editable": false,
    "nbgrader": {
     "grade": true,
     "grade_id": "cell-a9eac81b5d588456",
     "locked": true,
     "points": 3,
     "schema_version": 3,
     "solution": false,
     "task": false
    }
   },
   "outputs": [],
   "source": [
    "assert hashlib.sha256(json.dumps(answer).encode()).hexdigest() == 'ac8d8342bbb2362d13f0a559a3621bb407011368895164b628a54f7fc33fc43c', \"Wrong answer.\"\n",
    "\n",
    "print(\"Well done! 🙌\")"
   ]
  },
  {
   "cell_type": "markdown",
   "metadata": {
    "deletable": false,
    "editable": false,
    "nbgrader": {
     "grade": false,
     "grade_id": "cell-56066c49f58362c9",
     "locked": true,
     "schema_version": 3,
     "solution": false,
     "task": false
    }
   },
   "source": [
    "1.2.3. Can you insert the following sets pair `{1, 2}`, `{3, 4}` inside each list in `my_tuple`?\n",
    "\n",
    "a) No, because tuples are immutable  \n",
    "b) No, because the list is initially empty  \n",
    "c) Yes, because the list is initially empty  \n",
    "d) Yes, because lists are mutable   \n",
    "e) Yes, because sets are mutable"
   ]
  },
  {
   "cell_type": "code",
   "execution_count": null,
   "metadata": {
    "deletable": false,
    "nbgrader": {
     "grade": false,
     "grade_id": "cell-f298899f40c35c56",
     "locked": false,
     "schema_version": 3,
     "solution": true,
     "task": false
    }
   },
   "outputs": [],
   "source": [
    "# Uncomment the right answer\n",
    "#answer = \"a\"\n",
    "#answer = \"b\"\n",
    "#answer = \"c\"\n",
    "#answer = \"d\"\n",
    "#answer = \"e\"\n",
    "# YOUR CODE HERE\n",
    "raise NotImplementedError()"
   ]
  },
  {
   "cell_type": "code",
   "execution_count": null,
   "metadata": {
    "deletable": false,
    "editable": false,
    "nbgrader": {
     "grade": true,
     "grade_id": "cell-d1e6a8577155d82b",
     "locked": true,
     "points": 3,
     "schema_version": 3,
     "solution": false,
     "task": false
    }
   },
   "outputs": [],
   "source": [
    "assert hashlib.sha256(json.dumps(answer).encode()).hexdigest() == '3fa5834dc920d385ca9b099c9fe55dcca163a6b256a261f8f147291b0e7cf633', \"Wrong answer.\"\n",
    "\n",
    "print(\"Well done! 🙌\")"
   ]
  },
  {
   "cell_type": "markdown",
   "metadata": {
    "deletable": false,
    "editable": false,
    "nbgrader": {
     "grade": false,
     "grade_id": "cell-ad5174d40db1276a",
     "locked": true,
     "schema_version": 3,
     "solution": false,
     "task": false
    }
   },
   "source": [
    "1.2.4. Run the following cell:"
   ]
  },
  {
   "cell_type": "code",
   "execution_count": null,
   "metadata": {
    "deletable": false,
    "editable": false,
    "nbgrader": {
     "grade": false,
     "grade_id": "cell-3d02223ddddbe09b",
     "locked": true,
     "schema_version": 3,
     "solution": false,
     "task": false
    }
   },
   "outputs": [],
   "source": [
    "a = 1\n",
    "b = 2\n",
    "c = 3\n",
    "d = 4\n",
    "\n",
    "my_tuple = ({a, b}, {c, d})\n",
    "my_tuple"
   ]
  },
  {
   "cell_type": "markdown",
   "metadata": {
    "deletable": false,
    "editable": false,
    "nbgrader": {
     "grade": false,
     "grade_id": "cell-7d1b53e4711bb7fd",
     "locked": true,
     "schema_version": 3,
     "solution": false,
     "task": false
    }
   },
   "source": [
    "Now, suppose you assign a dictionary to the variable `a`:"
   ]
  },
  {
   "cell_type": "code",
   "execution_count": null,
   "metadata": {
    "deletable": false,
    "editable": false,
    "nbgrader": {
     "grade": false,
     "grade_id": "cell-c9882992dab84999",
     "locked": true,
     "schema_version": 3,
     "solution": false,
     "task": false
    }
   },
   "outputs": [],
   "source": [
    "a = {'key': 1}"
   ]
  },
  {
   "cell_type": "markdown",
   "metadata": {
    "deletable": false,
    "editable": false,
    "nbgrader": {
     "grade": false,
     "grade_id": "cell-615e490066ed8e39",
     "locked": true,
     "schema_version": 3,
     "solution": false,
     "task": false
    }
   },
   "source": [
    "What happens if you now run `my_tuple`?\n",
    "\n",
    "a) You get an error because a dictionary was assigned to the variable `a` and sets can't hold dictionaries since they're not hashable  \n",
    "b) You get an error because tuples are immutable  \n",
    "c) Nothing happens to `my_tuple` because it holds a reference to the set `{1, 2}`, and another reference to the set `{3, 4}` both unrelated to the reference `a` points to  \n",
    "d) Nothing happens to `my_tuple` because `a` isn't reassigned to the dictionary since it is inside a tuple, (which is immutable)"
   ]
  },
  {
   "cell_type": "code",
   "execution_count": null,
   "metadata": {
    "deletable": false,
    "nbgrader": {
     "grade": false,
     "grade_id": "cell-f32cd95c431008df",
     "locked": false,
     "schema_version": 3,
     "solution": true,
     "task": false
    }
   },
   "outputs": [],
   "source": [
    "# Uncomment the right answer\n",
    "#answer = \"a\"\n",
    "#answer = \"b\"\n",
    "#answer = \"c\"\n",
    "#answer = \"d\"\n",
    "# YOUR CODE HERE\n",
    "raise NotImplementedError()"
   ]
  },
  {
   "cell_type": "code",
   "execution_count": null,
   "metadata": {
    "deletable": false,
    "editable": false,
    "nbgrader": {
     "grade": true,
     "grade_id": "cell-f9b55e1465b76e45",
     "locked": true,
     "points": 3,
     "schema_version": 3,
     "solution": false,
     "task": false
    }
   },
   "outputs": [],
   "source": [
    "assert hashlib.sha256(json.dumps(answer).encode()).hexdigest() == '879923da020d1533f4d8e921ea7bac61e8ba41d3c89d17a4d14e3a89c6780d5d', \"Wrong answer.\"\n",
    "\n",
    "print(\"Well done! 🙌\")"
   ]
  },
  {
   "cell_type": "markdown",
   "metadata": {
    "deletable": false,
    "editable": false,
    "nbgrader": {
     "grade": false,
     "grade_id": "cell-02cdf6cd6e8cc9a7",
     "locked": true,
     "schema_version": 3,
     "solution": false,
     "task": false
    }
   },
   "source": [
    "---"
   ]
  },
  {
   "cell_type": "markdown",
   "metadata": {
    "deletable": false,
    "editable": false,
    "nbgrader": {
     "grade": false,
     "grade_id": "cell-bd55f1b4fa5c38d0",
     "locked": true,
     "schema_version": 3,
     "solution": false,
     "task": false
    }
   },
   "source": [
    "## Exercise 2: `zip` function and the 'splat' `*` operator"
   ]
  },
  {
   "cell_type": "markdown",
   "metadata": {
    "deletable": false,
    "editable": false,
    "nbgrader": {
     "grade": false,
     "grade_id": "cell-1550468cd836e0f0",
     "locked": true,
     "schema_version": 3,
     "solution": false,
     "task": false
    }
   },
   "source": [
    "###  2.1. Zip and unzip"
   ]
  },
  {
   "cell_type": "markdown",
   "metadata": {
    "deletable": false,
    "editable": false,
    "nbgrader": {
     "grade": false,
     "grade_id": "cell-b61e2028d8892d9b",
     "locked": true,
     "schema_version": 3,
     "solution": false,
     "task": false
    }
   },
   "source": [
    "Remember our zipper from the Learning notebook? Run the following cell."
   ]
  },
  {
   "cell_type": "code",
   "execution_count": null,
   "metadata": {
    "deletable": false,
    "editable": false,
    "nbgrader": {
     "grade": false,
     "grade_id": "cell-ea64e5f40cbdc163",
     "locked": true,
     "schema_version": 3,
     "solution": false,
     "task": false
    }
   },
   "outputs": [],
   "source": [
    "teeth_collection = [(1, 3, 5, 7, 9), (2, 4, 6, 8, 10)]"
   ]
  },
  {
   "cell_type": "markdown",
   "metadata": {
    "deletable": false,
    "editable": false,
    "nbgrader": {
     "grade": false,
     "grade_id": "cell-b24f206f94bd0e2d",
     "locked": true,
     "schema_version": 3,
     "solution": false,
     "task": false
    }
   },
   "source": [
    "Write the expression to zip and unzip the variable `teeth_collection` as a list and assign it to the variable `zip_and_unzip`.  \n",
    "Similarly to exercise 1.1., use a single line of code to write your solution."
   ]
  },
  {
   "cell_type": "markdown",
   "metadata": {
    "deletable": false,
    "editable": false,
    "nbgrader": {
     "grade": false,
     "grade_id": "cell-fa620dc0b32b0d0e",
     "locked": true,
     "schema_version": 3,
     "solution": false,
     "task": false
    }
   },
   "source": [
    "> 💡 **Tip:** Note that `teeth collection` is now a list holding both left and right teeth collections, which means that you probably need to start by unp... the left and right teeth collections.  \n",
    "> 💡 **Tip:** Start building the expression from the inside out, following the steps outlined in the Learning notebook.  \n",
    "> 💡 **Tip:** You will \"probably\" need more the one sequential `zip` function and 'splat' `*` operator combinations for this one.  \n",
    "> 💡 **Tip:** Read the tips 😉"
   ]
  },
  {
   "cell_type": "code",
   "execution_count": null,
   "metadata": {
    "deletable": false,
    "nbgrader": {
     "grade": false,
     "grade_id": "cell-8a922c6f17dd7c19",
     "locked": false,
     "schema_version": 3,
     "solution": true,
     "task": false
    }
   },
   "outputs": [],
   "source": [
    "#zip_and_unzip = ...\n",
    "# YOUR CODE HERE\n",
    "raise NotImplementedError()"
   ]
  },
  {
   "cell_type": "code",
   "execution_count": null,
   "metadata": {
    "deletable": false,
    "editable": false,
    "nbgrader": {
     "grade": true,
     "grade_id": "cell-5f15b89580676c8c",
     "locked": true,
     "points": 5,
     "schema_version": 3,
     "solution": false,
     "task": false
    }
   },
   "outputs": [],
   "source": [
    "def filter_comments(code_lines):\n",
    "    filtered_lines = []\n",
    "    for line in code_lines:\n",
    "        line = line.strip()\n",
    "        if line and not line.startswith('#'):\n",
    "            filtered_lines.append(line)\n",
    "    return filtered_lines\n",
    "\n",
    "source_code = get_ipython().user_ns[\"In\"][-2]\n",
    "source_code_lines = source_code.strip().splitlines()\n",
    "solution_lines = filter_comments(source_code_lines)\n",
    "number_of_lines = len(solution_lines)\n",
    "solution_code = solution_lines[0]\n",
    "\n",
    "zips = solution_code.count(\"zip\")\n",
    "splats = solution_code.count(\"*\")\n",
    "\n",
    "assert number_of_lines == 1, \"Write your solution in a single code line.\"\n",
    "solution_code = str(solution_code)\n",
    "assert zips == 4, \"Check the number of times you need to use the `zip` function.\"\n",
    "assert splats == 2, \"Check the number of times you need to use the 'splat' `*` operator.\"\n",
    "assert isinstance(zip_and_unzip, list), \"Are you sure you used a list?\"\n",
    "assert len(zip_and_unzip) == 2, \"The length is not quite right.\"\n",
    "assert zip_and_unzip == teeth_collection, \"The final 'zipper' configuration must be exactly like the starting one\"\n",
    "\n",
    "print(\"Great job!! ✨✨✨✨✨ 🙌\\nEnjoy the rest of the warrior. 😴😁\")"
   ]
  },
  {
   "cell_type": "markdown",
   "metadata": {
    "deletable": false,
    "editable": false,
    "nbgrader": {
     "grade": false,
     "grade_id": "cell-df69809a45a1e893",
     "locked": true,
     "schema_version": 3,
     "solution": false,
     "task": false
    }
   },
   "source": [
    "# Submit your work!\n",
    "\n",
    "To submit your work, [follow the steps in the section \"Grading the Exercise Notebook\"!](https://github.com/LDSSA/ds-prep-course-2024#22---working-on-the-learning-units)"
   ]
  }
 ],
 "metadata": {
  "kernelspec": {
   "display_name": "Python 3 (ipykernel)",
   "language": "python",
   "name": "python3"
  },
  "language_info": {
   "codemirror_mode": {
    "name": "ipython",
    "version": 3
   },
   "file_extension": ".py",
   "mimetype": "text/x-python",
   "name": "python",
   "nbconvert_exporter": "python",
   "pygments_lexer": "ipython3",
   "version": "3.11.6"
  }
 },
 "nbformat": 4,
 "nbformat_minor": 4
}
