{
 "cells": [
  {
   "cell_type": "markdown",
   "metadata": {},
   "source": [
    "# SLU16 Final Project - Minesweeper Game\n",
    "\n",
    "This SLU shows you a simple way to organize a Python project, a minesweeper game. We provide most of the code, it is on you to fill in the blanks in our code to create a fully functional game. An important part of this SLU is to understand the code written by others, which is part of a software developer's life. Explore how we have divided the code and the way the pieces are connected."
   ]
  },
  {
   "cell_type": "markdown",
   "metadata": {},
   "source": [
    "## 1. The game\n",
    "\n",
    "Minesweeper is a single-player puzzle video game. The objective of the game is to clear a rectangular board containing hidden \"mines\" without detonating any of them.  The already cleared fields contain clues about the number of mines in neighboring fields. The game originates from the 1960s, and it has been written for many computing platforms in use today. It has many variations and offshoots.\n",
    "\n",
    "<img src=\"https://i.imgur.com/wTinaRH.png\" width=\"350\">"
   ]
  },
  {
   "cell_type": "markdown",
   "metadata": {},
   "source": [
    "### 1.1 Gameplay\n",
    "A game of Minesweeper begins when the player makes the first click on a board with all cells unopened. This click is guaranteed to be safe with some variants further guaranteeing that all adjacent cells are safe as well. During the game, the player uses information from the open cells to deduce further cells that are safe to open. The fields with a suspected mine can be flagged. The player is also given the number of remaining mines in the board, known as the minecount, which is calculated as the total number of mines minus the number of flagged cells (note that because of this, the minecount can be negative). The minecount is mainly useful when there are only a few remaining mines.\n",
    "\n",
    "Sometimes the player cannot deduce any further safe cells from the available information, so they need to make a guess. Some variants of Minesweeper ensure that the board can be solved without the need to guess.\n",
    "\n",
    "To win the game, the player must open all non-mine cells while not opening any mines. **Flagging all the mined cells is not required.**\n",
    "\n",
    "The score of the game is the time taken to complete it. The timer starts when the player makes the first click and ends with the last click."
   ]
  },
  {
   "cell_type": "markdown",
   "metadata": {},
   "source": [
    "### 1.2 History\n",
    "\n",
    "Minesweeper has its origins in the earliest mainframe games of the 1960s and 1970s. The earliest ancestor of Minesweeper was Jerimac Ratliff's Cube. This basic gameplay style became a popular puzzle video game genre during the 1980s, with titles such as Mined-Out (Quicksilva, 1983), Yomp (Virgin Interactive, 1983), and Cube. Cube was succeeded by Relentless Logic (or RLogic for short), by Conway, Hong, and Smith, available for MS-DOS as early as 1985.\n",
    "\n",
    "First appearing in a game pack for Microsoft in 1990, a version of the game called Microsoft Minesweeper was released as a standard part of Windows 3.1 in 1992. This saw an explosion in popularity and awareness of the game, with tech bloggers and journalists calling it \"iconic\", \"famous\", and even \"the most successful game ever\". Versions of the game continued to be included in standard installs of Windows up through Windows Vista in 2007, though in Windows 8 (2012) and later, it must be downloaded as an app from the Microsoft Store.\n",
    "\n",
    "Since 2019, if you simply google the word Minesweeper, you’ll be greeted with a search result that will give you a pop-out, web-based version of the game! You can set it to easy, medium, or hard depending on how much you want to be tortured. Alternatively, you can access Google’s version directly at [this link](https://www.google.com/fbx?fbx=minesweeper). \n",
    "<p align=\"top\">\n",
    "  <img src=\"https://chromeunboxed.com/wp-content/uploads/2022/03/Screenshot-2022-03-01-2.36.50-PM.png\" width=\"555\" hspace=\"20\">\n",
    "  <img src=\"https://chromeunboxed.com/wp-content/uploads/2022/03/Screenshot-2022-03-01-2.37.44-PM.png\" width=\"300\">\n",
    "</p>  "
   ]
  },
  {
   "cell_type": "markdown",
   "metadata": {},
   "source": [
    "## 2. Only for Windows (WSL) users: install VcXsrc\n",
    "Before we start, if you are using Windows (WSL) you will need to install VcXsrc, following the steps bellow. VcXsrc is an implementation of a X11 server, which essentially tells pygame this:\n",
    "- Please direct anything you were going to send to the screen to me! We need this because WSL has no screen, we can only interact with it through a terminal.\n",
    "- When I click here or hover the mouse there, I’m going to send you that information and you can do whatever you want with it. We need this because, again, WSL has no screen.\n",
    "This essentially allows you to have a server running (such as WSL or a computer in AWS), run a GUI application in it (such as pygame or a web browser), and interact with it on your local machine.\n",
    "    \n",
    "## 2.1 Download VcXsrv\n",
    "\n",
    "1. [Click here to download VcXsrv](https://sourceforge.net/projects/vcxsrv/files/latest/download).\n",
    "\n",
    "## 2.2 Run VcXsrv\n",
    "1. Open the file you just downloaded.\n",
    "2. Proceed with the installation (you can just accept and leave everything on defaults).\n",
    "\n",
    "    ![install](https://i.imgur.com/m8VHBso.png)"
   ]
  },
  {
   "cell_type": "markdown",
   "metadata": {},
   "source": [
    "3. Once the installation is finished, type `xlaunch` in your Windows search bar, then open it.\n",
    "\n",
    "    <img src=\"https://i.imgur.com/0iVtHQZ.png\" width=\"600\">"
   ]
  },
  {
   "cell_type": "markdown",
   "metadata": {},
   "source": [
    "4. Then just keep clicking `Next` and leaving everything with the default values.\n",
    "\n",
    "    ![display_settings](https://i.imgur.com/2H6yd0e.png)"
   ]
  },
  {
   "cell_type": "markdown",
   "metadata": {},
   "source": [
    "5. Now you are ready to run the game. Go to your `~/projects/ds-prep-workspace/Week 9/SLU16 - Final Project` folder and instead of typing `python3.11 -m minesweeper_game_project.minesweeper_game.main`, type the following:\n",
    "\n",
    "```bash\n",
    "export DISPLAY=localhost:0.0 && python3.11 -m minesweeper_game_project.minesweeper_game.main\n",
    "```    \n",
    "\n",
    "**Every time that you want to run the game, you first need to start xlaunch. It will give pygame the screen that it needs.**"
   ]
  },
  {
   "cell_type": "markdown",
   "metadata": {},
   "source": [
    "## 3. The Project\n",
    "The objective of this project is to **implement the Minesweeper game**. You will not need to worry about all the details, we will give you the code that allows you to interact with the screen, you just need to fill part of the logic of the game.\n",
    "\n",
    "The code that you will need to write are only a few lines, the purpose of this project is to show you how a software project is organized and what are the good practices.\n",
    "\n",
    "### 3.1 File Structure\n",
    "You probably noticed the `minesweeper_game_project` directory with a bunch of files inside at the root folder of this SLU. The directory has the basic structure and all the required files for a simple installable Python package. Installable means that you could publish it on https://pypi.org/ and use `pip` to install it from there. (We will not publish it on PyPi :) , but we wanted to show you the example.) Don't be scared, we will explain all the details of each file. You can open the project in VSCode and follow along.\n",
    "\n",
    "In a typical software project, the code is divided into several modules. It allows us to have some organization in the code, avoiding files with thousands of lines. We can also group code with specific functionality in separate modules. We will follow the layout for a simple single package project from [here](https://realpython.com/python-application-layouts/#installable-single-package).\n",
    "\n",
    "In the project directory, we have several files and two directories. All the code for the game is in the `minesweeper_game` folder. The `tests` folder contains code which tests if the game is working as intended. The other files are auxiliary, as required for the package publication, for GitHub (where the project lives during development), or defining technical details like dependencies."
   ]
  },
  {
   "cell_type": "markdown",
   "metadata": {},
   "source": [
    "Let's first look at the auxiliary files. You don't have to understand all the details here, just know that these exist:\n",
    "- LICENSE: contains the license under which we want to publish the code. It's a simple MIT license. You can see other options [here](https://choosealicense.com/).\n",
    "- README.md: short description and installation instructions for the package. This file will be part of the project GitHub repository and also appear on the PyPi project page.\n",
    "- .gitignore: you already know this one - it ensures that no unnecessary files are shuttled to GitHub\n",
    "- pyproject.toml: contains dependencies of the package and basic information and instructions for packaging the project for publishing on PyPi.\n",
    "\n",
    "The code of the game is divided into 4 modules:\n",
    "\n",
    "- `mines.py` - The implementation of the class that represents the game. We will talk more about it later. This is the file where you will need to add your code.\n",
    "- `pygame_utils.py` - It manages the logic behind creating and updating the screen that allows us to interact with the game. You don't need to worry about this file, take it as an external library (e.g. like matplotlib, the plot creation package). \n",
    "- `constants.py`- Auxiliary file to store global variables.\n",
    "- `main.py` - Entry point of our program. It handles the main loop of our game. It is the file that links all the different modules and starts the game.\n",
    "\n",
    "The `sprites` directory contains images for the construction of the game board.\n",
    "\n",
    "Finally, we have the `tests` directory with the `tests.py` file that allows us to test our code, similar to the asserts that you have seen in Jupyter notebooks."
   ]
  },
  {
   "cell_type": "markdown",
   "metadata": {},
   "source": [
    "### 3.2 Main.py\n",
    "\n",
    "The ```main.py``` file is the entry point of our program (the file that we run when we want to launch the game). You can easily identify it by the code block at the end of the file:\n",
    "```python\n",
    "if __name__ == \"__main__\":\n",
    "    main()\n",
    "```\n",
    "\n",
    "If you want to run the game, navigate to the `SLU16 -Final Project` folder in your terminal and type `python3.11 -m minesweeper_game_project.minesweeper_game.main`. It will run the code above, passing to python the variable `__name__ = 'main'`. If you are on WSL, run `export DISPLAY=localhost:0.0 && python3.11 -m minesweeper_game_project.minesweeper_game.main.py`\n",
    "\n",
    "In this file, we create an instance of our game, i.e., an object of the class `MinesweeperGame`. We then run the game loop, checking if the player clicked any cells and updating the game board accordingly."
   ]
  },
  {
   "cell_type": "markdown",
   "metadata": {
    "jp-MarkdownHeadingCollapsed": true
   },
   "source": [
    "When you start the game, you should see something like this:\n",
    "\n",
    "<img src=https://i.imgur.com/kyZ78nO.png width=\"400\">\n",
    "\n",
    "It is important to always have both **the game window and the terminal window on your screen**. The terminal will be useful to show the debug prints. "
   ]
  },
  {
   "cell_type": "markdown",
   "metadata": {},
   "source": [
    "### 3.3 mines.py\n",
    "\n",
    "Open the `mines.py` file in your favorite Text Editor or in VSCode. Take a look at the code, and get familiar with it. This module contains the `MinenesweeperGame` class with several methods. Three of the methods are incomplete (`check_if_mine`, `count_mines_around`, `click_around`). You'll have to implement the code as an exercise.\n",
    " \n",
    "#### 3.3.1 Type Annotations\n",
    "All the methods have type [Type Annotations](https://docs.python.org/3/library/typing.html), you have already seen them in the Functions SLUs. \n",
    "\n",
    "``` python\n",
    "  def my_func(pixel_coord: Tuple[int, int]) -> Tuple[int, int]:\n",
    "```\n",
    "It allows us to give some hints to the people that will pick up our code. The hints are on the type of each function's argument as well as on the value that is returned by the function. It helps to improve the code readability. Again, for the computer it will be the same, we will not get an error if we provide an argument of the wrong type.\n",
    "\n",
    "In the example above, we are defining that our function receives a tuple of integers with 2 positions (`pixel_coord: Tuple[int, int]`). What appears after the `->` tells us the type of the variable returned by the function. In this case, the function returns a Tuple of integers as well (` -> Tuple[int, int]`) "
   ]
  },
  {
   "cell_type": "markdown",
   "metadata": {},
   "source": [
    "#### 3.3.2 DocStrings\n",
    "You should have noticed as well that all the methods have a DocString. It is another good practice, it allows people that pick up the code to understand what the function / method is doing.\n",
    "\n",
    "<img src=\"https://i.imgur.com/JZtEsMI.png\" width=\"600\">"
   ]
  },
  {
   "cell_type": "markdown",
   "metadata": {},
   "source": [
    "### 3.4 Tests.py\n",
    "\n",
    "The `tests.py` file is the file where we are implementing the unit tests for the `MinesweeperGame` class. \n",
    "\n",
    "[Unit Test](https://en.wikipedia.org/wiki/Unit_testing) is a type of test that tests a small portion of the code, a unit. A unit can be a function or a module. We are testing if on sending some input we receive the appropriate output. The asserts that you have seen in the exercise notebooks are a simplified version of unit-testing. There are other [types of tests](https://www.softwaretestinghelp.com/types-of-software-testing/), take a look on this link if you want to learn a bit more about this topic.\n",
    "\n",
    "Tests are important when we are developing our code. Typically, it is a good practice to write the tests to your functions before you even start implementing the functions. This is called [test-driven development](https://en.wikipedia.org/wiki/Test-driven_development). Then you implement the functions and make sure that the tests are passing. In the future, if someone makes changes to the code, the tests will ensure that the behavior is not changed.\n",
    "\n",
    "In python, we have a [library](https://docs.python.org/3/library/unittest.html) that simplifies the implementation of the unit tests. There is also another commonly used library, [pytest](https://docs.pytest.org/en/8.2.x/). If you are interested in this topic, take a look at the documentation. There is even a kind of job called tester, a person who tests the code. It is a good entry-level coding job.\n",
    "\n",
    "You will not be asked to write new tests in the SLU. The existing tests will test the code implemented by you in the three imcomplete methods in the `MinesweeperGame` class. Like the assert cells in the previous exercise notebooks. \n",
    "\n",
    "Go and look at the file `tests.py`. You will notice that the tests do not test every function/method in our code. Too many tests are not useful. It is important to identify the units of code that need to be tested. For instance, it is a good idea to test functions that directly interact with the user, but not small helper functions that resolve implementation details."
   ]
  },
  {
   "cell_type": "markdown",
   "metadata": {},
   "source": [
    "## 4. Further reading\n",
    "[Python application layout](https://realpython.com/python-application-layouts)     \n",
    "\n",
    "[Licenses for your code](https://choosealicense.com/)   \n",
    "\n",
    "If you'd like to know more about how Pygame works:   \n",
    "&emsp;[Intro to Pygame](https://www.pygame.org/docs/tut/PygameIntro.html)   \n",
    "&emsp;[Newbie guide](https://www.pygame.org/docs/tut/newbieguide.html)   \n",
    "\n",
    "[How to make sure that the imports in Python packages work](https://stackoverflow.com/questions/714063/importing-modules-from-parent-folder/76682126). A slightly advanced discussion which might come in handy when you write your first project. Look at the second answer for the cleanest solution (which we are not using here :) )."
   ]
  }
 ],
 "metadata": {
  "kernelspec": {
   "display_name": "Python 3 (ipykernel)",
   "language": "python",
   "name": "python3"
  },
  "language_info": {
   "codemirror_mode": {
    "name": "ipython",
    "version": 3
   },
   "file_extension": ".py",
   "mimetype": "text/x-python",
   "name": "python",
   "nbconvert_exporter": "python",
   "pygments_lexer": "ipython3",
   "version": "3.11.9"
  }
 },
 "nbformat": 4,
 "nbformat_minor": 4
}
