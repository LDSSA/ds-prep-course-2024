{
 "cells": [
  {
   "cell_type": "markdown",
   "metadata": {
    "deletable": false,
    "editable": false,
    "nbgrader": {
     "grade": false,
     "grade_id": "cell-ab49f1d2cd5ec95b",
     "locked": true,
     "schema_version": 3,
     "solution": false,
     "task": false
    }
   },
   "source": [
    "# Final Project - Minesweeper"
   ]
  },
  {
   "cell_type": "code",
   "execution_count": null,
   "metadata": {
    "deletable": false,
    "editable": false,
    "nbgrader": {
     "grade": false,
     "grade_id": "cell-e97b466309be281e",
     "locked": true,
     "schema_version": 3,
     "solution": false,
     "task": false
    }
   },
   "outputs": [],
   "source": [
    "import pytest"
   ]
  },
  {
   "cell_type": "markdown",
   "metadata": {
    "deletable": false,
    "editable": false,
    "nbgrader": {
     "grade": false,
     "grade_id": "cell-6cfba1955dd1be1a",
     "locked": true,
     "schema_version": 3,
     "solution": false,
     "task": false
    }
   },
   "source": [
    "Open the file `mines.py`. It holds the `MinesweeperGame` class.\n",
    "\n",
    "Here are the exercises for this SLU16:\n",
    "\n",
    "    * Create the method `check_if_mine`\n",
    "    * Create the method `count_mines_around`\n",
    "    * Create the method `click_around`\n",
    "\n",
    "Each exercise consists of the implementation of one of these methods. The expected behavior is described in the method docstrings. If you have some doubts, please refer to the Learning Notebook. After implementing a method, you can test it by running the corresponding test.\n",
    "\n",
    "All the tests in this exercise notebook currently fail because of the missing code in the `mines` module. They should run fine once your solution is correct.\n",
    "\n",
    "Notice that we are calling `pytest` via python with the `-m` option to ensure that import paths work correctly."
   ]
  },
  {
   "cell_type": "markdown",
   "metadata": {
    "deletable": false,
    "editable": false,
    "nbgrader": {
     "grade": false,
     "grade_id": "cell-1e7dda79ba44898f",
     "locked": true,
     "schema_version": 3,
     "solution": false,
     "task": false
    }
   },
   "source": [
    "## Exercise 1 - check_if_mine\n",
    "In this exercise you will implement the `check_if_mine` method. The expected behavior is described in the docstring. If you have some doubts, please refer to the Learning Notebook.\n",
    "\n",
    "Once you are done, please run the cell below and see if the tests pass. If you prefer, you can run the tests from the terminal by navigating to the `SLU16 - Final Project` folder and running the command `python3.11 -m pytest minesweeper_game_project/tests/tests.py -k 'test_click_mine'`."
   ]
  },
  {
   "cell_type": "code",
   "execution_count": null,
   "metadata": {
    "deletable": false,
    "editable": false,
    "nbgrader": {
     "grade": false,
     "grade_id": "cell-00b445413b75eda9",
     "locked": true,
     "schema_version": 3,
     "solution": false,
     "task": false
    }
   },
   "outputs": [],
   "source": [
    "!python3.11 -m pytest minesweeper_game_project/tests/tests.py -k 'test_click_mine'"
   ]
  },
  {
   "cell_type": "markdown",
   "metadata": {
    "deletable": false,
    "editable": false,
    "nbgrader": {
     "grade": false,
     "grade_id": "cell-84bba7638c640827",
     "locked": true,
     "schema_version": 3,
     "solution": false,
     "task": false
    }
   },
   "source": [
    "## Exercise 2 - count_mines_around\n",
    "In this exercise you will implement the `count_mines_around` method. The expected behavior is described in the method docstring.\n",
    "\n",
    "Once you are done, please run the cell below and see if the tests pass. If you prefer, you can run the tests from the terminal by navigating to the `SLU16 - Final Project` folder and running the command `python3.11 -m pytest minesweeper_game_project/tests/tests.py -k 'test_click_mine'`."
   ]
  },
  {
   "cell_type": "code",
   "execution_count": null,
   "metadata": {
    "deletable": false,
    "editable": false,
    "nbgrader": {
     "grade": false,
     "grade_id": "cell-2d288e3babfc9c56",
     "locked": true,
     "schema_version": 3,
     "solution": false,
     "task": false
    }
   },
   "outputs": [],
   "source": [
    "!python3.11 -m pytest minesweeper_game_project/tests/tests.py -k  'test_click_empty'"
   ]
  },
  {
   "cell_type": "markdown",
   "metadata": {
    "deletable": false,
    "editable": false,
    "nbgrader": {
     "grade": false,
     "grade_id": "cell-30c1269c591734ec",
     "locked": true,
     "schema_version": 3,
     "solution": false,
     "task": false
    }
   },
   "source": [
    "## Exercise 3 - click_around\n",
    "In this exercise you will implement the `click_around` method. The expected behavior is described in the method docstring.\n",
    "\n",
    "Once you are done, please run the cell below and see if the tests pass. If you prefer, you can run the tests from the terminal by navigating to the `SLU16 - Final Project` folder and running the command `python3.11 -m pytest minesweeper_game_project/tests/tests.py -k 'test_click_mine'`."
   ]
  },
  {
   "cell_type": "code",
   "execution_count": null,
   "metadata": {
    "deletable": false,
    "editable": false,
    "nbgrader": {
     "grade": false,
     "grade_id": "cell-0e89a567dac61eb0",
     "locked": true,
     "schema_version": 3,
     "solution": false,
     "task": false
    }
   },
   "outputs": [],
   "source": [
    "!python3.11 -m pytest minesweeper_game_project/tests/tests.py -k 'test_area_revealed'"
   ]
  },
  {
   "cell_type": "markdown",
   "metadata": {
    "deletable": false,
    "editable": false,
    "nbgrader": {
     "grade": false,
     "grade_id": "cell-1bca62991221106b",
     "locked": true,
     "schema_version": 3,
     "solution": false,
     "task": false
    }
   },
   "source": [
    "## Run all the tests"
   ]
  },
  {
   "cell_type": "markdown",
   "metadata": {
    "deletable": false,
    "editable": false,
    "nbgrader": {
     "grade": false,
     "grade_id": "cell-279ae0eb7d603056",
     "locked": true,
     "schema_version": 3,
     "solution": false,
     "task": false
    }
   },
   "source": [
    "Now you can run the tests all at once by running the cell below. "
   ]
  },
  {
   "cell_type": "code",
   "execution_count": null,
   "metadata": {
    "deletable": false,
    "editable": false,
    "nbgrader": {
     "grade": false,
     "grade_id": "cell-b0ccb1848e7eead9",
     "locked": true,
     "schema_version": 3,
     "solution": false,
     "task": false
    }
   },
   "outputs": [],
   "source": [
    "!python3.11 -m pytest -rA minesweeper_game_project/tests/tests.py"
   ]
  },
  {
   "cell_type": "markdown",
   "metadata": {
    "deletable": false,
    "editable": false,
    "nbgrader": {
     "grade": false,
     "grade_id": "cell-f90b1d12b5e9a467",
     "locked": true,
     "schema_version": 3,
     "solution": false,
     "task": false
    }
   },
   "source": [
    "If you have reached this cell without seeing any error, congratulations, your game is now fully functional. Run your game and give it a play.\n",
    "\n",
    "Go to your terminal, navigate to the `SLU16 - Final Project` folder and then type `python3.11 -m minesweeper_game_project.minesweeper_game.main`. \n",
    "\n",
    "If you are on WSL, **please start xlaunch** (refer to the WSL requirements from the learning notebook), and run `export DISPLAY=localhost:0.0 && python3.11 -m minesweeper_game_project.minesweeper_game.main`"
   ]
  },
  {
   "cell_type": "markdown",
   "metadata": {},
   "source": [
    "When your game is working, run the cell below and submit the notebook."
   ]
  },
  {
   "cell_type": "code",
   "execution_count": null,
   "metadata": {
    "deletable": false,
    "editable": false,
    "nbgrader": {
     "grade": true,
     "grade_id": "cell-8dbe17ceff29b3ca",
     "locked": true,
     "points": 20,
     "schema_version": 3,
     "solution": false,
     "task": false
    }
   },
   "outputs": [],
   "source": [
    "print('My game is working!')"
   ]
  },
  {
   "cell_type": "markdown",
   "metadata": {
    "deletable": false,
    "editable": false,
    "jp-MarkdownHeadingCollapsed": true,
    "nbgrader": {
     "grade": false,
     "grade_id": "cell-d5060328f1ce1781",
     "locked": true,
     "schema_version": 3,
     "solution": false,
     "task": false
    }
   },
   "source": [
    "## Next Steps\n",
    "If you think that it was too easy, we have some improvement suggestions for the project:\n",
    "\n",
    "- Add key shortcuts. Q will exit the Game, P will pause the game.\n",
    "- Show all the hidden mines when the game finishes, both flagged and unflagged.\n",
    "- Restart the game if a given key is pressed. \n",
    "- Change the design of the game, create your own design."
   ]
  },
  {
   "cell_type": "markdown",
   "metadata": {
    "deletable": false,
    "editable": false,
    "nbgrader": {
     "grade": false,
     "grade_id": "cell-77a90a24ef766d2e",
     "locked": true,
     "schema_version": 3,
     "solution": false,
     "task": false
    }
   },
   "source": [
    "# Submit your work!\n",
    "\n",
    "To grade your exercise notebook and submit your work to the portal, [follow the instructions in the weekly workflow!](https://github.com/LDSSA/ds-prep-course-2024/blob/main/weekly-workflow.md#link-to-grading)"
   ]
  },
  {
   "cell_type": "markdown",
   "metadata": {
    "deletable": false,
    "editable": false,
    "nbgrader": {
     "grade": false,
     "grade_id": "cell-7c4b66f282fd465e",
     "locked": true,
     "schema_version": 3,
     "solution": false,
     "task": false
    }
   },
   "source": [
    "# Give us feedback!\n",
    "We'd like to know how you found the learning experience with this SLU. You can leave anonymous feedback in this [feedback form](https://docs.google.com/forms/d/e/1FAIpQLSekJ5De8YAlH1zVdmf4TzFCTp-Ou-LQN_7AmLezPtjg1qMBfw/viewform?usp=sf_link) and help us improve the unit next year. Thank you!"
   ]
  }
 ],
 "metadata": {
  "kernelspec": {
   "display_name": "Python 3 (ipykernel)",
   "language": "python",
   "name": "python3"
  },
  "language_info": {
   "codemirror_mode": {
    "name": "ipython",
    "version": 3
   },
   "file_extension": ".py",
   "mimetype": "text/x-python",
   "name": "python",
   "nbconvert_exporter": "python",
   "pygments_lexer": "ipython3",
   "version": "3.11.9"
  }
 },
 "nbformat": 4,
 "nbformat_minor": 4
}
