{
 "cells": [
  {
   "cell_type": "markdown",
   "metadata": {
    "deletable": false,
    "editable": false,
    "nbgrader": {
     "grade": false,
     "grade_id": "cell-5b6b029f0ce1dd2e",
     "locked": true,
     "schema_version": 3,
     "solution": false
    }
   },
   "source": [
    "# SLU02 - Exercise notebook"
   ]
  },
  {
   "cell_type": "markdown",
   "metadata": {
    "deletable": false,
    "editable": false,
    "nbgrader": {
     "grade": false,
     "grade_id": "cell-49f2f0f2fc298a46",
     "locked": true,
     "schema_version": 3,
     "solution": false
    }
   },
   "source": [
    "## Start by importing this package"
   ]
  },
  {
   "cell_type": "code",
   "execution_count": null,
   "metadata": {
    "deletable": false,
    "editable": false,
    "nbgrader": {
     "grade": false,
     "grade_id": "cell-7dd7bfe836b5d985",
     "locked": true,
     "schema_version": 3,
     "solution": false
    }
   },
   "outputs": [],
   "source": [
    "# Just for evaluating the results.\n",
    "import math\n",
    "import hashlib\n",
    "import inspect\n",
    "import utils"
   ]
  },
  {
   "cell_type": "markdown",
   "metadata": {
    "deletable": false,
    "editable": false,
    "nbgrader": {
     "grade": false,
     "grade_id": "cell-25a5f67d60c2dfed",
     "locked": true,
     "schema_version": 3,
     "solution": false
    }
   },
   "source": [
    "## Exercise 1: Data Types"
   ]
  },
  {
   "cell_type": "markdown",
   "metadata": {
    "deletable": false,
    "editable": false,
    "nbgrader": {
     "grade": false,
     "grade_id": "cell-34bb7be0434b5ade",
     "locked": true,
     "schema_version": 3,
     "solution": false
    }
   },
   "source": [
    "## 1.1) Scientific notation"
   ]
  },
  {
   "cell_type": "code",
   "execution_count": null,
   "metadata": {
    "deletable": false,
    "nbgrader": {
     "grade": false,
     "grade_id": "cell-a5bd49d98abf2410",
     "locked": false,
     "schema_version": 3,
     "solution": true
    }
   },
   "outputs": [],
   "source": [
    "# Assign the speed of light (2.99*10^8 m/s) to the variable speed_light.\n",
    "# Use the scientific notation and 2 decimal places.\n",
    "\n",
    "# speed_light = ...\n",
    "# YOUR CODE HERE\n",
    "raise NotImplementedError()\n",
    "\n",
    "# Calculate the distance (in meters) that a light particle travels in 15 seconds.\n",
    "# Assign the distance travelled by the particle (in meters) to the variable distance_travelled.\n",
    "\n",
    "# distance_travelled = \n",
    "# YOUR CODE HERE\n",
    "raise NotImplementedError()"
   ]
  },
  {
   "cell_type": "code",
   "execution_count": null,
   "metadata": {
    "deletable": false,
    "editable": false,
    "nbgrader": {
     "grade": true,
     "grade_id": "cell-6b465d1d500666a0",
     "locked": true,
     "points": 1,
     "schema_version": 3,
     "solution": false,
     "task": false
    }
   },
   "outputs": [],
   "source": [
    "assert isinstance(speed_light, float), \"Review the data type of speed_light.\"\n",
    "assert math.isclose(speed_light,2.99E8,abs_tol=1E5), \"Check your speed!\"\n",
    "assert isinstance(distance_travelled, float), \"Review the data type of distance_travelled.\"\n",
    "assert math.isclose(distance_travelled,4.485E9,abs_tol=1E5), \"Did you use the correct time in the calculation?\"\n",
    "print('Nicely done!')"
   ]
  },
  {
   "cell_type": "markdown",
   "metadata": {
    "deletable": false,
    "editable": false,
    "nbgrader": {
     "grade": false,
     "grade_id": "cell-835bf362a6f3296d",
     "locked": true,
     "schema_version": 3,
     "solution": false
    }
   },
   "source": [
    "## 1.2) Data type conversion\n",
    "\n",
    "The data types of several variables got mixed up. Convert them to the target type.\n",
    "\n",
    "**Do not change** the values of the original variables."
   ]
  },
  {
   "cell_type": "markdown",
   "metadata": {
    "deletable": false,
    "editable": false,
    "nbgrader": {
     "grade": false,
     "grade_id": "cell-2a04cb85a0ca2893",
     "locked": true,
     "schema_version": 3,
     "solution": false
    }
   },
   "source": [
    "### 1.2.1) To string"
   ]
  },
  {
   "cell_type": "code",
   "execution_count": null,
   "metadata": {
    "deletable": false,
    "nbgrader": {
     "grade": false,
     "grade_id": "cell-cf0b9cd761180962",
     "locked": false,
     "schema_version": 3,
     "solution": true
    }
   },
   "outputs": [],
   "source": [
    "# Assign the value of the variable size converted into a string to the variable size_string.\n",
    "size = 1.78\n",
    "\n",
    "# size_string = ...\n",
    "# YOUR CODE HERE\n",
    "raise NotImplementedError()"
   ]
  },
  {
   "cell_type": "code",
   "execution_count": null,
   "metadata": {
    "deletable": false,
    "editable": false,
    "nbgrader": {
     "grade": true,
     "grade_id": "cell-ac16bba863ed00af",
     "locked": true,
     "points": 1,
     "schema_version": 3,
     "solution": false,
     "task": false
    }
   },
   "outputs": [],
   "source": [
    "assert isinstance(size_string, str), \"Review the data type of size_string.\"\n",
    "assert hashlib.sha256(bytes(size_string, encoding='utf8')).hexdigest() == '5d48c7c6dce082d397fecf99b8f1ac7fa7adf02bd38fcbb1f7f9f13fba7a2d45', \"The value of size_string is incorrect.\"\n",
    "print('Nicely done!')"
   ]
  },
  {
   "cell_type": "markdown",
   "metadata": {
    "deletable": false,
    "editable": false,
    "nbgrader": {
     "grade": false,
     "grade_id": "cell-f053bd824f139d2f",
     "locked": true,
     "schema_version": 3,
     "solution": false
    }
   },
   "source": [
    "### 1.2.2)  To integer"
   ]
  },
  {
   "cell_type": "code",
   "execution_count": null,
   "metadata": {
    "deletable": false,
    "nbgrader": {
     "grade": false,
     "grade_id": "cell-ca00a15a43742c1c",
     "locked": false,
     "schema_version": 3,
     "solution": true
    }
   },
   "outputs": [],
   "source": [
    "# Assign to variable age_int the value of variable age converted into an integer. \n",
    "age = \"38\"\n",
    "\n",
    "# age_int = ...\n",
    "# YOUR CODE HERE\n",
    "raise NotImplementedError()"
   ]
  },
  {
   "cell_type": "code",
   "execution_count": null,
   "metadata": {
    "deletable": false,
    "editable": false,
    "nbgrader": {
     "grade": true,
     "grade_id": "cell-43f5849625865cc0",
     "locked": true,
     "points": 1,
     "schema_version": 3,
     "solution": false,
     "task": false
    }
   },
   "outputs": [],
   "source": [
    "assert isinstance(age_int, int), \"Review the data type of age_int.\"\n",
    "assert math.isclose(age_int, 38, abs_tol=0.1), \"The value of age_int is incorrect.\"\n",
    "print('Nicely done!')"
   ]
  },
  {
   "cell_type": "markdown",
   "metadata": {
    "deletable": false,
    "editable": false,
    "nbgrader": {
     "grade": false,
     "grade_id": "cell-7ffe99898d22f7c4",
     "locked": true,
     "schema_version": 3,
     "solution": false
    }
   },
   "source": [
    "### 1.2.3)  To float"
   ]
  },
  {
   "cell_type": "code",
   "execution_count": null,
   "metadata": {
    "deletable": false,
    "nbgrader": {
     "grade": false,
     "grade_id": "cell-cce49b7314add616",
     "locked": false,
     "schema_version": 3,
     "solution": true
    }
   },
   "outputs": [],
   "source": [
    "# Assign to the variable weight_float the value of the variable weight converted into a float. \n",
    "weight = \"77.4\"\n",
    "\n",
    "# weight_float = ...\n",
    "# YOUR CODE HERE\n",
    "raise NotImplementedError()"
   ]
  },
  {
   "cell_type": "code",
   "execution_count": null,
   "metadata": {
    "deletable": false,
    "editable": false,
    "nbgrader": {
     "grade": true,
     "grade_id": "cell-97305f11f776d1a5",
     "locked": true,
     "points": 1,
     "schema_version": 3,
     "solution": false,
     "task": false
    }
   },
   "outputs": [],
   "source": [
    "assert isinstance(weight_float, float), \"Review the data type of weight_float.\"\n",
    "assert math.isclose(weight_float, 77.4, abs_tol=0.01), \"The value of weight_float is incorrect.\"\n",
    "print('Nicely done!')"
   ]
  },
  {
   "cell_type": "markdown",
   "metadata": {
    "deletable": false,
    "editable": false,
    "nbgrader": {
     "grade": false,
     "grade_id": "cell-6edea836441bcb1b",
     "locked": true,
     "schema_version": 3,
     "solution": false,
     "task": false
    }
   },
   "source": [
    "### 1.2.4 To integer again\n",
    "Which of these values can be converted to integer?   \n",
    "\n",
    "&emsp;A: None   \n",
    "&emsp;B: True   \n",
    "&emsp;C: 'False'   \n",
    "&emsp;D: 'a'   "
   ]
  },
  {
   "cell_type": "code",
   "execution_count": null,
   "metadata": {
    "deletable": false,
    "nbgrader": {
     "grade": false,
     "grade_id": "cell-c55c55231ad3ad85",
     "locked": false,
     "schema_version": 3,
     "solution": true,
     "task": false
    }
   },
   "outputs": [],
   "source": [
    "# Assign the letter of the correct answer to the variable answer_124, like this 'A'\n",
    "# answer_124 = ...\n",
    "# YOUR CODE HERE\n",
    "raise NotImplementedError()"
   ]
  },
  {
   "cell_type": "code",
   "execution_count": null,
   "metadata": {
    "deletable": false,
    "editable": false,
    "nbgrader": {
     "grade": true,
     "grade_id": "cell-c1a3a14369af8bb3",
     "locked": true,
     "points": 1,
     "schema_version": 3,
     "solution": false,
     "task": false
    }
   },
   "outputs": [],
   "source": [
    "assert hashlib.sha256(bytes(answer_124, encoding='utf8')).hexdigest() == 'df7e70e5021544f4834bbee64a9e3789febc4be81470df629cad6ddb03320a5c', 'Not correct, try again.'\n",
    "print('Nicely done!')"
   ]
  },
  {
   "cell_type": "markdown",
   "metadata": {
    "deletable": false,
    "editable": false,
    "nbgrader": {
     "grade": false,
     "grade_id": "cell-66eb6a5f99b48f7c",
     "locked": true,
     "schema_version": 3,
     "solution": false,
     "task": false
    }
   },
   "source": [
    "### 1.2.5 To float again\n",
    "Below are four expressions that we are trying to convert to `float`. Which of them will convert to zero?   \n",
    "\n",
    "&emsp;A: float('1-1')    \n",
    "&emsp;B: float(True)   \n",
    "&emsp;C: float(False)   \n",
    "&emsp;D: float(None)   "
   ]
  },
  {
   "cell_type": "code",
   "execution_count": null,
   "metadata": {
    "deletable": false,
    "nbgrader": {
     "grade": false,
     "grade_id": "cell-a00fcb4ae0b5096d",
     "locked": false,
     "schema_version": 3,
     "solution": true,
     "task": false
    }
   },
   "outputs": [],
   "source": [
    "# Assign the letter of the correct answer to the variable answer_125, like this 'A'\n",
    "# answer_125 = ...\n",
    "# YOUR CODE HERE\n",
    "raise NotImplementedError()"
   ]
  },
  {
   "cell_type": "code",
   "execution_count": null,
   "metadata": {
    "deletable": false,
    "editable": false,
    "nbgrader": {
     "grade": true,
     "grade_id": "cell-17658d23d89bdd34",
     "locked": true,
     "points": 1,
     "schema_version": 3,
     "solution": false,
     "task": false
    }
   },
   "outputs": [],
   "source": [
    "assert hashlib.sha256(bytes(answer_125, encoding='utf8')).hexdigest() == '6b23c0d5f35d1b11f9b683f0b0a617355deb11277d91ae091d399c655b87940d', 'Not correct, try again.'\n",
    "print('Nicely done!')"
   ]
  },
  {
   "cell_type": "markdown",
   "metadata": {
    "deletable": false,
    "editable": false,
    "nbgrader": {
     "grade": false,
     "grade_id": "cell-7200d530f19ae247",
     "locked": true,
     "schema_version": 3,
     "solution": false,
     "task": false
    }
   },
   "source": [
    "### 1.2.6 Choose the correct type conversion\n",
    "Below is a variable. Use a conversion operation to convert it to the number `1`."
   ]
  },
  {
   "cell_type": "code",
   "execution_count": null,
   "metadata": {
    "deletable": false,
    "nbgrader": {
     "grade": false,
     "grade_id": "cell-b5a35d16a1a51da2",
     "locked": false,
     "schema_version": 3,
     "solution": true,
     "task": false
    }
   },
   "outputs": [],
   "source": [
    "make_me_one = bool('None')\n",
    "# make_me_one = CONVERSION(bool('None'))\n",
    "# YOUR CODE HERE\n",
    "raise NotImplementedError()"
   ]
  },
  {
   "cell_type": "code",
   "execution_count": null,
   "metadata": {
    "deletable": false,
    "editable": false,
    "nbgrader": {
     "grade": true,
     "grade_id": "cell-f53d9ff7c1f10a0f",
     "locked": true,
     "points": 1,
     "schema_version": 3,
     "solution": false,
     "task": false
    }
   },
   "outputs": [],
   "source": [
    "assert make_me_one == 1, 'Not correct, try again.'\n",
    "print('Nicely done!')"
   ]
  },
  {
   "cell_type": "markdown",
   "metadata": {
    "deletable": false,
    "editable": false,
    "nbgrader": {
     "grade": false,
     "grade_id": "cell-159c49181431cb31",
     "locked": true,
     "schema_version": 3,
     "solution": false,
     "task": false
    }
   },
   "source": [
    "### 1.2.7 Choose the correct type conversion again\n",
    "Below is a variable. Use some conversion operations to convert it to `True`."
   ]
  },
  {
   "cell_type": "code",
   "execution_count": null,
   "metadata": {
    "deletable": false,
    "nbgrader": {
     "grade": false,
     "grade_id": "cell-2d7794a6abdc2dc7",
     "locked": false,
     "schema_version": 3,
     "solution": true,
     "task": false
    }
   },
   "outputs": [],
   "source": [
    "make_me_true = bool(None)\n",
    "# make_me_true = CONVERSION(bool('None'))\n",
    "# YOUR CODE HERE\n",
    "raise NotImplementedError()"
   ]
  },
  {
   "cell_type": "code",
   "execution_count": null,
   "metadata": {
    "deletable": false,
    "editable": false,
    "nbgrader": {
     "grade": true,
     "grade_id": "cell-e76eb0535a879abf",
     "locked": true,
     "points": 2,
     "schema_version": 3,
     "solution": false,
     "task": false
    }
   },
   "outputs": [],
   "source": [
    "assert make_me_true == True, 'Not correct, try again.'\n",
    "print('Nicely done!')"
   ]
  },
  {
   "cell_type": "markdown",
   "metadata": {
    "deletable": false,
    "editable": false,
    "nbgrader": {
     "grade": false,
     "grade_id": "cell-d5767ea19f9b5d23",
     "locked": true,
     "schema_version": 3,
     "solution": false
    }
   },
   "source": [
    "# Exercise 2: Operations"
   ]
  },
  {
   "cell_type": "markdown",
   "metadata": {
    "deletable": false,
    "editable": false,
    "nbgrader": {
     "grade": false,
     "grade_id": "cell-05f72c7dbabe8d3d",
     "locked": true,
     "schema_version": 3,
     "solution": false
    }
   },
   "source": [
    "## 2.1) Arithmetic operations\n",
    "\n",
    "Solve the math problems and assign the results to the variables.\n",
    "\n",
    "Use arithmetic operations in your solutions.\n",
    "\n",
    "If the answer has no decimal part, assign it as an **integer**. Otherwise leave it as a **float**."
   ]
  },
  {
   "cell_type": "markdown",
   "metadata": {
    "deletable": false,
    "editable": false,
    "nbgrader": {
     "grade": false,
     "grade_id": "cell-bab6bbe7353769e1",
     "locked": true,
     "schema_version": 3,
     "solution": false
    }
   },
   "source": [
    "### 2.1.1)  Basic arithmetics"
   ]
  },
  {
   "cell_type": "code",
   "execution_count": null,
   "metadata": {
    "deletable": false,
    "nbgrader": {
     "grade": false,
     "grade_id": "cell-68e58a91a765c6cb",
     "locked": false,
     "schema_version": 3,
     "solution": true
    }
   },
   "outputs": [],
   "source": [
    "# To study Data Science, Jane read 2 books. \n",
    "# She read the first one in one week, reading 27 pages every day. \n",
    "# She read the second book in 11 days, reading 24 pages every day. \n",
    "# What is the total number of pages that Jane read? \n",
    "\n",
    "# pages_read = ...\n",
    "# YOUR CODE HERE\n",
    "raise NotImplementedError()"
   ]
  },
  {
   "cell_type": "code",
   "execution_count": null,
   "metadata": {
    "deletable": false,
    "editable": false,
    "nbgrader": {
     "grade": true,
     "grade_id": "cell-b09b6a3df43346e0",
     "locked": true,
     "points": 1,
     "schema_version": 3,
     "solution": false,
     "task": false
    }
   },
   "outputs": [],
   "source": [
    "assert isinstance(pages_read, int), \"Review the data type of pages_read.\"\n",
    "assert math.isclose(pages_read, 453, abs_tol=0.001), \"The value of pages_read is incorrect.\"\n",
    "print('Nicely done!')"
   ]
  },
  {
   "cell_type": "markdown",
   "metadata": {
    "deletable": false,
    "editable": false,
    "nbgrader": {
     "grade": false,
     "grade_id": "cell-6e4ded96b9d50af0",
     "locked": true,
     "schema_version": 3,
     "solution": false
    }
   },
   "source": [
    "### 2.1.2) More basic arithmetics"
   ]
  },
  {
   "cell_type": "code",
   "execution_count": null,
   "metadata": {
    "deletable": false,
    "nbgrader": {
     "grade": false,
     "grade_id": "cell-0f95f2283fa7b5ed",
     "locked": false,
     "schema_version": 3,
     "solution": true
    }
   },
   "outputs": [],
   "source": [
    "# Steve used his savings of 2500 euros to do some purchases.\n",
    "# He spent 3/4 of his savings on furniture. \n",
    "# He then spent 1/2 of his remaining savings on a fridge. \n",
    "# How much money had Steve left from his savings after the purchases?\n",
    "\n",
    "#savings_left =\n",
    "# YOUR CODE HERE\n",
    "raise NotImplementedError()"
   ]
  },
  {
   "cell_type": "code",
   "execution_count": null,
   "metadata": {
    "deletable": false,
    "editable": false,
    "nbgrader": {
     "grade": true,
     "grade_id": "cell-b15473e30437404d",
     "locked": true,
     "points": 1,
     "schema_version": 3,
     "solution": false,
     "task": false
    }
   },
   "outputs": [],
   "source": [
    "assert isinstance(savings_left, float), \"Review the data type of savings_left.\"\n",
    "assert math.isclose(savings_left, 312.5, abs_tol=0.2), \"The value of savings_left is incorrect.\"\n",
    "print('Nicely done!')"
   ]
  },
  {
   "cell_type": "markdown",
   "metadata": {
    "deletable": false,
    "editable": false,
    "nbgrader": {
     "grade": false,
     "grade_id": "cell-fe75c04bf71cac61",
     "locked": true,
     "schema_version": 3,
     "solution": false
    }
   },
   "source": [
    "### 2.1.3) Even more arithmetics"
   ]
  },
  {
   "cell_type": "code",
   "execution_count": null,
   "metadata": {
    "deletable": false,
    "nbgrader": {
     "grade": false,
     "grade_id": "cell-4a8b61ca7fd9597b",
     "locked": false,
     "schema_version": 3,
     "solution": true
    }
   },
   "outputs": [],
   "source": [
    "# John, Mary, Louis and Silvia have 177 cards to use in a game. \n",
    "# They want to share them equally. \n",
    "# How many cards should each one take and how many cards will be left in the deck?\n",
    "\n",
    "# cards_per_player = ...\n",
    "# cards_left = \n",
    "# YOUR CODE HERE\n",
    "raise NotImplementedError()"
   ]
  },
  {
   "cell_type": "code",
   "execution_count": null,
   "metadata": {
    "deletable": false,
    "editable": false,
    "nbgrader": {
     "grade": true,
     "grade_id": "cell-80de177e3edd27bc",
     "locked": true,
     "points": 1,
     "schema_version": 3,
     "solution": false,
     "task": false
    }
   },
   "outputs": [],
   "source": [
    "assert isinstance(cards_per_player, int), \"Review the data type of cards_per_player.\"\n",
    "assert math.isclose(cards_per_player, 44, abs_tol=0.001), \"The value of cards_per_player is incorrect.\"\n",
    "assert isinstance(cards_left, int), \"Review the data type of cards_left.\"\n",
    "assert math.isclose(cards_left, 1, abs_tol=0.001), \"The value of cards_left is incorrect.\"\n",
    "print('Nicely done!')"
   ]
  },
  {
   "cell_type": "markdown",
   "metadata": {
    "deletable": false,
    "editable": false,
    "nbgrader": {
     "grade": false,
     "grade_id": "cell-3364086ed1b77398",
     "locked": true,
     "schema_version": 3,
     "solution": false
    }
   },
   "source": [
    "### 2.1.4) Shortcut arithmetic operators"
   ]
  },
  {
   "cell_type": "code",
   "execution_count": null,
   "metadata": {
    "deletable": false,
    "nbgrader": {
     "grade": false,
     "grade_id": "cell-ca40d76b6b0fd084",
     "locked": false,
     "schema_version": 3,
     "solution": true
    }
   },
   "outputs": [],
   "source": [
    "# Louis has invested 2700 euros in a savings account. \n",
    "# The investment gives returns of 5% of the value invested every year.\n",
    "# Louis reinvests all the returns into the same savings account.\n",
    "# How much money is there in the savings account at the end of the 3rd year?\n",
    "\n",
    "\n",
    "# TIP: you can use as many auxiliary variables as you need. \n",
    "# Or change the value of a variable after the initial assignment.\n",
    "\n",
    "# final_savings =\n",
    "# YOUR CODE HERE\n",
    "raise NotImplementedError()"
   ]
  },
  {
   "cell_type": "code",
   "execution_count": null,
   "metadata": {
    "deletable": false,
    "editable": false,
    "nbgrader": {
     "grade": true,
     "grade_id": "cell-822b5ec7dfe02776",
     "locked": true,
     "points": 1,
     "schema_version": 3,
     "solution": false,
     "task": false
    }
   },
   "outputs": [],
   "source": [
    "assert isinstance(final_savings, float), \"Review the data type of final_savings.\"\n",
    "assert math.isclose(final_savings, 3125.5875, abs_tol=0.1), \"The value of final_savings is incorrect.\"\n",
    "print('Nicely done!')"
   ]
  },
  {
   "cell_type": "markdown",
   "metadata": {
    "deletable": false,
    "editable": false,
    "nbgrader": {
     "grade": false,
     "grade_id": "cell-1cf9ff939e632388",
     "locked": true,
     "schema_version": 3,
     "solution": false,
     "task": false
    }
   },
   "source": [
    "### 2.1.5 Operator precedence\n",
    "Insert parenthesis into the following expression so that it results in 0."
   ]
  },
  {
   "cell_type": "code",
   "execution_count": null,
   "metadata": {
    "deletable": false,
    "nbgrader": {
     "grade": false,
     "grade_id": "cell-185924cba3017768",
     "locked": false,
     "schema_version": 3,
     "solution": true,
     "task": false
    }
   },
   "outputs": [],
   "source": [
    "make_me_zero = 2*1959 - 2009 + 10**3 -1\n",
    "\n",
    "# YOUR CODE HERE\n",
    "raise NotImplementedError()"
   ]
  },
  {
   "cell_type": "code",
   "execution_count": null,
   "metadata": {
    "deletable": false,
    "editable": false,
    "nbgrader": {
     "grade": true,
     "grade_id": "cell-94e135b0fe997cb7",
     "locked": true,
     "points": 2,
     "schema_version": 3,
     "solution": false,
     "task": false
    }
   },
   "outputs": [],
   "source": [
    "assert make_me_zero == 0, 'Not correct, try again.'\n",
    "print('Nicely done!')"
   ]
  },
  {
   "cell_type": "markdown",
   "metadata": {
    "deletable": false,
    "editable": false,
    "nbgrader": {
     "grade": false,
     "grade_id": "cell-7b0190cf470d6f9a",
     "locked": true,
     "schema_version": 3,
     "solution": false,
     "task": false
    }
   },
   "source": [
    "### 2.1.6 Chain of operations\n",
    "In this exercise, you will create a few variables and do some calculations with them. Follow the instructions in the cell below. Use variable names of your choice."
   ]
  },
  {
   "cell_type": "code",
   "execution_count": null,
   "metadata": {
    "deletable": false,
    "nbgrader": {
     "grade": false,
     "grade_id": "cell-d5dc2adb64e23242",
     "locked": false,
     "schema_version": 3,
     "solution": true,
     "task": false
    }
   },
   "outputs": [],
   "source": [
    "# Create a variable and assign it the value True\n",
    "\n",
    "# Create a variable and assign it the value 'tralala'\n",
    "\n",
    "# Create a variable and assign it the value 9\n",
    "\n",
    "# Convert the second variable to boolean and assign the result to the same variable\n",
    "\n",
    "# Elevate the third variable to power of 5 and assign the result to the same variable\n",
    "\n",
    "# Integer divide the third variable by 3 and assign the result to the same variable\n",
    "\n",
    "# Take the remainder 3 of the first variable and assign the result to the same variable\n",
    "\n",
    "# Subtract the first variable from the second variable and add the third variable.\n",
    "# Assign the result to the variable result_216.\n",
    "# result_216 = ...\n",
    "# YOUR CODE HERE\n",
    "raise NotImplementedError()"
   ]
  },
  {
   "cell_type": "code",
   "execution_count": null,
   "metadata": {
    "deletable": false,
    "editable": false,
    "nbgrader": {
     "grade": true,
     "grade_id": "cell-f018c65138ed9f28",
     "locked": true,
     "points": 1,
     "schema_version": 3,
     "solution": false,
     "task": false
    }
   },
   "outputs": [],
   "source": [
    "assert hashlib.sha256(bytes(str(type(result_216)), encoding='utf8')).hexdigest() == 'f918a1a5caa5f9fe881535f5846de4549fb2809063c3fc932c258d864fc0c17c', 'The result is not of the correct type.'\n",
    "assert hashlib.sha256(bytes(str(result_216), encoding='utf8')).hexdigest() == 'b1131b8f4898a59e39906d7a5fb4a448ba41c3ee3f3a6b8b46f77fbe70219794', 'The result is not correct.'\n",
    "print('Nicely done!')"
   ]
  },
  {
   "cell_type": "markdown",
   "metadata": {
    "deletable": false,
    "editable": false,
    "nbgrader": {
     "grade": false,
     "grade_id": "cell-234d2320f3bc45d9",
     "locked": true,
     "schema_version": 3,
     "solution": false
    }
   },
   "source": [
    "## 2.2) String operations"
   ]
  },
  {
   "cell_type": "markdown",
   "metadata": {
    "deletable": false,
    "editable": false,
    "nbgrader": {
     "grade": false,
     "grade_id": "cell-07fb5a6bd4774e7b",
     "locked": true,
     "schema_version": 3,
     "solution": false
    }
   },
   "source": [
    "### 2.2.1) Concatenation"
   ]
  },
  {
   "cell_type": "code",
   "execution_count": null,
   "metadata": {
    "deletable": false,
    "nbgrader": {
     "grade": false,
     "grade_id": "cell-0a458560de5f3c4e",
     "locked": false,
     "schema_version": 3,
     "solution": true
    }
   },
   "outputs": [],
   "source": [
    "# Concatenate the joke variable with 3 times the response variable, leaving a space between each string.\n",
    "# The result should be: \"How does Darth Vader like his toast? On the dark side. Ha Ha Ha\"\n",
    "joke = \"How does Darth Vader like his toast? On the dark side.\"\n",
    "response = \"Ha\"\n",
    "# joke_reception = ...\n",
    "\n",
    "# YOUR CODE HERE\n",
    "raise NotImplementedError()"
   ]
  },
  {
   "cell_type": "code",
   "execution_count": null,
   "metadata": {
    "deletable": false,
    "editable": false,
    "nbgrader": {
     "grade": true,
     "grade_id": "cell-65f0dc204b4b0812",
     "locked": true,
     "points": 1,
     "schema_version": 3,
     "solution": false,
     "task": false
    }
   },
   "outputs": [],
   "source": [
    "joke_reception_hash = '3b544b8a3e3c38076931e145008372476700160b6c106dea0aede521192a5a88'\n",
    "assert isinstance(joke_reception, str), \"Review the data type of joke_reception.\"\n",
    "assert hashlib.sha256(bytes(joke_reception, encoding='utf8')).hexdigest() == '3b544b8a3e3c38076931e145008372476700160b6c106dea0aede521192a5a88', \"The value of joke_reception is incorrect.\"\n",
    "print('Nicely done!')"
   ]
  },
  {
   "cell_type": "markdown",
   "metadata": {
    "deletable": false,
    "editable": false,
    "nbgrader": {
     "grade": false,
     "grade_id": "cell-c1645d4608319a91",
     "locked": true,
     "schema_version": 3,
     "solution": false
    }
   },
   "source": [
    "### 2.2.2) String formatting"
   ]
  },
  {
   "cell_type": "code",
   "execution_count": null,
   "metadata": {
    "deletable": false,
    "nbgrader": {
     "grade": false,
     "grade_id": "cell-d2b9abfbcaf35a41",
     "locked": false,
     "schema_version": 3,
     "solution": true
    }
   },
   "outputs": [],
   "source": [
    "# Use one of the string formatting methods to insert the values of the variables into a string.\n",
    "# Write the string in a single statement but DO NOT write the quantities \"by hand\" and \n",
    "# DO NOT use concatenation.\n",
    "# The result should be: \"In the fridge there are 12 yogurts, 0.5 liters of milk and 8 eggs.\"\n",
    "yogurt = 12\n",
    "milk = 0.5\n",
    "eggs = 8\n",
    "\n",
    "# inventory = \"In the fridge (...)\"\n",
    "\n",
    "# YOUR CODE HERE\n",
    "raise NotImplementedError()"
   ]
  },
  {
   "cell_type": "code",
   "execution_count": null,
   "metadata": {
    "deletable": false,
    "editable": false,
    "nbgrader": {
     "grade": true,
     "grade_id": "cell-9f9722689d8a954e",
     "locked": true,
     "points": 1,
     "schema_version": 3,
     "solution": false,
     "task": false
    }
   },
   "outputs": [],
   "source": [
    "assert isinstance(inventory, str), \"Review the data type of inventory.\"\n",
    "assert hashlib.sha256(bytes(inventory, encoding='utf8')).hexdigest() == 'd48f0e70729026e365046f03606e62d2dfab6b3b1102300e38efbeae63ce156d', \"The value of inventory is incorrect.\"\n",
    "print('Nicely done!')"
   ]
  },
  {
   "cell_type": "markdown",
   "metadata": {
    "deletable": false,
    "editable": false,
    "nbgrader": {
     "grade": false,
     "grade_id": "cell-1f3868ec8c029bc6",
     "locked": true,
     "schema_version": 3,
     "solution": false,
     "task": false
    }
   },
   "source": [
    "## 3. Variables\n",
    "### 3.1 Variable names\n",
    "On a nice Sunday morning, Pooh decided to make an inventory of his house. Except for his honey, he also found some objects from his friends Eeyore and Piglet. He did not get the variable names quite right though. Help him put them into the correct form."
   ]
  },
  {
   "cell_type": "code",
   "execution_count": null,
   "metadata": {
    "deletable": false,
    "nbgrader": {
     "grade": false,
     "grade_id": "cell-2a9023cb382224c4",
     "locked": false,
     "schema_version": 3,
     "solution": true,
     "task": false
    }
   },
   "outputs": [],
   "source": [
    "# Change this variable name to lower case with underscores.\n",
    "potsofhoney = 51\n",
    "# Change this variable name to mixed case.\n",
    "poemsbyeeyore = 1\n",
    "# Change this variable name to camel case.\n",
    "balloonfrompiglet = 3\n",
    "\n",
    "# Now use the three variables to count the objects in Pooh's house.\n",
    "# pooh_house_inventory = ...\n",
    "# YOUR CODE HERE\n",
    "raise NotImplementedError()"
   ]
  },
  {
   "cell_type": "code",
   "execution_count": null,
   "metadata": {
    "deletable": false,
    "editable": false,
    "nbgrader": {
     "grade": true,
     "grade_id": "cell-758000da65622b86",
     "locked": true,
     "points": 1,
     "schema_version": 3,
     "solution": false,
     "task": false
    }
   },
   "outputs": [],
   "source": [
    "assert pooh_house_inventory == 55, 'The value of the inventory variable is not correct.'\n",
    "assert utils.variable_ex31_1() in globals().keys(), 'The name of the first variable is not correct.'\n",
    "assert utils.variable_ex31_2() in globals().keys(), 'The name of the second variable is not correct.'\n",
    "assert utils.variable_ex31_3() in globals().keys(), 'The name of the third variable is not correct.'\n",
    "print('Nicely done!')"
   ]
  },
  {
   "cell_type": "markdown",
   "metadata": {
    "deletable": false,
    "editable": false,
    "nbgrader": {
     "grade": false,
     "grade_id": "cell-0eca027e4a5c58d9",
     "locked": true,
     "schema_version": 3,
     "solution": false,
     "task": false
    }
   },
   "source": [
    "### 3.2 Mutant variables\n",
    "Consider the following code:\n",
    "```python\n",
    "a = 2\n",
    "b = 3\n",
    "a = b\n",
    "```\n",
    "What is the value of variable `a`? What is the id of variable `a`? Choose the correct option: \n",
    "\n",
    "&emsp;A: The values `a` and `b` are the same. The ids of `a` and `b` are different.   \n",
    "&emsp;B: The values `a` and `b` are the same. The ids of `a` and `b` are the same.   \n",
    "&emsp;C: The values `a` and `b` are different. The ids of `a` and `b` are the same.   \n",
    "&emsp;D: The values `a` and `b` are different. The ids of `a` and `b` are different.   "
   ]
  },
  {
   "cell_type": "code",
   "execution_count": null,
   "metadata": {
    "deletable": false,
    "nbgrader": {
     "grade": false,
     "grade_id": "cell-1980d7b74342e9f4",
     "locked": false,
     "schema_version": 3,
     "solution": true,
     "task": false
    }
   },
   "outputs": [],
   "source": [
    "# answer_32 = ...\n",
    "# YOUR CODE HERE\n",
    "raise NotImplementedError()"
   ]
  },
  {
   "cell_type": "code",
   "execution_count": null,
   "metadata": {
    "deletable": false,
    "editable": false,
    "nbgrader": {
     "grade": true,
     "grade_id": "cell-3f66f14399a9c59a",
     "locked": true,
     "points": 1,
     "schema_version": 3,
     "solution": false,
     "task": false
    }
   },
   "outputs": [],
   "source": [
    "assert hashlib.sha256(bytes(answer_32, encoding='utf8')).hexdigest() == 'df7e70e5021544f4834bbee64a9e3789febc4be81470df629cad6ddb03320a5c', 'Not correct, try again.'\n",
    "print('Nicely done!')"
   ]
  },
  {
   "cell_type": "markdown",
   "metadata": {
    "deletable": false,
    "editable": false,
    "nbgrader": {
     "grade": false,
     "grade_id": "cell-09266738d89b72ac",
     "locked": true,
     "schema_version": 3,
     "solution": false,
     "task": false
    }
   },
   "source": [
    "# Submit your work!\n",
    "\n",
    "To grade your exercise notebook and submit your work to the portal, [follow the instructions in the weekly workflow!](https://github.com/LDSSA/ds-prep-course-2024/blob/main/weekly-workflow.md#link-to-grading)"
   ]
  },
  {
   "cell_type": "markdown",
   "metadata": {},
   "source": [
    "## Give us feedback!\n",
    "We'd like to know how you found the learning experience with this SLU. You can leave anonymous feedback in this [feedback form](https://docs.google.com/forms/d/e/1FAIpQLSd2C1XlAagOo5fXJV6ZsEi5wvWxbfxgBPQnTy3tXiDk0zjYAA/viewform?usp=sf_link) and help us improve the unit next year. Thank you!"
   ]
  }
 ],
 "metadata": {
  "kernelspec": {
   "display_name": "Python 3 (ipykernel)",
   "language": "python",
   "name": "python3"
  },
  "language_info": {
   "codemirror_mode": {
    "name": "ipython",
    "version": 3
   },
   "file_extension": ".py",
   "mimetype": "text/x-python",
   "name": "python",
   "nbconvert_exporter": "python",
   "pygments_lexer": "ipython3",
   "version": "3.11.8"
  }
 },
 "nbformat": 4,
 "nbformat_minor": 4
}
