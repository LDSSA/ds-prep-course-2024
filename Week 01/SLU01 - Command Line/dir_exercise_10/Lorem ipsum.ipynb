{
 "cells": [
  {
   "cell_type": "markdown",
   "metadata": {
    "nbgrader": {
     "grade": false,
     "grade_id": "cell-de96e4a5468707dc",
     "locked": true,
     "schema_version": 3,
     "solution": false,
     "task": false
    }
   },
   "source": [
    "# My example Jupyter Notebook"
   ]
  },
  {
   "cell_type": "code",
   "execution_count": 1,
   "metadata": {
    "execution": {
     "iopub.execute_input": "2024-03-23T10:23:52.574775Z",
     "iopub.status.busy": "2024-03-23T10:23:52.574110Z",
     "iopub.status.idle": "2024-03-23T10:23:52.584638Z",
     "shell.execute_reply": "2024-03-23T10:23:52.583855Z",
     "shell.execute_reply.started": "2024-03-23T10:23:52.574728Z"
    },
    "nbgrader": {
     "grade": false,
     "grade_id": "cell-b3b9d1ca4eb808a2",
     "locked": true,
     "schema_version": 3,
     "solution": false,
     "task": false
    }
   },
   "outputs": [],
   "source": [
    "# Our imports\n",
    "from datetime import datetime"
   ]
  },
  {
   "cell_type": "markdown",
   "metadata": {},
   "source": [
    " ✔️ The Lorem ipsum text is derived from sections 1.10.32 and 1.10.33 of Cicero's _De finibus bonorum et malorum_.\n",
    "\n",
    "📚 The physical source may have been the 1914 Loeb Classical Library edition of De finibus, where the Latin text, presented on the left-hand (even) pages, breaks off on page 34 with _\"Neque porro quisquam est qui do-\"_ and continues on page 36 with _\"lorem ipsum ...\"_, suggesting that the galley type of that page was mixed up to make the dummy text seen today.\n"
   ]
  },
  {
   "cell_type": "markdown",
   "metadata": {
    "nbgrader": {
     "grade": false,
     "grade_id": "cell-e0450fada5277341",
     "locked": true,
     "schema_version": 3,
     "solution": false,
     "task": false
    }
   },
   "source": [
    "# _Lorem ipsum_\n",
    "\n",
    "Lorem ipsum dolor sit amet, consectetur adipiscing elit, sed do eiusmod tempor incididunt ut labore et dolore magna aliqua. Ut enim ad minim veniam, quis nostrud exercitation ullamco laboris nisi ut aliquip ex ea commodo consequat. Duis aute irure dolor in reprehenderit in voluptate velit esse cillum dolore eu fugiat nulla pariatur. Excepteur sint occaecat cupidatat non proident, sunt in culpa qui officia deserunt mollit anim id est laborum."
   ]
  },
  {
   "cell_type": "markdown",
   "metadata": {},
   "source": [
    "## Source text 📖"
   ]
  },
  {
   "cell_type": "markdown",
   "metadata": {},
   "source": [
    "The relevant section of Cicero as printed in the source is reproduced below with fragments used in _Lorem ipsum_ in bold. Letters in brackets were added to _Lorem ipsum_ and were not present in the source text:\n",
    "\n",
    "[32] Sed ut perspiciatis, unde omnis iste natus error sit voluptatem accusantium doloremque laudantium, totam rem aperiam eaque ipsa, quae ab illo inventore veritatis et quasi architecto beatae vitae dicta sunt, explicabo. Nemo enim ipsam voluptatem, quia voluptas sit, aspernatur aut odit aut fugit, sed quia consequuntur magni dolores eos, qui ratione voluptatem sequi nesciunt, neque porro quisquam est, qui do**lorem ipsum**, quia **dolor sit amet consectetur adipisci[ng]** v**elit, sed** quia non numquam **[do] eius mod**i **tempor**a **inci[di]dunt, ut labore et dolore magna**m **aliqua**m quaerat voluptatem. **Ut enim ad minim**a **veniam, quis nostru**m **[d] exercitation**em **ullam co**rporis suscipit **labori**o**s**am, **nisi ut aliquid ex ea commodi c**onsequatur? **[D]**Q**uis aute**m vel eum **i[r]ure reprehenderit,** qui **in** ea **voluptate velit esse**, quam nihil molestiae **c**onsequatur, vel **illum**, qui **dolore**m **eu**m **fugiat**, quo voluptas **nulla pariatur**?\n",
    "\n",
    "[33] At vero eos et accusamus et iusto odio dignissimos ducimus, qui blanditiis praesentium voluptatum deleniti atque corrupti, quos dolores et quas molestias **exceptur**i **sint, obcaecat**i cupiditate **non prov**i**dent**, similique **sunt in culpa**, **qui officia deserunt molliti**a **anim**i, **id est laborum** et dolorum fuga. **Et harum** qu**ide**m **re**r**u[d]** um **facilis est e[r]** t **expedit**a **disti**nctio. **Nam liber**o **tempor**e, **cum soluta nobis** est **elige**ndi optio, cumque nihil impedit, quo minus id, **quod maxim**e **placeat facer**e **possimu**s, **omnis volupt**as **assumenda est, omnis dolor repellend[a]** us. Temporibus autem quibusdam et aut officiis debitis aut rerum necessitatibus saepe eveniet, ut et voluptates repudiandae sint et molestiae non recusandae. Itaque earum rerum hic tenetur a sapiente delectus, ut aut reiciendis voluptatibus maiores alias consequatur aut perferendis doloribus asperiores repellat."
   ]
  },
  {
   "cell_type": "markdown",
   "metadata": {},
   "source": [
    "### Translation 🤔"
   ]
  },
  {
   "cell_type": "markdown",
   "metadata": {},
   "source": [
    "What follows is H. Rackham's translation, as printed in the 1914 Loeb edition, with words at least partially represented in *Lorem ipsum* highlighted"
   ]
  },
  {
   "cell_type": "markdown",
   "metadata": {},
   "source": [
    "[32] But I must explain to you how all this mistaken idea of reprobating pleasure and extolling pain arose. To do so, I will give you a complete account of the system, and expound the actual teachings of the great explorer of the truth, the master-builder of human happiness. No one rejects, dislikes or avoids pleasure itself, because it is pleasure, but because those who do not know how to pursue pleasure rationally encounter consequences that are extremely painful. Nor again is there anyone who **loves or pursues or desires to obtain pain of itself, because it is pain, but** occasionally **circumstances occur in which toil and pain can procure him some great** pleasure. **To take a trivial example, which of us ever** undertakes **laborious physical exercise, except to obtain some advantage from it? But who** has any right to **find fault** with a man who **chooses to enjoy a pleasure** that has no annoying consequences, or **one** who **avoids a pain** that **produces no** resultant pleasure?\n",
    "\n",
    "[33] On the other hand, we denounce with righteous indignation and dislike men who are so beguiled and demoralized by the charms of pleasure of the moment, so **blinded by desire, that they cannot foresee** the pain and trouble that are bound to ensue; and equal **blame belongs to those who fail in their duty through weakness of will, which is the same as saying through shrinking from toil** and pain. These cases are perfectly simple and easy to distinguish. In a free hour, when our power of choice is untrammeled and when nothing prevents our being able to do what we like best, every pleasure is to be welcomed and every pain avoided. But in certain circumstances and owing to the claims of duty or the obligations of business it will frequently occur that pleasures have to be repudiated and annoyances accepted. The wise man therefore always holds in these matters to this principle of selection: he rejects pleasures to secure other greater pleasures, or else he endures pains to avoid worse pains."
   ]
  },
  {
   "cell_type": "markdown",
   "metadata": {},
   "source": [
    "# Just an example"
   ]
  },
  {
   "cell_type": "markdown",
   "metadata": {},
   "source": [
    "<div class=\"alert alert-block alert-warning\">\n",
    "<h3>The following code cells have the only purpose to be an example. <u>They will not be covered in the Exercise Notebook</u>.\n",
    "So just chill 😎 </div> "
   ]
  },
  {
   "cell_type": "code",
   "execution_count": 3,
   "metadata": {
    "execution": {
     "iopub.execute_input": "2024-03-23T10:25:16.550172Z",
     "iopub.status.busy": "2024-03-23T10:25:16.549559Z",
     "iopub.status.idle": "2024-03-23T10:25:16.556311Z",
     "shell.execute_reply": "2024-03-23T10:25:16.555529Z",
     "shell.execute_reply.started": "2024-03-23T10:25:16.550131Z"
    }
   },
   "outputs": [
    {
     "name": "stdout",
     "output_type": "stream",
     "text": [
      "The current date and time is 2024-03-23 10:25:16.552338\n",
      "The current time is 10:25:16\n"
     ]
    }
   ],
   "source": [
    "currentDateAndTime = datetime.now()\n",
    "\n",
    "print(\"The current date and time is\", currentDateAndTime)\n",
    "\n",
    "currentTime = currentDateAndTime.strftime(\"%H:%M:%S\")\n",
    "print(\"The current time is\", currentTime)"
   ]
  },
  {
   "cell_type": "markdown",
   "metadata": {
    "execution": {
     "iopub.execute_input": "2024-03-23T10:27:05.917421Z",
     "iopub.status.busy": "2024-03-23T10:27:05.916889Z",
     "iopub.status.idle": "2024-03-23T10:27:05.923130Z",
     "shell.execute_reply": "2024-03-23T10:27:05.922023Z",
     "shell.execute_reply.started": "2024-03-23T10:27:05.917380Z"
    }
   },
   "source": [
    "### More examples"
   ]
  },
  {
   "cell_type": "code",
   "execution_count": 6,
   "metadata": {
    "execution": {
     "iopub.execute_input": "2024-03-23T10:27:17.481609Z",
     "iopub.status.busy": "2024-03-23T10:27:17.481175Z",
     "iopub.status.idle": "2024-03-23T10:27:17.486875Z",
     "shell.execute_reply": "2024-03-23T10:27:17.486203Z",
     "shell.execute_reply.started": "2024-03-23T10:27:17.481579Z"
    }
   },
   "outputs": [
    {
     "name": "stdout",
     "output_type": "stream",
     "text": [
      "The current year is  2024\n",
      "The current month is  3\n",
      "The current day is  23\n",
      "The current hour is  10\n",
      "The current minute is  27\n",
      "The current second is 17\n"
     ]
    }
   ],
   "source": [
    "currentDateAndTime = datetime.now()\n",
    "\n",
    "print(\"The current year is \", currentDateAndTime.year) # Output: The current year is  2024\n",
    "print(\"The current month is \", currentDateAndTime.month) # Output: The current month is  3 \n",
    "print(\"The current day is \", currentDateAndTime.day) \n",
    "print(\"The current hour is \", currentDateAndTime.hour) \n",
    "print(\"The current minute is \", currentDateAndTime.minute) \n",
    "print(f\"The current second is {currentDateAndTime.second}\") \n"
   ]
  },
  {
   "cell_type": "markdown",
   "metadata": {},
   "source": [
    "# Just a tortoise\n",
    "\n",
    "Tortoises (/ˈtɔːr.təs.ɪz/) are reptiles of the family Testudinidae of the order Testudines (Latin for \"tortoise\"). Like other turtles, tortoises have a shell to protect from predation and other threats. The shell in tortoises is generally hard, and like other members of the suborder Cryptodira, they retract their necks and heads directly backward into the shell to protect them.\n",
    "Tortoises can vary in size with some species, such as the Galápagos giant tortoise, growing to more than 1.2 metres (3.9 ft) in length, whereas others like the Speckled cape tortoise have shells that measure only 6.8 centimetres (2.7 in) long.Several lineages of tortoises have independently evolved very large body sizes in excess of 100 kg, including the Galapagos giant tortoise and the Aldabra giant tortoise. They are usually diurnal animals with tendencies to be crepuscular depending on the ambient temperatures. They are generally reclusive animals. Tortoises are the longest-living land animals in the world, although the longest-living species of tortoise is a matter of debate. Galápagos tortoises are noted to live over 150 years, but an Aldabra giant tortoise named Adwaita may have lived an estimated 255 years. In general, most tortoise species can live 80–150 years.\n",
    "Tortoises are placid and slow-moving, with an average walking speed of 0.2–0.5 km/h.\n",
    "\n",
    "<img src=\"../media/tortoise.jpg\" >"
   ]
  },
  {
   "cell_type": "markdown",
   "metadata": {},
   "source": [
    "# References\n",
    "\n",
    "- Wikipedia contributors. (2024, March 15). Lorem ipsum. In Wikipedia, The Free Encyclopedia. Retrieved 10:37, March 23, 2024, from https://en.wikipedia.org/w/index.php?title=Lorem_ipsum&oldid=1213929350\n",
    "- Kolade Chris. (2024, March 21). In Freecode camp. Retrieved 10:38, March 23, 2024, from https://www.freecodecamp.org/news/how-to-get-the-current-time-in-python-with-datetime/\n",
    "- Wikipedia contributors. (2024, February 24). Tortoise. In Wikipedia, The Free Encyclopedia. Retrieved 10:39, March 23, 2024, from https://en.wikipedia.org/w/index.php?title=Tortoise&oldid=1210008469"
   ]
  }
 ],
 "metadata": {
  "celltoolbar": "Create Assignment",
  "kernelspec": {
   "display_name": "Python 3 (ipykernel)",
   "language": "python",
   "name": "python3"
  },
  "language_info": {
   "codemirror_mode": {
    "name": "ipython",
    "version": 3
   },
   "file_extension": ".py",
   "mimetype": "text/x-python",
   "name": "python",
   "nbconvert_exporter": "python",
   "pygments_lexer": "ipython3",
   "version": "3.11.8"
  }
 },
 "nbformat": 4,
 "nbformat_minor": 4
}
