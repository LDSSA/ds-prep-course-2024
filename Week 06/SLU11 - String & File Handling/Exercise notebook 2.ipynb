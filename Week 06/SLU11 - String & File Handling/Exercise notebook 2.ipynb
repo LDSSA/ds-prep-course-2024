{
 "cells": [
  {
   "cell_type": "markdown",
   "id": "70386927-1447-4a9e-92b6-e0ad0bcdbda1",
   "metadata": {
    "deletable": false,
    "editable": false,
    "nbgrader": {
     "grade": false,
     "grade_id": "cell-71ad13a99f44230f",
     "locked": true,
     "schema_version": 3,
     "solution": false,
     "task": false
    }
   },
   "source": [
    "# SLU11 | Regex: Exercise Notebook\n",
    "\n",
    "***\n",
    "\n",
    "Now let's see how comfortable you are with regular expressions!\n",
    "\n",
    "Before you begin, we **highly suggest** that you go through the interactive exercises at https://regexone.com/ in order to build some muscle memory on the basics of regular expression language.\n",
    "\n",
    "Couple of notes regarding the exercises:\n",
    "- Remember to build regular expression patterns with `r\"...\"` notation\n",
    "- The exercises will all be evaluated with `re.findall(regex, string)`, so no funny business with `Match` objects.\n",
    "- There will be no exercises with match groups, since those require a bit more experience handling the basics.\n",
    "- We will provide plenty of hints in each exercise\n",
    "- ChatGPT is your friend, but it is also a *liar* who will overcomplicate things and/or give wrong answers\n",
    "- You can test regular expressions on strings with online tools such as https://regex101.com/ (select Python on the left sidebar)\n",
    "\n",
    "Are you ready?\\\n",
    "Don't worry, **you got this**!"
   ]
  },
  {
   "cell_type": "markdown",
   "id": "6d40d916-fa92-424c-b814-de9552df60aa",
   "metadata": {
    "deletable": false,
    "editable": false,
    "nbgrader": {
     "grade": false,
     "grade_id": "cell-39e03c418ef01d0a",
     "locked": true,
     "schema_version": 3,
     "solution": false,
     "task": false
    }
   },
   "source": [
    "<center><img src=\"./media/its_time.jpg\" width=\"500\"/><center>"
   ]
  },
  {
   "cell_type": "code",
   "execution_count": null,
   "id": "a42e6b62-bded-46e3-8c9b-62040edcb3e7",
   "metadata": {
    "deletable": false,
    "editable": false,
    "nbgrader": {
     "grade": false,
     "grade_id": "cell-561347b0b8290795",
     "locked": true,
     "schema_version": 3,
     "solution": false,
     "task": false
    }
   },
   "outputs": [],
   "source": [
    "import re"
   ]
  },
  {
   "cell_type": "markdown",
   "id": "bd4bff36-2358-469a-8d1c-3f97cfc8fb69",
   "metadata": {
    "deletable": false,
    "editable": false,
    "nbgrader": {
     "grade": false,
     "grade_id": "cell-1b43061b42640138",
     "locked": true,
     "schema_version": 3,
     "solution": false,
     "task": false
    }
   },
   "source": [
    "## Exercise 1\n",
    "We want to find __all__ numbers inside a string.\\\n",
    "The numbers can be *anywhere* but they need to come together if they are together (e.g. `10` returns `10`, __not__ `1, 0`).\n",
    "\n",
    "Create a variable `e1_regex` with the pattern.\n",
    "\n",
    "__Hints:__\n",
    "- You can specify a digit with either a special sequence (`\\d`) or via ranges (`[x-y]`)\n",
    "- You can specify *one or more* of a character when you follow it with `+`"
   ]
  },
  {
   "cell_type": "code",
   "execution_count": null,
   "id": "4d7fbc29-e963-4404-8758-d99f3e4577a8",
   "metadata": {
    "deletable": false,
    "nbgrader": {
     "grade": false,
     "grade_id": "cell-ab9e461399675156",
     "locked": false,
     "schema_version": 3,
     "solution": true,
     "task": false
    }
   },
   "outputs": [],
   "source": [
    "# e1_regex = ...\n",
    "# YOUR CODE HERE\n",
    "raise NotImplementedError()"
   ]
  },
  {
   "cell_type": "code",
   "execution_count": null,
   "id": "6bc2ab5f-5964-4685-857b-710afeb22a0e",
   "metadata": {
    "deletable": false,
    "editable": false,
    "nbgrader": {
     "grade": true,
     "grade_id": "cell-bce1a1d6cc0375c7",
     "locked": true,
     "points": 1,
     "schema_version": 3,
     "solution": false,
     "task": false
    }
   },
   "outputs": [],
   "source": [
    "e1_string = \"banana123 567 xpto89 0 9877 65 444 ac4d3my 780data 999\"\n",
    "assert re.findall(e1_regex, e1_string) == ['123', '567', '89', '0', '9877', '65', '444', '4', '3', '780', '999']\n",
    "\n",
    "print(\"---- Well Done! All asserts passed ---- \")"
   ]
  },
  {
   "cell_type": "markdown",
   "id": "daf8f667-4d36-4ae0-953e-401bca4520a5",
   "metadata": {
    "deletable": false,
    "editable": false,
    "nbgrader": {
     "grade": false,
     "grade_id": "cell-6af17fc1ccf74b90",
     "locked": true,
     "schema_version": 3,
     "solution": false,
     "task": false
    }
   },
   "source": [
    "## Exercise 2\n",
    "Write a pattern that will match either the word `grey` or the word `gray`.\n",
    "\n",
    "Create a variable `e2_regex` with the pattern.\n",
    "\n",
    "__Hints:__\n",
    "- You can specify options using `[]` (e.g. `[12]` matches 1 or 2)"
   ]
  },
  {
   "cell_type": "code",
   "execution_count": null,
   "id": "9e8f6fbd-c7bc-45a2-b655-45e36a3fac91",
   "metadata": {
    "deletable": false,
    "nbgrader": {
     "grade": false,
     "grade_id": "cell-f61f3566f49ede0f",
     "locked": false,
     "schema_version": 3,
     "solution": true,
     "task": false
    }
   },
   "outputs": [],
   "source": [
    "# e2_regex = ...\n",
    "\n",
    "# YOUR CODE HERE\n",
    "raise NotImplementedError()"
   ]
  },
  {
   "cell_type": "code",
   "execution_count": null,
   "id": "50c92104-ec6f-48be-ab0c-69bfbfb3b2b4",
   "metadata": {
    "deletable": false,
    "editable": false,
    "nbgrader": {
     "grade": true,
     "grade_id": "cell-1cbc14969eb29fec",
     "locked": true,
     "points": 1,
     "schema_version": 3,
     "solution": false,
     "task": false
    }
   },
   "outputs": [],
   "source": [
    "e2_string = \"In the UK they write grey, but in the US they will write gray.\"\n",
    "assert re.findall(e2_regex, e2_string) == ['grey', 'gray']\n",
    "\n",
    "print(\"---- Well Done! All asserts passed ---- \")"
   ]
  },
  {
   "cell_type": "markdown",
   "id": "b7ab1a19-57fa-48c7-9468-7b8f469263a8",
   "metadata": {
    "deletable": false,
    "editable": false,
    "nbgrader": {
     "grade": false,
     "grade_id": "cell-1b6ea1c41a596fc3",
     "locked": true,
     "schema_version": 3,
     "solution": false,
     "task": false
    }
   },
   "source": [
    "## Exercise 3\n",
    "We want to find numbers with __exactly__ 3 digits inside of a string.\\\n",
    "Note that we do not want to find *any* 3 numbers, but rather 3 numbers that are together without anything around them:\n",
    "\n",
    "`hello 123 world` -> `123`\\\n",
    "`hello123 world` -> ` `\\\n",
    "`hello 123world` -> ` `\\\n",
    "`hello 1234 world` -> ` `\\\n",
    "`hello 12 3 world` -> ` `\\\n",
    "`hello world 123` -> `123`\\\n",
    "`123 hello world` -> `123`\\\n",
    "`123 hello world 123` -> `123, 123`\n",
    "\n",
    "Create a variable `e3_regex` with the pattern.\n",
    "\n",
    "__Hints:__\n",
    "- Remember that if we need an exact number of digits then we can use a quantifier (`{n}`) for this\n",
    "- There is a special sequence `\\b` to define word boundaries\n",
    "- You can specify a digit with either a special sequence (`\\d`) or via ranges (`[x-y]`)"
   ]
  },
  {
   "cell_type": "code",
   "execution_count": null,
   "id": "a7590ce4-4a85-456b-8dea-f94c19b96922",
   "metadata": {
    "deletable": false,
    "nbgrader": {
     "grade": false,
     "grade_id": "cell-c7bb1fed4b4fce45",
     "locked": false,
     "schema_version": 3,
     "solution": true,
     "task": false
    }
   },
   "outputs": [],
   "source": [
    "# e3_regex = ...\n",
    "\n",
    "# YOUR CODE HERE\n",
    "raise NotImplementedError()"
   ]
  },
  {
   "cell_type": "code",
   "execution_count": null,
   "id": "29704de1-84b7-4675-88cd-3fea065c9504",
   "metadata": {
    "deletable": false,
    "editable": false,
    "nbgrader": {
     "grade": true,
     "grade_id": "cell-50ce388306833492",
     "locked": true,
     "points": 1,
     "schema_version": 3,
     "solution": false,
     "task": false
    }
   },
   "outputs": [],
   "source": [
    "e3_string = \"banana123 567 xpto89 0 9877 65 444 ac4d3my 780data 999\"\n",
    "assert re.findall(e3_regex, e3_string) == ['567', '444', '999']\n",
    "\n",
    "print(\"---- Well Done! All asserts passed ---- \")"
   ]
  },
  {
   "cell_type": "markdown",
   "id": "538858ce-7b09-4006-9e07-0427d87e31fa",
   "metadata": {
    "deletable": false,
    "editable": false,
    "nbgrader": {
     "grade": false,
     "grade_id": "cell-e49c183166f61358",
     "locked": true,
     "schema_version": 3,
     "solution": false,
     "task": false
    }
   },
   "source": [
    "## Exercise 4\n",
    "Portuguese phone numbers can be written in the following components:\n",
    "- Country Extension -> +351\n",
    "- Phone Number -> 9 digits\n",
    "  \n",
    "Example: `+351217206707`\n",
    "\n",
    "Using this knowledge, we want to build a regular expression that looks for this pattern in a list of potential phone numbers.\n",
    "We __do not__ need to find *valid* numbers, i.e. the number itself does not need to make sense as long as it follows the pattern!\\\n",
    "A string should only contain the pattern of the number start to finish!\n",
    "\n",
    "Create a variable `e4_regex` with the pattern.\n",
    "\n",
    "__Hints:__\n",
    "- There are metacharacters that can be used to define the start (`^`) and end (`$`) of a string\n",
    "- Certain characters like `+` need to be escaped\n",
    "- Remember that if we need an exact number of characters then we can use a quantifier (`{n}`) for this\n",
    "- You can specify a digit with either a special sequence (`\\d`) or via ranges (`[x-y]`)"
   ]
  },
  {
   "cell_type": "code",
   "execution_count": null,
   "id": "22ee0f91-e112-4c65-8eb8-4f0f47147c32",
   "metadata": {
    "deletable": false,
    "nbgrader": {
     "grade": false,
     "grade_id": "cell-1161b9e277dc52de",
     "locked": false,
     "schema_version": 3,
     "solution": true,
     "task": false
    }
   },
   "outputs": [],
   "source": [
    "# e4_regex = ...\n",
    "\n",
    "# YOUR CODE HERE\n",
    "raise NotImplementedError()"
   ]
  },
  {
   "cell_type": "code",
   "execution_count": null,
   "id": "d3630c2a-aca1-46b3-b646-35491a43ae0c",
   "metadata": {
    "deletable": false,
    "editable": false,
    "nbgrader": {
     "grade": true,
     "grade_id": "cell-982d0dfccbaf7dfb",
     "locked": true,
     "points": 2,
     "schema_version": 3,
     "solution": false,
     "task": false
    }
   },
   "outputs": [],
   "source": [
    "e4_list = [\n",
    "     '+351123653434',\n",
    "     '351392363685',\n",
    "     '+35118148911',\n",
    "     '+353392456376',\n",
    "     '+451796069338',\n",
    "     '+351487859813',\n",
    "     '+351245431368',\n",
    "     '+361881195045',\n",
    "     '+311467186340',\n",
    "     '\\+351896146496',\n",
    "     '+351796O69338',\n",
    "     '+351123653434 ',\n",
    "]\n",
    "assert [num for num in e4_list if re.findall(e4_regex, num)] == ['+351123653434', '+351487859813', '+351245431368']\n",
    "\n",
    "print(\"---- Well Done! All asserts passed ---- \")"
   ]
  },
  {
   "cell_type": "markdown",
   "id": "fcf44995-c803-4158-baaf-64c5522fc9de",
   "metadata": {
    "deletable": false,
    "editable": false,
    "nbgrader": {
     "grade": false,
     "grade_id": "cell-e5cd0a3e6291acfc",
     "locked": true,
     "schema_version": 3,
     "solution": false,
     "task": false
    }
   },
   "source": [
    "## Exercise 5\n",
    "We want to find file extensions in a list of filenames.\\\n",
    "The general pattern that we want to find is a __dot__ (`.`) followed by __2 to 4__ characters:\n",
    "- The characters can either be digits or lowercase letters;\n",
    "- The first character must be a letter;\n",
    "- The string must end after the extension;\n",
    "\n",
    "Examples:\n",
    "- `.pdf`\n",
    "- `.mp4`\n",
    "- `.xlsx`\n",
    "- `.b512`\n",
    "\n",
    "Create a variable `e5_regex` with the pattern.\n",
    "\n",
    "__Hints:__\n",
    "- Remember that if we need a range of characters then we can use a quantifier (`{n,m}`) for this\n",
    "- Remember that there is a metacharacter that specifies the end of a string (`$`)\n",
    "- Certain characters like `.` need to be escaped\n",
    "- You can specify ranges using `[]`\n",
    "- A quantifier such as `{n}` only affects the last character or range of characters (e.g. `ab{2}` == `abb`, `a[b-c]{2}` == `abb/acc`)"
   ]
  },
  {
   "cell_type": "code",
   "execution_count": null,
   "id": "154b34be-50b5-441a-989b-e576dfda8d4e",
   "metadata": {
    "deletable": false,
    "nbgrader": {
     "grade": false,
     "grade_id": "cell-bd9614e5170ff560",
     "locked": false,
     "schema_version": 3,
     "solution": true,
     "task": false
    }
   },
   "outputs": [],
   "source": [
    "# e5_regex = ...\n",
    "\n",
    "# YOUR CODE HERE\n",
    "raise NotImplementedError()"
   ]
  },
  {
   "cell_type": "code",
   "execution_count": null,
   "id": "5047e508-cd13-48c5-bae7-65d99e5c0896",
   "metadata": {
    "deletable": false,
    "editable": false,
    "nbgrader": {
     "grade": true,
     "grade_id": "cell-fb5b6b5f0565a56a",
     "locked": true,
     "points": 1,
     "schema_version": 3,
     "solution": false,
     "task": false
    }
   },
   "outputs": [],
   "source": [
    "e5_list = [\n",
    "     '.',\n",
    "     'filename.4mp',\n",
    "     'image.png',\n",
    "     'document.pdf',\n",
    "     'contract.doc2x',\n",
    "     '123456.num',\n",
    "     'test.py',\n",
    "     'sound.fmpeg',\n",
    "     'file.12p',\n",
    "     'sheet.xlsx',\n",
    "     'slides-ppt',\n",
    "     'video.doc ',\n",
    "]\n",
    "assert [file for file in e5_list if re.findall(e5_regex, file)] == ['image.png', 'document.pdf', '123456.num', 'test.py', 'sheet.xlsx']\n",
    "\n",
    "print(\"---- Well Done! All asserts passed ---- \")"
   ]
  },
  {
   "cell_type": "markdown",
   "id": "66516d94-b303-49ad-bc45-db00133cd5bc",
   "metadata": {
    "deletable": false,
    "editable": false,
    "nbgrader": {
     "grade": false,
     "grade_id": "cell-c731e16a54bb34e2",
     "locked": true,
     "schema_version": 3,
     "solution": false,
     "task": false
    }
   },
   "source": [
    "## Exercise 6\n",
    "Using a regular expression, we want to catch every sequence of characters that are punctuation.\n",
    "\n",
    "- It does not matter where valid sequences exist\n",
    "- Underscores are allowed (in other words, your expression does not need to find them)\n",
    "- Sequences do not need to make sense as long as they follow the rules\n",
    "\n",
    "Create a variable `e6_regex` with the pattern.\n",
    "\n",
    "__Hints:__\n",
    "- There is a special sequence (`\\w`) that represent alphanumerical characters and underscores\n",
    "- There is a special sequence (`\\s`) that represent whitespaces\n",
    "- You can specify *one or more* of a character when you follow it with `+`\n",
    "- You can use `[^xyz]` to signal that you *do not want xyz*, where xyz is your sequence options\n",
    "- You can group several special sequences by adding them to the same range"
   ]
  },
  {
   "cell_type": "code",
   "execution_count": null,
   "id": "69baf2d9-624a-4ed5-a92a-92b5aabac4af",
   "metadata": {
    "deletable": false,
    "nbgrader": {
     "grade": false,
     "grade_id": "cell-6abaac98d590ac63",
     "locked": false,
     "schema_version": 3,
     "solution": true,
     "task": false
    }
   },
   "outputs": [],
   "source": [
    "# e6_regex = ...\n",
    "\n",
    "# YOUR CODE HERE\n",
    "raise NotImplementedError()"
   ]
  },
  {
   "cell_type": "code",
   "execution_count": null,
   "id": "f7572aae-67e3-43a3-8ba8-0ef0c295083d",
   "metadata": {
    "deletable": false,
    "editable": false,
    "nbgrader": {
     "grade": true,
     "grade_id": "cell-ccef16240a504eea",
     "locked": true,
     "points": 2,
     "schema_version": 3,
     "solution": false,
     "task": false
    }
   },
   "outputs": [],
   "source": [
    "e6_string = \"Hello, how are you Mr. camelCase? My name is snake_case.\"\n",
    "assert re.findall(e6_regex, e6_string) == [',', '.', '?', '.']\n",
    "\n",
    "print(\"---- Well Done! All asserts passed ---- \")"
   ]
  },
  {
   "cell_type": "markdown",
   "id": "5ecbe2da-5849-4613-80d2-1d08839dc13a",
   "metadata": {
    "deletable": false,
    "editable": false,
    "nbgrader": {
     "grade": false,
     "grade_id": "cell-178e052ad50b7a9f",
     "locked": true,
     "schema_version": 3,
     "solution": false,
     "task": false
    }
   },
   "source": [
    "## Exercise 7\n",
    "Write a function named `sum_numbers` that receives a string. That function should then grab all the numbers in that string (no matter where they occur) and add them.\\\n",
    "You can assume that only integers can occur. \n",
    "\n",
    "Example:\n",
    "- `1banana 2apple pear3` = `6`\n",
    "- `hello 10 world` = `10`\n",
    "- `foo barr` = `0`\n",
    "\n",
    "__Hints:__\n",
    "- You have already solved the grabbing numbers in a previous exercise\n",
    "- You should use `re.findall(pattern, string)` to get a *list* of *strings* matching the pattern\n",
    "- Remember that if no numbers are found, the sum is 0"
   ]
  },
  {
   "cell_type": "code",
   "execution_count": null,
   "id": "d257daec-c246-48fe-8dce-1b487a47bf8c",
   "metadata": {
    "deletable": false,
    "nbgrader": {
     "grade": false,
     "grade_id": "cell-d336bb72fc46ece5",
     "locked": false,
     "schema_version": 3,
     "solution": true,
     "task": false
    }
   },
   "outputs": [],
   "source": [
    "# YOUR CODE HERE\n",
    "raise NotImplementedError()"
   ]
  },
  {
   "cell_type": "code",
   "execution_count": null,
   "id": "f4a18492-db6f-49a3-b40a-4a4d5f689b90",
   "metadata": {
    "deletable": false,
    "editable": false,
    "nbgrader": {
     "grade": true,
     "grade_id": "cell-600a165ae0170334",
     "locked": true,
     "points": 2,
     "schema_version": 3,
     "solution": false,
     "task": false
    }
   },
   "outputs": [],
   "source": [
    "e7_list = [\n",
    "    \"1banana 2apple pear3\",\n",
    "    \"hello 10 world\",\n",
    "    \"foo barr\",\n",
    "    \"portugal2020, type80, 400x\",\n",
    "]\n",
    "assert [sum_numbers(s) for s in e7_list] == [6, 10, 0, 2500]\n",
    "print(\"---- Well Done! All asserts passed ---- \")"
   ]
  },
  {
   "cell_type": "markdown",
   "id": "2fdc48eb-372a-41db-a6f3-b5388f437bd7",
   "metadata": {
    "deletable": false,
    "editable": false,
    "nbgrader": {
     "grade": false,
     "grade_id": "cell-72964c844c62658b",
     "locked": true,
     "schema_version": 3,
     "solution": false,
     "task": false
    }
   },
   "source": [
    "## Exercise 8\n",
    "Do the same as the last exercise but this time considering the possibility of negative numbers\n",
    "\n",
    "__Hints:__\n",
    "- You should be able to re-use the answer of the previous exercise, using a *different* pattern\n",
    "- You can use `?` to specify an optional character"
   ]
  },
  {
   "cell_type": "code",
   "execution_count": null,
   "id": "60082b3d-0798-43c9-9fe0-59c196f82866",
   "metadata": {
    "deletable": false,
    "nbgrader": {
     "grade": false,
     "grade_id": "cell-3b7a35f2c77c2e6d",
     "locked": false,
     "schema_version": 3,
     "solution": true,
     "task": false
    }
   },
   "outputs": [],
   "source": [
    "# YOUR CODE HERE\n",
    "raise NotImplementedError()"
   ]
  },
  {
   "cell_type": "code",
   "execution_count": null,
   "id": "29744fca-f9c5-4898-bc03-9dc821206f1c",
   "metadata": {
    "deletable": false,
    "editable": false,
    "nbgrader": {
     "grade": true,
     "grade_id": "cell-c140566ef5779e1b",
     "locked": true,
     "points": 3,
     "schema_version": 3,
     "solution": false,
     "task": false
    }
   },
   "outputs": [],
   "source": [
    "e8_list = [\n",
    "    \"1banana 2apple pear3\",\n",
    "    \"hello 10 world\",\n",
    "    \"foo barr\",\n",
    "    \"portugal2020, type80, 400x\",\n",
    "    \"10--10+50-50-+6+7-8+2---5+15-17\",\n",
    "    \"lisbon-10 data20 sci30ence -5academy0\",\n",
    "    \"999machine 111learning -70 boot60camp^-100\"\n",
    "]\n",
    "assert [sum_numbers(s) for s in e8_list] == [6, 10, 0, 2500, 0, 35, 1000]\n",
    "\n",
    "print(\"---- Well Done! All asserts passed ---- \")"
   ]
  },
  {
   "cell_type": "markdown",
   "id": "6aadfde3-8462-4671-bc4a-3e8507f8ccb1",
   "metadata": {
    "deletable": false,
    "editable": false,
    "nbgrader": {
     "grade": false,
     "grade_id": "cell-97fec0371a336625",
     "locked": true,
     "schema_version": 3,
     "solution": false,
     "task": false
    }
   },
   "source": [
    "## Exercise 9\n",
    "We want to find sequences that only contain letters between `a` and `s`, including their uppercase variants.\n",
    "\n",
    "Create a variable `e9_regex` with the pattern.\n",
    "\n",
    "__Hints:__\n",
    "- Check for word boundaries\n",
    "- Remember that ranges can be between *any* logical sequence (i.e, not just `a-z`)\n",
    "- Sequences can have 1 or more characters"
   ]
  },
  {
   "cell_type": "code",
   "execution_count": null,
   "id": "0a6b64dd-80fa-430c-8409-7650f3c5af6e",
   "metadata": {
    "deletable": false,
    "nbgrader": {
     "grade": false,
     "grade_id": "cell-3f92c1304e1eb673",
     "locked": false,
     "schema_version": 3,
     "solution": true,
     "task": false
    }
   },
   "outputs": [],
   "source": [
    "# e9_regex = ...\n",
    "\n",
    "# YOUR CODE HERE\n",
    "raise NotImplementedError()"
   ]
  },
  {
   "cell_type": "code",
   "execution_count": null,
   "id": "939bab8f-2caa-4487-91e5-077e9c1d7e48",
   "metadata": {
    "deletable": false,
    "editable": false,
    "nbgrader": {
     "grade": true,
     "grade_id": "cell-07c57a024365ba85",
     "locked": true,
     "points": 2,
     "schema_version": 3,
     "solution": false,
     "task": false
    }
   },
   "outputs": [],
   "source": [
    "e9_string = \"Can you please place the basket wherever there is space?\"\n",
    "assert re.findall(e9_regex, e9_string) == ['Can', 'please', 'place', 'is', 'space']\n",
    "\n",
    "print(\"---- Well Done! All asserts passed ---- \")"
   ]
  },
  {
   "cell_type": "markdown",
   "id": "60bf9eed-2873-4d0b-9fd0-77160c7388e6",
   "metadata": {
    "deletable": false,
    "editable": false,
    "nbgrader": {
     "grade": false,
     "grade_id": "cell-bf468818c96381b3",
     "locked": true,
     "schema_version": 3,
     "solution": false,
     "task": false
    }
   },
   "source": [
    "## Exercise 10\n",
    "Define a function named `get_dates` that receives a string that may or may not contain dates of the format `YYYY-MM-dd`.\\\n",
    "The elements you find should have the correct number of digits. Other than that, no validation is needed.\n",
    "\n",
    "For every date it finds it should convert it to a `Date` class that you define.\n",
    "`Date` should have three attributes which should be given to the class in its initialization.: \n",
    " - `year`\n",
    " - `month`\n",
    " - `day`\n",
    "   \n",
    "When you convert the class to string it should come in the format `dd/MM/YYYY` (hint: the `__str__` method).\\\n",
    "The function `get_dates` should return a __list__ of `Date` objects (empty if none found)."
   ]
  },
  {
   "cell_type": "code",
   "execution_count": null,
   "id": "128c1726-217b-40c0-8e99-ed059d37d225",
   "metadata": {
    "deletable": false,
    "nbgrader": {
     "grade": false,
     "grade_id": "cell-71134f7780843c97",
     "locked": false,
     "schema_version": 3,
     "solution": true,
     "task": false
    }
   },
   "outputs": [],
   "source": [
    "# YOUR CODE HERE\n",
    "raise NotImplementedError()"
   ]
  },
  {
   "cell_type": "code",
   "execution_count": null,
   "id": "8a6958e0-a417-43fb-b789-5fe176a896a2",
   "metadata": {
    "deletable": false,
    "editable": false,
    "nbgrader": {
     "grade": true,
     "grade_id": "cell-9a41ae7cb530004a",
     "locked": true,
     "points": 5,
     "schema_version": 3,
     "solution": false,
     "task": false
    }
   },
   "outputs": [],
   "source": [
    "e10_list = [\n",
    "    \"Albert Einstein was born in 1879-03-14 and died in 1955-04-18\",\n",
    "    \"Isaac Newton was born in 1727-03-31 and died in 1643-1-4\",\n",
    "    \"Charlemagne died in 814-01-28\",\n",
    "    \"Some day it will be 10000-01-1\"\n",
    "]\n",
    "\n",
    "dates = []\n",
    "\n",
    "for test_string in e10_list:\n",
    "    dates.extend(get_dates(test_string))\n",
    "\n",
    "test_date = Date(\"2020\", \"01\", \"10\")\n",
    "\n",
    "assert test_date.year == \"2020\" and test_date.month == \"01\" and test_date.day == \"10\", \"Date does not have the correct attributes\"\n",
    "assert str(test_date) == \"10/01/2020\", \"Date str() output not correctly formatted\"\n",
    "\n",
    "assert all(isinstance(date, Date) for date in dates)\n",
    "assert [str(date) for date in dates] == ['14/03/1879', '18/04/1955', '31/03/1727']\n",
    "\n",
    "print(\"---- Well Done! All asserts passed ---- \")"
   ]
  },
  {
   "cell_type": "markdown",
   "id": "05e1957e-1830-4a77-a0c4-c080597ef536",
   "metadata": {
    "deletable": false,
    "editable": false,
    "nbgrader": {
     "grade": false,
     "grade_id": "cell-7ba07563d466ae78",
     "locked": true,
     "schema_version": 3,
     "solution": false,
     "task": false
    }
   },
   "source": [
    "# Submit your work!\n",
    "\n",
    "To grade your exercise notebook and submit your work to the portal, [follow the instructions in the weekly workflow!](https://github.com/LDSSA/ds-prep-course-2024/blob/main/weekly-workflow.md#link-to-grading)"
   ]
  }
 ],
 "metadata": {
  "kernelspec": {
   "display_name": "Python 3 (ipykernel)",
   "language": "python",
   "name": "python3"
  },
  "language_info": {
   "codemirror_mode": {
    "name": "ipython",
    "version": 3
   },
   "file_extension": ".py",
   "mimetype": "text/x-python",
   "name": "python",
   "nbconvert_exporter": "python",
   "pygments_lexer": "ipython3",
   "version": "3.11.8"
  }
 },
 "nbformat": 4,
 "nbformat_minor": 5
}
