{
 "cells": [
  {
   "cell_type": "markdown",
   "id": "1b5bb959-db47-404c-b1fd-3a3bf44a165b",
   "metadata": {},
   "source": [
    "# SLU11 | Part 2 | Exceptions and File Handling\n",
    "---"
   ]
  },
  {
   "cell_type": "markdown",
   "id": "4c6739f8-0900-4dbe-838e-a424148efaca",
   "metadata": {},
   "source": [
    "### Table of Contents\n",
    "[1. Exceptions](#1.-Exceptions)\\\n",
    "&emsp;[1.1. Semantic vs. Syntatic](#1.1.-Semantic-vs\\.-Syntatic)\\\n",
    "&emsp;&emsp;[1.1.1. Syntax Errors](#1.1.1.-Syntax-Errors)\\\n",
    "&emsp;&emsp;[1.1.2. Semantic Errors](#1.1.2.-Semantic-Errors)\\\n",
    "&emsp;[1.2. Common Exceptions](#1.2.-Common-Exceptions)\\\n",
    "&emsp;&emsp;[1.2.1. SyntaxError](#1.2.1.-SyntaxError)\\\n",
    "&emsp;&emsp;[1.2.2. IndexError / KeyError](#1.2.2.-IndexError-/-KeyError)\\\n",
    "&emsp;&emsp;[1.2.3. ValueError](#1.2.3.-ValueError)\\\n",
    "&emsp;&emsp;[1.2.4. TypeError](#1.2.4.-TypeError)\\\n",
    "&emsp;&emsp;[1.2.5. NameError](#1.2.5.-NameError)\\\n",
    "&emsp;&emsp;[1.2.6. AttributeError](#1.2.6.-AttributeError)\\\n",
    "&emsp;&emsp;[1.2.7. ZeroDivisionError](#1.2.7.-ZeroDivisionError)\\\n",
    "&emsp;[1.3. Handling Exceptions](#1.3.-Handling-Exceptions)\\\n",
    "&emsp;&emsp;[1.3.1. Raising Exceptions](#1.3.1.-Raising-Exceptions)\\\n",
    "&emsp;&emsp;[1.3.2. Try/Except](#1.3.2.-Try/Except)\\\n",
    "&emsp;&emsp;&emsp;[1.3.2.1. Catching Separate Exceptions](#1.3.2.1.-Catching-Separate-Exceptions)\\\n",
    "&emsp;&emsp;&emsp;[1.3.2.2. Catching Known Groups of Exceptions](#1.3.2.2.-Catching-Known-Groups-of-Exceptions)\\\n",
    "&emsp;&emsp;[1.3.3. Beyond Try/Except](#1.3.3.-Beyond-Try/Except)\\\n",
    "&emsp;[1.4. Bonus Section: Custom Exceptions](#1.4.-Bonus-Section:-Custom-Exceptions)\n",
    "\n",
    "[2. File Handling](#2.-File-Handling)\\\n",
    "&emsp;[2.1. Opening/Closing](#2.1.-Opening/Closing)\\\n",
    "&emsp;&emsp;[2.1.1. The Bad Way](#2.1.1.-The-Bad-Way)\\\n",
    "&emsp;&emsp;[2.1.2. The Good Way](#2.1.2.-The-Good-Way)\\\n",
    "&emsp;[2.2. Reading/Writing Files](#2.2.-Reading/Writing-Files)\\\n",
    "&emsp;&emsp;[2.2.1. Text Files](#2.2.1.-Text-Files)\\\n",
    "&emsp;&emsp;[2.2.2. Binary Files (pickle example)](#2.2.2.-Binary-Files-(pickle-example))\\\n",
    "&emsp;&emsp;[2.2.3. JSON Files](#2.2.3.-JSON-Files)\\\n",
    "&emsp;[2.3. Bonus Section: Working with Pathlib](#2.3.-Bonus-Section:-Working-with-Pathlib)\\\n",
    "&emsp;&emsp;[2.3.1. The Path Structure](#2.3.1.-The-Path-Structure)\\\n",
    "&emsp;&emsp;[2.3.2. Improving Readability](#2.3.2.-Improving-Readability)"
   ]
  },
  {
   "cell_type": "markdown",
   "id": "105a71bd-7a93-459b-80c7-2d688c2a1dd0",
   "metadata": {},
   "source": [
    "# 1. Exceptions"
   ]
  },
  {
   "cell_type": "markdown",
   "id": "dd0357a3-b189-45f3-ad1b-0c3709998729",
   "metadata": {},
   "source": [
    "<center><img src=\"./media/errors.png\" width=\"500\"/><center>"
   ]
  },
  {
   "cell_type": "markdown",
   "id": "6eb4dcee-82a6-43b1-822d-2e2b929a540b",
   "metadata": {
    "editable": true,
    "slideshow": {
     "slide_type": ""
    },
    "tags": []
   },
   "source": [
    "## 1.1. Semantic vs. Syntatic"
   ]
  },
  {
   "cell_type": "markdown",
   "id": "73b6334f-3628-4c23-bb9f-ca1c2e536b03",
   "metadata": {
    "editable": true,
    "slideshow": {
     "slide_type": ""
    },
    "tags": []
   },
   "source": [
    "### 1.1.1. Syntax Errors\n",
    "> A syntax error is an error in the syntax of a sequence of characters that is intended to be written in a particular programming language.\n",
    "\n",
    "> In computer science, the syntax of a computer language is the rules that define the combinations of symbols that are considered to be correctly structured statements or expressions in that language.\n",
    "\n",
    "In other words: *your code is wrong.*"
   ]
  },
  {
   "cell_type": "code",
   "execution_count": 1,
   "id": "1dad59fe-d910-4856-affa-9680f9e24eea",
   "metadata": {
    "editable": true,
    "slideshow": {
     "slide_type": ""
    },
    "tags": [
     "raises-exception"
    ]
   },
   "outputs": [
    {
     "ename": "SyntaxError",
     "evalue": "Missing parentheses in call to 'print'. Did you mean print(...)? (4028581847.py, line 3)",
     "output_type": "error",
     "traceback": [
      "\u001b[0;36m  Cell \u001b[0;32mIn[1], line 3\u001b[0;36m\u001b[0m\n\u001b[0;31m    print \"hello world\"\u001b[0m\n\u001b[0m    ^\u001b[0m\n\u001b[0;31mSyntaxError\u001b[0m\u001b[0;31m:\u001b[0m Missing parentheses in call to 'print'. Did you mean print(...)?\n"
     ]
    }
   ],
   "source": [
    "# Example of a Syntax Error: Here we use the print statement without the parentheses (which was how you did it in Python v2)\n",
    "\n",
    "print \"hello world\""
   ]
  },
  {
   "cell_type": "code",
   "execution_count": 2,
   "id": "51ac72c3-5f71-482d-afe4-9bded14d2bf0",
   "metadata": {
    "editable": true,
    "slideshow": {
     "slide_type": ""
    },
    "tags": []
   },
   "outputs": [
    {
     "name": "stdout",
     "output_type": "stream",
     "text": [
      "hello world\n"
     ]
    }
   ],
   "source": [
    "# How it is supposed to write the previous' cell statement\n",
    "\n",
    "print(\"hello world\")"
   ]
  },
  {
   "cell_type": "markdown",
   "id": "9494efb1-42e5-4590-beb7-88c3accbfc84",
   "metadata": {
    "editable": true,
    "slideshow": {
     "slide_type": ""
    },
    "tags": []
   },
   "source": [
    "### 1.1.2. Semantic Errors\n",
    "A semantic error is code whose syntax is correct but there is a mistake that prevents its goal to be properly achieved.\n",
    "\n",
    "These can be particularly annoying, as semantic errors tend to not be intuitive, visible, or might only happen under certain conditions.\n",
    "\n",
    "They can be even more troublesome because __in some cases these errors will never actually *raise an error*!__"
   ]
  },
  {
   "cell_type": "code",
   "execution_count": 3,
   "id": "f5e4a8bc-6ec6-4c27-a76e-39b9f01cc22e",
   "metadata": {
    "editable": true,
    "slideshow": {
     "slide_type": ""
    },
    "tags": []
   },
   "outputs": [
    {
     "name": "stdout",
     "output_type": "stream",
     "text": [
      "1 + 1 = 2 BUT function add(1, 1) = 0\n",
      "2 + 2 = 4 BUT function add(2, 2) = 0\n",
      "3 + 3 = 6 BUT function add(3, 3) = 0\n",
      "4 + 4 = 8 BUT function add(4, 4) = 0\n",
      "5 + 5 = 10 BUT function add(5, 5) = 0\n",
      "6 + 6 = 12 BUT function add(6, 6) = 0\n",
      "7 + 7 = 14 BUT function add(7, 7) = 0\n",
      "8 + 8 = 16 BUT function add(8, 8) = 0\n",
      "9 + 9 = 18 BUT function add(9, 9) = 0\n"
     ]
    }
   ],
   "source": [
    "# Example of Semantic Error: Wrong operand used in function. \n",
    "# This would never raise an exception/error to call your attention.\n",
    "\n",
    "def add(x: int, y: int) -> int:\n",
    "    return x - y  # ATTENTION: although we want to ADD, we used - instead\n",
    "\n",
    "for i in range(1, 10):\n",
    "    print(f\"{i} + {i} = {i+i} BUT function add({i}, {i}) = {add(i,i)}\")"
   ]
  },
  {
   "cell_type": "code",
   "execution_count": 4,
   "id": "d184a2b0-d024-4d97-a835-afcf36f7d50d",
   "metadata": {
    "editable": true,
    "slideshow": {
     "slide_type": ""
    },
    "tags": [
     "raises-exception"
    ]
   },
   "outputs": [
    {
     "name": "stdout",
     "output_type": "stream",
     "text": [
      "\n",
      "Dividing 50 by 5\n",
      "Result: 50 / 5 = 10.0\n",
      "\n",
      "Dividing 40 by 4\n",
      "Result: 40 / 4 = 10.0\n",
      "\n",
      "Dividing 30 by 3\n",
      "Result: 30 / 3 = 10.0\n",
      "\n",
      "Dividing 20 by 2\n",
      "Result: 20 / 2 = 10.0\n",
      "\n",
      "Dividing 10 by 1\n",
      "Result: 10 / 1 = 10.0\n",
      "\n",
      "Dividing 0 by 0\n"
     ]
    },
    {
     "ename": "ZeroDivisionError",
     "evalue": "division by zero",
     "output_type": "error",
     "traceback": [
      "\u001b[0;31m---------------------------------------------------------------------------\u001b[0m",
      "\u001b[0;31mZeroDivisionError\u001b[0m                         Traceback (most recent call last)",
      "Cell \u001b[0;32mIn[4], line 7\u001b[0m\n\u001b[1;32m      5\u001b[0m num \u001b[38;5;241m=\u001b[39m i \u001b[38;5;241m*\u001b[39m \u001b[38;5;241m10\u001b[39m\n\u001b[1;32m      6\u001b[0m \u001b[38;5;28mprint\u001b[39m(\u001b[38;5;124mf\u001b[39m\u001b[38;5;124m\"\u001b[39m\u001b[38;5;130;01m\\n\u001b[39;00m\u001b[38;5;124mDividing \u001b[39m\u001b[38;5;132;01m{\u001b[39;00mnum\u001b[38;5;132;01m}\u001b[39;00m\u001b[38;5;124m by \u001b[39m\u001b[38;5;132;01m{\u001b[39;00mi\u001b[38;5;132;01m}\u001b[39;00m\u001b[38;5;124m\"\u001b[39m)\n\u001b[0;32m----> 7\u001b[0m \u001b[38;5;28mprint\u001b[39m(\u001b[38;5;124mf\u001b[39m\u001b[38;5;124m\"\u001b[39m\u001b[38;5;124mResult: \u001b[39m\u001b[38;5;132;01m{\u001b[39;00mnum\u001b[38;5;132;01m}\u001b[39;00m\u001b[38;5;124m / \u001b[39m\u001b[38;5;132;01m{\u001b[39;00mi\u001b[38;5;132;01m}\u001b[39;00m\u001b[38;5;124m = \u001b[39m\u001b[38;5;132;01m{\u001b[39;00m\u001b[43mnum\u001b[49m\u001b[38;5;241;43m/\u001b[39;49m\u001b[43mi\u001b[49m\u001b[38;5;132;01m}\u001b[39;00m\u001b[38;5;124m\"\u001b[39m)\n",
      "\u001b[0;31mZeroDivisionError\u001b[0m: division by zero"
     ]
    }
   ],
   "source": [
    "# Example of Semantic Error: Exception lurking in certain conditions.\n",
    "# This particular error will ONLY happen when dividing by zero.\n",
    "\n",
    "for i in range(5, -1, -1):\n",
    "    num = i * 10\n",
    "    print(f\"\\nDividing {num} by {i}\")\n",
    "    print(f\"Result: {num} / {i} = {num/i}\")"
   ]
  },
  {
   "cell_type": "markdown",
   "id": "1c7f8ec9-a01a-468f-bbda-34d86ef15069",
   "metadata": {
    "editable": true,
    "slideshow": {
     "slide_type": ""
    },
    "tags": []
   },
   "source": [
    "## 1.2. Common Exceptions\n",
    "\n",
    "An exception is an error that occurs. Not all exceptions are alike but most are. You can also create and handle exceptions in different ways.\n",
    "\n",
    "Most exceptions inherit from `Exception`, which stand for errors that happened in the code execution.\\\n",
    "Things like `KeyboardInterrupt` and `SystemExit`, are not an `Exception` although they share some commonalities through `BaseException`.\n",
    "\n",
    "Below is a list of all potential `BaseException` and `Exception` classes. You do not need to know them all as some are indeed more common than others.\n",
    "\n",
    "```\n",
    "BaseException\n",
    " ├── BaseExceptionGroup\n",
    " ├── GeneratorExit\n",
    " ├── KeyboardInterrupt\n",
    " ├── SystemExit\n",
    " └── Exception\n",
    "      ├── ArithmeticError\n",
    "      │    ├── FloatingPointError\n",
    "      │    ├── OverflowError\n",
    "      │    └── ZeroDivisionError\n",
    "      ├── AssertionError\n",
    "      ├── AttributeError\n",
    "      ├── BufferError\n",
    "      ├── EOFError\n",
    "      ├── ExceptionGroup [BaseExceptionGroup]\n",
    "      ├── ImportError\n",
    "      │    └── ModuleNotFoundError\n",
    "      ├── LookupError\n",
    "      │    ├── IndexError\n",
    "      │    └── KeyError\n",
    "      ├── MemoryError\n",
    "      ├── NameError\n",
    "      │    └── UnboundLocalError\n",
    "      ├── OSError\n",
    "      │    ├── BlockingIOError\n",
    "      │    ├── ChildProcessError\n",
    "      │    ├── ConnectionError\n",
    "      │    │    ├── BrokenPipeError\n",
    "      │    │    ├── ConnectionAbortedError\n",
    "      │    │    ├── ConnectionRefusedError\n",
    "      │    │    └── ConnectionResetError\n",
    "      │    ├── FileExistsError\n",
    "      │    ├── FileNotFoundError\n",
    "      │    ├── InterruptedError\n",
    "      │    ├── IsADirectoryError\n",
    "      │    ├── NotADirectoryError\n",
    "      │    ├── PermissionError\n",
    "      │    ├── ProcessLookupError\n",
    "      │    └── TimeoutError\n",
    "      ├── ReferenceError\n",
    "      ├── RuntimeError\n",
    "      │    ├── NotImplementedError\n",
    "      │    └── RecursionError\n",
    "      ├── StopAsyncIteration\n",
    "      ├── StopIteration\n",
    "      ├── SyntaxError\n",
    "      │    └── IndentationError\n",
    "      │         └── TabError\n",
    "      ├── SystemError\n",
    "      ├── TypeError\n",
    "      ├── ValueError\n",
    "      │    └── UnicodeError\n",
    "      │         ├── UnicodeDecodeError\n",
    "      │         ├── UnicodeEncodeError\n",
    "      │         └── UnicodeTranslateError\n",
    "      └── Warning\n",
    "           ├── BytesWarning\n",
    "           ├── DeprecationWarning\n",
    "           ├── EncodingWarning\n",
    "           ├── FutureWarning\n",
    "           ├── ImportWarning\n",
    "           ├── PendingDeprecationWarning\n",
    "           ├── ResourceWarning\n",
    "           ├── RuntimeWarning\n",
    "           ├── SyntaxWarning\n",
    "           ├── UnicodeWarning\n",
    "           └── UserWarning\n",
    "```"
   ]
  },
  {
   "cell_type": "markdown",
   "id": "6bda7296-a6ce-4113-af95-e7c080ca49fb",
   "metadata": {
    "editable": true,
    "slideshow": {
     "slide_type": ""
    },
    "tags": []
   },
   "source": [
    "### 1.2.1. SyntaxError\n",
    "We have already seen these in the previous section. They commonly occur when you write code that is not valid in Python."
   ]
  },
  {
   "cell_type": "code",
   "execution_count": 5,
   "id": "61035efd-0f8d-4022-8b7d-d7d9de488fc2",
   "metadata": {
    "editable": true,
    "slideshow": {
     "slide_type": ""
    },
    "tags": [
     "raises-exception"
    ]
   },
   "outputs": [
    {
     "ename": "SyntaxError",
     "evalue": "Missing parentheses in call to 'print'. Did you mean print(...)? (3923495743.py, line 1)",
     "output_type": "error",
     "traceback": [
      "\u001b[0;36m  Cell \u001b[0;32mIn[5], line 1\u001b[0;36m\u001b[0m\n\u001b[0;31m    print \"hello world\"\u001b[0m\n\u001b[0m    ^\u001b[0m\n\u001b[0;31mSyntaxError\u001b[0m\u001b[0;31m:\u001b[0m Missing parentheses in call to 'print'. Did you mean print(...)?\n"
     ]
    }
   ],
   "source": [
    "print \"hello world\""
   ]
  },
  {
   "cell_type": "markdown",
   "id": "6bc5f333-501c-4460-a8f7-e9479ef3ad66",
   "metadata": {
    "editable": true,
    "slideshow": {
     "slide_type": ""
    },
    "tags": []
   },
   "source": [
    "### 1.2.2. IndexError / KeyError\n",
    "These are pretty similar in the way that both relate to trying to access things that do not exist in sequences (lists, dictionaries, etc.)."
   ]
  },
  {
   "cell_type": "code",
   "execution_count": 6,
   "id": "4bf86073-aafe-4d58-bce7-ebdd90396a9d",
   "metadata": {
    "editable": true,
    "slideshow": {
     "slide_type": ""
    },
    "tags": [
     "raises-exception"
    ]
   },
   "outputs": [
    {
     "ename": "IndexError",
     "evalue": "list index out of range",
     "output_type": "error",
     "traceback": [
      "\u001b[0;31m---------------------------------------------------------------------------\u001b[0m",
      "\u001b[0;31mIndexError\u001b[0m                                Traceback (most recent call last)",
      "Cell \u001b[0;32mIn[6], line 3\u001b[0m\n\u001b[1;32m      1\u001b[0m lst \u001b[38;5;241m=\u001b[39m [\u001b[38;5;241m1\u001b[39m, \u001b[38;5;241m2\u001b[39m, \u001b[38;5;241m3\u001b[39m] \u001b[38;5;66;03m# Python is 0-indexed, meaning they index of any sequence starts at 0 \u001b[39;00m\n\u001b[0;32m----> 3\u001b[0m \u001b[38;5;28mprint\u001b[39m(\u001b[43mlst\u001b[49m\u001b[43m[\u001b[49m\u001b[38;5;241;43m3\u001b[39;49m\u001b[43m]\u001b[49m) \u001b[38;5;66;03m# indexes are [0, 1, 2], therefore 3 falls outside of bounds\u001b[39;00m\n",
      "\u001b[0;31mIndexError\u001b[0m: list index out of range"
     ]
    }
   ],
   "source": [
    "lst = [1, 2, 3] # Python is 0-indexed, meaning they index of any sequence starts at 0 \n",
    "\n",
    "print(lst[3]) # indexes are [0, 1, 2], therefore 3 falls outside of bounds"
   ]
  },
  {
   "cell_type": "code",
   "execution_count": 7,
   "id": "e9ae1f72-d5f6-479e-a435-8d1073b0a3a6",
   "metadata": {
    "editable": true,
    "slideshow": {
     "slide_type": ""
    },
    "tags": [
     "raises-exception"
    ]
   },
   "outputs": [
    {
     "ename": "KeyError",
     "evalue": "'c'",
     "output_type": "error",
     "traceback": [
      "\u001b[0;31m---------------------------------------------------------------------------\u001b[0m",
      "\u001b[0;31mKeyError\u001b[0m                                  Traceback (most recent call last)",
      "Cell \u001b[0;32mIn[7], line 3\u001b[0m\n\u001b[1;32m      1\u001b[0m dkt \u001b[38;5;241m=\u001b[39m {\u001b[38;5;124m\"\u001b[39m\u001b[38;5;124ma\u001b[39m\u001b[38;5;124m\"\u001b[39m: \u001b[38;5;241m0\u001b[39m, \u001b[38;5;124m\"\u001b[39m\u001b[38;5;124mb\u001b[39m\u001b[38;5;124m\"\u001b[39m: \u001b[38;5;241m1\u001b[39m}\n\u001b[0;32m----> 3\u001b[0m \u001b[38;5;28mprint\u001b[39m(\u001b[43mdkt\u001b[49m\u001b[43m[\u001b[49m\u001b[38;5;124;43m\"\u001b[39;49m\u001b[38;5;124;43mc\u001b[39;49m\u001b[38;5;124;43m\"\u001b[39;49m\u001b[43m]\u001b[49m) \u001b[38;5;66;03m# similarly, you cannot fetch items that do not exist\u001b[39;00m\n",
      "\u001b[0;31mKeyError\u001b[0m: 'c'"
     ]
    }
   ],
   "source": [
    "dkt = {\"a\": 0, \"b\": 1}\n",
    "\n",
    "print(dkt[\"c\"]) # similarly, you cannot fetch items that do not exist"
   ]
  },
  {
   "cell_type": "markdown",
   "id": "53fc2254-75f5-45c5-a8da-102ce7db97b2",
   "metadata": {
    "editable": true,
    "slideshow": {
     "slide_type": ""
    },
    "tags": []
   },
   "source": [
    "### 1.2.3. ValueError\n",
    "These are typically used when functions receive the *correct* type of argument, but its value is inappropriate."
   ]
  },
  {
   "cell_type": "code",
   "execution_count": 8,
   "id": "0198b93e-376d-43d3-9cb9-f856d47a5673",
   "metadata": {
    "editable": true,
    "slideshow": {
     "slide_type": ""
    },
    "tags": [
     "raises-exception"
    ]
   },
   "outputs": [
    {
     "ename": "ValueError",
     "evalue": "math domain error",
     "output_type": "error",
     "traceback": [
      "\u001b[0;31m---------------------------------------------------------------------------\u001b[0m",
      "\u001b[0;31mValueError\u001b[0m                                Traceback (most recent call last)",
      "Cell \u001b[0;32mIn[8], line 3\u001b[0m\n\u001b[1;32m      1\u001b[0m \u001b[38;5;28;01mfrom\u001b[39;00m \u001b[38;5;21;01mmath\u001b[39;00m \u001b[38;5;28;01mimport\u001b[39;00m sqrt\n\u001b[0;32m----> 3\u001b[0m \u001b[38;5;28mprint\u001b[39m(\u001b[43msqrt\u001b[49m\u001b[43m(\u001b[49m\u001b[38;5;241;43m-\u001b[39;49m\u001b[38;5;241;43m1\u001b[39;49m\u001b[43m)\u001b[49m)  \u001b[38;5;66;03m# math.sqrt does not work for negative numbers\u001b[39;00m\n",
      "\u001b[0;31mValueError\u001b[0m: math domain error"
     ]
    }
   ],
   "source": [
    "from math import sqrt\n",
    "\n",
    "print(sqrt(-1))  # math.sqrt does not work for negative numbers"
   ]
  },
  {
   "cell_type": "markdown",
   "id": "a4c628e2-e5ec-49e8-8598-1957a365e40c",
   "metadata": {
    "editable": true,
    "slideshow": {
     "slide_type": ""
    },
    "tags": []
   },
   "source": [
    "### 1.2.4. TypeError\n",
    "Unlike ValueError, these are typically used to say that the wrong type of argument was passed."
   ]
  },
  {
   "cell_type": "code",
   "execution_count": 9,
   "id": "823ae8ba-f575-464e-b0fe-d642288f0ada",
   "metadata": {
    "editable": true,
    "slideshow": {
     "slide_type": ""
    },
    "tags": [
     "raises-exception"
    ]
   },
   "outputs": [
    {
     "ename": "TypeError",
     "evalue": "unsupported operand type(s) for +: 'int' and 'str'",
     "output_type": "error",
     "traceback": [
      "\u001b[0;31m---------------------------------------------------------------------------\u001b[0m",
      "\u001b[0;31mTypeError\u001b[0m                                 Traceback (most recent call last)",
      "Cell \u001b[0;32mIn[9], line 1\u001b[0m\n\u001b[0;32m----> 1\u001b[0m \u001b[38;5;28mprint\u001b[39m(\u001b[38;5;241;43m1\u001b[39;49m\u001b[43m \u001b[49m\u001b[38;5;241;43m+\u001b[39;49m\u001b[43m \u001b[49m\u001b[38;5;124;43m\"\u001b[39;49m\u001b[38;5;124;43m2\u001b[39;49m\u001b[38;5;124;43m\"\u001b[39;49m)  \u001b[38;5;66;03m# you cannot add an integer (1) with a string (\"2\")\u001b[39;00m\n",
      "\u001b[0;31mTypeError\u001b[0m: unsupported operand type(s) for +: 'int' and 'str'"
     ]
    }
   ],
   "source": [
    "print(1 + \"2\")  # you cannot add an integer (1) with a string (\"2\")"
   ]
  },
  {
   "cell_type": "markdown",
   "id": "4883f132-0acb-464b-b23f-d5e4f24f0c17",
   "metadata": {
    "editable": true,
    "slideshow": {
     "slide_type": ""
    },
    "tags": []
   },
   "source": [
    "### 1.2.5. NameError\n",
    "These will be raised when you call local or global names that have not been defined."
   ]
  },
  {
   "cell_type": "code",
   "execution_count": 10,
   "id": "c5a1e6f9-8183-455f-ad79-3c09b0daa8c2",
   "metadata": {
    "editable": true,
    "slideshow": {
     "slide_type": ""
    },
    "tags": [
     "raises-exception"
    ]
   },
   "outputs": [
    {
     "ename": "NameError",
     "evalue": "name 'foo' is not defined",
     "output_type": "error",
     "traceback": [
      "\u001b[0;31m---------------------------------------------------------------------------\u001b[0m",
      "\u001b[0;31mNameError\u001b[0m                                 Traceback (most recent call last)",
      "Cell \u001b[0;32mIn[10], line 1\u001b[0m\n\u001b[0;32m----> 1\u001b[0m \u001b[43mfoo\u001b[49m()  \u001b[38;5;66;03m# we never defined a function named foo\u001b[39;00m\n",
      "\u001b[0;31mNameError\u001b[0m: name 'foo' is not defined"
     ]
    }
   ],
   "source": [
    "foo()  # we never defined a function named foo"
   ]
  },
  {
   "cell_type": "markdown",
   "id": "c1a5c347-baf4-444f-9a24-f2c051f7e2ac",
   "metadata": {
    "editable": true,
    "slideshow": {
     "slide_type": ""
    },
    "tags": []
   },
   "source": [
    "### 1.2.6. AttributeError\n",
    "Similar to NameError, these will happen when you request an attribute from a class that does not exist."
   ]
  },
  {
   "cell_type": "code",
   "execution_count": 11,
   "id": "856214ed-c604-4dc0-bb42-c48095058e0a",
   "metadata": {
    "editable": true,
    "slideshow": {
     "slide_type": ""
    },
    "tags": [
     "raises-exception"
    ]
   },
   "outputs": [
    {
     "ename": "AttributeError",
     "evalue": "'A' object has no attribute 'my_attribute'",
     "output_type": "error",
     "traceback": [
      "\u001b[0;31m---------------------------------------------------------------------------\u001b[0m",
      "\u001b[0;31mAttributeError\u001b[0m                            Traceback (most recent call last)",
      "Cell \u001b[0;32mIn[11], line 5\u001b[0m\n\u001b[1;32m      2\u001b[0m     \u001b[38;5;28;01mpass\u001b[39;00m  \u001b[38;5;66;03m# just a blank class, with no user-defined attributes\u001b[39;00m\n\u001b[1;32m      4\u001b[0m a \u001b[38;5;241m=\u001b[39m A()\n\u001b[0;32m----> 5\u001b[0m \u001b[38;5;28mprint\u001b[39m(\u001b[43ma\u001b[49m\u001b[38;5;241;43m.\u001b[39;49m\u001b[43mmy_attribute\u001b[49m)\n",
      "\u001b[0;31mAttributeError\u001b[0m: 'A' object has no attribute 'my_attribute'"
     ]
    }
   ],
   "source": [
    "class A:\n",
    "    pass  # just a blank class, with no user-defined attributes\n",
    "\n",
    "a = A()\n",
    "print(a.my_attribute)"
   ]
  },
  {
   "cell_type": "markdown",
   "id": "98c6d6ac-80d6-4f13-a282-6fa40d582b35",
   "metadata": {
    "editable": true,
    "slideshow": {
     "slide_type": ""
    },
    "tags": []
   },
   "source": [
    "### 1.2.7. ZeroDivisionError\n",
    "This error will occur when you try to divide anything by 0, which does not make much sense mathematically."
   ]
  },
  {
   "cell_type": "code",
   "execution_count": 12,
   "id": "1639f921-776b-40a6-9c42-483330cfd636",
   "metadata": {
    "editable": true,
    "slideshow": {
     "slide_type": ""
    },
    "tags": [
     "raises-exception"
    ]
   },
   "outputs": [
    {
     "ename": "ZeroDivisionError",
     "evalue": "division by zero",
     "output_type": "error",
     "traceback": [
      "\u001b[0;31m---------------------------------------------------------------------------\u001b[0m",
      "\u001b[0;31mZeroDivisionError\u001b[0m                         Traceback (most recent call last)",
      "Cell \u001b[0;32mIn[12], line 1\u001b[0m\n\u001b[0;32m----> 1\u001b[0m \u001b[38;5;28mprint\u001b[39m(\u001b[38;5;241;43m1\u001b[39;49m\u001b[43m \u001b[49m\u001b[38;5;241;43m/\u001b[39;49m\u001b[43m \u001b[49m\u001b[38;5;241;43m0\u001b[39;49m)\n",
      "\u001b[0;31mZeroDivisionError\u001b[0m: division by zero"
     ]
    }
   ],
   "source": [
    "print(1 / 0)"
   ]
  },
  {
   "cell_type": "markdown",
   "id": "e58f7b0e-bf91-4060-8eca-a8b6d1eca1e2",
   "metadata": {
    "editable": true,
    "slideshow": {
     "slide_type": ""
    },
    "tags": []
   },
   "source": [
    "## 1.3. Handling Exceptions"
   ]
  },
  {
   "cell_type": "markdown",
   "id": "020686ce-40e3-4531-ac60-c44a52f06cfd",
   "metadata": {
    "editable": true,
    "slideshow": {
     "slide_type": ""
    },
    "tags": []
   },
   "source": [
    "### 1.3.1. Raising Exceptions\n",
    "Raising an exception is done with the `raise` keyword and receives the type of exception. "
   ]
  },
  {
   "cell_type": "code",
   "execution_count": 13,
   "id": "e7d5f30d-7b8e-4e87-9857-5c804edb8d4a",
   "metadata": {
    "editable": true,
    "slideshow": {
     "slide_type": ""
    },
    "tags": [
     "raises-exception"
    ]
   },
   "outputs": [
    {
     "ename": "Exception",
     "evalue": "",
     "output_type": "error",
     "traceback": [
      "\u001b[0;31m---------------------------------------------------------------------------\u001b[0m",
      "\u001b[0;31mException\u001b[0m                                 Traceback (most recent call last)",
      "Cell \u001b[0;32mIn[13], line 1\u001b[0m\n\u001b[0;32m----> 1\u001b[0m \u001b[38;5;28;01mraise\u001b[39;00m \u001b[38;5;167;01mException\u001b[39;00m  \u001b[38;5;66;03m# no message attached\u001b[39;00m\n",
      "\u001b[0;31mException\u001b[0m: "
     ]
    }
   ],
   "source": [
    "raise Exception  # no message attached"
   ]
  },
  {
   "cell_type": "code",
   "execution_count": 14,
   "id": "c0fbc857-b8ca-41ee-bfef-c194687b2f2d",
   "metadata": {
    "editable": true,
    "slideshow": {
     "slide_type": ""
    },
    "tags": [
     "raises-exception"
    ]
   },
   "outputs": [
    {
     "ename": "Exception",
     "evalue": "Raised an Exception",
     "output_type": "error",
     "traceback": [
      "\u001b[0;31m---------------------------------------------------------------------------\u001b[0m",
      "\u001b[0;31mException\u001b[0m                                 Traceback (most recent call last)",
      "Cell \u001b[0;32mIn[14], line 1\u001b[0m\n\u001b[0;32m----> 1\u001b[0m \u001b[38;5;28;01mraise\u001b[39;00m \u001b[38;5;167;01mException\u001b[39;00m(\u001b[38;5;124m\"\u001b[39m\u001b[38;5;124mRaised an Exception\u001b[39m\u001b[38;5;124m\"\u001b[39m)  \u001b[38;5;66;03m# with message attached\u001b[39;00m\n",
      "\u001b[0;31mException\u001b[0m: Raised an Exception"
     ]
    }
   ],
   "source": [
    "raise Exception(\"Raised an Exception\")  # with message attached"
   ]
  },
  {
   "cell_type": "code",
   "execution_count": 15,
   "id": "6fef86d2-47c1-4dd8-bb0b-e2b4cc3a6678",
   "metadata": {
    "editable": true,
    "slideshow": {
     "slide_type": ""
    },
    "tags": []
   },
   "outputs": [],
   "source": [
    "# This is similar to the example we saw with math.sqrt() which does not allow negative numbers.\n",
    "def raise_when_negative(num: int):\n",
    "    if num < 0:\n",
    "        raise ValueError(f\"The number {num} is negative...\")\n",
    "        \n",
    "    print(f\"The number {num} is positive! And its square root is {sqrt(num)}.\")"
   ]
  },
  {
   "cell_type": "code",
   "execution_count": 16,
   "id": "62cd6652-843a-4778-8edb-38b8c64472ca",
   "metadata": {
    "editable": true,
    "slideshow": {
     "slide_type": ""
    },
    "tags": []
   },
   "outputs": [
    {
     "name": "stdout",
     "output_type": "stream",
     "text": [
      "The number 9 is positive! And its square root is 3.0.\n"
     ]
    }
   ],
   "source": [
    "raise_when_negative(9)"
   ]
  },
  {
   "cell_type": "code",
   "execution_count": 17,
   "id": "99667f3f-b6d3-4b3d-b782-7b07460a1c21",
   "metadata": {
    "editable": true,
    "slideshow": {
     "slide_type": ""
    },
    "tags": [
     "raises-exception"
    ]
   },
   "outputs": [
    {
     "ename": "ValueError",
     "evalue": "The number -9 is negative...",
     "output_type": "error",
     "traceback": [
      "\u001b[0;31m---------------------------------------------------------------------------\u001b[0m",
      "\u001b[0;31mValueError\u001b[0m                                Traceback (most recent call last)",
      "Cell \u001b[0;32mIn[17], line 1\u001b[0m\n\u001b[0;32m----> 1\u001b[0m \u001b[43mraise_when_negative\u001b[49m\u001b[43m(\u001b[49m\u001b[38;5;241;43m-\u001b[39;49m\u001b[38;5;241;43m9\u001b[39;49m\u001b[43m)\u001b[49m\n",
      "Cell \u001b[0;32mIn[15], line 4\u001b[0m, in \u001b[0;36mraise_when_negative\u001b[0;34m(num)\u001b[0m\n\u001b[1;32m      2\u001b[0m \u001b[38;5;28;01mdef\u001b[39;00m \u001b[38;5;21mraise_when_negative\u001b[39m(num: \u001b[38;5;28mint\u001b[39m):\n\u001b[1;32m      3\u001b[0m     \u001b[38;5;28;01mif\u001b[39;00m num \u001b[38;5;241m<\u001b[39m \u001b[38;5;241m0\u001b[39m:\n\u001b[0;32m----> 4\u001b[0m         \u001b[38;5;28;01mraise\u001b[39;00m \u001b[38;5;167;01mValueError\u001b[39;00m(\u001b[38;5;124mf\u001b[39m\u001b[38;5;124m\"\u001b[39m\u001b[38;5;124mThe number \u001b[39m\u001b[38;5;132;01m{\u001b[39;00mnum\u001b[38;5;132;01m}\u001b[39;00m\u001b[38;5;124m is negative...\u001b[39m\u001b[38;5;124m\"\u001b[39m)\n\u001b[1;32m      6\u001b[0m     \u001b[38;5;28mprint\u001b[39m(\u001b[38;5;124mf\u001b[39m\u001b[38;5;124m\"\u001b[39m\u001b[38;5;124mThe number \u001b[39m\u001b[38;5;132;01m{\u001b[39;00mnum\u001b[38;5;132;01m}\u001b[39;00m\u001b[38;5;124m is positive! And its square root is \u001b[39m\u001b[38;5;132;01m{\u001b[39;00msqrt(num)\u001b[38;5;132;01m}\u001b[39;00m\u001b[38;5;124m.\u001b[39m\u001b[38;5;124m\"\u001b[39m)\n",
      "\u001b[0;31mValueError\u001b[0m: The number -9 is negative..."
     ]
    }
   ],
   "source": [
    "raise_when_negative(-9)"
   ]
  },
  {
   "cell_type": "markdown",
   "id": "ff5454d2-3755-4cb8-8a09-f3e4bfeb8322",
   "metadata": {
    "editable": true,
    "slideshow": {
     "slide_type": ""
    },
    "tags": []
   },
   "source": [
    "---\n",
    "There is also a special kind of way to *raise* a specific type of error called `AssertionError` by using the `assert` keyword. This is commonly used in unit testing to compare outputs with expected results.\\\n",
    "These in theory are recommended not to be used in production code due to the fact that there are ways to run Python that would skip `assert` statements. This will often depend on the code base and practices adopted in the project (i.e, `assert` being used exclusively for debug purposes)."
   ]
  },
  {
   "cell_type": "code",
   "execution_count": 18,
   "id": "091e0a0a-e800-401d-b68b-71e20f14ec80",
   "metadata": {
    "editable": true,
    "slideshow": {
     "slide_type": ""
    },
    "tags": [
     "raises-exception"
    ]
   },
   "outputs": [
    {
     "ename": "AssertionError",
     "evalue": "",
     "output_type": "error",
     "traceback": [
      "\u001b[0;31m---------------------------------------------------------------------------\u001b[0m",
      "\u001b[0;31mAssertionError\u001b[0m                            Traceback (most recent call last)",
      "Cell \u001b[0;32mIn[18], line 1\u001b[0m\n\u001b[0;32m----> 1\u001b[0m \u001b[38;5;28;01massert\u001b[39;00m \u001b[38;5;28;01mFalse\u001b[39;00m \u001b[38;5;241m==\u001b[39m \u001b[38;5;28;01mTrue\u001b[39;00m\n",
      "\u001b[0;31mAssertionError\u001b[0m: "
     ]
    }
   ],
   "source": [
    "assert False == True"
   ]
  },
  {
   "cell_type": "code",
   "execution_count": 19,
   "id": "2d58ed84-beb3-443c-b97d-17ceaa676207",
   "metadata": {
    "editable": true,
    "slideshow": {
     "slide_type": ""
    },
    "tags": [
     "raises-exception"
    ]
   },
   "outputs": [
    {
     "ename": "AssertionError",
     "evalue": "Integer is not equal to String",
     "output_type": "error",
     "traceback": [
      "\u001b[0;31m---------------------------------------------------------------------------\u001b[0m",
      "\u001b[0;31mAssertionError\u001b[0m                            Traceback (most recent call last)",
      "Cell \u001b[0;32mIn[19], line 1\u001b[0m\n\u001b[0;32m----> 1\u001b[0m \u001b[38;5;28;01massert\u001b[39;00m \u001b[38;5;241m1\u001b[39m \u001b[38;5;241m==\u001b[39m \u001b[38;5;124m\"\u001b[39m\u001b[38;5;124m1\u001b[39m\u001b[38;5;124m\"\u001b[39m, \u001b[38;5;124m\"\u001b[39m\u001b[38;5;124mInteger is not equal to String\u001b[39m\u001b[38;5;124m\"\u001b[39m\n",
      "\u001b[0;31mAssertionError\u001b[0m: Integer is not equal to String"
     ]
    }
   ],
   "source": [
    "assert 1 == \"1\", \"Integer is not equal to String\""
   ]
  },
  {
   "cell_type": "markdown",
   "id": "0712edc5-8b62-4fa9-9a70-9977203faadf",
   "metadata": {
    "editable": true,
    "slideshow": {
     "slide_type": ""
    },
    "tags": [
     "raises-exception"
    ]
   },
   "source": [
    "### 1.3.2. Try/Except\n",
    "To handle exceptions, we use the `try` and `except` statements. If you have experience with other programming languages, this is the same concept of the popular try/catch statements.\n",
    "\n",
    "The logic is to *try* to do something, *except* if something happens then we will need to do something else.\n",
    "\n",
    "__Careful__ with the `except` as it might continue a program unless you re-raise an exception within it. While this can let you keep the program going and *skip* an error, you must think whether that is OK for your use-case!"
   ]
  },
  {
   "cell_type": "code",
   "execution_count": 20,
   "id": "76f41e9f-b998-4988-99d0-e20eacedd511",
   "metadata": {
    "editable": true,
    "slideshow": {
     "slide_type": ""
    },
    "tags": []
   },
   "outputs": [
    {
     "name": "stdout",
     "output_type": "stream",
     "text": [
      "6 / 3 = 2.0\n",
      "6 / 2 = 3.0\n",
      "6 / 1 = 6.0\n",
      "Cannot divide 6 with 0\n",
      "6 / -1 = -6.0\n",
      "6 / -2 = -3.0\n",
      "6 / -3 = -2.0\n"
     ]
    }
   ],
   "source": [
    "num = 6\n",
    "for i in (3, 2, 1, 0, -1, -2, -3):\n",
    "    try:\n",
    "        print(f\"{num} / {i} = {num/i}\")\n",
    "    except Exception:\n",
    "        print(f\"Cannot divide {num} with {i}\")"
   ]
  },
  {
   "cell_type": "markdown",
   "id": "09a5b09c-859e-427d-ad66-a528c4702ddf",
   "metadata": {
    "editable": true,
    "slideshow": {
     "slide_type": ""
    },
    "tags": []
   },
   "source": [
    "While you can leave the `except` bare of any exception type, __it is not recommended!__ Here is an example of why this is such a bad idea:\n",
    "\n",
    "```python\n",
    "from time import sleep  # import sleep function from time module \n",
    "\n",
    "if __name__ == \"__main__\":\n",
    "    while True:  # always running until a certain condition\n",
    "        try:\n",
    "            print(\"Hi\")\n",
    "            sleep(3)  # wait 3 seconds\n",
    "        except:\n",
    "            print(\"Bye\")\n",
    "```\n",
    "\n",
    "This code __will not exit__ even when you issue a `Ctrl-C` and you will need to kill the terminal window to exit. When you `Ctrl-C` what happens is that the program will receive a `KeyboardInterrupt` signal, which is caught by the `except` block. Once there it will print the word *Bye*, and will immediately go back to its loop condition."
   ]
  },
  {
   "cell_type": "markdown",
   "id": "aaf708ad-1de7-425c-bbc8-8c969d844893",
   "metadata": {
    "editable": true,
    "slideshow": {
     "slide_type": ""
    },
    "tags": []
   },
   "source": [
    "One way to get around the previous example is to set `except Exception:`\n",
    "\n",
    "Leaving the barren `Exception` in the `except` block is also advised against for two main reasons:\n",
    "- It is less readable because *any* Exception will trigger it\n",
    "- Because any exception can trigger it, the error processing will be the same"
   ]
  },
  {
   "cell_type": "code",
   "execution_count": 21,
   "id": "5252530f-6c55-45be-9f9d-f9f5bc6f73d6",
   "metadata": {
    "editable": true,
    "slideshow": {
     "slide_type": ""
    },
    "tags": []
   },
   "outputs": [],
   "source": [
    "def divide_by_square_root(num: int):\n",
    "    try:\n",
    "        sr = sqrt(num)\n",
    "        print(f\"Num: {num}; SquareRoot: {sr}\")\n",
    "        print(f\"Result: {num / sr}\")\n",
    "    except Exception:\n",
    "        print(\"An error occurred!\")"
   ]
  },
  {
   "cell_type": "code",
   "execution_count": 22,
   "id": "7b337b42-8d23-411d-b8af-be879148d741",
   "metadata": {
    "editable": true,
    "slideshow": {
     "slide_type": ""
    },
    "tags": []
   },
   "outputs": [
    {
     "name": "stdout",
     "output_type": "stream",
     "text": [
      "Num: 0; SquareRoot: 0.0\n",
      "An error occurred!\n"
     ]
    }
   ],
   "source": [
    "divide_by_square_root(0)  # Notice how we can still calculate the square root of 0. It only errors out when dividing!"
   ]
  },
  {
   "cell_type": "code",
   "execution_count": 23,
   "id": "881f08d2-389c-41ad-8260-00421508fa03",
   "metadata": {
    "editable": true,
    "slideshow": {
     "slide_type": ""
    },
    "tags": []
   },
   "outputs": [
    {
     "name": "stdout",
     "output_type": "stream",
     "text": [
      "An error occurred!\n"
     ]
    }
   ],
   "source": [
    "divide_by_square_root(-10) # Immediate problem when computing square root"
   ]
  },
  {
   "cell_type": "markdown",
   "id": "d2dc62f5-5108-4035-b05d-633e4714e0d3",
   "metadata": {
    "editable": true,
    "slideshow": {
     "slide_type": ""
    },
    "tags": []
   },
   "source": [
    "#### 1.3.2.1. Catching Separate Exceptions\n",
    "We can specify several `except` blocks that deal with different errors. We can leave a barren `Exception` at the end to catch any errors we did not expect (which might warrant extra investigation)."
   ]
  },
  {
   "cell_type": "code",
   "execution_count": 24,
   "id": "66c03277-5116-4e19-a493-403f6adb5a7e",
   "metadata": {
    "editable": true,
    "slideshow": {
     "slide_type": ""
    },
    "tags": []
   },
   "outputs": [],
   "source": [
    "def informative_divide_by_square_root(num: int):\n",
    "    try:\n",
    "        sr = sqrt(num)\n",
    "        print(f\"Num: {num}; SquareRoot: {sr}\")\n",
    "        print(f\"Result: {num / sr}\")\n",
    "    except ZeroDivisionError:\n",
    "        print(\"Tried to divide by zero!\")\n",
    "    except ValueError:\n",
    "        print(\"math.sqrt received a negative number\")\n",
    "    except Exception:\n",
    "        print(\"An error occurred!\")"
   ]
  },
  {
   "cell_type": "code",
   "execution_count": 25,
   "id": "b5cf6427-8dd1-45d6-8b76-dcc812b3d6e1",
   "metadata": {
    "editable": true,
    "slideshow": {
     "slide_type": ""
    },
    "tags": []
   },
   "outputs": [
    {
     "name": "stdout",
     "output_type": "stream",
     "text": [
      "Num: 0; SquareRoot: 0.0\n",
      "Tried to divide by zero!\n"
     ]
    }
   ],
   "source": [
    "informative_divide_by_square_root(0)"
   ]
  },
  {
   "cell_type": "code",
   "execution_count": 26,
   "id": "911824c0-feec-4736-be1e-65d31a758728",
   "metadata": {
    "editable": true,
    "slideshow": {
     "slide_type": ""
    },
    "tags": []
   },
   "outputs": [
    {
     "name": "stdout",
     "output_type": "stream",
     "text": [
      "math.sqrt received a negative number\n"
     ]
    }
   ],
   "source": [
    "informative_divide_by_square_root(-10)"
   ]
  },
  {
   "cell_type": "markdown",
   "id": "a74b1735-5aac-4b3d-aedb-94fd068cd9cb",
   "metadata": {
    "editable": true,
    "slideshow": {
     "slide_type": ""
    },
    "tags": []
   },
   "source": [
    "#### 1.3.2.2. Catching Known Groups of Exceptions\n",
    "We can also catch known exceptions to deal with in a specific way.\n",
    "\n",
    "In this example we show:\n",
    "- How to group two or more exceptions in the same `except` block to have the same handling\n",
    "- How to get the exception variable with `as <name>`, where `<name>` is the variable name given by you\n",
    "\n",
    "We are not really going to delve deeper into the exception variable, but rest assured that there is a plethora of stuff regarding how to handle exceptions with it."
   ]
  },
  {
   "cell_type": "code",
   "execution_count": 27,
   "id": "1d349e02-72eb-4d04-a1bb-40bbee0c1d9b",
   "metadata": {
    "editable": true,
    "slideshow": {
     "slide_type": ""
    },
    "tags": []
   },
   "outputs": [],
   "source": [
    "def grouped_divide_by_square_root(num: int):\n",
    "    try:\n",
    "        sr = sqrt(num)\n",
    "        print(f\"Num: {num}; SquareRoot: {sr}\")\n",
    "        print(f\"Result: {num / sr}\")\n",
    "    except (ZeroDivisionError, ValueError):  # both ZeroDivisionError AND ValueError are caught in this except statement\n",
    "        print(f\"This method does not make mathematical sense with num={num}!\")\n",
    "    except Exception as exc: # we can also use \"as <name>\" to catch the Exception as a variable\n",
    "        print(f\"An error occurred (type={type(exc)}; msg='{exc}')\")"
   ]
  },
  {
   "cell_type": "code",
   "execution_count": 28,
   "id": "8b2ac482-856e-45b2-a051-faccd4365618",
   "metadata": {
    "editable": true,
    "slideshow": {
     "slide_type": ""
    },
    "tags": []
   },
   "outputs": [
    {
     "name": "stdout",
     "output_type": "stream",
     "text": [
      "Num: 0; SquareRoot: 0.0\n",
      "This method does not make mathematical sense with num=0!\n"
     ]
    }
   ],
   "source": [
    "grouped_divide_by_square_root(0)"
   ]
  },
  {
   "cell_type": "code",
   "execution_count": 29,
   "id": "c944fae2-3801-4ac6-b200-522dbecbefd9",
   "metadata": {
    "editable": true,
    "slideshow": {
     "slide_type": ""
    },
    "tags": []
   },
   "outputs": [
    {
     "name": "stdout",
     "output_type": "stream",
     "text": [
      "This method does not make mathematical sense with num=-10!\n"
     ]
    }
   ],
   "source": [
    "grouped_divide_by_square_root(-10)"
   ]
  },
  {
   "cell_type": "code",
   "execution_count": 30,
   "id": "e505ba70-54b9-4727-b7e1-4e09c10f06b6",
   "metadata": {
    "editable": true,
    "slideshow": {
     "slide_type": ""
    },
    "tags": [
     "raises-exception"
    ]
   },
   "outputs": [
    {
     "name": "stdout",
     "output_type": "stream",
     "text": [
      "An error occurred (type=<class 'TypeError'>; msg='must be real number, not str')\n"
     ]
    }
   ],
   "source": [
    "grouped_divide_by_square_root(\"30\")"
   ]
  },
  {
   "cell_type": "markdown",
   "id": "8b86e1c0-9348-486f-a4de-693a90925446",
   "metadata": {
    "editable": true,
    "slideshow": {
     "slide_type": ""
    },
    "tags": []
   },
   "source": [
    "### 1.3.3. Beyond Try/Except\n",
    "Let's be perfectly clear: 99% of your potential use-cases will warrant using `try/except` blocks and nothing else. The reasoning behind this is that you want to do X, but if X has a problem we want to gracefully exit or deal with whatever happened.\\\n",
    "More often than not, when you have an `Exception` you want to log it somewhere and either move on and/or exit the program.\n",
    "\n",
    "```python\n",
    "try:\n",
    "    do_something()\n",
    "except Exception as exc:\n",
    "    logger.info(\"Something went wrong\")\n",
    "    raise exc\n",
    "```\n",
    "\n",
    "We have seen that we can have multiple `except` statements, but now let us look at something that is a little less used, the `else` and `finally` statements within a `try/except` block."
   ]
  },
  {
   "cell_type": "code",
   "execution_count": 31,
   "id": "a24d67f3-5969-41d6-bee8-a6c0c1a6d348",
   "metadata": {},
   "outputs": [],
   "source": [
    "def extended_try_except(num: int):\n",
    "    try:\n",
    "        result = num / sqrt(num)\n",
    "    except ZeroDivisionError:\n",
    "        print(\"Could not compute result because we tried to divide by zero.\")\n",
    "    except ValueError:\n",
    "        print(\"Could not compute result because the number given is not a valid input for math.sqrt()\")\n",
    "    else:\n",
    "        print(f\"Success! Result is {result}\")\n",
    "    finally:\n",
    "        print(\"Exiting function.\")"
   ]
  },
  {
   "cell_type": "code",
   "execution_count": 32,
   "id": "e20b0b4c-b972-496f-bac6-8c81ce91c7f0",
   "metadata": {
    "editable": true,
    "slideshow": {
     "slide_type": ""
    },
    "tags": []
   },
   "outputs": [
    {
     "name": "stdout",
     "output_type": "stream",
     "text": [
      "Could not compute result because we tried to divide by zero.\n",
      "Exiting function.\n"
     ]
    }
   ],
   "source": [
    "extended_try_except(0)"
   ]
  },
  {
   "cell_type": "code",
   "execution_count": 33,
   "id": "78253ca7-2def-4884-9b65-c2bd67d2df93",
   "metadata": {
    "editable": true,
    "slideshow": {
     "slide_type": ""
    },
    "tags": []
   },
   "outputs": [
    {
     "name": "stdout",
     "output_type": "stream",
     "text": [
      "Could not compute result because the number given is not a valid input for math.sqrt()\n",
      "Exiting function.\n"
     ]
    }
   ],
   "source": [
    "extended_try_except(-1)"
   ]
  },
  {
   "cell_type": "code",
   "execution_count": 34,
   "id": "1a4278ec-8d0c-4cb6-9bed-68227990c593",
   "metadata": {
    "editable": true,
    "slideshow": {
     "slide_type": ""
    },
    "tags": []
   },
   "outputs": [
    {
     "name": "stdout",
     "output_type": "stream",
     "text": [
      "Success! Result is 2.0\n",
      "Exiting function.\n"
     ]
    }
   ],
   "source": [
    "extended_try_except(4)"
   ]
  },
  {
   "cell_type": "markdown",
   "id": "b27c2766-533e-470e-a0e9-2f45ed1bbc05",
   "metadata": {
    "editable": true,
    "slideshow": {
     "slide_type": ""
    },
    "tags": []
   },
   "source": [
    "---\n",
    "What we did in this example was:\n",
    "- Tried to divide the given number by its square root\n",
    "- If the square root was zero, we handled the ZeroDivisionError\n",
    "- If the given number was not valid for `math.sqrt()`, we handled the ValueError\n",
    "- If there was __no error__ then we handled the rest of the function using the `else` block\n",
    "- In any case, we would print a message at the end of the function, regardless of what happened, using the `finally` block\n",
    "\n",
    "So we introduced two statements:\n",
    "- `else` (in the try/except context) allows us to specify what to do when we succeed the `try`\n",
    "- `finally` allows us to always have a final statement that runs at the end of the try/except\n",
    "\n",
    "We will later see a real example of this when explaining how to properly deal with files using the manual approach."
   ]
  },
  {
   "cell_type": "markdown",
   "id": "9a2a89a0-ae4f-4919-863d-5b0e0790d158",
   "metadata": {
    "editable": true,
    "slideshow": {
     "slide_type": ""
    },
    "tags": []
   },
   "source": [
    "## 1.4. Bonus Section: Custom Exceptions\n",
    "Since all exceptions inherit from `Exception`, we can also create our own!\n",
    "\n",
    "But why would we want to do this? \n",
    "- To deal with different application errors in their own way (e.g. you can have multiple ValueError defined and want to deal with them differently)\n",
    "- To increase readability of your code, i.e. someone that reads it knows *why* something will break\n",
    "- To get better control of the exception itself"
   ]
  },
  {
   "cell_type": "code",
   "execution_count": 35,
   "id": "dcdc17bc-53c8-4d7d-aca0-ae6e17e462cc",
   "metadata": {
    "editable": true,
    "slideshow": {
     "slide_type": ""
    },
    "tags": []
   },
   "outputs": [],
   "source": [
    "class MyCustomException(Exception):  # all we need is inherit from Exception\n",
    "    pass"
   ]
  },
  {
   "cell_type": "code",
   "execution_count": 36,
   "id": "d53014af-603a-4171-9e97-e85de4f9016b",
   "metadata": {
    "editable": true,
    "slideshow": {
     "slide_type": ""
    },
    "tags": [
     "raises-exception"
    ]
   },
   "outputs": [
    {
     "ename": "MyCustomException",
     "evalue": "The code is broken!",
     "output_type": "error",
     "traceback": [
      "\u001b[0;31m---------------------------------------------------------------------------\u001b[0m",
      "\u001b[0;31mMyCustomException\u001b[0m                         Traceback (most recent call last)",
      "Cell \u001b[0;32mIn[36], line 1\u001b[0m\n\u001b[0;32m----> 1\u001b[0m \u001b[38;5;28;01mraise\u001b[39;00m MyCustomException(\u001b[38;5;124m\"\u001b[39m\u001b[38;5;124mThe code is broken!\u001b[39m\u001b[38;5;124m\"\u001b[39m)\n",
      "\u001b[0;31mMyCustomException\u001b[0m: The code is broken!"
     ]
    }
   ],
   "source": [
    "raise MyCustomException(\"The code is broken!\")"
   ]
  },
  {
   "cell_type": "code",
   "execution_count": 37,
   "id": "06c2b0cf-5f67-43f1-8b49-e8ced811d7e7",
   "metadata": {
    "editable": true,
    "slideshow": {
     "slide_type": ""
    },
    "tags": [
     "raises-exception"
    ]
   },
   "outputs": [],
   "source": [
    "class MyCustomExceptionWithMessage(Exception):\n",
    "    def __init__(self):\n",
    "        super().__init__(\"The code has broken again!\")"
   ]
  },
  {
   "cell_type": "code",
   "execution_count": 38,
   "id": "2b96fb29-492c-4bae-8bc3-ded95c8b5ee8",
   "metadata": {
    "editable": true,
    "slideshow": {
     "slide_type": ""
    },
    "tags": [
     "raises-exception"
    ]
   },
   "outputs": [
    {
     "ename": "MyCustomExceptionWithMessage",
     "evalue": "The code has broken again!",
     "output_type": "error",
     "traceback": [
      "\u001b[0;31m---------------------------------------------------------------------------\u001b[0m",
      "\u001b[0;31mMyCustomExceptionWithMessage\u001b[0m              Traceback (most recent call last)",
      "Cell \u001b[0;32mIn[38], line 1\u001b[0m\n\u001b[0;32m----> 1\u001b[0m \u001b[38;5;28;01mraise\u001b[39;00m MyCustomExceptionWithMessage()\n",
      "\u001b[0;31mMyCustomExceptionWithMessage\u001b[0m: The code has broken again!"
     ]
    }
   ],
   "source": [
    "raise MyCustomExceptionWithMessage()"
   ]
  },
  {
   "cell_type": "code",
   "execution_count": 39,
   "id": "a56d00ef-978f-474b-adc4-c32c8cc78dde",
   "metadata": {
    "editable": true,
    "slideshow": {
     "slide_type": ""
    },
    "tags": []
   },
   "outputs": [],
   "source": [
    "class MyCustomExceptionWithVariableMessage(Exception):\n",
    "    def __init__(self, msg_string: str):\n",
    "        super().__init__(f\"The code has broken again because of: {msg_string}\")"
   ]
  },
  {
   "cell_type": "code",
   "execution_count": 40,
   "id": "232f010f-53ed-4190-8cb9-ffb2361cf317",
   "metadata": {
    "editable": true,
    "slideshow": {
     "slide_type": ""
    },
    "tags": [
     "raises-exception"
    ]
   },
   "outputs": [
    {
     "ename": "MyCustomExceptionWithVariableMessage",
     "evalue": "The code has broken again because of: insert better reason",
     "output_type": "error",
     "traceback": [
      "\u001b[0;31m---------------------------------------------------------------------------\u001b[0m",
      "\u001b[0;31mMyCustomExceptionWithVariableMessage\u001b[0m      Traceback (most recent call last)",
      "Cell \u001b[0;32mIn[40], line 1\u001b[0m\n\u001b[0;32m----> 1\u001b[0m \u001b[38;5;28;01mraise\u001b[39;00m MyCustomExceptionWithVariableMessage(\u001b[38;5;124m\"\u001b[39m\u001b[38;5;124minsert better reason\u001b[39m\u001b[38;5;124m\"\u001b[39m)\n",
      "\u001b[0;31mMyCustomExceptionWithVariableMessage\u001b[0m: The code has broken again because of: insert better reason"
     ]
    }
   ],
   "source": [
    "raise MyCustomExceptionWithVariableMessage(\"insert better reason\")"
   ]
  },
  {
   "cell_type": "markdown",
   "id": "262a1791-ec17-4059-94fa-192778a48f5f",
   "metadata": {
    "editable": true,
    "slideshow": {
     "slide_type": ""
    },
    "tags": []
   },
   "source": [
    "##### Real Example"
   ]
  },
  {
   "cell_type": "code",
   "execution_count": 41,
   "id": "75e6d27c-c4bc-4b2a-b587-ec2425f75b12",
   "metadata": {
    "editable": true,
    "slideshow": {
     "slide_type": ""
    },
    "tags": []
   },
   "outputs": [],
   "source": [
    "# OK let's give you a real example\n",
    "\n",
    "class InvalidAge(Exception):\n",
    "    def __init__(self, age: int):\n",
    "        super().__init__(f\"Cannot have negative age! Received: {age}\")\n",
    "\n",
    "def get_birth_year(age: int):\n",
    "    if age < 0:\n",
    "        raise InvalidAge(age)\n",
    "\n",
    "    print(f\"Person was probably born in {2024-age}\")"
   ]
  },
  {
   "cell_type": "code",
   "execution_count": 42,
   "id": "61ff9a3c-a388-4dd4-95df-4e7edd3771f5",
   "metadata": {
    "editable": true,
    "slideshow": {
     "slide_type": ""
    },
    "tags": []
   },
   "outputs": [
    {
     "name": "stdout",
     "output_type": "stream",
     "text": [
      "Person was probably born in 1994\n"
     ]
    }
   ],
   "source": [
    "get_birth_year(30)"
   ]
  },
  {
   "cell_type": "code",
   "execution_count": 43,
   "id": "b537cbac-348e-4ba0-875f-b17735d89b9b",
   "metadata": {
    "editable": true,
    "slideshow": {
     "slide_type": ""
    },
    "tags": [
     "raises-exception"
    ]
   },
   "outputs": [
    {
     "ename": "InvalidAge",
     "evalue": "Cannot have negative age! Received: -12",
     "output_type": "error",
     "traceback": [
      "\u001b[0;31m---------------------------------------------------------------------------\u001b[0m",
      "\u001b[0;31mInvalidAge\u001b[0m                                Traceback (most recent call last)",
      "Cell \u001b[0;32mIn[43], line 1\u001b[0m\n\u001b[0;32m----> 1\u001b[0m \u001b[43mget_birth_year\u001b[49m\u001b[43m(\u001b[49m\u001b[38;5;241;43m-\u001b[39;49m\u001b[38;5;241;43m12\u001b[39;49m\u001b[43m)\u001b[49m\n",
      "Cell \u001b[0;32mIn[41], line 9\u001b[0m, in \u001b[0;36mget_birth_year\u001b[0;34m(age)\u001b[0m\n\u001b[1;32m      7\u001b[0m \u001b[38;5;28;01mdef\u001b[39;00m \u001b[38;5;21mget_birth_year\u001b[39m(age: \u001b[38;5;28mint\u001b[39m):\n\u001b[1;32m      8\u001b[0m     \u001b[38;5;28;01mif\u001b[39;00m age \u001b[38;5;241m<\u001b[39m \u001b[38;5;241m0\u001b[39m:\n\u001b[0;32m----> 9\u001b[0m         \u001b[38;5;28;01mraise\u001b[39;00m InvalidAge(age)\n\u001b[1;32m     11\u001b[0m     \u001b[38;5;28mprint\u001b[39m(\u001b[38;5;124mf\u001b[39m\u001b[38;5;124m\"\u001b[39m\u001b[38;5;124mPerson was probably born in \u001b[39m\u001b[38;5;132;01m{\u001b[39;00m\u001b[38;5;241m2024\u001b[39m\u001b[38;5;241m-\u001b[39mage\u001b[38;5;132;01m}\u001b[39;00m\u001b[38;5;124m\"\u001b[39m)\n",
      "\u001b[0;31mInvalidAge\u001b[0m: Cannot have negative age! Received: -12"
     ]
    }
   ],
   "source": [
    "get_birth_year(-12)"
   ]
  },
  {
   "cell_type": "markdown",
   "id": "68a42aa1-328a-4f9b-a1c2-8b9fe1cc42e0",
   "metadata": {
    "editable": true,
    "slideshow": {
     "slide_type": ""
    },
    "tags": []
   },
   "source": [
    "# 2. File Handling\n",
    "\n",
    "When dealing with files and similar use-cases, it is common to have to work around *paths*. You can imagine the path as being the address that your computer or program will use to find something within its file system.\n",
    "\n",
    "There are two kinds of paths: *absolute* and *relative*.\n",
    "\n",
    "**Absolute Paths** are paths that stem from the root of your OS system. In Windows they tend to start with the device letter (e.g. `C:`), while Unix-based systems will tend to start with `/`, and go through all the different directories until they reach the specified file or directory.\\\n",
    "Examples: \n",
    "- Windows -> `C:\\Users\\<name>\\Documents\\Projects\\prep-course-2024\\Week 06\\SLU11 - String & File Handling\\media\\text.jpeg`\n",
    "- Unix (WSL) -> `/mnt/c/Users/<name>/Documents/Projects/prep-course-2024/Week 06/SLU11 - String & File Handling/media/text.jpeg`\n",
    "\n",
    "**Relative Paths** are paths *relative to* another directory. That means that instead of going through all different directories, they will start at a certain point and go from there. For example, `media/text.jpeg` will assume the directory of this notebook and look for a folder named `media` that contain an image called `text.jpeg`.\n",
    "\n",
    "It is also possible to move backwards using relative paths by using `..`. So in order to visit the last SLU, you would use `cd ../\"SLU10 - OOP Inheritance\"` in order to go back to `Week 06` folder and into `SLU10 - OOP Inheritance`.\n",
    "\n",
    "In fact, when we use relative paths from the current directory, we are technically using `.` (e.g. `media/text.jpeg` = `./media/text.jpeg`). For the most part, both Python and the terminal are able to infer the `.` by default, which is why we tend not to use it as often.\n",
    "\n",
    "**TL;DR:** *absolute* paths contain the entire path from OS root to the specified destination, while *relative* paths contain the path starting from a certain (often, the current) directory. Most problems stemming when working with paths stem from having an incorrect view of the overall file structure."
   ]
  },
  {
   "cell_type": "markdown",
   "id": "6e798fa8-4931-46ed-8260-4fab3a38e667",
   "metadata": {},
   "source": [
    "## 2.1. Opening/Closing"
   ]
  },
  {
   "cell_type": "markdown",
   "id": "9fa7d922-e003-4a69-80b5-877a3f688c2d",
   "metadata": {},
   "source": [
    "<center><img src=\"./media/files.png\" width=\"500\"/><center>"
   ]
  },
  {
   "cell_type": "markdown",
   "id": "59405286-14ed-462b-95bb-9de92ff4ffd0",
   "metadata": {},
   "source": [
    "### 2.1.1. The Bad Way\n",
    "First, lets define what we mean with the *bad way*.\n",
    "\n",
    "In many cases you can do something several different ways with similar or the same results. This does not mean that *every* way is *correct* in the sense that there are ways that are *better* than others.\n",
    "\n",
    "Opening files is one of those things that can be done correctly, or incorrectly, from a *best practice* point-of-view.\\\n",
    "We will briefly go through the incorrect way:"
   ]
  },
  {
   "cell_type": "code",
   "execution_count": 44,
   "id": "2f3e2348-1ba8-4e7e-a87c-bdc3b9a50ddb",
   "metadata": {},
   "outputs": [
    {
     "name": "stdout",
     "output_type": "stream",
     "text": [
      "maria\n",
      "ate an apple\n",
      "pie for breakfast\n"
     ]
    }
   ],
   "source": [
    "file = open(\"document.txt\")  # naively open file\n",
    "\n",
    "contents = file.read()  # read contents as a single string\n",
    "\n",
    "file.close()  # close file manually\n",
    "\n",
    "print(contents)"
   ]
  },
  {
   "cell_type": "markdown",
   "id": "5619e6db-d010-4801-9d0c-55c79a35e386",
   "metadata": {},
   "source": [
    "__Explanation:__ So why was this so bad?\n",
    "\n",
    "Two main reasons:\n",
    "- It assumes the default mode of opening a file, which is READ-ONLY\n",
    "- You have to manually close the file\n",
    "\n",
    "> But why is manually closing the file so bad?\n",
    "\n",
    "The problem here is that if there is a problem between opening and closing the file, you might not handle the closure properly. You potentially risk that the file ends up corrupted, particularly when writing/creating a file. \n",
    "\n",
    "To properly close the file, you would have to handle potential errors happening between opening and closing:"
   ]
  },
  {
   "cell_type": "code",
   "execution_count": 45,
   "id": "932d36c2-e205-4110-b21e-aaa78b6306a3",
   "metadata": {},
   "outputs": [
    {
     "name": "stdout",
     "output_type": "stream",
     "text": [
      "maria\n",
      "ate an apple\n",
      "pie for breakfast\n"
     ]
    }
   ],
   "source": [
    "file = open(\"document.txt\")\n",
    "\n",
    "try:\n",
    "    contents = file.read()\n",
    "except Exception:\n",
    "    # handle exception\n",
    "    raise\n",
    "else:\n",
    "    print(contents)\n",
    "finally:\n",
    "    file.close()"
   ]
  },
  {
   "cell_type": "markdown",
   "id": "448386b6-2681-4528-87fc-4953bda51439",
   "metadata": {
    "editable": true,
    "slideshow": {
     "slide_type": ""
    },
    "tags": []
   },
   "source": [
    "### 2.1.2. The Good Way\n",
    "Writing the previous example for handling errors between opening and closing files is tiresome, to say the least. You essentially have to write an entire block of code to merely read/write the contents of a file.\n",
    "\n",
    "Python, however, provides a clear and concise way of reducing this by using the `with` statement.\n",
    "\n",
    "The `with` statement works with pretty much any *context manager*, which `open()` just so happens to be. We do not need to know much about context managers beyond the fact that they have an entry method and an exit method. It will handle the rest in the background.\\\n",
    "Using the `with` statement, we can streamline working with files:"
   ]
  },
  {
   "cell_type": "code",
   "execution_count": 46,
   "id": "dbd9c47c-e36d-417f-8097-0571db72ff57",
   "metadata": {
    "editable": true,
    "slideshow": {
     "slide_type": ""
    },
    "tags": []
   },
   "outputs": [
    {
     "name": "stdout",
     "output_type": "stream",
     "text": [
      "maria\n",
      "ate an apple\n",
      "pie for breakfast\n"
     ]
    }
   ],
   "source": [
    "with open(\"document.txt\", \"r\") as file:\n",
    "    contents = file.read()\n",
    "\n",
    "print(contents)"
   ]
  },
  {
   "cell_type": "markdown",
   "id": "44b89634-64f3-4015-84d4-db88d3af60a7",
   "metadata": {
    "editable": true,
    "slideshow": {
     "slide_type": ""
    },
    "tags": []
   },
   "source": [
    "## 2.2. Reading/Writing Files\n",
    "\n",
    "Before we proceed, lets quickly look at the file opening `mode` which is an argument of `open()`.\n",
    "\n",
    "There are three main *modes*:\n",
    "- `r` (READ)\n",
    "- `w` (WRITE)\n",
    "- `a` (APPEND)\n",
    "\n",
    "The difference between write (`w`) and append (`a`) is that `w` will __overwrite__ the file contents if they exist!\n",
    "\n",
    "To grant extra permissions you can add `+`:\n",
    "- `r+` (READ + UPDATE)\n",
    "- `w+` (WRITE + READ)\n",
    "- `a+` (APPEND + WRITE)\n",
    "---\n",
    "\n",
    "| Mode | Description                          | File Pointer Position | Creates File if Not Exists | Truncates Existing File |\n",
    "|------|--------------------------------------|-----------------------|----------------------------|-------------------------|\n",
    "| r    | Read-only                            | Beginning of the file | No                         | No                      |\n",
    "| r+   | Read and write (updating)            | Beginning of the file | No                         | No                      |\n",
    "| w    | Write-only (overwrite or create)     | Beginning of the file | Yes                        | Yes                     |\n",
    "| w+   | Write and read (overwrite or create) | Beginning of the file | Yes                        | Yes                     |\n",
    "| a    | Append-only (append or create)       | End of the file       | Yes                        | No                      |\n",
    "| a+   | Append and read (append or create)   | End of the file       | Yes                        | No                      |\n",
    "\n",
    "*File Pointer Position: where operation begins*"
   ]
  },
  {
   "cell_type": "markdown",
   "id": "042ffe80-83ff-42ac-bd90-06b60e14ab32",
   "metadata": {
    "editable": true,
    "slideshow": {
     "slide_type": ""
    },
    "tags": []
   },
   "source": [
    "### 2.2.1. Text Files\n",
    "The simplest of files, basically read something as a string. Can be used for most files that contain text such as *.txt*, *.py*, etc."
   ]
  },
  {
   "cell_type": "code",
   "execution_count": 47,
   "id": "befd320a-7f05-407f-9569-84564c78787b",
   "metadata": {
    "editable": true,
    "slideshow": {
     "slide_type": ""
    },
    "tags": []
   },
   "outputs": [
    {
     "name": "stdout",
     "output_type": "stream",
     "text": [
      "maria\n",
      "ate an apple\n",
      "pie for breakfast\n"
     ]
    }
   ],
   "source": [
    "# Reading\n",
    "with open(\"document.txt\", mode=\"r\") as f:\n",
    "    print(f.read())"
   ]
  },
  {
   "cell_type": "code",
   "execution_count": 48,
   "id": "965f8325-20e6-4406-9bc8-386007f4a44d",
   "metadata": {
    "editable": true,
    "slideshow": {
     "slide_type": ""
    },
    "tags": []
   },
   "outputs": [],
   "source": [
    "# Writing\n",
    "with open('new_document.txt', mode='w') as f:\n",
    "    f.write(\"I just learned how to deal with files in python\")"
   ]
  },
  {
   "cell_type": "markdown",
   "id": "67a6073c-a119-4257-8c6d-cc91355aa860",
   "metadata": {},
   "source": [
    "---\n",
    "__The Cursor:__ When operating with files, we must be aware of the concept of the cursor. It is essentially the position of a file that Python will use when handling files. When you read a file using `read()` for the first time, the cursor will start at the beginning of the file and finish at the end of the file. That means that *if you read() again*, the cursor will already be at the __end__ of the file. \n",
    "\n",
    "You can imagine then, that when you are appending something to a file, the cursor is placed at the *end*, from which it will start writing the new content.\n",
    "\n",
    "To mess around with the cursor, we can make use of the function `seek()`, although it is relatively uncommon."
   ]
  },
  {
   "cell_type": "code",
   "execution_count": 49,
   "id": "ce98f5d6-f517-4737-adda-32dffcd4f746",
   "metadata": {},
   "outputs": [
    {
     "name": "stdout",
     "output_type": "stream",
     "text": [
      "\n"
     ]
    }
   ],
   "source": [
    "with open(\"document.txt\", mode=\"r\") as f:\n",
    "    content = f.read() # start cursor at beginning and place it at the end\n",
    "    \n",
    "    new_contents = f.read() # starts cursor at the end -> nothing left to read\n",
    "\n",
    "print(new_contents) # won't print anything because second read() will have the cursor at the end of the file"
   ]
  },
  {
   "cell_type": "code",
   "execution_count": 50,
   "id": "3204e6b2-b2c2-4f98-bb00-bc299ce67c08",
   "metadata": {},
   "outputs": [
    {
     "name": "stdout",
     "output_type": "stream",
     "text": [
      "maria\n",
      "ate an apple\n",
      "pie for breakfast\n"
     ]
    }
   ],
   "source": [
    "with open(\"document.txt\", mode=\"r\") as f:\n",
    "    content = f.read()\n",
    "    f.seek(0) # tell the cursor to get to the beginning of the file\n",
    "    new_contents = f.read()\n",
    "\n",
    "print(new_contents) # now we will have read the file twice"
   ]
  },
  {
   "cell_type": "markdown",
   "id": "a960c1a5-24ba-480f-8714-cc90039d1769",
   "metadata": {},
   "source": [
    "___\n",
    "__Other Reading Methods__ There are other reading methods that we can use. All of them follow the same rule of starting wherever the *cursor* is at.\n",
    "\n",
    "- `readlines()` is used to read __all__ lines from a file and placing them in a list\n",
    "- `readline()` will basically read the document one line at the time, using the cursor as its placemarker\n",
    "\n",
    "You will notice that some of the lines contain the newline character (`\\n`). This is normal and expected. The same happens with `read()` although since that returns a string, the `print()` function will simply output the correct format."
   ]
  },
  {
   "cell_type": "code",
   "execution_count": 51,
   "id": "b8508319-9b07-4a17-996d-3833b711b2e4",
   "metadata": {},
   "outputs": [
    {
     "name": "stdout",
     "output_type": "stream",
     "text": [
      "['maria\\n', 'ate an apple\\n', 'pie for breakfast']\n"
     ]
    }
   ],
   "source": [
    "# Readlines will read line by line\n",
    "with open(\"document.txt\", mode=\"r\") as f:\n",
    "    content = f.readlines()\n",
    "\n",
    "print(content)"
   ]
  },
  {
   "cell_type": "code",
   "execution_count": 52,
   "id": "269a7e76-4d2b-49e0-b539-1fe1ce114275",
   "metadata": {},
   "outputs": [
    {
     "name": "stdout",
     "output_type": "stream",
     "text": [
      "maria\n",
      "\n",
      "ate an apple\n",
      "\n",
      "pie for breakfast\n"
     ]
    }
   ],
   "source": [
    "# Readline will use the cursor to get one line at a time (i.e, each call will read the subsequent line)\n",
    "with open(\"document.txt\", mode=\"r\") as f:\n",
    "    first_line = f.readline()\n",
    "    second_line = f.readline()\n",
    "    third_line = f.readline()\n",
    "\n",
    "print(first_line)\n",
    "\n",
    "print(second_line)\n",
    "\n",
    "print(third_line)"
   ]
  },
  {
   "cell_type": "code",
   "execution_count": 53,
   "id": "c1d33b16-85ca-4db7-9c2a-4dad1bc30c1e",
   "metadata": {},
   "outputs": [
    {
     "name": "stdout",
     "output_type": "stream",
     "text": [
      "maria\n",
      "\n",
      "maria\n",
      "\n"
     ]
    }
   ],
   "source": [
    "# As you can probably imagine, we can send the cursor back to the beginning to have readline() read the first line again\n",
    "with open(\"document.txt\", mode=\"r\") as f:\n",
    "    first_line = f.readline()\n",
    "    f.seek(0)\n",
    "    second_line = f.readline()\n",
    "\n",
    "print(first_line)\n",
    "\n",
    "print(second_line)"
   ]
  },
  {
   "cell_type": "markdown",
   "id": "9c703ab7-be8b-480f-b3ce-53f094d9d466",
   "metadata": {
    "editable": true,
    "slideshow": {
     "slide_type": ""
    },
    "tags": []
   },
   "source": [
    "### 2.2.2. Binary Files (pickle example)\n",
    "Some files are more code than text. Bytes in Python are expressed as hexadecimal strings prefixed by the character \"b\", and generally are not readable by humans (e.g. `b\"\\x00\\x01\\x00\\xc0\\x01\\x00\\x00\\x00\\x04\"`).\n",
    "\n",
    "Similar to the usage of `+` to extend permissions, we can add `b` to indicate to `open()` that the file it is handling should be treated as containing bytes. Examples of bytes being used in Python is under certain messaging protocols (e.g. Kafka), storing old machine learning models (we have since moved into more framework-specific methods), and storing objects.\n",
    "\n",
    "The example below will show you how to write and read a list of `Student` objects that we define. We will store them using the `pickle` module, which  implements binary protocols for serializing and deserializing a Python object structure.\n",
    "\n",
    "__warning:__ NEVER use pickle to deserialize data that you do not trust!"
   ]
  },
  {
   "cell_type": "code",
   "execution_count": 54,
   "id": "61e4a399-59c0-45f4-8cfa-5e1c72417f7c",
   "metadata": {
    "editable": true,
    "slideshow": {
     "slide_type": ""
    },
    "tags": []
   },
   "outputs": [],
   "source": [
    "class Student:\n",
    "    def __init__(self, name: str, age: int):\n",
    "        self.name = name\n",
    "        self.age = age\n",
    "        \n",
    "    def __str__(self):\n",
    "        return f\"Student(name={self.name}, age={self.age})\"\n",
    "\n",
    "student_list = [\n",
    "    Student(name=\"John\", age=20), \n",
    "    Student(name=\"Mary\", age=25),\n",
    "]"
   ]
  },
  {
   "cell_type": "code",
   "execution_count": 55,
   "id": "214f5bea-fd25-4532-b684-3d068e6e284b",
   "metadata": {
    "editable": true,
    "slideshow": {
     "slide_type": ""
    },
    "tags": []
   },
   "outputs": [],
   "source": [
    "import pickle"
   ]
  },
  {
   "cell_type": "code",
   "execution_count": 56,
   "id": "f1891cba-0d53-4bea-a5a6-ffe19b1b3e83",
   "metadata": {
    "editable": true,
    "slideshow": {
     "slide_type": ""
    },
    "tags": []
   },
   "outputs": [],
   "source": [
    "with open(\"StudentList.pkl\", \"wb\") as file:\n",
    "    pickle.dump(student_list, file)"
   ]
  },
  {
   "cell_type": "code",
   "execution_count": 57,
   "id": "70fd6304-c826-43c9-9e93-a24a9ac733d2",
   "metadata": {
    "editable": true,
    "slideshow": {
     "slide_type": ""
    },
    "tags": []
   },
   "outputs": [
    {
     "name": "stdout",
     "output_type": "stream",
     "text": [
      "Student(name=John, age=20)\n",
      "Student(name=Mary, age=25)\n"
     ]
    }
   ],
   "source": [
    "with open(\"StudentList.pkl\", \"rb\") as file:\n",
    "    contents = pickle.load(file)\n",
    "\n",
    "for student in contents:\n",
    "    print(student)  # we are going to make use of the __str__ method to pretty print the class"
   ]
  },
  {
   "cell_type": "markdown",
   "id": "cc557ac5-81dd-4db4-b8a3-2b115c6e1d93",
   "metadata": {
    "editable": true,
    "slideshow": {
     "slide_type": ""
    },
    "tags": []
   },
   "source": [
    "---\n",
    "What happens if you try to read a BYTES file as a TEXT file?"
   ]
  },
  {
   "cell_type": "code",
   "execution_count": 58,
   "id": "3fd78a2d-ff21-4e71-a742-176ec0107685",
   "metadata": {
    "editable": true,
    "slideshow": {
     "slide_type": ""
    },
    "tags": [
     "raises-exception"
    ]
   },
   "outputs": [
    {
     "ename": "UnicodeDecodeError",
     "evalue": "'utf-8' codec can't decode byte 0x80 in position 0: invalid start byte",
     "output_type": "error",
     "traceback": [
      "\u001b[0;31m---------------------------------------------------------------------------\u001b[0m",
      "\u001b[0;31mUnicodeDecodeError\u001b[0m                        Traceback (most recent call last)",
      "Cell \u001b[0;32mIn[58], line 3\u001b[0m\n\u001b[1;32m      1\u001b[0m \u001b[38;5;66;03m# You will see here that just reading the file as if were a text file will not work\u001b[39;00m\n\u001b[1;32m      2\u001b[0m \u001b[38;5;28;01mwith\u001b[39;00m \u001b[38;5;28mopen\u001b[39m(\u001b[38;5;124m\"\u001b[39m\u001b[38;5;124mStudentList.pkl\u001b[39m\u001b[38;5;124m\"\u001b[39m, \u001b[38;5;124m\"\u001b[39m\u001b[38;5;124mr\u001b[39m\u001b[38;5;124m\"\u001b[39m) \u001b[38;5;28;01mas\u001b[39;00m file:\n\u001b[0;32m----> 3\u001b[0m     contents \u001b[38;5;241m=\u001b[39m \u001b[43mfile\u001b[49m\u001b[38;5;241;43m.\u001b[39;49m\u001b[43mread\u001b[49m\u001b[43m(\u001b[49m\u001b[43m)\u001b[49m\n",
      "File \u001b[0;32m<frozen codecs>:322\u001b[0m, in \u001b[0;36mdecode\u001b[0;34m(self, input, final)\u001b[0m\n",
      "\u001b[0;31mUnicodeDecodeError\u001b[0m: 'utf-8' codec can't decode byte 0x80 in position 0: invalid start byte"
     ]
    }
   ],
   "source": [
    "# You will see here that just reading the file as if were a text file will not work\n",
    "with open(\"StudentList.pkl\", \"r\") as file:\n",
    "    contents = file.read()"
   ]
  },
  {
   "cell_type": "markdown",
   "id": "bd9ce3d7-14d1-436f-bde3-7611af1a08ea",
   "metadata": {
    "editable": true,
    "slideshow": {
     "slide_type": ""
    },
    "tags": []
   },
   "source": [
    "### 2.2.3. JSON Files\n",
    "Believe it or not, most valid JSON files can be read straight into Python dictionaries/lists. There can be some weird results with single-quotes being used, but you can essentially read/write JSON files using the `json` module."
   ]
  },
  {
   "cell_type": "code",
   "execution_count": 59,
   "id": "b879768e-b83e-4172-88be-5ff47307a72f",
   "metadata": {
    "editable": true,
    "slideshow": {
     "slide_type": ""
    },
    "tags": []
   },
   "outputs": [],
   "source": [
    "test_dict = {\n",
    "    \"year\": 2024,\n",
    "    \"students\": [\n",
    "        {\"name\": \"John\", \"age\": 20},\n",
    "        {\"name\": \"Mary\", \"age\": 25},\n",
    "    ]\n",
    "}"
   ]
  },
  {
   "cell_type": "code",
   "execution_count": 60,
   "id": "cf664ad4-13a7-41ad-a86b-d06542bcaff7",
   "metadata": {
    "editable": true,
    "slideshow": {
     "slide_type": ""
    },
    "tags": []
   },
   "outputs": [],
   "source": [
    "import json"
   ]
  },
  {
   "cell_type": "code",
   "execution_count": 61,
   "id": "659ef233-e5ea-42e2-8136-77005f09868b",
   "metadata": {
    "editable": true,
    "slideshow": {
     "slide_type": ""
    },
    "tags": []
   },
   "outputs": [],
   "source": [
    "with open(\"students.json\", \"w\") as file:\n",
    "    json.dump(test_dict, file)"
   ]
  },
  {
   "cell_type": "code",
   "execution_count": 62,
   "id": "72a9f020-ea11-4aac-86e1-79ee32f1ff21",
   "metadata": {
    "editable": true,
    "slideshow": {
     "slide_type": ""
    },
    "tags": []
   },
   "outputs": [
    {
     "name": "stdout",
     "output_type": "stream",
     "text": [
      "<class 'dict'>\n",
      "{'year': 2024, 'students': [{'name': 'John', 'age': 20}, {'name': 'Mary', 'age': 25}]}\n",
      "[{'name': 'John', 'age': 20}, {'name': 'Mary', 'age': 25}]\n"
     ]
    }
   ],
   "source": [
    "with open(\"students.json\", \"r\") as file:\n",
    "    contents = json.load(file)\n",
    "\n",
    "print(type(contents))\n",
    "\n",
    "print(contents)\n",
    "\n",
    "print(contents[\"students\"])"
   ]
  },
  {
   "cell_type": "markdown",
   "id": "12067fa7-f502-45c3-af90-1d5cf7e30df8",
   "metadata": {
    "editable": true,
    "slideshow": {
     "slide_type": ""
    },
    "tags": []
   },
   "source": [
    "---\n",
    "What happens if you try to read a JSON file as a TEXT file?"
   ]
  },
  {
   "cell_type": "code",
   "execution_count": 63,
   "id": "2658298c-20c7-41d7-8fe7-d8a20e70ac98",
   "metadata": {
    "editable": true,
    "slideshow": {
     "slide_type": ""
    },
    "tags": []
   },
   "outputs": [
    {
     "name": "stdout",
     "output_type": "stream",
     "text": [
      "<class 'str'>\n",
      "{\"year\": 2024, \"students\": [{\"name\": \"John\", \"age\": 20}, {\"name\": \"Mary\", \"age\": 25}]}\n"
     ]
    }
   ],
   "source": [
    "# While you can read a JSON file like a text file, you will get a STRING back, instead of a DICTIONARY\n",
    "with open(\"students.json\", \"r\") as file:\n",
    "    contents = file.read()\n",
    "\n",
    "print(type(contents))\n",
    "\n",
    "print(contents)"
   ]
  },
  {
   "cell_type": "markdown",
   "id": "e5a9268f-beab-49bb-8884-e5a3373724f1",
   "metadata": {
    "editable": true,
    "slideshow": {
     "slide_type": ""
    },
    "tags": []
   },
   "source": [
    "## 2.3. Bonus Section: Working with Pathlib\n",
    "\n",
    "As you have seen in the past few examples, working with files involves a lot of strings representing the paths to the files. In reality, during your developer journey will have you working with more complex file structures that will require some external help from modules (you will learn about these later on).\n",
    "\n",
    "Working with paths is a quick way to start having problems. Sometimes its because a function is expecting a path a certain way, others it is because we have provided an incorrect path. \n",
    "\n",
    "The `os` module has been the traditional go-to tool for dealing with paths and files. However, it has (as of Python version 3.6) been surpassed by an even better module called `pathlib`, namely, with its `Path` structure."
   ]
  },
  {
   "cell_type": "markdown",
   "id": "68cbcbed-7fa1-4715-8c1b-467588967c08",
   "metadata": {},
   "source": [
    "<center><img src=\"./media/best_practices.png\" width=\"500\"/><center>"
   ]
  },
  {
   "cell_type": "code",
   "execution_count": 64,
   "id": "cc403c33-fb44-43e3-9869-0f4c6477938c",
   "metadata": {},
   "outputs": [],
   "source": [
    "# some imports to get our tools ready\n",
    "import os\n",
    "import os.path\n",
    "\n",
    "from pathlib import Path"
   ]
  },
  {
   "cell_type": "markdown",
   "id": "f04c6a68-b125-4331-ac2c-281753cc7fb4",
   "metadata": {},
   "source": [
    "### 2.3.1. The Path Structure\n",
    "When working with paths, the `os` module will work exclusively with *strings*. But we are working with paths and files, not strings!\\\n",
    "Sure, we can use strings to represent paths but then we have to pass these strings to other functions that will actually do the work of decoding the strings. \n",
    "\n",
    "The `Path` structure encapsulates (i.e, represents) a lot of path-specific functionality, allowing for cleaner, more readable, and maintainable code. One of the __key__ aspects of Python is that the code is supposed to be *as readable as possible*!"
   ]
  },
  {
   "cell_type": "code",
   "execution_count": 65,
   "id": "e27d9296-4ac9-4f78-be47-d6db67e4eb2f",
   "metadata": {},
   "outputs": [
    {
     "data": {
      "text/plain": [
       "PosixPath('/mnt/c/Users/Nuno/Documents/Projects/ds-prep-course-instructors-2024/Week 06/SLU11 - String & File Handling')"
      ]
     },
     "execution_count": 65,
     "metadata": {},
     "output_type": "execute_result"
    }
   ],
   "source": [
    "Path.cwd()"
   ]
  },
  {
   "cell_type": "markdown",
   "id": "4746ea24-6c01-4f68-9d88-d2054e6dd66e",
   "metadata": {},
   "source": [
    "One of the easiest ways to make a mistake when working with paths is when you try to build them as strings. The naive way of doing things is to simply join things as a string, such as with the `str.join()` method we learned earlier. The other, more traditional way is to use the `os.path` module to have a function that, in theory, is specifically geared to work with paths.\n",
    "\n",
    "Let's take a look at an example using both of the aforementioned techniques and compare them with `Path`.\n",
    "\n",
    "__Example Statement:__ \n",
    "We want to join three paths, \n",
    "- `hello`\n",
    "- `world/`\n",
    "- `file.txt`\n",
    "These paths represent a *parent/child* directories and a filename.\\\n",
    "We want, therefore, to receive the full path `hello/world/file.txt`."
   ]
  },
  {
   "cell_type": "markdown",
   "id": "0d14a576-0961-489f-9fd1-9ba7e5e01f73",
   "metadata": {},
   "source": [
    "---\n",
    "__Using str.join()__\n",
    "\n",
    "We will start by using the `/` string as separator to the `str.join()` function that receives all elements in a list."
   ]
  },
  {
   "cell_type": "code",
   "execution_count": 66,
   "id": "1980ddcb-84c3-45ac-b28b-3398c8d4105e",
   "metadata": {},
   "outputs": [
    {
     "name": "stdout",
     "output_type": "stream",
     "text": [
      "hello/world//file.txt\n"
     ]
    }
   ],
   "source": [
    "path = \"/\".join([\"hello\", \"world/\", \"file.txt\"])\n",
    "print(path)"
   ]
  },
  {
   "cell_type": "markdown",
   "id": "baa4130a-ff51-41fb-afa1-4e624b8515fd",
   "metadata": {},
   "source": [
    "Oh dear, it seems we have an extra `/` between the first two elements! We might have just introduced a bug in our code by providing the wrong path...\\\n",
    "*Note* that simply removing the `/` from `/world` will not solve all cases because one of the elements might need it!"
   ]
  },
  {
   "cell_type": "code",
   "execution_count": 67,
   "id": "b02985fb-08ef-4d83-9436-a508667f395a",
   "metadata": {},
   "outputs": [
    {
     "name": "stdout",
     "output_type": "stream",
     "text": [
      "srchello/world/file.txt\n"
     ]
    }
   ],
   "source": [
    "edge_case_elements = [\"src/hello\", \"world/\", \"file.txt\"]\n",
    "\n",
    "path = \"/\".join([element.replace(\"/\", \"\") for element in edge_case_elements]) # beyond just making code more complex, it is also wrong\n",
    "\n",
    "print(path) # we will have wrongly removed the / from src/hello"
   ]
  },
  {
   "cell_type": "markdown",
   "id": "d7b12fcc-509c-4993-908d-83a674f1eaf4",
   "metadata": {},
   "source": [
    "---\n",
    "__Using os.path.join()__"
   ]
  },
  {
   "cell_type": "code",
   "execution_count": 68,
   "id": "36f7c835-bcc1-4449-93d9-049b833f9aa2",
   "metadata": {},
   "outputs": [
    {
     "name": "stdout",
     "output_type": "stream",
     "text": [
      "hello/world/file.txt\n"
     ]
    }
   ],
   "source": [
    "path = os.path.join(\"hello\", \"world/\", \"file.txt\")\n",
    "print(path)"
   ]
  },
  {
   "cell_type": "markdown",
   "id": "fbfa01b5-ef32-4456-b9d9-60142acd8805",
   "metadata": {},
   "source": [
    "But now if we wanted to get the path to the parent directory of the file (let's say you received multiple lists of paths and have to automate things), then we would have to play around with string/list manipulation:"
   ]
  },
  {
   "cell_type": "code",
   "execution_count": 69,
   "id": "5e11f317-edc3-433c-a36a-1a895da625b2",
   "metadata": {},
   "outputs": [
    {
     "name": "stdout",
     "output_type": "stream",
     "text": [
      "hello/world\n"
     ]
    }
   ],
   "source": [
    "split_path = path.rsplit(\"/\", maxsplit=1)[0]\n",
    "print(split_path)"
   ]
  },
  {
   "cell_type": "markdown",
   "id": "bc2ea702-5978-4716-85fc-7cae4292e739",
   "metadata": {},
   "source": [
    "---\n",
    "__Using Path__\n",
    "\n",
    "Since `Path` is __specifically__ tailored to paths, it has a whole host of functionality encapsulated in itself.\n",
    "\n",
    "Here we will even use the `/` operator that allows you to iteratively build paths similar to how to can concatenate lists or strings. The `/` operator has been overloaded in the `Path` structure to be able to join a `Path` (hence `Path(\"hello\")`) to a string, returning another `Path`. This saves a lot of trouble as opposed to working exclusively with strings."
   ]
  },
  {
   "cell_type": "code",
   "execution_count": 70,
   "id": "774d101c-4d88-43ce-b090-f17e9e1edbba",
   "metadata": {},
   "outputs": [
    {
     "name": "stdout",
     "output_type": "stream",
     "text": [
      "hello/world/file.txt\n"
     ]
    }
   ],
   "source": [
    "path = Path(\"hello\") / \"world/\" / \"file.txt\"\n",
    "print(path)"
   ]
  },
  {
   "cell_type": "markdown",
   "id": "eb260d2e-7d9f-45c5-b88e-aa4710a28da5",
   "metadata": {},
   "source": [
    "And now let's try the example of getting the parent directories of `file.txt`:"
   ]
  },
  {
   "cell_type": "code",
   "execution_count": 71,
   "id": "7a1e20eb-d31e-4025-9ad1-397964ee954c",
   "metadata": {},
   "outputs": [
    {
     "name": "stdout",
     "output_type": "stream",
     "text": [
      "hello/world\n"
     ]
    }
   ],
   "source": [
    "print(path.parent)"
   ]
  },
  {
   "cell_type": "markdown",
   "id": "53cc4d29-b73a-4ad2-9213-3830a40e5250",
   "metadata": {},
   "source": [
    "### 2.3.2. Improving Readability\n",
    "\n",
    "By using the `Path` structure we might actually improve our readability. Here's why:\n",
    "\n",
    "- Using the `os` module to work with paths might force you to actually use two modules from it: `os` and `os.path`.\n",
    "- The `os` module functions work primarily with strings and return strings\n",
    "  - This means that you must *feed* the output of one function to another\n",
    "  - Which means that you need to read the code in-to-out, in order to understand what is happening\n",
    "- Using `os.path` can make your code very *verbose* (i.e, lots of text)"
   ]
  },
  {
   "cell_type": "code",
   "execution_count": 72,
   "id": "949792d7-2b7e-4fae-b3a9-7462f0c9fd04",
   "metadata": {},
   "outputs": [
    {
     "name": "stdout",
     "output_type": "stream",
     "text": [
      "/mnt/c/Users/Nuno/Documents/Projects/ds-prep-course-instructors-2024\n"
     ]
    }
   ],
   "source": [
    "base_dir = os.path.dirname(os.path.dirname(os.path.abspath(\".\")))\n",
    "\n",
    "base_dir_contents = os.listdir(base_dir) # notice we use os, not os.path, which might add to the confusion\n",
    "\n",
    "print(base_dir)"
   ]
  },
  {
   "cell_type": "markdown",
   "id": "fc9984f1-0fe7-499f-a657-2a88ef659318",
   "metadata": {},
   "source": [
    "To read the `base_dir` code we have to start in the inner-most portion and work our way out:\n",
    "- `\".\"` is the relative path to the current directory\n",
    "- `os.path.abspath(\".\")` gives us the absolute path to the current directory\n",
    "- `os.path.dirname(os.path.abspath(\".\"))` gives us the parent directory of the absolute path we got\n",
    "- `os.path.dirname(os.path.dirname(os.path.abspath(\".\")))` gives us the parent directory of the previous directory\n",
    "\n",
    "To add to the complication, let's list the names of the contents in the the final directory. This, however, is achieved with `os.listdir()` which is outside of `os.path`, which just makes things more confusing."
   ]
  },
  {
   "cell_type": "code",
   "execution_count": 73,
   "id": "523e7a73-feee-46bc-8d85-bf6e028ccf78",
   "metadata": {},
   "outputs": [
    {
     "name": "stdout",
     "output_type": "stream",
     "text": [
      ".git\n",
      ".github\n",
      ".gitignore\n",
      ".python-version\n",
      "assets\n",
      "LICENSE\n",
      "README.md\n",
      "requirements.txt\n",
      "venv\n",
      "Week 00\n",
      "Week 01\n",
      "Week 02\n",
      "Week 03\n",
      "Week 04\n",
      "Week 05\n",
      "Week 06\n",
      "Week 07\n",
      "Week 08\n",
      "Week 09\n",
      "Week 10\n",
      "Week 11\n"
     ]
    }
   ],
   "source": [
    "for content in base_dir_contents:\n",
    "    print(content)"
   ]
  },
  {
   "cell_type": "markdown",
   "id": "47673175-8129-4795-8da6-9012ef13bdf3",
   "metadata": {},
   "source": [
    "---\n",
    "Now let us use `Path` to solve the exact same problem.\n",
    "\n",
    "Unlike `os` and `os.path`, `Path` functions return other `Path` functions. This means we can write our code sequentially, readable from left-to-right."
   ]
  },
  {
   "cell_type": "code",
   "execution_count": 74,
   "id": "c833e2df-bb1c-406f-9488-1f50fa9e577a",
   "metadata": {},
   "outputs": [
    {
     "name": "stdout",
     "output_type": "stream",
     "text": [
      "/mnt/c/Users/Nuno/Documents/Projects/ds-prep-course-instructors-2024\n"
     ]
    }
   ],
   "source": [
    "base_dir = Path().absolute().parent.parent\n",
    "base_dir_contents = base_dir.iterdir()\n",
    "\n",
    "print(base_dir)"
   ]
  },
  {
   "cell_type": "markdown",
   "id": "fbad4638-dc14-4bf1-a61e-557e7a93df92",
   "metadata": {},
   "source": [
    "From left to right, we have:\n",
    "\n",
    "- `Path()` which defaults to `Path(\".\")`\n",
    "- `Path().absolute()` which resolves gets the absolute path of the result of `Path()`\n",
    "- `Path().absolute().parent` gets the parent path of the absolute path\n",
    "- `Path().absolute().parent.parent` gets the parent of the parent of the absolute path\n",
    "\n",
    "Instead of calling another module, we will be able to list the contents using functions encapsulated in the `Path` structure (here we use `Path.name` to emulate the response of `os.listdir()`, otherwise we would get the absolute paths of each)."
   ]
  },
  {
   "cell_type": "code",
   "execution_count": 75,
   "id": "a5edf61c-7b49-4d18-979c-6e040913083e",
   "metadata": {
    "editable": true,
    "slideshow": {
     "slide_type": ""
    },
    "tags": []
   },
   "outputs": [
    {
     "name": "stdout",
     "output_type": "stream",
     "text": [
      ".git\n",
      ".github\n",
      ".gitignore\n",
      ".python-version\n",
      "assets\n",
      "LICENSE\n",
      "README.md\n",
      "requirements.txt\n",
      "venv\n",
      "Week 00\n",
      "Week 01\n",
      "Week 02\n",
      "Week 03\n",
      "Week 04\n",
      "Week 05\n",
      "Week 06\n",
      "Week 07\n",
      "Week 08\n",
      "Week 09\n",
      "Week 10\n",
      "Week 11\n"
     ]
    }
   ],
   "source": [
    "for content in base_dir_contents:\n",
    "    print(content.name)"
   ]
  },
  {
   "cell_type": "markdown",
   "id": "ff0743ef-0590-4e9c-ba41-e2cb465e56db",
   "metadata": {},
   "source": [
    "## Wrapping Up\n",
    "\n",
    "Phew! Looks like we are done learning for this SLU.\n",
    "\n",
    "This notebook focused primarily in teaching you two things:\n",
    "- What `Exceptions` are, and how to deal with them\n",
    "- How to read/write files in different formats\n",
    "\n",
    "As a bonus, we also briefly showed you notions of the `pathlib` module, which opens up a huge amount of tools specific for working with paths.\n",
    "\n",
    "Now that you have gone through both notebooks, go ahead and jump into the Exercise notebooks where you will put what you learned into practice!"
   ]
  }
 ],
 "metadata": {
  "kernelspec": {
   "display_name": "Python 3 (ipykernel)",
   "language": "python",
   "name": "python3"
  },
  "language_info": {
   "codemirror_mode": {
    "name": "ipython",
    "version": 3
   },
   "file_extension": ".py",
   "mimetype": "text/x-python",
   "name": "python",
   "nbconvert_exporter": "python",
   "pygments_lexer": "ipython3",
   "version": "3.11.8"
  }
 },
 "nbformat": 4,
 "nbformat_minor": 5
}
