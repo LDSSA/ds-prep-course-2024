{
 "cells": [
  {
   "cell_type": "markdown",
   "id": "e2c95699-4cdf-42ef-b411-fa8b3e6be273",
   "metadata": {},
   "source": [
    "# SLU11 | Part 1 | String Manipulation"
   ]
  },
  {
   "cell_type": "markdown",
   "id": "fcddf520-36f5-4b09-9bdd-90c8c14d9e87",
   "metadata": {},
   "source": [
    "### Table of Contents\n",
    "[1. Strings](#1.-Strings)\\\n",
    "&emsp;[1.1. Building Strings](#1.1.-Building-Strings)\\\n",
    "&emsp;&emsp;[1.1.1. Basics](#1.1.1.-Basics)\\\n",
    "&emsp;&emsp;&emsp;[1.1.1.1. Multi-line strings](#1.1.1.1.-Multi\\-line-strings)\\\n",
    "&emsp;&emsp;&emsp;[1.1.1.2. Quotes inside strings](#1.1.1.2.-Quotes-inside-strings)\\\n",
    "&emsp;&emsp;[1.1.2. Conversion](#1.1.2.-Conversion)\\\n",
    "&emsp;&emsp;[1.1.3. Formatting](#1.1.3.-Formatting)\\\n",
    "&emsp;&emsp;&emsp;[1.1.3.1. f-strings](#1.1.3.1.-f\\-strings)\\\n",
    "&emsp;&emsp;&emsp;[1.1.3.2. The .format() method](#1.1.3.2.-The-.format()-method)\\\n",
    "&emsp;&emsp;&emsp;[1.1.3.3. Bonus - Beyond the Basics](#1.1.3.3.-Bonus-\\--Beyond-the-Basics)\\\n",
    "&emsp;[1.2. Built-In String Methods](#1.2.-Built\\-In-String-Methods)\\\n",
    "&emsp;&emsp;[1.2.1. Strings are Arrays](#1.2.1.-Strings-are-Arrays)\\\n",
    "&emsp;&emsp;&emsp;[1.2.1.1. Membership Methods](#1.2.1.1.-Membership-Methods)\\\n",
    "&emsp;&emsp;&emsp;[1.2.1.2. Substring and Slicing](#1.2.1.2.-Substring-and-Slicing)\\\n",
    "&emsp;&emsp;&emsp;[1.2.1.3. Concatenation and Repetition](#1.2.1.3.-Concatenation-and-Repetition)\\\n",
    "&emsp;&emsp;&emsp;[1.2.1.4. Sizes](#1.2.1.4.-Sizes)\\\n",
    "&emsp;&emsp;[1.2.2. Strings are Strings](#1.2.2.-Strings-are-Strings)\\\n",
    "&emsp;&emsp;&emsp;[1.2.2.1. Boolean Tests](#1.2.2.1.-Boolean-Tests)\\\n",
    "&emsp;&emsp;&emsp;[1.2.2.2. Normalisers](#1.2.2.2.-Normalisers)\\\n",
    "&emsp;&emsp;&emsp;[1.2.2.3. Cleaners](#1.2.2.3.-Cleaners)\\\n",
    "&emsp;&emsp;[1.2.3. Strings are Strings AND Arrays](#1.2.3.-Strings-are-Strings-AND-Arrays)\\\n",
    "&emsp;&emsp;&emsp;[1.2.3.1. Split](#1.2.3.1.-Split)\\\n",
    "&emsp;&emsp;&emsp;[1.2.3.2. Join](#1.2.3.2.-Join)\n",
    "\n",
    "[2. Regular Expressions](#2.-Regular-Expressions)\\\n",
    "&emsp;[2.1. RegEx Basics](#2.1.-RegEx-Basics)\\\n",
    "&emsp;&emsp;[2.1.1. Metacharacters](#2.1.1.-Metacharacters)\\\n",
    "&emsp;&emsp;[2.1.2. Special Sequences](#2.1.2.-Special-Sequences)\\\n",
    "&emsp;&emsp;[2.1.3. Character Sets](#2.1.3.-Character-Sets)\\\n",
    "&emsp;[2.2. Using Regex](#2.2.-Using-RegEx)\\\n",
    "&emsp;&emsp;[2.2.1. RegEx Functions](#2.2.1.-RegEx-Functions)\\\n",
    "&emsp;&emsp;[2.2.2. Examples of Regular Expression Usage](#2.2.2.-Examples-of-Regular-Expression-Usage)\\\n",
    "&emsp;&emsp;&emsp;[2.2.2.1. Matching Characters](#2.2.2.1.-Matching-Characters)\\\n",
    "&emsp;&emsp;&emsp;[2.2.2.2. Dot](#2.2.2.2.-Dot)\\\n",
    "&emsp;&emsp;&emsp;[2.2.2.3. Start and End of String](#2.2.2.3.-Start-and-End-of-String)\\\n",
    "&emsp;&emsp;&emsp;[2.2.2.4. Sequence Sets](#2.2.2.4.-Sequence-Sets)\\\n",
    "&emsp;&emsp;&emsp;[2.2.2.5. Quantifiers](#2.2.2.5.-Quantifiers)\\\n",
    "&emsp;&emsp;&emsp;[2.2.2.6. Special Sequences](#2.2.2.6.-Special-Sequences)\\\n",
    "&emsp;&emsp;&emsp;[2.2.2.7. Capture Groups](#2.2.2.7.-Capture-Groups)\\\n",
    "&emsp;&emsp;[2.2.3. Match Object](#2.2.3.-Match-Object)"
   ]
  },
  {
   "cell_type": "markdown",
   "id": "0945b6db-dc9d-43e0-868b-68697bdee13e",
   "metadata": {},
   "source": [
    "# 1. Strings"
   ]
  },
  {
   "cell_type": "markdown",
   "id": "c976d94e-f27c-410a-abcc-4fc5824d9680",
   "metadata": {},
   "source": [
    "> __\"Our new Constitution is now established, and has an appearance that promises permanency; but in this world nothing can be said to be certain, except death, taxes, and messy string variables.\"__ - Benjamin Franklin, 1789\n",
    "\n",
    "\n",
    "### print(\"Hello World\")"
   ]
  },
  {
   "cell_type": "code",
   "execution_count": 1,
   "id": "627fc26d-39f9-47bf-93e6-482cecc597ff",
   "metadata": {},
   "outputs": [
    {
     "name": "stdout",
     "output_type": "stream",
     "text": [
      "\n",
      "01010111 01100101 01101100 01100011 01101111 \n",
      "01101101 01100101 00100000 01110100 01101111 \n",
      "00100000 01110100 01101000 01100101 00100000 \n",
      "01110111 01101111 01101110 01100100 01100101 \n",
      "01110010 01100110 01110101 01101100 00100000 \n",
      "01110111 01101111 01110010 01101100 01100100 \n",
      "00100000 01101111 01100110 00100000 01010011 \n",
      "01110100 01110010 01101001 01101110 01100111 \n",
      "00100000 01001101 01100001 01101110 01101001 \n",
      "01110000 01110101 01101100 01100001 01110100 \n",
      "01101001 01101111 01101110 00100001 00100001\n",
      "\n"
     ]
    }
   ],
   "source": [
    "welcome = \"\"\"\n",
    "01010111 01100101 01101100 01100011 01101111 \n",
    "01101101 01100101 00100000 01110100 01101111 \n",
    "00100000 01110100 01101000 01100101 00100000 \n",
    "01110111 01101111 01101110 01100100 01100101 \n",
    "01110010 01100110 01110101 01101100 00100000 \n",
    "01110111 01101111 01110010 01101100 01100100 \n",
    "00100000 01101111 01100110 00100000 01010011 \n",
    "01110100 01110010 01101001 01101110 01100111 \n",
    "00100000 01001101 01100001 01101110 01101001 \n",
    "01110000 01110101 01101100 01100001 01110100 \n",
    "01101001 01101111 01101110 00100001 00100001\n",
    "\"\"\"\n",
    "\n",
    "print(welcome)"
   ]
  },
  {
   "cell_type": "markdown",
   "id": "122b0502-ef62-4745-905b-03254ce4fa60",
   "metadata": {},
   "source": [
    "### Oh that's right, you are not machines \n",
    "Let's try this again:"
   ]
  },
  {
   "cell_type": "code",
   "execution_count": 2,
   "id": "33890d93-b7c2-4e56-baf8-c208e4e56809",
   "metadata": {},
   "outputs": [
    {
     "data": {
      "text/plain": [
       "'Welcome to the wonderful world of String Manipulation!!'"
      ]
     },
     "execution_count": 2,
     "metadata": {},
     "output_type": "execute_result"
    }
   ],
   "source": [
    "\"\".join(chr(int(val.strip(), 2)) for val in welcome.split(\" \"))"
   ]
  },
  {
   "cell_type": "markdown",
   "id": "caf5e3cb-39ec-457e-9f1a-b961ab98cc01",
   "metadata": {},
   "source": [
    "It is all fun and games until the machine starts talking to you like you are one of them. Fortunately for us mere humans that are not fluent in machine code, the braniacs behind these boxes of joy that we sometimes scream at because they did not do what we wanted them to, have graciously provided them with ways to translate binary into more digestible objects such as **strings**. \n",
    "\n",
    "Strings are a data structure commonly used to represent sequences of characters. The provide a way for developers to deal with the dark art that is __dealing with text__.\n",
    "\n",
    "In Data Science, there is an entire field of study dedicated to \"text\" called Natural Language Processing (NLP). In reality, NLP is an intersection of Computer Science with Linguistics, which deal with **natural language**  no matter its form (i.e, speech is also natural language, etc.).\n"
   ]
  },
  {
   "cell_type": "markdown",
   "id": "f20d3235-d81d-4900-91f3-d41835d20e63",
   "metadata": {},
   "source": [
    "<center><img src=\"./media/text.jpeg\" width=\"500\"/><center>"
   ]
  },
  {
   "cell_type": "markdown",
   "id": "2576bb21-ab46-4a02-ab46-6d82b3f1e2af",
   "metadata": {},
   "source": [
    "## 1.1. Building Strings\n",
    "As you might have learned by now, strings are __immutable__ sequences of characters, used to handle textual data in Python.\n",
    "\n",
    "### 1.1.1. Basics\n",
    "\n",
    "They can be instantiated in several ways, such as with:\n",
    "- single quotes - `'one'`\n",
    "- double quotes - `\"two\"`\n",
    "- triple quotes - `\"\"\"three\"\"\"` or `'''four'''`"
   ]
  },
  {
   "cell_type": "code",
   "execution_count": 3,
   "id": "e03f3b7d-0811-4ead-913a-64bb3cf0e557",
   "metadata": {},
   "outputs": [
    {
     "data": {
      "text/plain": [
       "True"
      ]
     },
     "execution_count": 3,
     "metadata": {},
     "output_type": "execute_result"
    }
   ],
   "source": [
    "'string' == \"string\" == \"\"\"string\"\"\" == '''string'''"
   ]
  },
  {
   "cell_type": "markdown",
   "id": "15702dae-cbcf-4ca6-8afc-72fe395c148d",
   "metadata": {},
   "source": [
    "And concatenated using the `+` operator:"
   ]
  },
  {
   "cell_type": "code",
   "execution_count": 4,
   "id": "77f704db-3dda-4992-8618-d13665dc91a0",
   "metadata": {},
   "outputs": [
    {
     "name": "stdout",
     "output_type": "stream",
     "text": [
      "Hello World\n"
     ]
    }
   ],
   "source": [
    "print(\"Hello\" + \" \" + \"World\")"
   ]
  },
  {
   "cell_type": "markdown",
   "id": "53498fba-28fc-47f7-a77f-57869a2b1e3a",
   "metadata": {},
   "source": [
    "#### 1.1.1.1. Multi-line strings"
   ]
  },
  {
   "cell_type": "code",
   "execution_count": 5,
   "id": "07c3e995-ade0-4ff5-be7a-63636310f893",
   "metadata": {},
   "outputs": [
    {
     "name": "stdout",
     "output_type": "stream",
     "text": [
      "\n",
      "Triple quotes can have\n",
      "multiple lines of text,\n",
      "but will keep the whitespace\n",
      "\n"
     ]
    }
   ],
   "source": [
    "x = \"\"\"\n",
    "Triple quotes can have\n",
    "multiple lines of text,\n",
    "but will keep the whitespace\n",
    "\"\"\"\n",
    "\n",
    "print(x)"
   ]
  },
  {
   "cell_type": "markdown",
   "id": "d1655f08-1d7c-4024-b61c-f5cd7a7dcb77",
   "metadata": {},
   "source": [
    "#### 1.1.1.2. Quotes inside strings"
   ]
  },
  {
   "cell_type": "code",
   "execution_count": 6,
   "id": "ad715b85-f269-4449-b32c-ad9f86fc10f1",
   "metadata": {},
   "outputs": [
    {
     "name": "stdout",
     "output_type": "stream",
     "text": [
      "You can use different quotes inside strings, as long as the inner ones are different than the outer ones:\n",
      "\n",
      " It doesn't matter which quotes you interchange. As long as you keep the inner \"quotes\" the same.\n"
     ]
    }
   ],
   "source": [
    "x = \"It doesn't matter which quotes you interchange.\"\n",
    "y = 'As long as you keep the inner \"quotes\" the same.'\n",
    "print(\"You can use different quotes inside strings, as long as the inner ones are different than the outer ones:\\n\\n\", x, y)"
   ]
  },
  {
   "cell_type": "markdown",
   "id": "4acff969-2f1f-4492-bb9a-94d931a27d45",
   "metadata": {},
   "source": [
    "### 1.1.2. Conversion\n",
    "In Python, everything is an **object** (or more specifically, everything is a **type**). Various objects a method `__str__` that allows the object to be converted into a string object (*object-ception* mind=blown).\n",
    "\n",
    "To make use of this conversion, we have the `str()` method which calls the object's `__str__` inner method."
   ]
  },
  {
   "cell_type": "code",
   "execution_count": 7,
   "id": "04ead30e-3550-4645-bf53-fc4750a0a31a",
   "metadata": {},
   "outputs": [
    {
     "name": "stdout",
     "output_type": "stream",
     "text": [
      "1 <class 'int'>\n",
      "1 <class 'str'>\n"
     ]
    }
   ],
   "source": [
    "x = 1\n",
    "print(x, type(x))\n",
    "\n",
    "y = str(x)\n",
    "print(y, type(y))"
   ]
  },
  {
   "cell_type": "markdown",
   "id": "3fe2e0d7-1c2d-49c9-a8e8-df4952487aa6",
   "metadata": {},
   "source": [
    "The goal of `__str__` is often to provide a readable version of an object. A pretty printing functionality, if you will.\n",
    "\n",
    "You can even have your own `__str__` in your own classes! Notice that when we talk about pretty printing, we do mean that it is mostly for developer convenience.\\\n",
    "For cases where you need an actual representation of the object, the `__repr__` method is used. Most classes have a `__repr__`, not all have `__str__`, and when there is no `__str__` defined, then `__str__`=`__repr__`. \n",
    "\n",
    "Got it? Me neither, let's see it in action."
   ]
  },
  {
   "cell_type": "code",
   "execution_count": 8,
   "id": "9d3f0ab6-0f0b-40c7-8e22-dcba522e9d35",
   "metadata": {},
   "outputs": [],
   "source": [
    "class Point:\n",
    "    def __init__(self, x: int, y: int):\n",
    "        self.x = x\n",
    "        self.y = y\n",
    "\n",
    "    def __str__(self) -> str:                         # __str__ is supposed to be developer friendly\n",
    "        return f\"({self.x}, {self.y})\"\n",
    "\n",
    "    def __repr__(self) -> str:                        # __repr__ is supposed to be an unambiguous representation of the object\n",
    "        return f\"Point(x={self.x}, y={self.y})\""
   ]
  },
  {
   "cell_type": "code",
   "execution_count": 9,
   "id": "b1cb424b-9b10-4238-a86d-8e76510528b5",
   "metadata": {},
   "outputs": [
    {
     "name": "stdout",
     "output_type": "stream",
     "text": [
      "__repr__ Point(x=1, y=2)\n",
      "__str__ (1, 2)\n"
     ]
    }
   ],
   "source": [
    "p = Point(1,2)\n",
    "print(\"__repr__\", repr(p))\n",
    "print(\"__str__\", str(p))"
   ]
  },
  {
   "cell_type": "markdown",
   "id": "a44beff4-508c-491d-b35d-052c38c15a2d",
   "metadata": {},
   "source": [
    "### 1.1.3. Formatting\n",
    "Some times you need to fill in a larger string with certain variables.\\\n",
    "Now, while you could concatenate the strings like an animal, such as `\"hello\" + \" \" + \"world\"`, we typically want a nicer (i.e, *humane*) way of dealing with this. "
   ]
  },
  {
   "cell_type": "markdown",
   "id": "6cb5466a-5e1a-448c-bbcc-92ce7014d6dc",
   "metadata": {},
   "source": [
    "#### 1.1.3.1. f-strings\n",
    "\n",
    "You can do more than just concatenate strings and fill in spaces! You can use f-strings to put in place tiny (hopefully, since you are not supposed to do an entire project inside an f-string) Python expressions.\\\n",
    "To create an f-string, prefix the string with the letter __f__, and place the variable/expression in side curly braces `{}`. Whatever gets placed inside the curly braces will be interpreted as a Python expression."
   ]
  },
  {
   "cell_type": "code",
   "execution_count": 10,
   "id": "7689db2e-5dfd-4631-8516-8b9f3e8b8b3b",
   "metadata": {},
   "outputs": [
    {
     "name": "stdout",
     "output_type": "stream",
     "text": [
      "This is a plain (and somewhat useless) f-string.\n",
      "A more useful way of utilizing f-strings is to pretty print stuff like our (1, 2) point coordinates that we defined above\n"
     ]
    }
   ],
   "source": [
    "print(f\"This is a plain (and somewhat useless) f-string.\")\n",
    "print(f\"A more useful way of utilizing f-strings is to pretty print stuff like our {str(p)} point coordinates that we defined above\")"
   ]
  },
  {
   "cell_type": "markdown",
   "id": "692301bb-818c-4d81-bff5-e7f6e0c1f83e",
   "metadata": {},
   "source": [
    "#### 1.1.3.2. The .format() method\n",
    "While slightly less convenient, a bit more *verbose*, you can also use the string built-in method `format()` to achieve essentially the same thing as f-strings.\\\n",
    "To use them, you write a regular string (with no prefix), marking the spots you want to fill with curly braces `{}`. You can either provide values to `format()` as either positional arguments or keyword arguments, as long as you provide the correct number of them."
   ]
  },
  {
   "cell_type": "code",
   "execution_count": 11,
   "id": "0e1de79c-e48c-4e05-bc8e-f2115ea08315",
   "metadata": {},
   "outputs": [
    {
     "name": "stdout",
     "output_type": "stream",
     "text": [
      "Hi John, how are you?\n",
      "Hi Jane, how are you?\n"
     ]
    }
   ],
   "source": [
    "print(\"Hi {}, how are you?\".format(\"John\"))           # positional argument -> need to be careful with order\n",
    "print(\"Hi {name}, how are you?\".format(name=\"Jane\"))  # keyword argument    -> will be placed where you want them"
   ]
  },
  {
   "cell_type": "markdown",
   "id": "980f799b-d6fe-4672-a7bf-6e45fb9695bf",
   "metadata": {},
   "source": [
    "#### 1.1.3.3. Bonus - Beyond the Basics"
   ]
  },
  {
   "cell_type": "markdown",
   "id": "718c6796-1030-45d4-a5ca-962c7bbf3703",
   "metadata": {},
   "source": [
    "##### Some more cool ways of using f-strings"
   ]
  },
  {
   "cell_type": "code",
   "execution_count": 12,
   "id": "759596ad-fc34-4d35-9cb0-1898d9036bcb",
   "metadata": {},
   "outputs": [
    {
     "name": "stdout",
     "output_type": "stream",
     "text": [
      "Flow control inside the f-string -> Is 99 even? Answer: No\n",
      "List comprehensions inside f-strings -> All numbers divisible by 10 between 0 and 99: [0, 10, 20, 30, 40, 50, 60, 70, 80, 90]\n",
      "Calling functions inside f-strings -> 99 + 1 = 100\n"
     ]
    }
   ],
   "source": [
    "num = 99\n",
    "\n",
    "def add_one(x: int) -> int:\n",
    "    return x + 1\n",
    "\n",
    "print(f\"Flow control inside the f-string -> Is {num} even? Answer: {'Yes' if num % 2 == 0 else 'No'}\")\n",
    "print(f\"List comprehensions inside f-strings -> All numbers divisible by 10 between 0 and {num}: {[test_num for test_num in range(num) if test_num % 10 == 0]}\")\n",
    "print(f\"Calling functions inside f-strings -> {num} + 1 = {add_one(num)}\")"
   ]
  },
  {
   "cell_type": "markdown",
   "id": "392813db-8e95-4043-bd62-3f6b17bbdd18",
   "metadata": {},
   "source": [
    "##### Into the rabbit-hole\n",
    "It is dangerous to go alone, take this:\n",
    "- https://www.pythonmorsels.com/string-formatting/\n",
    "- https://fstring.help/cheat/"
   ]
  },
  {
   "cell_type": "code",
   "execution_count": 13,
   "id": "879e7533-f0a6-4cf5-8ebb-0c899974e183",
   "metadata": {},
   "outputs": [
    {
     "name": "stdout",
     "output_type": "stream",
     "text": [
      "xxx       Python       xxx\n",
      "language = 'Python'\n"
     ]
    }
   ],
   "source": [
    "language = \"Python\"\n",
    "\n",
    "print(f\"xxx{language:^20}xxx\")\n",
    "\n",
    "print(f\"{language = }\")"
   ]
  },
  {
   "cell_type": "code",
   "execution_count": 14,
   "id": "d731d5ab-c0ae-405a-9deb-7851db884824",
   "metadata": {},
   "outputs": [
    {
     "name": "stdout",
     "output_type": "stream",
     "text": [
      "46%\n",
      "0.46\n"
     ]
    }
   ],
   "source": [
    "perc = 0.4589\n",
    "\n",
    "print(f\"{perc:.0%}\")\n",
    "print(f\"{perc:.2f}\")"
   ]
  },
  {
   "cell_type": "markdown",
   "id": "68241770-c370-407f-8100-da28849ae96b",
   "metadata": {},
   "source": [
    "<center><img src=\"./media/concat.PNG\" width=\"500\"/><center>"
   ]
  },
  {
   "cell_type": "markdown",
   "id": "f39a1d32-e871-455f-bf38-2f861bd235b4",
   "metadata": {},
   "source": [
    "## 1.2. Built-In String Methods\n",
    "\n",
    "The `str` data structure comes with a preset amount of built-in methods of its own, as well as inheriting some from others. For the most part, these are similar to how you would have methods on your own classes.\\\n",
    "Let's look at some of the more useful ones!"
   ]
  },
  {
   "cell_type": "markdown",
   "id": "26da6707-a70f-498d-a215-be210897f6ee",
   "metadata": {},
   "source": [
    "### 1.2.1. Strings are Arrays\n",
    "One thing that might take you by surprise is that strings inherit most of common `Sequence` (which again, is a type of object in Python) operations.\\\n",
    "That means that strings can, in a lot of ways, behave like other sequence-like structures like *tuples* or *lists*."
   ]
  },
  {
   "cell_type": "code",
   "execution_count": 15,
   "id": "66093dc3-ea2a-42e5-87fd-6500ac66e0f6",
   "metadata": {},
   "outputs": [
    {
     "name": "stdout",
     "output_type": "stream",
     "text": [
      "H\n",
      "e\n",
      "l\n",
      "l\n",
      "o\n",
      " \n",
      "W\n",
      "o\n",
      "r\n",
      "l\n",
      "d\n",
      "!\n"
     ]
    }
   ],
   "source": [
    "for char in \"Hello World!\":\n",
    "    print(char)"
   ]
  },
  {
   "cell_type": "markdown",
   "id": "03b9c62e-e2f4-4584-96f9-651ee058c396",
   "metadata": {},
   "source": [
    "#### 1.2.1.1. Membership Methods "
   ]
  },
  {
   "cell_type": "markdown",
   "id": "1a955737-6f7e-476f-b219-507e508aaea0",
   "metadata": {},
   "source": [
    "We can check if a string is in another string by using the `in` operand, bearing in mind that these are very naive when it comes to strings. By naive, we mean that they may find substrings that match the former within the latter.\n",
    "\n",
    "Imagine that we want to check if the word *\"man\"* is in the the sentence *\"Batman and Robin caught Catwoman in the act of stealing a diamond.\"*.\\\n",
    "While at no point does the word *\"man\"* appear by itself, Python will flag it as belonging in the sentence because it finds it in the words Bat<b>man</b> and Catwo<b>man</b>.\n",
    "\n",
    "__Notes:__ \n",
    "- Since `in` returns a boolean, we can combine it with `not` operand to check whether a string is __not__ in another.\n",
    "- `in` is case-sensitive, thus *batman* will be different than *Batman*\n",
    "- Simply placing whitespaces around a word may cause some false negative results, particularly when you have punctuation or at the end of a string (e.g. `\" man \" in \"Batman caught up with the man.\"` is __False__)"
   ]
  },
  {
   "cell_type": "code",
   "execution_count": 16,
   "id": "0e638d6e-54aa-43fc-95b8-673155e07c52",
   "metadata": {},
   "outputs": [
    {
     "name": "stdout",
     "output_type": "stream",
     "text": [
      "True\n",
      "True\n",
      "True\n"
     ]
    }
   ],
   "source": [
    "print(\"banana\" in \"I ate a banana.\")\n",
    "print(\"man\" in \"Batman and Robin caught Catwoman in the act of stealing a diamond.\")\n",
    "\n",
    "print(\"Superman\" not in \"Batman and Robin caught Catwoman in the act of stealing a diamond.\")"
   ]
  },
  {
   "cell_type": "markdown",
   "id": "f731689c-5244-4298-b55f-fcae868d9cff",
   "metadata": {},
   "source": [
    "<br></br>\n",
    "We can make use of `str.count(x)` to count the number of occurrences of `x` in a string.\\\n",
    "If we need to find the index of the __first__ occurrence of a substring in a string we can use the method `str.index(x)`. This method can optionally receive a *starting index* (inclusive) and an *ending index* (exclusive) to search."
   ]
  },
  {
   "cell_type": "code",
   "execution_count": 17,
   "id": "5f125b57-f61b-4eea-a8e5-7abb59122101",
   "metadata": {},
   "outputs": [
    {
     "name": "stdout",
     "output_type": "stream",
     "text": [
      "Number of occurrences of 'a' in banana:  3\n",
      "Number of occurrences of 'z' in banana:  0\n",
      "Number of occurrences of 'man' in 'Batman and Robin caught Catwoman in the act of stealing a diamond':  2\n"
     ]
    }
   ],
   "source": [
    "print(\"Number of occurrences of 'a' in banana: \", \"banana\".count(\"a\"))\n",
    "print(\"Number of occurrences of 'z' in banana: \", \"banana\".count(\"z\"))\n",
    "\n",
    "print(\"Number of occurrences of 'man' in 'Batman and Robin caught Catwoman in the act of stealing a diamond': \", \"Batman and Robin caught Catwoman in the act of stealing a diamond.\".count(\"man\"))"
   ]
  },
  {
   "cell_type": "code",
   "execution_count": 18,
   "id": "33156d68-b2f7-4a7f-a723-5a28bef52840",
   "metadata": {},
   "outputs": [
    {
     "name": "stdout",
     "output_type": "stream",
     "text": [
      "index() found the substring 'a' in the index 2 of the sentence 'I ate a banana.'.\n",
      "index() found the substring 'a' in the index 9 of the sentence 'I ate a banana.' when starting the search at index 8, which is the start of the substring 'banana.'.\n"
     ]
    }
   ],
   "source": [
    "banana_sentence = \"I ate a banana.\"\n",
    "index_a = banana_sentence.index(\"a\")\n",
    "\n",
    "print(f\"index() found the substring '{banana_sentence[index_a]}' in the index {index_a} of the sentence '{banana_sentence}'.\")\n",
    "\n",
    "banana_sentence = \"I ate a banana.\"\n",
    "index_b = banana_sentence.index(\"b\")\n",
    "\n",
    "index_of_a_after_b = banana_sentence.index(\"a\", index_b)  # We can start the search at a particular index\n",
    "\n",
    "print(f\"index() found the substring '{banana_sentence[index_of_a_after_b]}' in the index {index_of_a_after_b} of the sentence '{banana_sentence}' when starting the search at index {index_b}, which is the start of the substring '{banana_sentence[index_b:]}'.\")"
   ]
  },
  {
   "cell_type": "markdown",
   "id": "ebde37a2-e1e8-48f2-9a0a-16b3d672df94",
   "metadata": {},
   "source": [
    "#### 1.2.1.2. Substring and Slicing\n",
    "Just like lists, we can get the character of a string at an index, and get the substring of a slice of the string (including having a step, which is 1 by default).\n",
    "\n",
    "These are the typical:\n",
    "- `string[i]` for indexing\n",
    "- `string[i:]` or `string[:j]` for wholesale slicing\n",
    "- `string[i:j]` or `string[i:j:k]` for substring slicing, with potential `k` as step\n",
    "\n",
    "Remember that when using *i* and *j*, *i* is __inclusive__ (starts at), *j* is __exclusive__ (before than)."
   ]
  },
  {
   "cell_type": "code",
   "execution_count": 19,
   "id": "1857671c-5434-4740-a232-5de428e0f300",
   "metadata": {},
   "outputs": [
    {
     "name": "stdout",
     "output_type": "stream",
     "text": [
      "Indexing:            b\n",
      "Slicing from Start:  ana\n",
      "Slicing to End:      bana\n",
      "Substring:           ana\n",
      "Step:                aaa\n"
     ]
    }
   ],
   "source": [
    "fruit = \"banana\"\n",
    "\n",
    "print(f\"{'Indexing:':<20} {fruit[0]}\")\n",
    "\n",
    "print(f\"{'Slicing from Start:':<20} {fruit[3:]}\")\n",
    "\n",
    "print(f\"{'Slicing to End:':<20} {fruit[:4]}\")\n",
    "\n",
    "print(f\"{'Substring:':<20} {fruit[1:4]}\")\n",
    "\n",
    "print(f\"{'Step:':<20} {fruit[1:6:2]}\", )"
   ]
  },
  {
   "cell_type": "markdown",
   "id": "90535383-9b71-4a6e-9a32-4a682d590664",
   "metadata": {},
   "source": [
    "<br></br>\n",
    "Also, remember that *i, j, and k* can be negative!"
   ]
  },
  {
   "cell_type": "code",
   "execution_count": 20,
   "id": "5db4bcd5-15e7-4190-a251-701a9b05ee8f",
   "metadata": {},
   "outputs": [
    {
     "name": "stdout",
     "output_type": "stream",
     "text": [
      "g\n",
      "efg\n",
      "abcde\n"
     ]
    }
   ],
   "source": [
    "abc = \"abcdefg\"\n",
    "print(abc[-1])\n",
    "print(abc[-3:])\n",
    "print(abc[:-2])"
   ]
  },
  {
   "cell_type": "markdown",
   "id": "56232fbc-6474-4f12-9b44-1faec7fa9cd8",
   "metadata": {},
   "source": [
    "<br></br>\n",
    "You can use the step *k* for some interesting effects, such as reversing a string!"
   ]
  },
  {
   "cell_type": "code",
   "execution_count": 21,
   "id": "626b6f2f-01b6-444b-9303-7b52f13de56f",
   "metadata": {},
   "outputs": [
    {
     "name": "stdout",
     "output_type": "stream",
     "text": [
      "lisbon data science academy\n"
     ]
    }
   ],
   "source": [
    "print(\"ymedaca ecneics atad nobsil\"[::-1])"
   ]
  },
  {
   "cell_type": "markdown",
   "id": "7dd4c059-52e3-4839-a7cf-c634f2746f64",
   "metadata": {},
   "source": [
    "#### 1.2.1.3. Concatenation and Repetition\n",
    "Similar to lists, you can either concatenate two strings with the `+` operand, and repeat a string *n* times by using `*`.\\\n",
    "- Concatenating two strings will not add a space between them.\n",
    "- Due to being immutable, concatenating two strings always return a new object, meaning that it will have *quadratic runtime cost* (best to use `str.join()`, which we will learn about in a moment)\n",
    "  - Example: `ba` + `na` + `na` will first result in a __new__ string `bana` which is then concatenated with `na` to finally form a __new__ string `banana` "
   ]
  },
  {
   "cell_type": "code",
   "execution_count": 22,
   "id": "a2cb7681-8139-43e2-8b1d-03c46de95379",
   "metadata": {},
   "outputs": [
    {
     "name": "stdout",
     "output_type": "stream",
     "text": [
      "banana\n"
     ]
    }
   ],
   "source": [
    "print(\"ba\" + \"na\" * 2)  # mathematical operation priority still in effect, * comes before +, otherwise we would end up with banabana (i.e. the result of (ba + na) * 2, which is dumb)"
   ]
  },
  {
   "cell_type": "markdown",
   "id": "53ba6b9d-6a5b-4fa5-9c36-85463a94a95a",
   "metadata": {},
   "source": [
    "#### 1.2.1.4. Sizes\n",
    "We obviously can make use of `len()` to get the size of the string (punctuation and whitespace included).\n",
    "We can also use `max()` and `min()`, which will find the greatest/least __character__, according ordinal value (i.e, `ord(character)`).\\\n",
    "As you can probably imagine by now, using `max()` or `min()` on strings has limited use-cases..."
   ]
  },
  {
   "cell_type": "code",
   "execution_count": 23,
   "id": "c517c837-8138-4e6f-93dd-4bfa74083d51",
   "metadata": {},
   "outputs": [
    {
     "name": "stdout",
     "output_type": "stream",
     "text": [
      "Length: 27\n",
      "Max ordinal value: 't'\n",
      "Min ordinal value: ' '\n"
     ]
    }
   ],
   "source": [
    "sentence = \"The Man in the High Castle.\"\n",
    "\n",
    "print(f\"Length: {len(sentence)}\")\n",
    "\n",
    "print(f\"Max ordinal value: '{max(sentence)}'\")\n",
    "print(f\"Min ordinal value: '{min(sentence)}'\")"
   ]
  },
  {
   "cell_type": "code",
   "execution_count": 24,
   "id": "9d037dd0-72c3-4032-b08f-b1edf0dfa622",
   "metadata": {},
   "outputs": [
    {
     "name": "stdout",
     "output_type": "stream",
     "text": [
      "[('T', 84), ('h', 104), ('e', 101), (' ', 32), ('M', 77), ('a', 97), ('n', 110), (' ', 32), ('i', 105), ('n', 110), (' ', 32), ('t', 116), ('h', 104), ('e', 101), (' ', 32), ('H', 72), ('i', 105), ('g', 103), ('h', 104), (' ', 32), ('C', 67), ('a', 97), ('s', 115), ('t', 116), ('l', 108), ('e', 101), ('.', 46)]\n"
     ]
    }
   ],
   "source": [
    "print([(letter, ord(letter)) for letter in sentence])"
   ]
  },
  {
   "cell_type": "code",
   "execution_count": 25,
   "id": "9f3f6881-5933-43fa-896e-549d488acd6e",
   "metadata": {},
   "outputs": [
    {
     "name": "stdout",
     "output_type": "stream",
     "text": [
      "65 97\n"
     ]
    }
   ],
   "source": [
    "print(ord(\"A\"), ord(\"a\"))"
   ]
  },
  {
   "cell_type": "markdown",
   "id": "24e7f866-994f-4264-bab4-d42cb1fd8669",
   "metadata": {},
   "source": [
    "### 1.2.2. Strings are Strings\n",
    "...and have their own built-in functions! Let's take a look at the most useful ones.\n",
    "\n",
    "Like we have seen before, strings can behave like sequences (i.e, lists, tuples, etc.). Iterating over a string will get you each individual character (unlike other languages, Python does technically have a *char* data type).\\\n",
    "Like most other data types, strings also have boolean values. When a string is empty (\"\"), then it it False, when there is something it is True!"
   ]
  },
  {
   "cell_type": "code",
   "execution_count": 26,
   "id": "16496492-d227-4b0b-86bf-f5bc1f3ea75f",
   "metadata": {},
   "outputs": [
    {
     "name": "stdout",
     "output_type": "stream",
     "text": [
      "{'': False, ' ': True, 'a': True, 'hello': True}\n"
     ]
    }
   ],
   "source": [
    "str_list = [\"\", \" \", \"a\", \"hello\"]\n",
    "print({f\"{token}\": bool(token) for token in str_list})"
   ]
  },
  {
   "cell_type": "code",
   "execution_count": 27,
   "id": "d9b05fdd-0f2d-47de-96c9-0c06c8945e14",
   "metadata": {},
   "outputs": [
    {
     "name": "stdout",
     "output_type": "stream",
     "text": [
      "['H', 'e', 'l', 'l', 'o', ' ', 'W', 'o', 'r', 'l', 'd', '!']\n"
     ]
    }
   ],
   "source": [
    "print([i for i in \"Hello World!\"])"
   ]
  },
  {
   "cell_type": "markdown",
   "id": "1ade1ea8-d24b-4241-a7a8-52082012e9ab",
   "metadata": {},
   "source": [
    "#### 1.2.2.1. Boolean Tests\n",
    "Sometimes you need to know if a string or substring is of a certain format. This is particularly useful in *for loops* and *list comprehensions*, when you want to filter out/in certain things.\n",
    "\n",
    "- `isalnum()` all characters are alphanumerical (letters and numbers)\n",
    "- `isalpha()` all characters are alphabetical (letters)\n",
    "- `isdigit()` all characters are digits (numbers)\n",
    "- `isspace()` all characters are whitespaces\n",
    "- `isupper()` all characters are uppercase\n",
    "- `islower()` all characters are lowercase\n",
    "- `istitle()` string is a title (every word starts with an uppercase letter and has lowercase letters until end of word)\n",
    "  \n",
    "- `startswith(value)` string *starts* with `value`\n",
    "- `endswith(value)` string *ends* with `value`\n",
    "\n",
    "There are others, but these are some of the most common ones.\\\n",
    "Examples:"
   ]
  },
  {
   "cell_type": "code",
   "execution_count": 28,
   "id": "d5f51ef2-6896-4b04-b963-ad4975108755",
   "metadata": {},
   "outputs": [
    {
     "name": "stdout",
     "output_type": "stream",
     "text": [
      "True\n",
      "True\n",
      "True\n"
     ]
    }
   ],
   "source": [
    "print(\"Hello World\".istitle())\n",
    "print(\"HELLO WORLD\".isupper())\n",
    "print(\"hello world\".islower())"
   ]
  },
  {
   "cell_type": "code",
   "execution_count": 29,
   "id": "e50d347f-8cd8-47d1-8f6b-41dc3698e09c",
   "metadata": {},
   "outputs": [
    {
     "name": "stdout",
     "output_type": "stream",
     "text": [
      "True\n",
      "False\n"
     ]
    }
   ],
   "source": [
    "print(\"alpha1\".isalnum())\n",
    "print(\"alpha1\".isalpha())"
   ]
  },
  {
   "cell_type": "code",
   "execution_count": 30,
   "id": "4b2499d6-74b4-4304-81c1-bda06b86e373",
   "metadata": {},
   "outputs": [
    {
     "name": "stdout",
     "output_type": "stream",
     "text": [
      "True\n",
      "False\n"
     ]
    }
   ],
   "source": [
    "print(\"Hello World\".startswith(\"Hello\"))\n",
    "print(\"Hello World\".startswith(\"World\"))"
   ]
  },
  {
   "cell_type": "code",
   "execution_count": 31,
   "id": "638f0d43-70d8-46a8-8120-c26921bb9a7d",
   "metadata": {},
   "outputs": [
    {
     "name": "stdout",
     "output_type": "stream",
     "text": [
      "True\n",
      "False\n"
     ]
    }
   ],
   "source": [
    "print(\"Hello World\".endswith(\"World\"))\n",
    "print(\"Hello World\".endswith(\"Hello\"))"
   ]
  },
  {
   "cell_type": "code",
   "execution_count": 32,
   "id": "3cfe20e0-c8c9-44c0-ac53-1abe071327f3",
   "metadata": {},
   "outputs": [
    {
     "name": "stdout",
     "output_type": "stream",
     "text": [
      "True\n",
      "False\n",
      "False\n"
     ]
    }
   ],
   "source": [
    "# Caveats of title\n",
    "print(\"Hello World!\".istitle()) # punctuation is OK\n",
    "\n",
    "print(\"Man in the High Castle\".istitle()) # words [in, the] do not start with uppercase letters\n",
    "print(\"SteveO\".istitle()) # words cannot have uppercase letters in them, aside from the first character"
   ]
  },
  {
   "cell_type": "code",
   "execution_count": 33,
   "id": "6f3adffc-4d34-4480-b6f4-1283ea64a2ed",
   "metadata": {},
   "outputs": [
    {
     "name": "stdout",
     "output_type": "stream",
     "text": [
      "True\n",
      "False\n",
      "False\n"
     ]
    }
   ],
   "source": [
    "# Caveats of isdigit\n",
    "print(\"01\".isdigit()) # OK as long as every character is digit\n",
    "print(\"-1\".isdigit()) # Minus sign not considered a digit (remember that it will go character by character, not knowing that they are part of the same)\n",
    "print(\"1.5\".isdigit()) # Same as above"
   ]
  },
  {
   "cell_type": "markdown",
   "id": "babaeff8-5444-4284-822e-0a5959c559d2",
   "metadata": {},
   "source": [
    "#### 1.2.2.2. Normalisers\n",
    "Certain methods allow us to *\"change\"* string/substrings to certain formats or values.\n",
    "\n",
    "- `title()` returns title format of string\n",
    "- `upper()` returns string with all uppercase letters\n",
    "- `lower()` returns string with all lowercase letters\n",
    "- `swapcase()` returns string with swapped lowercase and uppercase letters of the original string\n",
    "- `format()` similar to f-strings (we have seen this before)\n",
    "- `capitalize()` returns string with first letter uppercased\n",
    "\n",
    "Please bear in mind that with strings being immutable, you will need to either __create__ a new string variable, or __re-assign__ the old string variable to the new value.\\\n",
    "Simply running the functions will do __nothing__ to the original variable!\n",
    "\n",
    "__TIP:__ When working with string, if letter case is irrelevant, use `lower()` to normalise your strings. This way, you will not need to worry about things like *The vs. the*."
   ]
  },
  {
   "cell_type": "code",
   "execution_count": 34,
   "id": "924935e2-693d-4a3f-a705-4bb4ddae393c",
   "metadata": {},
   "outputs": [
    {
     "name": "stdout",
     "output_type": "stream",
     "text": [
      "banana\n"
     ]
    }
   ],
   "source": [
    "x = \"banana\"\n",
    "x.upper() # we did nothing to the original variable x\n",
    "print(x)"
   ]
  },
  {
   "cell_type": "code",
   "execution_count": 35,
   "id": "fa28e8e2-a03f-4805-acc9-1106f1d75c43",
   "metadata": {},
   "outputs": [
    {
     "name": "stdout",
     "output_type": "stream",
     "text": [
      "BANANA\n"
     ]
    }
   ],
   "source": [
    "y = \"banana\"\n",
    "y = y.upper() # we re-assigned y variable to the new uppercased format\n",
    "print(y)"
   ]
  },
  {
   "cell_type": "code",
   "execution_count": 36,
   "id": "50a028a0-1c55-4f36-ad81-fc6a519eaa02",
   "metadata": {},
   "outputs": [
    {
     "name": "stdout",
     "output_type": "stream",
     "text": [
      "Hello World\n"
     ]
    }
   ],
   "source": [
    "print(\"hELLO wORLD\".swapcase())"
   ]
  },
  {
   "cell_type": "code",
   "execution_count": 37,
   "id": "ef44f83a-9000-406c-8997-d77e1f76757e",
   "metadata": {},
   "outputs": [
    {
     "name": "stdout",
     "output_type": "stream",
     "text": [
      "Capitalize:  The man in the high castle.\n",
      "Title:       The Man In The High Castle.\n"
     ]
    }
   ],
   "source": [
    "sentence = \"the man in the high castle.\"  # Let's see the difference between capitalize() and title()\n",
    "\n",
    "print(f\"{'Capitalize:':<12} {sentence.capitalize()}\")\n",
    "print(f\"{'Title:':<12} {sentence.title()}\")"
   ]
  },
  {
   "cell_type": "markdown",
   "id": "61072945-255a-46ac-8dc5-8e3680998176",
   "metadata": {},
   "source": [
    "#### 1.2.2.3. Cleaners\n",
    "More often than not, working with text will have a bunch of garbage attached that we could not care less when looking at individual strings. \n",
    "\n",
    "The function `replace(from, to)` returns the original string with the substring `from` replaced by substring `to`.\\\n",
    "Using the `in` operand, or the boolean checks, can also help you filter out strings that you do not want.\n",
    "\n",
    "Dealing with whitespace is one particular example where we would rather not have all this *fluff* surrounding the strings we actually need (e.g. if you want to check for the word \"ball\", why would you have to deal with \" ball\" or \"ball \"). \n",
    "For these cases, we have the function `strip()` (along with its siblings `rstrip()` and `lstrip()`)"
   ]
  },
  {
   "cell_type": "code",
   "execution_count": 38,
   "id": "71f8c61d-4a41-4f2d-a8e7-9bb2441a9a11",
   "metadata": {},
   "outputs": [
    {
     "name": "stdout",
     "output_type": "stream",
     "text": [
      "Batman caught Joker in the act of stealing a diamond.\n",
      "\n",
      "Batwoman and Robin caught Catwowoman in the act of stealing a diamond.\n"
     ]
    }
   ],
   "source": [
    "# Caveats when using replace()\n",
    "\n",
    "sentence = \"Batman and Robin caught Catwoman in the act of stealing a diamond.\"\n",
    "\n",
    "print(sentence.replace(\"Batman and Robin\", \"Batman\").replace(\"Catwoman\", \"Joker\"))  # We can always chain methods as each returns a new string\n",
    "print()\n",
    "print(sentence.replace(\"man\", \"woman\"))  # Remember that these methods are very naive an will replace every instance of the substring 'man', not the actual word 'man'"
   ]
  },
  {
   "cell_type": "code",
   "execution_count": 39,
   "id": "83f4fe8e-a43b-4c87-bd7f-6989780ea58f",
   "metadata": {},
   "outputs": [
    {
     "name": "stdout",
     "output_type": "stream",
     "text": [
      "11\n",
      "16\n"
     ]
    }
   ],
   "source": [
    "# Let's see how whitespace can be a pain\n",
    "sentence = \" Hello World    \"\"\"\n",
    "print(len(\"Hello World\"))\n",
    "print(len(sentence))"
   ]
  },
  {
   "cell_type": "code",
   "execution_count": 40,
   "id": "4b0e4117-f81a-4cd9-af21-1dd76d7a78e7",
   "metadata": {},
   "outputs": [
    {
     "name": "stdout",
     "output_type": "stream",
     "text": [
      "False\n"
     ]
    }
   ],
   "source": [
    "print(\"the \" == \"the\") # how whitespace can throw off your conditionals"
   ]
  },
  {
   "cell_type": "code",
   "execution_count": 41,
   "id": "c73437e6-39c6-4b40-af78-72f7f11f8e0e",
   "metadata": {},
   "outputs": [
    {
     "name": "stdout",
     "output_type": "stream",
     "text": [
      " sentence.strip() =  [Hello World]\n",
      "sentence.rstrip() =  [ Hello World]\n",
      "sentence.lstrip() =  [Hello World    ]\n"
     ]
    }
   ],
   "source": [
    "# Differences in strip methods, we will use brackets [] to show you where the whitespace was left\n",
    "\n",
    "print(f\"{'sentence.strip() = ':>20} [{sentence.strip()}]\")\n",
    "print(f\"{'sentence.rstrip() = ':>20} [{sentence.rstrip()}]\") # only strips right side\n",
    "print(f\"{'sentence.lstrip() = ':>20} [{sentence.lstrip()}]\") # only strips left side"
   ]
  },
  {
   "cell_type": "code",
   "execution_count": 42,
   "id": "c006bb6c-aa15-480e-93ae-3077d44e01f5",
   "metadata": {},
   "outputs": [
    {
     "name": "stdout",
     "output_type": "stream",
     "text": [
      "Hello        World\n"
     ]
    }
   ],
   "source": [
    "# Caveats of strip()\n",
    "\n",
    "sentence = \"Hello        World\"\n",
    "\n",
    "print(sentence.strip()) # strip will only affect outer whitespace"
   ]
  },
  {
   "cell_type": "markdown",
   "id": "48d202ab-44b7-437c-a551-f0cbc2e5b0b4",
   "metadata": {},
   "source": [
    "### 1.2.3. Strings are Strings AND Arrays\n",
    "\n",
    "__The Two MOST Important Methods to Know__\n",
    "\n",
    "Particularly when dealing with sentences, you will notice that most of the previous methods are not well equipped to deal with multiple words. For example, `find()` and `count()` can often be misled as they will adopt a sliding window like process to gather results, `strip()` will not work with whitespace in the middle of strings, boolean checks like `isalpha()` will look at ALL characters of an entire string, etc.\n",
    "\n",
    "The methods `split()` and `join()` provide you with a toolkit that is unparalleled when dealing with strings! They are so important, that they deserved their own section."
   ]
  },
  {
   "cell_type": "markdown",
   "id": "a508f39b-2193-4158-92c8-3f530d0a2be1",
   "metadata": {},
   "source": [
    "#### 1.2.3.1. Split"
   ]
  },
  {
   "cell_type": "code",
   "execution_count": 43,
   "id": "d6c58786-a7e0-4b99-a730-f6088790296e",
   "metadata": {},
   "outputs": [
    {
     "name": "stdout",
     "output_type": "stream",
     "text": [
      "['Batman', 'and', 'Robin', 'caught', 'Catwoman', 'in', 'the', 'act', 'of', 'stealing', 'a', 'diamond.']\n"
     ]
    }
   ],
   "source": [
    "# Let's split a sentence on any whitespace, getting was is between it\n",
    "sentence = \"Batman and Robin caught Catwoman in the act of stealing a diamond.\"\n",
    "\n",
    "print(sentence.split())"
   ]
  },
  {
   "cell_type": "code",
   "execution_count": 44,
   "id": "feb9bd65-a686-4936-bdfe-85d85caba89a",
   "metadata": {},
   "outputs": [
    {
     "data": {
      "text/plain": [
       "False"
      ]
     },
     "execution_count": 44,
     "metadata": {},
     "output_type": "execute_result"
    }
   ],
   "source": [
    "# Now let's be EXACT in our check for the word \"man\" in the SENTENCE\n",
    "any(word == \"man\" for word in sentence)"
   ]
  },
  {
   "cell_type": "code",
   "execution_count": 45,
   "id": "3172ff58-4adc-4be0-b3b1-08c0a5031fc7",
   "metadata": {},
   "outputs": [
    {
     "name": "stdout",
     "output_type": "stream",
     "text": [
      "Output of split():  ['I', 'ate', '3', 'apples.']\n",
      "Numbers found:  ['3']\n"
     ]
    }
   ],
   "source": [
    "# Let's find if there is a substring that is a number in a sentence\n",
    "sentence = \"I ate 3 apples.\"\n",
    "\n",
    "print(\"Output of split(): \", sentence.split())\n",
    "print(\"Numbers found: \", [word for word in sentence.split() if word.isdigit()])"
   ]
  },
  {
   "cell_type": "code",
   "execution_count": 46,
   "id": "4d51ed89-4283-49f5-b4e0-04ef80deda08",
   "metadata": {},
   "outputs": [
    {
     "name": "stdout",
     "output_type": "stream",
     "text": [
      "['python', 'uses', 'snake', 'case', 'syntax']\n",
      "---\n",
      "['python_uses', 'case_syntax']\n"
     ]
    }
   ],
   "source": [
    "# Let's use a different separator\n",
    "sentence = \"python_uses_snake_case_syntax\"\n",
    "\n",
    "print(sentence.split(\"_\")) # split on underscores\n",
    "print(\"---\")\n",
    "print(sentence.split(\"_snake_\")) # separators can be any string!!"
   ]
  },
  {
   "cell_type": "code",
   "execution_count": 47,
   "id": "53e6d1c5-be6c-4cc8-9e48-c1c11cb61da2",
   "metadata": {},
   "outputs": [
    {
     "name": "stdout",
     "output_type": "stream",
     "text": [
      "Hello \n",
      "    World\n",
      "---\n",
      "['Hello', 'World']\n"
     ]
    }
   ],
   "source": [
    "# Split really helps with a lot of the heavy lifting when it comes to string cleaning\n",
    "sentence = \"\"\"Hello \n",
    "    World\n",
    "    \"\"\"\n",
    "print(sentence.strip())\n",
    "print(\"---\")\n",
    "print(sentence.split())"
   ]
  },
  {
   "cell_type": "markdown",
   "id": "120606aa-0b7f-4aac-b15d-567522141eed",
   "metadata": {},
   "source": [
    "__NOTE:__ You should be careful with how you use the separator as it can lead to unexpected results"
   ]
  },
  {
   "cell_type": "code",
   "execution_count": 48,
   "id": "dc4badfe-c75f-4ab0-9287-22fef13ebb00",
   "metadata": {},
   "outputs": [
    {
     "name": "stdout",
     "output_type": "stream",
     "text": [
      "['Hello', '', '', '', '', '', '', '', 'World']\n",
      "['Hello', '', '', 'World']\n"
     ]
    }
   ],
   "source": [
    "# Caveats when using split()\n",
    "\n",
    "print(\"Hello        World\".split(\" \")) # split() and split(\" \") are not the same\n",
    "\n",
    "print(\"Hello---World\".split(\"-\")) # will split on each \"-\" and return what is in between, i.e. an empty string (nothing being in between)"
   ]
  },
  {
   "cell_type": "code",
   "execution_count": 49,
   "id": "8e846540-dcb8-4b32-8cbe-6f6ce7931cc7",
   "metadata": {},
   "outputs": [
    {
     "name": "stdout",
     "output_type": "stream",
     "text": [
      "['Hello', 'World']\n"
     ]
    }
   ],
   "source": [
    "# You will want to filter out empty strings, which have a boolean value of False\n",
    "print([token for token in \"Hello---World\".split(\"-\") if token])"
   ]
  },
  {
   "cell_type": "markdown",
   "id": "1b739b82-4e14-4ef1-bf42-6f54b26c63af",
   "metadata": {},
   "source": [
    "__BONUS:__ \n",
    "- Along with being able to change the separator, you can also provide a maximum amount of splits made. You do this by providing an integer as the `maxsplit` argument.\n",
    "- Similar to `rstrip()` there is an `rsplit()` that starts splitting from the *right*. There is no *lsplit* because that is essentially what `split()` already does."
   ]
  },
  {
   "cell_type": "code",
   "execution_count": 50,
   "id": "699a4d3e-6e06-4a52-9987-83043853cc5a",
   "metadata": {},
   "outputs": [
    {
     "name": "stdout",
     "output_type": "stream",
     "text": [
      "['banana', 'apple#peach']\n"
     ]
    }
   ],
   "source": [
    "# split w/ maxplit\n",
    "print(\"banana#apple#peach\".split(\"#\", maxsplit=1))"
   ]
  },
  {
   "cell_type": "code",
   "execution_count": 51,
   "id": "ff096ef9-d50b-40c9-a319-20a4c8d21ec1",
   "metadata": {},
   "outputs": [
    {
     "name": "stdout",
     "output_type": "stream",
     "text": [
      "['banana#apple', 'peach']\n"
     ]
    }
   ],
   "source": [
    "# rsplit w/ maxplit -- notice that the order of the tokens remain the same, only the splitting happened from the right\n",
    "print(\"banana#apple#peach\".rsplit(\"#\", maxsplit=1))"
   ]
  },
  {
   "cell_type": "markdown",
   "id": "cf529784-3df1-4655-a1eb-37f4bb0491fe",
   "metadata": {},
   "source": [
    "#### 1.2.3.2. Join\n",
    "> \"Perfectly balanced, as all things should be.\" - some purple guy in a comic book movie\n",
    "\n",
    "For every action, a reaction. For every ying, a yang. For every string split, a join.\n",
    "\n",
    "The `join()` method is essentially the opposite the `split()` method. Instead of being applied on a string, receiving a separator, and returning a list of strings, `join()` is __applied on a separator__, __receives an iterable of strings__, and __returns a string__. It is quite useful to re-join what you have split!"
   ]
  },
  {
   "cell_type": "code",
   "execution_count": 52,
   "id": "2bb65f60-441f-4ad0-8087-4508f2624a60",
   "metadata": {},
   "outputs": [
    {
     "name": "stdout",
     "output_type": "stream",
     "text": [
      "['Together', 'we', 'are', 'stronger']\n"
     ]
    }
   ],
   "source": [
    "list_of_strings = [\"Together\", \"we\", \"are\", \"stronger\"]\n",
    "print(list_of_strings)"
   ]
  },
  {
   "cell_type": "code",
   "execution_count": 53,
   "id": "d087d7d9-d18b-4ef6-82ae-fcddaf6abce0",
   "metadata": {},
   "outputs": [
    {
     "name": "stdout",
     "output_type": "stream",
     "text": [
      "Together we are stronger\n"
     ]
    }
   ],
   "source": [
    "# Notice that we use a single whitespace (\" \") as separator\n",
    "joined_str = \" \".join(list_of_strings)\n",
    "print(joined_str)"
   ]
  },
  {
   "cell_type": "code",
   "execution_count": 54,
   "id": "d8a50f16-4098-4ed4-8323-a6ab50697a65",
   "metadata": {},
   "outputs": [
    {
     "name": "stdout",
     "output_type": "stream",
     "text": [
      "Together_we_are_stronger\n"
     ]
    }
   ],
   "source": [
    "joined_str = \"_\".join(list_of_strings)  # use underscore as separator\n",
    "print(joined_str)"
   ]
  },
  {
   "cell_type": "code",
   "execution_count": 55,
   "id": "81d6f2c3-2006-4f64-a27e-11f6c6024d05",
   "metadata": {},
   "outputs": [
    {
     "name": "stdout",
     "output_type": "stream",
     "text": [
      "Together -- hello world -- we -- hello world -- are -- hello world -- stronger\n"
     ]
    }
   ],
   "source": [
    "joined_str = \" -- hello world -- \".join(list_of_strings) # we can use any string as separator\n",
    "print(joined_str)"
   ]
  },
  {
   "cell_type": "code",
   "execution_count": 56,
   "id": "7c2cfccd-1227-468c-8bdb-909b32ed44c6",
   "metadata": {},
   "outputs": [
    {
     "name": "stdout",
     "output_type": "stream",
     "text": [
      "join_tuple:  hello world\n",
      "join_dict:   hello world\n"
     ]
    }
   ],
   "source": [
    "# The join() method can receive most iterables\n",
    "print(\"join_tuple: \", \" \".join((\"hello\", \"world\")))\n",
    "print(\"join_dict:  \", \" \".join({\"hello\": \"foo\", \"world\": \"barr\"}))  # side note: iterating through a dictionary returns its keys, not its values"
   ]
  },
  {
   "cell_type": "markdown",
   "id": "101ea380-c3e6-477b-8ff7-a00ad4fb554f",
   "metadata": {},
   "source": [
    "<center><img src=\"./media/combine.jpg\" width=\"500\"/><center>"
   ]
  },
  {
   "cell_type": "markdown",
   "id": "6814de31-c7cb-4b55-b6ad-9083816d1be7",
   "metadata": {},
   "source": [
    "# 2. Regular Expressions\n",
    "\n",
    "When dealing with text, Python's built-in string methods will only take you so far. True, there is a lot that can be done with simple string manipulation, but if you are going to be working with large amounts of text, numerous use cases, or more complex problems, it will not be enough.\n",
    "\n",
    "Regular Expressions are a sequence of characters specifically geared towards pattern matching. They have been around since at least the 1950s, and are used in most textual applications you find today, such as search engines, word processors, and text processing utilities. Usage of regular expressions are typically much faster than using built-in Python methods."
   ]
  },
  {
   "cell_type": "markdown",
   "id": "1fb94ee4-c6ec-4b16-be29-147ab0f5369d",
   "metadata": {},
   "source": [
    "## 2.1. RegEx Basics\n",
    "\n",
    "Regular Expressions are also known as RegEx, or simply regex.\\\n",
    "You can consider them as sort of a tiny programming language inside Python (and other languages), and are made available using the `re` module. The regular expression language is relatively small and restricted. It can be quite hard to understand some of the most complex regular expressions, even for those who have used them for a while.\n",
    "\n",
    "We will also need to introduce you to the concept of __raw strings__, which are cousins of *f-strings*. The regex language uses the backslash character (`\\`) quite extensively to indicate special forms and special characters. This conflicts with Python's understanding of backslashes in string literals. To build a raw string, we simply prefix the string content with an __r__, similar to how we prefixed f-strings with an *f* character."
   ]
  },
  {
   "cell_type": "code",
   "execution_count": 57,
   "id": "6cd8bbdf-86a0-4b0f-ad37-b50f0e72200e",
   "metadata": {},
   "outputs": [],
   "source": [
    "raw_str_example = r\"Raw String Example\""
   ]
  },
  {
   "cell_type": "markdown",
   "id": "117f934c-dd2b-47f8-86a4-9f9c3d1e433d",
   "metadata": {},
   "source": [
    "### 2.1.1. Metacharacters\n",
    "As previously stated, certain characters have different purposes within the regex language. An example of this is the humble dot (`.`), which will usually denote the end of a sentence, or separate the decimal units in a number, but in regular expression it defines the concept of matching __anything__. \n",
    "\n",
    "Let's look in some detail to all of them:\n",
    "- `.` - matches every character except a newline\n",
    "- `^` - matches the start of the string\n",
    "- `$` - matches the end of a string, or just before the newline at the end of a string\n",
    "- `*` - will match 0 or more repetitions of the symbol preceding it\n",
    "- `+` - will match 1 or more repetitions of the symbol preceding it\n",
    "- `?` - will match 0 or 1 repetition of the symbol preceding it\n",
    "- `{m}` - will match *exactly* m repetitions of the symbol preceding it\n",
    "- `{m,n}` - will match m to n repetitions of the symbol preceding it\n",
    "- `\\` - either escapes special characters (such as some of the ones defined in this list) or signals a special sequence\n",
    "- `[]` - denote a character set\n",
    "- `|` - will match either one of the symbols around it, similar to an OR operand\n",
    "- `()` - indicates a group matching\n",
    "\n",
    "Notice that these are the *default* ways that the characters behave. There are also some regex flags that can be used to augment/change their behaviour.\\\n",
    "Do note that there are more of these, but they are a bit more advanced."
   ]
  },
  {
   "cell_type": "markdown",
   "id": "19d6301a-87e0-4956-9acd-0167b7bc08bb",
   "metadata": {},
   "source": [
    "### 2.1.2. Special Sequences\n",
    "In the earlier list, we saw how in regex there are certain *special sequences* that are called upon with backslashes.\n",
    "\n",
    "Here are some of them:\n",
    "- `\\A` - matches if the specified characters are at the beginning of the string\n",
    "- `\\b` - matches if the specified characters are at the beginning or end of a word\n",
    "- `\\B` - is the opposite of `\\b`, meaning the specified characters must NOT be at the beginning or end of a word\n",
    "- `\\d` - matches digits (numbers 0-9)\n",
    "- `\\D` - matches anything that is NOT a digit\n",
    "- `\\s` - matches whitespace characters\n",
    "- `\\S` - matches characters that are NOT whitespace\n",
    "- `\\w` - matches word characters (e.g. letters, digits, and underscores)\n",
    "- `\\W` - matches non-word characters\n",
    "- `\\Z` - matches if the specified characters are at the end of the string\n",
    "\n",
    "As you can see, most (except `\\A` and `\\Z`) have lower and upper case counterparts. "
   ]
  },
  {
   "cell_type": "markdown",
   "id": "3e9e1f87-48f4-449d-a349-077efa974e5b",
   "metadata": {},
   "source": [
    "### 2.1.3. Character Sets\n",
    "\n",
    "Let's go a bit deeper into character sets, which are denoted with the metacharacters `[]`:\n",
    "- `[xyz]` returns a match where one of the characters (in this case `x`, `y`, and `z`) is present\n",
    "- `[a-n]` returns a match for any lower case character between `a` and `n` (e.g. `b` and `m` would match, `p` and `z` would not)\n",
    "- `[^xy]` returns a match for any character not `x` or `y`\n",
    "- `[0-9]` similar to `[a-n]` but for numbers\n",
    "- `[a-zA-Z]` extension of `[a-n]` but for all lower and upper case letters"
   ]
  },
  {
   "cell_type": "markdown",
   "id": "297a1f40-6948-4fc1-936f-08c4a27d8e65",
   "metadata": {},
   "source": [
    "<center><img src=\"./media/regex.png\" width=\"500\"/><center>"
   ]
  },
  {
   "cell_type": "markdown",
   "id": "88b85286-791d-4572-8a21-c8d0f4e91495",
   "metadata": {},
   "source": [
    "## 2.2. Using RegEx\n",
    "\n",
    "Are you having fun yet?\n",
    "\n",
    "Let's import the `re` module, which will allow us to call regex functions. There is a third-party package called `regex` that slightly extends the `re` module, but we will ignore it for the time being."
   ]
  },
  {
   "cell_type": "code",
   "execution_count": 58,
   "id": "ab02df30-bcb5-4903-9817-6b15281d4fe5",
   "metadata": {},
   "outputs": [],
   "source": [
    "import re"
   ]
  },
  {
   "cell_type": "markdown",
   "id": "05143884-0d11-415c-93fa-863d863f864c",
   "metadata": {},
   "source": [
    "### 2.2.1. RegEx Functions\n",
    "- `re.search(pattern, string, flags=0)` Scans a string looking for the *first* match, returning the corresponding `Match` object (or None, if no match was found)\n",
    "- `re.split(pattern, string, maxsplit=-1, flags=0)` Similar to `str.split()`, can also return matched separators when using capturing parenthesis\n",
    "- `re.findall(pattern, string, flags)` Returns all non-overlapping patterns as a list of strings or tuples\n",
    "- `re.sub(pattern, replacement, string, count=0, flags=0)` Similar to `str.replace()` but on steroids, can use back-references to transfer matched groups\n",
    "\n",
    "Let's call it a day with these and we will explore some examples."
   ]
  },
  {
   "cell_type": "markdown",
   "id": "37bc5377-5e72-4130-b424-2b824179b62f",
   "metadata": {},
   "source": [
    "### 2.2.2. Examples of Regular Expression Usage\n",
    "In these examples, we will be using `re.findall` to slowly introduce you to the concepts of regex such as the metacharacters and special sequences. The `re.findall` function will scan a string an return a list with all the matched substrings.\n",
    "\n",
    "It is very common for some trial-and-error to happen when building regular expressions, even when you have worked with them in the past. Developers usually will resort to regex testers, either online or using tools.\\\n",
    "One example of this, that provides you a way to build Python specific (left toolbar) and test them in a variety of strings is: https://regex101.com/"
   ]
  },
  {
   "cell_type": "markdown",
   "id": "6d7e8655-3f82-4438-a775-07c4d0fa492e",
   "metadata": {},
   "source": [
    "#### 2.2.2.1. Matching Characters\n",
    "The simplest regular expression is one that matches its literal self. It is not much different than a simple `pattern in string` test."
   ]
  },
  {
   "cell_type": "code",
   "execution_count": 59,
   "id": "09b3df8d-7e5a-466a-8827-3bcd555e0359",
   "metadata": {},
   "outputs": [
    {
     "name": "stdout",
     "output_type": "stream",
     "text": [
      "['a']\n",
      "['abc']\n",
      "['123xyz']\n"
     ]
    }
   ],
   "source": [
    "sentence = \"abc123xyz\"\n",
    "\n",
    "# These will simply return themselves if they exist in the sentence\n",
    "print(re.findall(r\"a\", sentence))\n",
    "print(re.findall(r\"abc\", sentence))\n",
    "print(re.findall(r\"123xyz\", sentence))"
   ]
  },
  {
   "cell_type": "code",
   "execution_count": 60,
   "id": "9b0c8a76-bfba-455a-97df-191b1589c9af",
   "metadata": {},
   "outputs": [
    {
     "name": "stdout",
     "output_type": "stream",
     "text": [
      "[]\n",
      "[]\n"
     ]
    }
   ],
   "source": [
    "# Obviously, when the pattern does not exist it returns an empty list\n",
    "print(re.findall(r\"o\", sentence))\n",
    "print(re.findall(r\"banana\", sentence))"
   ]
  },
  {
   "cell_type": "code",
   "execution_count": 61,
   "id": "9dd08c50-1b9b-419e-b81a-fe27903008ce",
   "metadata": {},
   "outputs": [
    {
     "name": "stdout",
     "output_type": "stream",
     "text": [
      "['a', 'a']\n"
     ]
    }
   ],
   "source": [
    "sentence = \"The Man in the High Castle\"\n",
    "\n",
    "# If there is more than one match, it will return both (there is an \"a\" in the words \"Man\" and \"Castle\")\n",
    "print(re.findall(r\"a\", sentence))"
   ]
  },
  {
   "cell_type": "markdown",
   "id": "89c3ac72-bc14-4b47-9f24-f736e5cdf8da",
   "metadata": {},
   "source": [
    "#### 2.2.2.2. Dot\n",
    "The dot (`.`) is a metacharacter that literally means \"match any character\", by default. As you can imagine, it will usually be used in conjunction with other expressions, usually in the sense of *\"Between patternA and patternB we can have ANY character\"*."
   ]
  },
  {
   "cell_type": "code",
   "execution_count": 62,
   "id": "e97b40d5-2179-4968-8a6b-25191a663fb0",
   "metadata": {},
   "outputs": [
    {
     "name": "stdout",
     "output_type": "stream",
     "text": [
      "['a', 'b', 'c', '1', '2', '3', 'x', 'y', 'z']\n"
     ]
    }
   ],
   "source": [
    "sentence = \"abc123xyz\"\n",
    "print(re.findall(r\".\", sentence))"
   ]
  },
  {
   "cell_type": "markdown",
   "id": "e259f46c-3320-4a4a-b24d-a6bee568b51b",
   "metadata": {},
   "source": [
    "But what if you __need__ to match an actual dot? We will have to escape the character with `\\` so that the regular expression engine does not parse it as a metacharacter, but instead as the punctuation sign. "
   ]
  },
  {
   "cell_type": "code",
   "execution_count": 63,
   "id": "0987379e-7818-40d2-865c-37b9935f3a44",
   "metadata": {},
   "outputs": [
    {
     "name": "stdout",
     "output_type": "stream",
     "text": [
      "['.', '.']\n"
     ]
    }
   ],
   "source": [
    "sentence = \"Mr. Anderson, I have been expecting you.\"\n",
    "print(re.findall(r\"\\.\", sentence))"
   ]
  },
  {
   "cell_type": "markdown",
   "id": "6246e8a0-108b-4159-8e5e-29ee58d39f02",
   "metadata": {},
   "source": [
    "#### 2.2.2.3. Start and End of String\n",
    "The characters `^` and `$` will, respectively, consider the start and end of a string. They are particularly powerful when you know that the strings will have a particular pattern at these locations."
   ]
  },
  {
   "cell_type": "code",
   "execution_count": 64,
   "id": "97d9df6f-faf2-4544-82f0-e03e48576f24",
   "metadata": {},
   "outputs": [
    {
     "name": "stdout",
     "output_type": "stream",
     "text": [
      "['M']\n",
      "[]\n",
      "['.']\n",
      "[]\n"
     ]
    }
   ],
   "source": [
    "sentence = \"Mr. Anderson, I have been expecting you.\"\n",
    "\n",
    "print(re.findall(r\"^M\", sentence))\n",
    "\n",
    "print(re.findall(r\"^A\", sentence)) # the string does not start with an \"A\"\n",
    "\n",
    "print(re.findall(r\"\\.$\", sentence)) # notice that we escape the dot in order to look for the punctuation sign\n",
    "\n",
    "print(re.findall(r\"u$\", sentence)) # the string does not end on a \"u\""
   ]
  },
  {
   "cell_type": "markdown",
   "id": "d7fda457-69bd-4c53-8397-f91ceedf9c91",
   "metadata": {},
   "source": [
    "#### 2.2.2.4. Sequence Sets\n",
    "Sometimes you want to open up possibilities, such as matching *any* lowercase letter, *any* digit, or *any* vowel. Obviously you don't want to *always* have to write every minute possibility, which is why we have *sequence sets* (`[]`).\n",
    "\n",
    "Inside the sequence set, we have a variety of options to choose from. In fact, sequence sets have their own subset of rules that go beyond those that regular expressions as a whole obey. Let's look at a couple of them:\n",
    "- Metacharacters (e.g. `.`, `*`, `+`, etc.) don't mean much inside of sequence sets and will behave as their raw counterparts\n",
    "- We can use `-` to emphasize a __range__ of characters (e.g. `[0-9]` will match any digit from 0 to 9), as long as it makes sense\n",
    "- Using `^` at the start of a sequence set will negate the content (e.g. `[^0-9]` will match any character __not__ a digit from 0 to 9)\n",
    "\n",
    "Let's see some practical examples:"
   ]
  },
  {
   "cell_type": "code",
   "execution_count": 65,
   "id": "63d5cda9-f934-42c2-bbc8-cac19aeddabc",
   "metadata": {},
   "outputs": [
    {
     "name": "stdout",
     "output_type": "stream",
     "text": [
      "Catch the Dot and the Comma:  [',', '.']\n",
      "All Digits:  ['3', '7', '1', '0']\n",
      "Digits from 3 to 7:  ['3', '7']\n",
      "Only upper cased letters:  ['I', 'I']\n",
      "Anything BUT digits and letters:  [' ', ' ', ' ', ' ', ' ', ' ', ' ', ' ', ' ', ',', ' ', ' ', ' ', ' ', ' ', ' ', ' ', ' ', '.']\n"
     ]
    }
   ],
   "source": [
    "sentence = \"If I have 3 apples and you have 7 pears, we have 10 pieces of fruit in total.\"\n",
    "\n",
    "print(\"Catch the Dot and the Comma: \", re.findall(r\"[.,]\", sentence)) # notice that the dot does not need to be escaped \n",
    "\n",
    "print(\"All Digits: \", re.findall(r\"[0-9]\", sentence))  # notice that the 10 comes out as '1' and '0', not as 10\n",
    "\n",
    "print(\"Digits from 3 to 7: \", re.findall(r\"[3-7]\", sentence))\n",
    "\n",
    "print(\"Only upper cased letters: \", re.findall(r\"[A-Z]\", sentence))\n",
    "\n",
    "print(\"Anything BUT digits and letters: \", re.findall(r\"[^a-zA-Z0-9]\", sentence)) # notice how we can have multiple ranges together"
   ]
  },
  {
   "cell_type": "markdown",
   "id": "ecc433fd-2345-4eee-8724-e4b956c3f80a",
   "metadata": {},
   "source": [
    "__Bonus:__ Let's quickly look at the difference between using a sequence set and not using it.\\\n",
    "You will notice how using a sequence set is like saying *Any of these characters should match*, whereas without it you are looking for a very specific pattern."
   ]
  },
  {
   "cell_type": "code",
   "execution_count": 66,
   "id": "172d83ad-8451-49e0-8918-93a965554448",
   "metadata": {},
   "outputs": [
    {
     "name": "stdout",
     "output_type": "stream",
     "text": [
      "With sequence set:  ['a', 'b', 'c']\n",
      "Without sequence set:  ['abc']\n"
     ]
    }
   ],
   "source": [
    "sentence = \"abc123xyz\"\n",
    "\n",
    "print(\"With sequence set: \", re.findall(r\"[abc]\", sentence))\n",
    "print(\"Without sequence set: \", re.findall(r\"abc\", sentence))"
   ]
  },
  {
   "cell_type": "markdown",
   "id": "fc74d126-2515-482c-9221-f6da34869c3a",
   "metadata": {},
   "source": [
    "__Bonus:__ Moreover, using *ranges* is like writing down all the possibilities in the range"
   ]
  },
  {
   "cell_type": "code",
   "execution_count": 67,
   "id": "04b7412f-f214-4f1f-9c75-8ef5eaa44a23",
   "metadata": {},
   "outputs": [
    {
     "name": "stdout",
     "output_type": "stream",
     "text": [
      "With sequence set:  ['1', '2', '3']\n",
      "Without sequence set:  ['1', '2', '3']\n"
     ]
    }
   ],
   "source": [
    "print(\"With sequence set: \", re.findall(r\"[0123456789]\", sentence))\n",
    "print(\"Without sequence set: \", re.findall(r\"[0-9]\", sentence))"
   ]
  },
  {
   "cell_type": "markdown",
   "id": "73069c9a-eddc-4bcb-b532-7a37c5c5d372",
   "metadata": {},
   "source": [
    "#### 2.2.2.5. Quantifiers\n",
    "Using quantifiers is a cool trick to save some effort writing down repetitive expressions, as well as taking you mind off of specifics about the quantity of the repetition. They will __always__ be preceded by some other symbol which is what will be repeated. \n",
    "\n",
    "Let's review them:\n",
    "- `?` is 0 to 1 (optional character)\n",
    "- `*` is 0 or more\n",
    "- `+` is 1 or more (at least once)\n",
    "- `{m}` is exactly `m` repetitions\n",
    "- `{m,n}` is between `m` and `n`\n",
    "- `{m,}` is `m` or more"
   ]
  },
  {
   "cell_type": "code",
   "execution_count": 68,
   "id": "4a7710a1-9c59-4175-a97d-67e36ff1f7b8",
   "metadata": {},
   "outputs": [
    {
     "name": "stdout",
     "output_type": "stream",
     "text": [
      "['abc', 'ac', 'ac']\n",
      "['bc', 'bcc', 'b', 'b', 'bcccc']\n",
      "['ac', 'ac']\n",
      "['aa']\n",
      "['bcc', 'bccc']\n"
     ]
    }
   ],
   "source": [
    "sentence = \"abc bcc ac aa cc ba acb bcccc\"\n",
    "\n",
    "print(re.findall(r\"ab?c\", sentence)) # 'b' is an optional character\n",
    "\n",
    "print(re.findall(r\"bc*\", sentence)) # as long as there is a 'b', match if there are 0 or more 'c' \n",
    "\n",
    "print(re.findall(r\"ac+\", sentence)) # there MUST be at least one 'c' after an 'a'\n",
    "\n",
    "print(re.findall(r\"a{2}\", sentence)) # exactly 2 'a' (i.e, 'aa')\n",
    "\n",
    "print(re.findall(r\"bc{2,3}\", sentence)) # notice that this does not segment by token, so the spaces are irrelevant"
   ]
  },
  {
   "cell_type": "markdown",
   "id": "80d76c17-c0cb-4da1-9e1f-cab90fb8915c",
   "metadata": {},
   "source": [
    "__Bonus:__ Let's try our hand at finding all proper digits in one of the previous sentences. Most expressions are *greedy*, which means it will try to match the largest non-overlapping pattern possible.\n",
    "\n",
    "Here, while technically `[0-9]+` *could* match 1 and 0 (from the token 10), individually, it will grab the most amount of valid characters. In this case, the number 10 has *one or more* sequential digits, which is what the expression is looking for."
   ]
  },
  {
   "cell_type": "code",
   "execution_count": 69,
   "id": "8d006d4c-f39f-4460-96c9-f12fdcf84e81",
   "metadata": {},
   "outputs": [
    {
     "name": "stdout",
     "output_type": "stream",
     "text": [
      "['3', '7', '10']\n"
     ]
    }
   ],
   "source": [
    "sentence = \"If I have 3 apples and you have 7 pears, we have 10 pieces of fruit in total.\"\n",
    "\n",
    "print(re.findall(r\"[0-9]+\", sentence))"
   ]
  },
  {
   "cell_type": "markdown",
   "id": "744c9357-7768-4eda-8352-f10c4d5e57d4",
   "metadata": {},
   "source": [
    "#### 2.2.2.6. Special Sequences\n",
    "Let's quickly look at a couple examples of the special sequences we talked about earlier. Remember that they must be escaped, even inside sequence sets (`[]`)."
   ]
  },
  {
   "cell_type": "code",
   "execution_count": 70,
   "id": "a287c41d-f2cb-4be0-96c1-d6925c47deb2",
   "metadata": {},
   "outputs": [
    {
     "name": "stdout",
     "output_type": "stream",
     "text": [
      "['123']\n",
      "['abc', '123', 'xyz']\n",
      "[' ', ' ']\n",
      "['abc ', ' xyz']\n"
     ]
    }
   ],
   "source": [
    "sentence = \"abc 123 xyz\"\n",
    "\n",
    "print(re.findall(r\"\\d+\", sentence))\n",
    "\n",
    "print(re.findall(r\"\\w+\", sentence))  # remember that \\w matches more than just letters\n",
    "\n",
    "print(re.findall(r\"\\s\", sentence))\n",
    "\n",
    "print(re.findall(r\"\\D+\", sentence))"
   ]
  },
  {
   "cell_type": "code",
   "execution_count": 71,
   "id": "aff24853-4d4e-4696-879a-e6b23bc1b1f4",
   "metadata": {},
   "outputs": [
    {
     "name": "stdout",
     "output_type": "stream",
     "text": [
      "['pears', 'pieces']\n"
     ]
    }
   ],
   "source": [
    "sentence = \"If I have 3 apples and you have 7 pears, we have 10 pieces of fruit in total.\"\n",
    "\n",
    "print(re.findall(r\"\\bp\\w+\", sentence))"
   ]
  },
  {
   "cell_type": "markdown",
   "id": "e12fc349-49b4-47e0-a6ab-3efc0a6a8b84",
   "metadata": {},
   "source": [
    "Deconstructing `\\bp\\w+`:\n",
    "- `\\b` -> `p` -> `\\w` -> `+`\n",
    "   - `\\b` = __start of a word__\n",
    "   - `p` = letter `p`\n",
    "   - `\\w+` = __quantifier__ one or more times `\\w`\n",
    "       - `\\w` = __word character__ (letters, digits, underscores)\n",
    "    \n",
    "Plain English: start of word boundary (`\\b`), followed by the letter `p`, followed by *one or more* word characters (`\\w+`)"
   ]
  },
  {
   "cell_type": "markdown",
   "id": "d927026f-e2fe-4948-8826-8d0189c32236",
   "metadata": {},
   "source": [
    "#### 2.2.2.7. Capture Groups\n",
    "Sometimes it is not the pattern itself that we need, sections of it. Imagine you are extracting filenames from a list of strings, does it matter what the extension is? Or if you want the extension, do you want to be cleaning it?\n",
    "\n",
    "With capture groups `()` we can do just that, making sure that the regular expression engine *knows* what we are looking for."
   ]
  },
  {
   "cell_type": "code",
   "execution_count": 72,
   "id": "98851549-d249-4815-b790-21cc0c190814",
   "metadata": {},
   "outputs": [
    {
     "name": "stdout",
     "output_type": "stream",
     "text": [
      "['filename_1']\n",
      "[]\n",
      "[]\n",
      "---\n",
      "['filename_1']\n",
      "['filename_2']\n",
      "[]\n"
     ]
    }
   ],
   "source": [
    "sentence_list = [\"filename_1.png\",  \"filename_2.jpeg\",  \"filename_3.jpg.png\"]\n",
    "\n",
    "for sentence in sentence_list:\n",
    "    print(re.findall(r\"^(\\w+)\\.png$\", sentence)) # retrieving PNG file names, notice we escape the dot and \\w matches underscores as well\n",
    "\n",
    "print(\"---\")\n",
    "\n",
    "for sentence in sentence_list:\n",
    "    print(re.findall(r\"^(\\w+)\\.[a-z]{3,4}$\", sentence)) # open file extensions to be between 3 and 4 characters"
   ]
  },
  {
   "cell_type": "markdown",
   "id": "99d87b0d-1ac5-4bf2-a036-3941d22c7bb0",
   "metadata": {},
   "source": [
    "Remember that `re.findall` can also return tuples when it matches multiple groups at once:"
   ]
  },
  {
   "cell_type": "code",
   "execution_count": 73,
   "id": "a620f6b2-630c-4177-b6dc-8d62c4e097df",
   "metadata": {},
   "outputs": [
    {
     "name": "stdout",
     "output_type": "stream",
     "text": [
      "[('filename_1', 'png')]\n"
     ]
    }
   ],
   "source": [
    "sentence = \"filename_1.png\"\n",
    "\n",
    "print(re.findall(r\"^(\\w+)\\.([a-z]{3,4})$\", sentence)) # grab tuple of (filename, file extension)"
   ]
  },
  {
   "cell_type": "markdown",
   "id": "117eebb1-30e2-4c4d-9622-705e813aafc8",
   "metadata": {},
   "source": [
    "Deconstructing `^(\\w+)\\.([a-z]{3,4})$`:\n",
    "\n",
    "- `^` -> `(\\w -> +)` -> `\\.` -> `([a-z] -> {3,4})` -> `$`\n",
    "    - `^` = __start of string__\n",
    "    - `(\\w -> +)` = __capture group__ of `\\w+`\n",
    "        - `\\w+`= __quantifier__ one or more times `\\w`\n",
    "            - `\\w` = __word character__ (letters, digits, underscores)\n",
    "    - `\\.` = the punctuation symbol dot `.`(escaped)\n",
    "    -  `([a-z] -> {3,4})` = __capture group__ of `[a-z]{3,4}`\n",
    "        - `[a-z]{3,4}` = __quantifier__ three or four repetitions of `[a-z]`\n",
    "            - `[a-z]` = __sequence set__ of characters between lower case `a` and lower case `z`\n",
    "    - `$` = __end of string__\n",
    "\n",
    "Plain English: Scan string (`^...$`) and capture (`(...)`) a pattern composed of *one or more* word characters (`\\w+`), which is followed by a dot (`\\.`), followed by *three or four* lowercase letters from *a* to *z* (`[a-z]{3,4}`)."
   ]
  },
  {
   "cell_type": "markdown",
   "id": "50860188-0625-4b6c-880f-f19baa2379a3",
   "metadata": {},
   "source": [
    "### 2.2.3. Match Object\n",
    "\n",
    "Functions that return `Match` objects always return `None` when they find no match, this makes it convenient when you want to test if there was a match\n",
    "\n",
    "```python\n",
    "match = re.search(pattern, string)\n",
    "if match:\n",
    "    do_stuff(match)\n",
    "```\n",
    "\n",
    "Common methods used for `Match` objects are:\n",
    "- `match.group(group1: int, ..., groupN: int)` returns one or more subgroup; if one group then returns the string value, else then returns a tuple with string values; without arguments, defaults to 0 (the whole match is returned)\n",
    "- `match.groups()` returns all groups, can receive a default value if one group is `None`\n",
    "- `match.start(group: int)` and `match.end(group: int)` returns the indices of the start and end of the group\n",
    "- `match.span(group: int)` returns a tuple with (start, end)\n",
    "\n",
    "Match objects require a better understanding of group matching with capturing parenthesis `()`, that can be a bit of a rabbit hole. We are going to go through a very *surface level* example:"
   ]
  },
  {
   "cell_type": "code",
   "execution_count": 74,
   "id": "435dba2a-c65e-48e9-84a9-86804361b44d",
   "metadata": {},
   "outputs": [],
   "source": [
    "match = re.search(r\"(\\w+) (\\w+)\", \"Isaac Newton was a physicist.\")"
   ]
  },
  {
   "cell_type": "markdown",
   "id": "2dfa2a3d-3a99-482b-b0d1-e8a2548bddd5",
   "metadata": {},
   "source": [
    "Too much? Let's explain the regex `r\"(\\w+) (\\w+)\"` in greater detail:\n",
    "\n",
    "- `r\"...\"` represents that the pattern should be considered a __raw string__\n",
    "- `()` represents a __matching group__\n",
    "  - `(\\w+)` represents a matching group of `\\w+`\n",
    "  - `\\w+` represents the __special character__ `\\w` *followed by* the __quantifier__ `+`\n",
    "    - `\\w` represents any word character (letters, digits, underscores)\n",
    "    - `+` is the quantifier that states that we must find __one or more__ of the preceding symbol\n",
    "      - Thus `\\w+` represents __one or more word characters__\n",
    "     \n",
    "In plain English, `r\"(\\w+) (\\w+)\"` represents the capture of two *tokens* (using \"word\" gets dangerous in these territories) composed of one or more word characters.\\\n",
    "There will be two groups, one for each `()` in the regex (in this case, both are `(\\w+)`).\\\n",
    "The function `re.search(...)` will scan the sentence from left to right and will __stop__ at the first location where the regular expression produces a valid match."
   ]
  },
  {
   "cell_type": "code",
   "execution_count": 75,
   "id": "c01e73d1-7eef-4bb7-8ff8-eb4d734262ac",
   "metadata": {},
   "outputs": [
    {
     "data": {
      "text/plain": [
       "('Isaac', 'Newton')"
      ]
     },
     "execution_count": 75,
     "metadata": {},
     "output_type": "execute_result"
    }
   ],
   "source": [
    "# Let's see what it matched\n",
    "match.groups()"
   ]
  },
  {
   "cell_type": "markdown",
   "id": "247446a3-7e50-4993-b29f-a66b1773e091",
   "metadata": {},
   "source": [
    "The regular expression `r\"(\\w+) (\\w+)\"` match only `Isaac Newton`, and not `Newton was`, because search stopped its search once `Isaac Newton` was a valid match."
   ]
  },
  {
   "cell_type": "code",
   "execution_count": 76,
   "id": "14c55a36-dcd1-4578-8710-f3cde6a3de8f",
   "metadata": {},
   "outputs": [
    {
     "name": "stdout",
     "output_type": "stream",
     "text": [
      "Isaac Newton\n",
      "Isaac\n",
      "Newton\n"
     ]
    }
   ],
   "source": [
    "print(match.group(0))  # when we ask for the 0th group, it will return the entire matching string\n",
    "print(match.group(1))\n",
    "print(match.group(2))"
   ]
  },
  {
   "cell_type": "code",
   "execution_count": 77,
   "id": "893e727a-e601-4f44-912b-f8f84829987c",
   "metadata": {},
   "outputs": [
    {
     "name": "stdout",
     "output_type": "stream",
     "text": [
      "('Isaac', 'Newton')\n"
     ]
    }
   ],
   "source": [
    "print(match.group(1, 2)) # we can specify multiple groups"
   ]
  },
  {
   "cell_type": "code",
   "execution_count": 78,
   "id": "ff0f932d-cb64-45e4-bcdf-48b7d163d504",
   "metadata": {},
   "outputs": [
    {
     "name": "stdout",
     "output_type": "stream",
     "text": [
      "Group:  Isaac\n",
      "Group Index:  1\n",
      "Start:  0\n",
      "End:  5\n",
      "Span:  (0, 5)\n",
      "---\n",
      "Group:  Newton\n",
      "Group Index:  2\n",
      "Start:  6\n",
      "End:  12\n",
      "Span:  (6, 12)\n",
      "---\n"
     ]
    }
   ],
   "source": [
    "for _idx, match_str in enumerate(match.groups()):\n",
    "    group_idx = _idx + 1\n",
    "    print(\"Group: \", match_str)\n",
    "    print(\"Group Index: \", group_idx)\n",
    "    print(\"Start: \", match.start(group_idx))\n",
    "    print(\"End: \", match.end(group_idx))\n",
    "    print(\"Span: \", match.span(group_idx))\n",
    "    print(\"---\")"
   ]
  },
  {
   "cell_type": "markdown",
   "id": "0e945533-3e48-480a-a64f-da89d4904c28",
   "metadata": {},
   "source": [
    "## Wrapping Up\n",
    "\n",
    "This notebook was dedicated exclusively to delving deeper into `strings`.\\\n",
    "You learned many different built-in methods in Python designed specifically for strings, and how this data structure also shares some common touchpoints with other, sequence-like, structures.\n",
    "\n",
    "Then we jumped into the deep end by learning about *Regular Expressions*. This quasi-language within a language opens up many advanced possibilities when working with strings.\n",
    "\n",
    "Great work!\\\n",
    "Now we can move onto the next part of this SLU: `Exceptions` and `File Handling`, where you will learn about different kinds of errors, how to deal with them, and how to read/write files."
   ]
  }
 ],
 "metadata": {
  "kernelspec": {
   "display_name": "Python 3 (ipykernel)",
   "language": "python",
   "name": "python3"
  },
  "language_info": {
   "codemirror_mode": {
    "name": "ipython",
    "version": 3
   },
   "file_extension": ".py",
   "mimetype": "text/x-python",
   "name": "python",
   "nbconvert_exporter": "python",
   "pygments_lexer": "ipython3",
   "version": "3.11.8"
  }
 },
 "nbformat": 4,
 "nbformat_minor": 5
}
