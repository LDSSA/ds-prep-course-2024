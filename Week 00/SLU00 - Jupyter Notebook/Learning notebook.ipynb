{
 "cells": [
  {
   "cell_type": "markdown",
   "metadata": {},
   "source": [
    "# SLU00 - Jupyter Notebook: Learning notebook\n",
    "\n",
    "\n",
    "Jupyter notebook is an interactive way to write code. It is often used for teaching, prototyping code and exploring data because it is easy to see the immediate output of every code chunk. It can also include plots and images.\n",
    "\n",
    "We'll be using Jupyter notebooks version 7 throughout the course. Every unit has learning notebooks where we explain the new concepts and exercise notebooks where you can practice your new skills.\n",
    "\n",
    "## 0. Table of contents\n",
    "Let's start by previewing the contents of the notebook. Open the table of contents from the `View` menu or do the same by pressing `Ctrl`+`Shift`+`K`.\n",
    "\n",
    "Click on the header sections to move around the notebook. You can view and navigate the table of contents in all learning and exercise notebooks in this way.\n",
    "\n",
    "Another way to move around the notebook is to use the `up` and `down` arrows. You will notice that the currently selected cell has a thick blue bar on the left.\n",
    "\n",
    "Now before we move on, go to the `Settings` menu and check that the `Autosave Documents` option is selected. This will save you a lot of headaches - the notebook will be automatically saved every now and then so that you don't lose your work in a crash.\n",
    "\n",
    "You can also notice the `Last Checkpoint` time on top of the notebook. Checkpoint is a copy of your notebook created in the `.ipynb_checkpoints` directory every time you manually save the notebook. You can always recover the checkpoint copy from there in case the original notebook gets corrupted."
   ]
  },
  {
   "cell_type": "markdown",
   "metadata": {},
   "source": [
    "## 1. How to use Jupyter notebooks\n",
    "\n",
    "The Jupyter interface has three sections. In the following image, you can see the Menu bar in blue, the Toolbar in red and a Code cell in yellow:\n",
    "\n",
    "<img src=\"media/jupyter_bars.png\"/>\n",
    "<img src=\"media/jupyter_8.PNG\"/>\n",
    "\n",
    "You can see a code cell just below this cell as well:"
   ]
  },
  {
   "cell_type": "markdown",
   "metadata": {},
   "source": [
    "In case you are wondering why this cell is different, the cells where I'm teaching you the concepts are called markdown cells. We will understand what they are in a later stage in this SLU. For now, focus on reading them and applying the concepts in the code cells.\n",
    "\n",
    "Notice that cells have their own small menu which appears when the cell is selected. It allows you to duplicate, move and delete the cell, and also insert another cell above or below. The same functions can be executed from the `Edit` menu and some of them also via a keyboard shortcut.\n",
    "\n",
    "<img src=\"media/jupyter_code_cell_menu.png\"/>"
   ]
  },
  {
   "cell_type": "markdown",
   "metadata": {},
   "source": [
    "Now go ahead and type `print(\"hello world\")` in the code cell below, then click the Run icon in the Toolbar (it looks like a play button). "
   ]
  },
  {
   "cell_type": "code",
   "execution_count": 1,
   "metadata": {},
   "outputs": [],
   "source": [
    "# Tip: Just copy and paste the print statement.\n",
    "# BTW, this is a code cell, but the lines starting with the hash symbol # are comments - they are ignored.\n",
    "# For instance, the code below will not be executed because it is commented.\n",
    "#print('just ignore me')"
   ]
  },
  {
   "cell_type": "markdown",
   "metadata": {},
   "source": [
    "The output should look like this:\n",
    "\n",
    "<img src=\"media/jupyter_hello_world.png\"/>\n",
    "\n",
    "Congratulations! You've just executed your first code in first jupyter notebook cell. Let's hope this is the first of many to come!\n",
    "\n",
    "If you're wondering what's the [4] in the image, it's the sequential execution number. It means that this was the fourth cell that was run in my notebook. You should have a [1] or [2] in your current notebook. Notice that running the same cell twice will also update the sequential number. Reselect the cell (by clicking on it) and click on \"Run\" in the Toolbar to see it being updated.\n",
    "\n",
    "Notice that the cell has two parts: the upper part with a bounding box is the input code and the lower part is the output or result of the code."
   ]
  },
  {
   "cell_type": "markdown",
   "metadata": {},
   "source": [
    "Also, you do not have to run each cell one by one. Go ahead and type `print(\"I'm a professional programmer now\")` in the code cell below and instead of clicking the Run icon in the Toolbar, choose `Run` in the Menu bar and then select `Run All Cells`. This will run all the cells in the notebook, it doesn't matter how many cells you have."
   ]
  },
  {
   "cell_type": "code",
   "execution_count": null,
   "metadata": {},
   "outputs": [],
   "source": []
  },
  {
   "cell_type": "markdown",
   "metadata": {},
   "source": [
    "You can also swap cell positions by clicking on the `up` or `down` arrows in the toolbar. Give it a try and swap the two cells above.\n",
    "\n",
    "You might have noticed that the code cells sometimes turns orange. This happens when the cell code was changed after execution. It is meant to help the user be more aware of changes made in the notebook.\n",
    "\n",
    "But to be honest, I have never even used the `Run`command while I was in the academy. I would always restart the notebook and then run all cells. To understand why, let me introduce you to a new concept: the notebook kernel."
   ]
  },
  {
   "cell_type": "markdown",
   "metadata": {},
   "source": [
    "## 2. Notebook kernel\n",
    "\n",
    "The notebook kernel is the “computational engine” that executes the code contained in the Jupyter notebook document. \n",
    "This notebook was created with Python 3, so the kernel executes Python code. There are kernels for other languages but in the prep course and in the academy, we will only be using Python 3.\n",
    "When you open a Jupyter notebook document, the associated kernel is automatically launched. When the notebook is executed, the kernel performs the computation and produces the results. Depending on the type of computations, the kernel may consume significant CPU and RAM. However, for the prep course and the academy, you should be more than fine with 8GB of RAM."
   ]
  },
  {
   "cell_type": "markdown",
   "metadata": {},
   "source": [
    "Now, what does this have to do with restarting the notebook before running all cells? We'll almost there! Look at this example:\n",
    "\n",
    "<img src=\"media/jupyter_2.PNG\"/>\n",
    "\n",
    "For the purpose of this example, just imagine that I'm storing the value 1 in a variable named `a`, the value 2 in a variable named `b` and the value 3 in a variable named `c`. And in the end, I'm printing them. It's straightforward, right?\n",
    "\n",
    "(What is a variable you ask? It is like a box to store things. We can store for instance numbers or text and later open the box - call the variable - and see what is inside.)"
   ]
  },
  {
   "cell_type": "markdown",
   "metadata": {},
   "source": [
    "Now, imagine that for some reason I later decide that I don't want to store the value 2 in variable `b`, in fact, I don't want to create the variable `b` at all. So I delete that cell (you can do the same by clicking `Edit` -> `Delete Cell` in the Menu bar. Next to it is an option `Undo Cell Operation` in case you delete the wrong cell). I then decide to run all cells again. This is what I get: \n",
    "\n",
    "<img src=\"media/jupyter_3.PNG\"/>"
   ]
  },
  {
   "cell_type": "markdown",
   "metadata": {},
   "source": [
    "This looks strange right? There is no `b` defined in my notebook, but it seems that the notebook somehow \"remembers\" that `b` used to store the value 2. Let's go ahead and print only `b`:\n",
    "\n",
    "<img src=\"media/jupyter_4.PNG\"/>"
   ]
  },
  {
   "cell_type": "markdown",
   "metadata": {},
   "source": [
    "So, our suspicions are true! The lesson here is that the jupyter kernel stored the information \"b = 2\" in memory and deleting the cell that previously had this instruction **does not** erase this information from memory. So, if we really don't want this information to be stored in memory, what can we do?\n",
    "\n",
    "As I've told you before, this is why I restart the notebook before running all cells. Restarting the notebook will erase everything from the kernel memory and when you run all cells again **only** the current code cells will be considered. \n",
    "Let's try this! In the Menu bar select `Kernel` -> `Restart Kernel and Run All Cells...`. You should see something like this:\n",
    "\n",
    "<img src=\"media/jupyter_5.PNG\"/>"
   ]
  },
  {
   "cell_type": "markdown",
   "metadata": {},
   "source": [
    "So now we have an error saying that `b` is not defined, which sounds about right since `b` is not defined anywhere in our notebook! This may seem like a simple detail and I'm sure some of you are thinking \"this is stupid and I would never do this\" but trust me: along the prep course or the academy this is a very common mistake to do and you can end up spending a lot of time in bugs that will trace back to this issue. \n",
    "\n",
    "Try this out on your own in the cells below (choose your favourite way to delete a cell):"
   ]
  },
  {
   "cell_type": "code",
   "execution_count": 2,
   "metadata": {},
   "outputs": [],
   "source": [
    "a = 1"
   ]
  },
  {
   "cell_type": "code",
   "execution_count": 3,
   "metadata": {},
   "outputs": [],
   "source": [
    "b = 2"
   ]
  },
  {
   "cell_type": "code",
   "execution_count": 4,
   "metadata": {},
   "outputs": [],
   "source": [
    "c = 3"
   ]
  },
  {
   "cell_type": "code",
   "execution_count": 5,
   "metadata": {
    "scrolled": true
   },
   "outputs": [
    {
     "name": "stdout",
     "output_type": "stream",
     "text": [
      "1 2 3\n"
     ]
    }
   ],
   "source": [
    "print(a, b, c)"
   ]
  },
  {
   "cell_type": "markdown",
   "metadata": {},
   "source": [
    "### 2.1 Running cells\n",
    "When cells with code are running, a star appears next to them. Most of the code in this course will run in the blink of an eye, so you might not notice the star unless you create the programmer's nightmare, the infinite loop (which you can consider something like a rite of passage &#128540; ). With more computationally intensive code, such as fitting a data science model, it will become noticeable.\n",
    "\n",
    "The code cell below was intentionally constructed to run for longer so that you can see the star. Try it out!"
   ]
  },
  {
   "cell_type": "code",
   "execution_count": 6,
   "metadata": {},
   "outputs": [],
   "source": [
    "import time\n",
    "time.sleep(5)"
   ]
  },
  {
   "cell_type": "markdown",
   "metadata": {},
   "source": [
    "Another indication that something in the notebook is running is the dot in the top right corner that turns black:\n",
    "\n",
    "<img src=\"media/jupyter_kernel_running.png\">\n",
    "\n",
    "If you ever need to stop a running notebook, use `Kernel` -> `Interrupt Kernel`."
   ]
  },
  {
   "cell_type": "markdown",
   "metadata": {},
   "source": [
    "## 3. Shortcuts\n",
    "\n",
    "Last but not least, I'll teach you some shortcuts that will greatly improve your productivity in Jupyter notebooks.\n",
    "\n",
    "Up until now we've been using the edit mode of Jupyter notebooks. A cell is in edit mode when its boundary turns from gray to blue:\n",
    "\n",
    "<img src=\"media/jupyter_edit_mode.png\"/>\n",
    "\n",
    "When you click on a cell or press `Enter` while the cell is selected, it goes into edit mode. However, if you press `Esc` or click outside of the area of the cell, you will see that the boundary turns gray again - the cell will be in command mode:\n",
    "\n",
    "<img src=\"media/jupyter_command_mode.png\"/>\n",
    "\n",
    "Try it for yourself in the cell below:"
   ]
  },
  {
   "cell_type": "code",
   "execution_count": 7,
   "metadata": {},
   "outputs": [],
   "source": [
    "a = 1"
   ]
  },
  {
   "cell_type": "markdown",
   "metadata": {},
   "source": [
    "You have just learned the first two shortcuts - `Enter` and `Esc` - for switching between edit and command mode. While in command mode, you can use many more shortcuts that will make your life easier! \n",
    "\n",
    "- With the keyboard arrows `up` and `down` you can select different cells in your notebook. \n",
    "- Typing `A` will insert a cell above the cell that is selected and typing `B` will insert a cell below the cell that is selected. \n",
    "- Typing `D` two times in fast succession will delete the cell that is selected.\n",
    "- Using `Shift` and then the keyboard arrows `up` and `down` will select various code cells.\n",
    "- You can then type `Shift`+`M` to merge the cells."
   ]
  },
  {
   "attachments": {},
   "cell_type": "markdown",
   "metadata": {},
   "source": [
    "### 3.1 Help, my cells have disappeared!\n",
    "\n",
    "Maybe in the heat of moving around the notebook and trying out the keyboard shortcuts, this happened to you:\n",
    "\n",
    "<img src=\"media/jupyter_hidden_cells.png\">\n",
    "\n",
    "This happens when you select a markdown cell with code cells below it and press the `left` arrow. The code cells are hidden. To show the cells again, press the `right` arrow. (Can you find out what else the `right` arrow does?)"
   ]
  },
  {
   "cell_type": "markdown",
   "metadata": {},
   "source": [
    "### 3.2 Markdown cells\n",
    "If you type `M` the cell will change to markdown and typing `Y` will change the cell back to code. (You can see more options for cell types in `Run` -> `Cell Type`).\n",
    "\n",
    "Markdown cells are cells that accept text with a specific syntax. They can be used to teach concepts (as I've been doing in this notebook) but during the academy I mostly used them to store information that was too important to go into a comment. Try it for yourself: change the cell below to markdown and copy paste the following text, then run the cell:\n",
    "\n",
    "\\# This is how you can create a header in markdown\n",
    "\n",
    "\\## This is a smaller header\n",
    "\n",
    "And to create a list:\n",
    "\n",
    "\\- Banana\n",
    "\n",
    "\\- Papaya\n",
    "\n",
    "\\- Orange"
   ]
  },
  {
   "cell_type": "code",
   "execution_count": null,
   "metadata": {},
   "outputs": [],
   "source": []
  },
  {
   "cell_type": "markdown",
   "metadata": {},
   "source": [
    "Now you've learned how to to create a header and a list using markdown cells! Check out [this guide](https://www.markdownguide.org/) if you want to learn more about markdown syntax."
   ]
  },
  {
   "cell_type": "markdown",
   "metadata": {},
   "source": [
    "###  3.3 More useful shortcuts\n",
    "There are three handy shortcuts that can be used in both command and edit mode. The first one is `Shift`+`Enter` which will run the current cell and move to the next one (a new cell is created if it does not exist). To run the current cell and create a new cell under it so that you can easily continue coding, press `Alt`+`Enter`. The third shortcut is `Ctrl`+`Enter` which will just run the current cell. They will save you a lot of clicks on the Toolbar! \n",
    "\n",
    "Two other shortcuts that you will be using a lot: `Home` and `End`. They will take you to the top of the notebook and to the bottom (e.g. to access the last cell of the exercise notebook to check out the information about grading and portal submission). Try it out! Notice that jumping to the top or bottom of the notebook does not affect the currently selected cell - it remains selected. If you'd like to go back to it, press the `up` or `down` arrow. This will select the cell above or below the current cell and move the focus back to where you came from.\n",
    "\n",
    "If you'd like to see all available shortcuts, press `Ctrl`+`Shift`+`H`.\n",
    "\n",
    "Sadly, my most used command `Restart & Run All` doesn't have a shortcut, although there is button for it in the Toolbar, the double arrow or fastforward icon (and there is a keyboard a shortcut to restart the kernel, `0`+`0`).  Currently in Jupyter notebook version 7, it is possible to define keyboard shortcuts only in a slightly complicated way using the json Settings Editor in the `Settings` -> `Settings Editor` menu in the notebook dashboard. "
   ]
  },
  {
   "cell_type": "markdown",
   "metadata": {},
   "source": [
    "## 4. Notebook dashboard\n",
    "\n",
    "The notebook dashboard in the `Home` tab is what you first saw when you called `jupyter notebook` from the terminal.\n",
    "\n",
    "<img src=\"media/jupyter_notebook_dashboard.png\">"
   ]
  },
  {
   "cell_type": "markdown",
   "metadata": {},
   "source": [
    "The dashboard has two tabs. `Files` is like a file explorer where you can navigate the file system and open the files. `Running` shows all the notebooks that are currently running.\n",
    "\n",
    "<img src=\"media/jupyter_notebook_dashboard_running.png\">"
   ]
  },
  {
   "cell_type": "markdown",
   "metadata": {},
   "source": [
    "Notice that closing the tab with an open notebook does not stop the notebook. It keeps running until you stop it in the dashboard (right click on the file, select `Shut Down Kernel`) or in the terminal (`Ctrl`+`C`+`C`). Keep this in mind in case you need to stop a notebook which has crashed or doesn't stop running.\n",
    "\n",
    "We've reached the end! Try to practice the shortcuts in this notebook and in the exercise notebook. If you have any doubts, ask on Slack! Good luck."
   ]
  }
 ],
 "metadata": {
  "kernelspec": {
   "display_name": "Python 3 (ipykernel)",
   "language": "python",
   "name": "python3"
  },
  "language_info": {
   "codemirror_mode": {
    "name": "ipython",
    "version": 3
   },
   "file_extension": ".py",
   "mimetype": "text/x-python",
   "name": "python",
   "nbconvert_exporter": "python",
   "pygments_lexer": "ipython3",
   "version": "3.11.7"
  }
 },
 "nbformat": 4,
 "nbformat_minor": 4
}
